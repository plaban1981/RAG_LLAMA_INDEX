{
  "nbformat": 4,
  "nbformat_minor": 0,
  "metadata": {
    "colab": {
      "provenance": [],
      "machine_shape": "hm",
      "authorship_tag": "ABX9TyMvewvAu7jyaqNM5YCJzD5x",
      "include_colab_link": true
    },
    "kernelspec": {
      "name": "python3",
      "display_name": "Python 3"
    },
    "language_info": {
      "name": "python"
    },
    "widgets": {
      "application/vnd.jupyter.widget-state+json": {
        "96c8cdbcb46840bcbee0eded63c7837d": {
          "model_module": "@jupyter-widgets/controls",
          "model_name": "HBoxModel",
          "model_module_version": "1.5.0",
          "state": {
            "_dom_classes": [],
            "_model_module": "@jupyter-widgets/controls",
            "_model_module_version": "1.5.0",
            "_model_name": "HBoxModel",
            "_view_count": null,
            "_view_module": "@jupyter-widgets/controls",
            "_view_module_version": "1.5.0",
            "_view_name": "HBoxView",
            "box_style": "",
            "children": [
              "IPY_MODEL_a56c787dab494ed988c8e9d511ed7232",
              "IPY_MODEL_4d6923513a2842a296194825649ca1a8",
              "IPY_MODEL_7f28655714174d1492790bbcaf1d8bf5"
            ],
            "layout": "IPY_MODEL_e0275e7daa3c429c9cac2c85cbf4eca9"
          }
        },
        "a56c787dab494ed988c8e9d511ed7232": {
          "model_module": "@jupyter-widgets/controls",
          "model_name": "HTMLModel",
          "model_module_version": "1.5.0",
          "state": {
            "_dom_classes": [],
            "_model_module": "@jupyter-widgets/controls",
            "_model_module_version": "1.5.0",
            "_model_name": "HTMLModel",
            "_view_count": null,
            "_view_module": "@jupyter-widgets/controls",
            "_view_module_version": "1.5.0",
            "_view_name": "HTMLView",
            "description": "",
            "description_tooltip": null,
            "layout": "IPY_MODEL_8d749159e595432f8491fdfabe05435a",
            "placeholder": "​",
            "style": "IPY_MODEL_5393f0f5ceac4386a1d82e878bd2cc09",
            "value": "Downloading readme: 100%"
          }
        },
        "4d6923513a2842a296194825649ca1a8": {
          "model_module": "@jupyter-widgets/controls",
          "model_name": "FloatProgressModel",
          "model_module_version": "1.5.0",
          "state": {
            "_dom_classes": [],
            "_model_module": "@jupyter-widgets/controls",
            "_model_module_version": "1.5.0",
            "_model_name": "FloatProgressModel",
            "_view_count": null,
            "_view_module": "@jupyter-widgets/controls",
            "_view_module_version": "1.5.0",
            "_view_name": "ProgressView",
            "bar_style": "success",
            "description": "",
            "description_tooltip": null,
            "layout": "IPY_MODEL_7600a8ac2638498fbabdd8ab2161d0e7",
            "max": 3052,
            "min": 0,
            "orientation": "horizontal",
            "style": "IPY_MODEL_38922d66a5134bad86876f92f984b2d8",
            "value": 3052
          }
        },
        "7f28655714174d1492790bbcaf1d8bf5": {
          "model_module": "@jupyter-widgets/controls",
          "model_name": "HTMLModel",
          "model_module_version": "1.5.0",
          "state": {
            "_dom_classes": [],
            "_model_module": "@jupyter-widgets/controls",
            "_model_module_version": "1.5.0",
            "_model_name": "HTMLModel",
            "_view_count": null,
            "_view_module": "@jupyter-widgets/controls",
            "_view_module_version": "1.5.0",
            "_view_name": "HTMLView",
            "description": "",
            "description_tooltip": null,
            "layout": "IPY_MODEL_d6ea0cf429044764bc5a671376cfd53d",
            "placeholder": "​",
            "style": "IPY_MODEL_dd2e1a86c02b4206a4fd2d0f11ce4beb",
            "value": " 3.05k/3.05k [00:00&lt;00:00, 219kB/s]"
          }
        },
        "e0275e7daa3c429c9cac2c85cbf4eca9": {
          "model_module": "@jupyter-widgets/base",
          "model_name": "LayoutModel",
          "model_module_version": "1.2.0",
          "state": {
            "_model_module": "@jupyter-widgets/base",
            "_model_module_version": "1.2.0",
            "_model_name": "LayoutModel",
            "_view_count": null,
            "_view_module": "@jupyter-widgets/base",
            "_view_module_version": "1.2.0",
            "_view_name": "LayoutView",
            "align_content": null,
            "align_items": null,
            "align_self": null,
            "border": null,
            "bottom": null,
            "display": null,
            "flex": null,
            "flex_flow": null,
            "grid_area": null,
            "grid_auto_columns": null,
            "grid_auto_flow": null,
            "grid_auto_rows": null,
            "grid_column": null,
            "grid_gap": null,
            "grid_row": null,
            "grid_template_areas": null,
            "grid_template_columns": null,
            "grid_template_rows": null,
            "height": null,
            "justify_content": null,
            "justify_items": null,
            "left": null,
            "margin": null,
            "max_height": null,
            "max_width": null,
            "min_height": null,
            "min_width": null,
            "object_fit": null,
            "object_position": null,
            "order": null,
            "overflow": null,
            "overflow_x": null,
            "overflow_y": null,
            "padding": null,
            "right": null,
            "top": null,
            "visibility": null,
            "width": null
          }
        },
        "8d749159e595432f8491fdfabe05435a": {
          "model_module": "@jupyter-widgets/base",
          "model_name": "LayoutModel",
          "model_module_version": "1.2.0",
          "state": {
            "_model_module": "@jupyter-widgets/base",
            "_model_module_version": "1.2.0",
            "_model_name": "LayoutModel",
            "_view_count": null,
            "_view_module": "@jupyter-widgets/base",
            "_view_module_version": "1.2.0",
            "_view_name": "LayoutView",
            "align_content": null,
            "align_items": null,
            "align_self": null,
            "border": null,
            "bottom": null,
            "display": null,
            "flex": null,
            "flex_flow": null,
            "grid_area": null,
            "grid_auto_columns": null,
            "grid_auto_flow": null,
            "grid_auto_rows": null,
            "grid_column": null,
            "grid_gap": null,
            "grid_row": null,
            "grid_template_areas": null,
            "grid_template_columns": null,
            "grid_template_rows": null,
            "height": null,
            "justify_content": null,
            "justify_items": null,
            "left": null,
            "margin": null,
            "max_height": null,
            "max_width": null,
            "min_height": null,
            "min_width": null,
            "object_fit": null,
            "object_position": null,
            "order": null,
            "overflow": null,
            "overflow_x": null,
            "overflow_y": null,
            "padding": null,
            "right": null,
            "top": null,
            "visibility": null,
            "width": null
          }
        },
        "5393f0f5ceac4386a1d82e878bd2cc09": {
          "model_module": "@jupyter-widgets/controls",
          "model_name": "DescriptionStyleModel",
          "model_module_version": "1.5.0",
          "state": {
            "_model_module": "@jupyter-widgets/controls",
            "_model_module_version": "1.5.0",
            "_model_name": "DescriptionStyleModel",
            "_view_count": null,
            "_view_module": "@jupyter-widgets/base",
            "_view_module_version": "1.2.0",
            "_view_name": "StyleView",
            "description_width": ""
          }
        },
        "7600a8ac2638498fbabdd8ab2161d0e7": {
          "model_module": "@jupyter-widgets/base",
          "model_name": "LayoutModel",
          "model_module_version": "1.2.0",
          "state": {
            "_model_module": "@jupyter-widgets/base",
            "_model_module_version": "1.2.0",
            "_model_name": "LayoutModel",
            "_view_count": null,
            "_view_module": "@jupyter-widgets/base",
            "_view_module_version": "1.2.0",
            "_view_name": "LayoutView",
            "align_content": null,
            "align_items": null,
            "align_self": null,
            "border": null,
            "bottom": null,
            "display": null,
            "flex": null,
            "flex_flow": null,
            "grid_area": null,
            "grid_auto_columns": null,
            "grid_auto_flow": null,
            "grid_auto_rows": null,
            "grid_column": null,
            "grid_gap": null,
            "grid_row": null,
            "grid_template_areas": null,
            "grid_template_columns": null,
            "grid_template_rows": null,
            "height": null,
            "justify_content": null,
            "justify_items": null,
            "left": null,
            "margin": null,
            "max_height": null,
            "max_width": null,
            "min_height": null,
            "min_width": null,
            "object_fit": null,
            "object_position": null,
            "order": null,
            "overflow": null,
            "overflow_x": null,
            "overflow_y": null,
            "padding": null,
            "right": null,
            "top": null,
            "visibility": null,
            "width": null
          }
        },
        "38922d66a5134bad86876f92f984b2d8": {
          "model_module": "@jupyter-widgets/controls",
          "model_name": "ProgressStyleModel",
          "model_module_version": "1.5.0",
          "state": {
            "_model_module": "@jupyter-widgets/controls",
            "_model_module_version": "1.5.0",
            "_model_name": "ProgressStyleModel",
            "_view_count": null,
            "_view_module": "@jupyter-widgets/base",
            "_view_module_version": "1.2.0",
            "_view_name": "StyleView",
            "bar_color": null,
            "description_width": ""
          }
        },
        "d6ea0cf429044764bc5a671376cfd53d": {
          "model_module": "@jupyter-widgets/base",
          "model_name": "LayoutModel",
          "model_module_version": "1.2.0",
          "state": {
            "_model_module": "@jupyter-widgets/base",
            "_model_module_version": "1.2.0",
            "_model_name": "LayoutModel",
            "_view_count": null,
            "_view_module": "@jupyter-widgets/base",
            "_view_module_version": "1.2.0",
            "_view_name": "LayoutView",
            "align_content": null,
            "align_items": null,
            "align_self": null,
            "border": null,
            "bottom": null,
            "display": null,
            "flex": null,
            "flex_flow": null,
            "grid_area": null,
            "grid_auto_columns": null,
            "grid_auto_flow": null,
            "grid_auto_rows": null,
            "grid_column": null,
            "grid_gap": null,
            "grid_row": null,
            "grid_template_areas": null,
            "grid_template_columns": null,
            "grid_template_rows": null,
            "height": null,
            "justify_content": null,
            "justify_items": null,
            "left": null,
            "margin": null,
            "max_height": null,
            "max_width": null,
            "min_height": null,
            "min_width": null,
            "object_fit": null,
            "object_position": null,
            "order": null,
            "overflow": null,
            "overflow_x": null,
            "overflow_y": null,
            "padding": null,
            "right": null,
            "top": null,
            "visibility": null,
            "width": null
          }
        },
        "dd2e1a86c02b4206a4fd2d0f11ce4beb": {
          "model_module": "@jupyter-widgets/controls",
          "model_name": "DescriptionStyleModel",
          "model_module_version": "1.5.0",
          "state": {
            "_model_module": "@jupyter-widgets/controls",
            "_model_module_version": "1.5.0",
            "_model_name": "DescriptionStyleModel",
            "_view_count": null,
            "_view_module": "@jupyter-widgets/base",
            "_view_module_version": "1.2.0",
            "_view_name": "StyleView",
            "description_width": ""
          }
        },
        "2084c4dc256347abaad4dc3f899e7420": {
          "model_module": "@jupyter-widgets/controls",
          "model_name": "HBoxModel",
          "model_module_version": "1.5.0",
          "state": {
            "_dom_classes": [],
            "_model_module": "@jupyter-widgets/controls",
            "_model_module_version": "1.5.0",
            "_model_name": "HBoxModel",
            "_view_count": null,
            "_view_module": "@jupyter-widgets/controls",
            "_view_module_version": "1.5.0",
            "_view_name": "HBoxView",
            "box_style": "",
            "children": [
              "IPY_MODEL_b1aa49246627453ebb9688a2a512dfd9",
              "IPY_MODEL_7ed4c9216fb044e3b26dce7cddf4f5fc",
              "IPY_MODEL_6cde9ec330d247948039392129b36377"
            ],
            "layout": "IPY_MODEL_8aea18e2c39d4063b5cc84802989f558"
          }
        },
        "b1aa49246627453ebb9688a2a512dfd9": {
          "model_module": "@jupyter-widgets/controls",
          "model_name": "HTMLModel",
          "model_module_version": "1.5.0",
          "state": {
            "_dom_classes": [],
            "_model_module": "@jupyter-widgets/controls",
            "_model_module_version": "1.5.0",
            "_model_name": "HTMLModel",
            "_view_count": null,
            "_view_module": "@jupyter-widgets/controls",
            "_view_module_version": "1.5.0",
            "_view_name": "HTMLView",
            "description": "",
            "description_tooltip": null,
            "layout": "IPY_MODEL_8c189ac7c65844cdbfc407619326e39f",
            "placeholder": "​",
            "style": "IPY_MODEL_c75d51f60f8546a8bea735a7ded9cae2",
            "value": "Downloading data files: 100%"
          }
        },
        "7ed4c9216fb044e3b26dce7cddf4f5fc": {
          "model_module": "@jupyter-widgets/controls",
          "model_name": "FloatProgressModel",
          "model_module_version": "1.5.0",
          "state": {
            "_dom_classes": [],
            "_model_module": "@jupyter-widgets/controls",
            "_model_module_version": "1.5.0",
            "_model_name": "FloatProgressModel",
            "_view_count": null,
            "_view_module": "@jupyter-widgets/controls",
            "_view_module_version": "1.5.0",
            "_view_name": "ProgressView",
            "bar_style": "success",
            "description": "",
            "description_tooltip": null,
            "layout": "IPY_MODEL_97fb07483c1c4723a1c8403e8884cd93",
            "max": 2,
            "min": 0,
            "orientation": "horizontal",
            "style": "IPY_MODEL_d6949efb83f849b5ae1c813b11241b57",
            "value": 2
          }
        },
        "6cde9ec330d247948039392129b36377": {
          "model_module": "@jupyter-widgets/controls",
          "model_name": "HTMLModel",
          "model_module_version": "1.5.0",
          "state": {
            "_dom_classes": [],
            "_model_module": "@jupyter-widgets/controls",
            "_model_module_version": "1.5.0",
            "_model_name": "HTMLModel",
            "_view_count": null,
            "_view_module": "@jupyter-widgets/controls",
            "_view_module_version": "1.5.0",
            "_view_name": "HTMLView",
            "description": "",
            "description_tooltip": null,
            "layout": "IPY_MODEL_aea2214bb39e4b4da9a400203b52614b",
            "placeholder": "​",
            "style": "IPY_MODEL_1381ab1d2a794bf996008a346f8d066d",
            "value": " 2/2 [00:01&lt;00:00,  1.24it/s]"
          }
        },
        "8aea18e2c39d4063b5cc84802989f558": {
          "model_module": "@jupyter-widgets/base",
          "model_name": "LayoutModel",
          "model_module_version": "1.2.0",
          "state": {
            "_model_module": "@jupyter-widgets/base",
            "_model_module_version": "1.2.0",
            "_model_name": "LayoutModel",
            "_view_count": null,
            "_view_module": "@jupyter-widgets/base",
            "_view_module_version": "1.2.0",
            "_view_name": "LayoutView",
            "align_content": null,
            "align_items": null,
            "align_self": null,
            "border": null,
            "bottom": null,
            "display": null,
            "flex": null,
            "flex_flow": null,
            "grid_area": null,
            "grid_auto_columns": null,
            "grid_auto_flow": null,
            "grid_auto_rows": null,
            "grid_column": null,
            "grid_gap": null,
            "grid_row": null,
            "grid_template_areas": null,
            "grid_template_columns": null,
            "grid_template_rows": null,
            "height": null,
            "justify_content": null,
            "justify_items": null,
            "left": null,
            "margin": null,
            "max_height": null,
            "max_width": null,
            "min_height": null,
            "min_width": null,
            "object_fit": null,
            "object_position": null,
            "order": null,
            "overflow": null,
            "overflow_x": null,
            "overflow_y": null,
            "padding": null,
            "right": null,
            "top": null,
            "visibility": null,
            "width": null
          }
        },
        "8c189ac7c65844cdbfc407619326e39f": {
          "model_module": "@jupyter-widgets/base",
          "model_name": "LayoutModel",
          "model_module_version": "1.2.0",
          "state": {
            "_model_module": "@jupyter-widgets/base",
            "_model_module_version": "1.2.0",
            "_model_name": "LayoutModel",
            "_view_count": null,
            "_view_module": "@jupyter-widgets/base",
            "_view_module_version": "1.2.0",
            "_view_name": "LayoutView",
            "align_content": null,
            "align_items": null,
            "align_self": null,
            "border": null,
            "bottom": null,
            "display": null,
            "flex": null,
            "flex_flow": null,
            "grid_area": null,
            "grid_auto_columns": null,
            "grid_auto_flow": null,
            "grid_auto_rows": null,
            "grid_column": null,
            "grid_gap": null,
            "grid_row": null,
            "grid_template_areas": null,
            "grid_template_columns": null,
            "grid_template_rows": null,
            "height": null,
            "justify_content": null,
            "justify_items": null,
            "left": null,
            "margin": null,
            "max_height": null,
            "max_width": null,
            "min_height": null,
            "min_width": null,
            "object_fit": null,
            "object_position": null,
            "order": null,
            "overflow": null,
            "overflow_x": null,
            "overflow_y": null,
            "padding": null,
            "right": null,
            "top": null,
            "visibility": null,
            "width": null
          }
        },
        "c75d51f60f8546a8bea735a7ded9cae2": {
          "model_module": "@jupyter-widgets/controls",
          "model_name": "DescriptionStyleModel",
          "model_module_version": "1.5.0",
          "state": {
            "_model_module": "@jupyter-widgets/controls",
            "_model_module_version": "1.5.0",
            "_model_name": "DescriptionStyleModel",
            "_view_count": null,
            "_view_module": "@jupyter-widgets/base",
            "_view_module_version": "1.2.0",
            "_view_name": "StyleView",
            "description_width": ""
          }
        },
        "97fb07483c1c4723a1c8403e8884cd93": {
          "model_module": "@jupyter-widgets/base",
          "model_name": "LayoutModel",
          "model_module_version": "1.2.0",
          "state": {
            "_model_module": "@jupyter-widgets/base",
            "_model_module_version": "1.2.0",
            "_model_name": "LayoutModel",
            "_view_count": null,
            "_view_module": "@jupyter-widgets/base",
            "_view_module_version": "1.2.0",
            "_view_name": "LayoutView",
            "align_content": null,
            "align_items": null,
            "align_self": null,
            "border": null,
            "bottom": null,
            "display": null,
            "flex": null,
            "flex_flow": null,
            "grid_area": null,
            "grid_auto_columns": null,
            "grid_auto_flow": null,
            "grid_auto_rows": null,
            "grid_column": null,
            "grid_gap": null,
            "grid_row": null,
            "grid_template_areas": null,
            "grid_template_columns": null,
            "grid_template_rows": null,
            "height": null,
            "justify_content": null,
            "justify_items": null,
            "left": null,
            "margin": null,
            "max_height": null,
            "max_width": null,
            "min_height": null,
            "min_width": null,
            "object_fit": null,
            "object_position": null,
            "order": null,
            "overflow": null,
            "overflow_x": null,
            "overflow_y": null,
            "padding": null,
            "right": null,
            "top": null,
            "visibility": null,
            "width": null
          }
        },
        "d6949efb83f849b5ae1c813b11241b57": {
          "model_module": "@jupyter-widgets/controls",
          "model_name": "ProgressStyleModel",
          "model_module_version": "1.5.0",
          "state": {
            "_model_module": "@jupyter-widgets/controls",
            "_model_module_version": "1.5.0",
            "_model_name": "ProgressStyleModel",
            "_view_count": null,
            "_view_module": "@jupyter-widgets/base",
            "_view_module_version": "1.2.0",
            "_view_name": "StyleView",
            "bar_color": null,
            "description_width": ""
          }
        },
        "aea2214bb39e4b4da9a400203b52614b": {
          "model_module": "@jupyter-widgets/base",
          "model_name": "LayoutModel",
          "model_module_version": "1.2.0",
          "state": {
            "_model_module": "@jupyter-widgets/base",
            "_model_module_version": "1.2.0",
            "_model_name": "LayoutModel",
            "_view_count": null,
            "_view_module": "@jupyter-widgets/base",
            "_view_module_version": "1.2.0",
            "_view_name": "LayoutView",
            "align_content": null,
            "align_items": null,
            "align_self": null,
            "border": null,
            "bottom": null,
            "display": null,
            "flex": null,
            "flex_flow": null,
            "grid_area": null,
            "grid_auto_columns": null,
            "grid_auto_flow": null,
            "grid_auto_rows": null,
            "grid_column": null,
            "grid_gap": null,
            "grid_row": null,
            "grid_template_areas": null,
            "grid_template_columns": null,
            "grid_template_rows": null,
            "height": null,
            "justify_content": null,
            "justify_items": null,
            "left": null,
            "margin": null,
            "max_height": null,
            "max_width": null,
            "min_height": null,
            "min_width": null,
            "object_fit": null,
            "object_position": null,
            "order": null,
            "overflow": null,
            "overflow_x": null,
            "overflow_y": null,
            "padding": null,
            "right": null,
            "top": null,
            "visibility": null,
            "width": null
          }
        },
        "1381ab1d2a794bf996008a346f8d066d": {
          "model_module": "@jupyter-widgets/controls",
          "model_name": "DescriptionStyleModel",
          "model_module_version": "1.5.0",
          "state": {
            "_model_module": "@jupyter-widgets/controls",
            "_model_module_version": "1.5.0",
            "_model_name": "DescriptionStyleModel",
            "_view_count": null,
            "_view_module": "@jupyter-widgets/base",
            "_view_module_version": "1.2.0",
            "_view_name": "StyleView",
            "description_width": ""
          }
        },
        "9b4ee01d622942f98bade2f39434704f": {
          "model_module": "@jupyter-widgets/controls",
          "model_name": "HBoxModel",
          "model_module_version": "1.5.0",
          "state": {
            "_dom_classes": [],
            "_model_module": "@jupyter-widgets/controls",
            "_model_module_version": "1.5.0",
            "_model_name": "HBoxModel",
            "_view_count": null,
            "_view_module": "@jupyter-widgets/controls",
            "_view_module_version": "1.5.0",
            "_view_name": "HBoxView",
            "box_style": "",
            "children": [
              "IPY_MODEL_2ae98519e3de4738bcb550826d24f9db",
              "IPY_MODEL_3381fb8c4b5e49ab9922c819e5ef9c3c",
              "IPY_MODEL_f09fc701c64e40f79ae1e65b090ad6d4"
            ],
            "layout": "IPY_MODEL_4aa7952fcd8549b59563989bc4ded81a"
          }
        },
        "2ae98519e3de4738bcb550826d24f9db": {
          "model_module": "@jupyter-widgets/controls",
          "model_name": "HTMLModel",
          "model_module_version": "1.5.0",
          "state": {
            "_dom_classes": [],
            "_model_module": "@jupyter-widgets/controls",
            "_model_module_version": "1.5.0",
            "_model_name": "HTMLModel",
            "_view_count": null,
            "_view_module": "@jupyter-widgets/controls",
            "_view_module_version": "1.5.0",
            "_view_name": "HTMLView",
            "description": "",
            "description_tooltip": null,
            "layout": "IPY_MODEL_12ca3c3057f7420f9af8a653573d167d",
            "placeholder": "​",
            "style": "IPY_MODEL_b46f01abc0e749f7a0475ef8e7eb7a6a",
            "value": "Downloading data: 100%"
          }
        },
        "3381fb8c4b5e49ab9922c819e5ef9c3c": {
          "model_module": "@jupyter-widgets/controls",
          "model_name": "FloatProgressModel",
          "model_module_version": "1.5.0",
          "state": {
            "_dom_classes": [],
            "_model_module": "@jupyter-widgets/controls",
            "_model_module_version": "1.5.0",
            "_model_name": "FloatProgressModel",
            "_view_count": null,
            "_view_module": "@jupyter-widgets/controls",
            "_view_module_version": "1.5.0",
            "_view_name": "ProgressView",
            "bar_style": "success",
            "description": "",
            "description_tooltip": null,
            "layout": "IPY_MODEL_4a64a69d097343b7868540dac3ac2b3f",
            "max": 127179511,
            "min": 0,
            "orientation": "horizontal",
            "style": "IPY_MODEL_407022215106490b8c5a0ab17888b8f8",
            "value": 127179511
          }
        },
        "f09fc701c64e40f79ae1e65b090ad6d4": {
          "model_module": "@jupyter-widgets/controls",
          "model_name": "HTMLModel",
          "model_module_version": "1.5.0",
          "state": {
            "_dom_classes": [],
            "_model_module": "@jupyter-widgets/controls",
            "_model_module_version": "1.5.0",
            "_model_name": "HTMLModel",
            "_view_count": null,
            "_view_module": "@jupyter-widgets/controls",
            "_view_module_version": "1.5.0",
            "_view_name": "HTMLView",
            "description": "",
            "description_tooltip": null,
            "layout": "IPY_MODEL_da26a8055e8f41fe9b03f662baf2cbf2",
            "placeholder": "​",
            "style": "IPY_MODEL_d55e9148fde847fd89b37aa60b97be51",
            "value": " 127M/127M [00:01&lt;00:00, 78.4MB/s]"
          }
        },
        "4aa7952fcd8549b59563989bc4ded81a": {
          "model_module": "@jupyter-widgets/base",
          "model_name": "LayoutModel",
          "model_module_version": "1.2.0",
          "state": {
            "_model_module": "@jupyter-widgets/base",
            "_model_module_version": "1.2.0",
            "_model_name": "LayoutModel",
            "_view_count": null,
            "_view_module": "@jupyter-widgets/base",
            "_view_module_version": "1.2.0",
            "_view_name": "LayoutView",
            "align_content": null,
            "align_items": null,
            "align_self": null,
            "border": null,
            "bottom": null,
            "display": null,
            "flex": null,
            "flex_flow": null,
            "grid_area": null,
            "grid_auto_columns": null,
            "grid_auto_flow": null,
            "grid_auto_rows": null,
            "grid_column": null,
            "grid_gap": null,
            "grid_row": null,
            "grid_template_areas": null,
            "grid_template_columns": null,
            "grid_template_rows": null,
            "height": null,
            "justify_content": null,
            "justify_items": null,
            "left": null,
            "margin": null,
            "max_height": null,
            "max_width": null,
            "min_height": null,
            "min_width": null,
            "object_fit": null,
            "object_position": null,
            "order": null,
            "overflow": null,
            "overflow_x": null,
            "overflow_y": null,
            "padding": null,
            "right": null,
            "top": null,
            "visibility": null,
            "width": null
          }
        },
        "12ca3c3057f7420f9af8a653573d167d": {
          "model_module": "@jupyter-widgets/base",
          "model_name": "LayoutModel",
          "model_module_version": "1.2.0",
          "state": {
            "_model_module": "@jupyter-widgets/base",
            "_model_module_version": "1.2.0",
            "_model_name": "LayoutModel",
            "_view_count": null,
            "_view_module": "@jupyter-widgets/base",
            "_view_module_version": "1.2.0",
            "_view_name": "LayoutView",
            "align_content": null,
            "align_items": null,
            "align_self": null,
            "border": null,
            "bottom": null,
            "display": null,
            "flex": null,
            "flex_flow": null,
            "grid_area": null,
            "grid_auto_columns": null,
            "grid_auto_flow": null,
            "grid_auto_rows": null,
            "grid_column": null,
            "grid_gap": null,
            "grid_row": null,
            "grid_template_areas": null,
            "grid_template_columns": null,
            "grid_template_rows": null,
            "height": null,
            "justify_content": null,
            "justify_items": null,
            "left": null,
            "margin": null,
            "max_height": null,
            "max_width": null,
            "min_height": null,
            "min_width": null,
            "object_fit": null,
            "object_position": null,
            "order": null,
            "overflow": null,
            "overflow_x": null,
            "overflow_y": null,
            "padding": null,
            "right": null,
            "top": null,
            "visibility": null,
            "width": null
          }
        },
        "b46f01abc0e749f7a0475ef8e7eb7a6a": {
          "model_module": "@jupyter-widgets/controls",
          "model_name": "DescriptionStyleModel",
          "model_module_version": "1.5.0",
          "state": {
            "_model_module": "@jupyter-widgets/controls",
            "_model_module_version": "1.5.0",
            "_model_name": "DescriptionStyleModel",
            "_view_count": null,
            "_view_module": "@jupyter-widgets/base",
            "_view_module_version": "1.2.0",
            "_view_name": "StyleView",
            "description_width": ""
          }
        },
        "4a64a69d097343b7868540dac3ac2b3f": {
          "model_module": "@jupyter-widgets/base",
          "model_name": "LayoutModel",
          "model_module_version": "1.2.0",
          "state": {
            "_model_module": "@jupyter-widgets/base",
            "_model_module_version": "1.2.0",
            "_model_name": "LayoutModel",
            "_view_count": null,
            "_view_module": "@jupyter-widgets/base",
            "_view_module_version": "1.2.0",
            "_view_name": "LayoutView",
            "align_content": null,
            "align_items": null,
            "align_self": null,
            "border": null,
            "bottom": null,
            "display": null,
            "flex": null,
            "flex_flow": null,
            "grid_area": null,
            "grid_auto_columns": null,
            "grid_auto_flow": null,
            "grid_auto_rows": null,
            "grid_column": null,
            "grid_gap": null,
            "grid_row": null,
            "grid_template_areas": null,
            "grid_template_columns": null,
            "grid_template_rows": null,
            "height": null,
            "justify_content": null,
            "justify_items": null,
            "left": null,
            "margin": null,
            "max_height": null,
            "max_width": null,
            "min_height": null,
            "min_width": null,
            "object_fit": null,
            "object_position": null,
            "order": null,
            "overflow": null,
            "overflow_x": null,
            "overflow_y": null,
            "padding": null,
            "right": null,
            "top": null,
            "visibility": null,
            "width": null
          }
        },
        "407022215106490b8c5a0ab17888b8f8": {
          "model_module": "@jupyter-widgets/controls",
          "model_name": "ProgressStyleModel",
          "model_module_version": "1.5.0",
          "state": {
            "_model_module": "@jupyter-widgets/controls",
            "_model_module_version": "1.5.0",
            "_model_name": "ProgressStyleModel",
            "_view_count": null,
            "_view_module": "@jupyter-widgets/base",
            "_view_module_version": "1.2.0",
            "_view_name": "StyleView",
            "bar_color": null,
            "description_width": ""
          }
        },
        "da26a8055e8f41fe9b03f662baf2cbf2": {
          "model_module": "@jupyter-widgets/base",
          "model_name": "LayoutModel",
          "model_module_version": "1.2.0",
          "state": {
            "_model_module": "@jupyter-widgets/base",
            "_model_module_version": "1.2.0",
            "_model_name": "LayoutModel",
            "_view_count": null,
            "_view_module": "@jupyter-widgets/base",
            "_view_module_version": "1.2.0",
            "_view_name": "LayoutView",
            "align_content": null,
            "align_items": null,
            "align_self": null,
            "border": null,
            "bottom": null,
            "display": null,
            "flex": null,
            "flex_flow": null,
            "grid_area": null,
            "grid_auto_columns": null,
            "grid_auto_flow": null,
            "grid_auto_rows": null,
            "grid_column": null,
            "grid_gap": null,
            "grid_row": null,
            "grid_template_areas": null,
            "grid_template_columns": null,
            "grid_template_rows": null,
            "height": null,
            "justify_content": null,
            "justify_items": null,
            "left": null,
            "margin": null,
            "max_height": null,
            "max_width": null,
            "min_height": null,
            "min_width": null,
            "object_fit": null,
            "object_position": null,
            "order": null,
            "overflow": null,
            "overflow_x": null,
            "overflow_y": null,
            "padding": null,
            "right": null,
            "top": null,
            "visibility": null,
            "width": null
          }
        },
        "d55e9148fde847fd89b37aa60b97be51": {
          "model_module": "@jupyter-widgets/controls",
          "model_name": "DescriptionStyleModel",
          "model_module_version": "1.5.0",
          "state": {
            "_model_module": "@jupyter-widgets/controls",
            "_model_module_version": "1.5.0",
            "_model_name": "DescriptionStyleModel",
            "_view_count": null,
            "_view_module": "@jupyter-widgets/base",
            "_view_module_version": "1.2.0",
            "_view_name": "StyleView",
            "description_width": ""
          }
        },
        "704bf183bc7b48f3bacfec37f59169e8": {
          "model_module": "@jupyter-widgets/controls",
          "model_name": "HBoxModel",
          "model_module_version": "1.5.0",
          "state": {
            "_dom_classes": [],
            "_model_module": "@jupyter-widgets/controls",
            "_model_module_version": "1.5.0",
            "_model_name": "HBoxModel",
            "_view_count": null,
            "_view_module": "@jupyter-widgets/controls",
            "_view_module_version": "1.5.0",
            "_view_name": "HBoxView",
            "box_style": "",
            "children": [
              "IPY_MODEL_954f54e3f42e461480dc10bfbb12164c",
              "IPY_MODEL_ae04e8ce135640e394fa2f0218d484f2",
              "IPY_MODEL_107f85636d4f42d4b5458068342c0ccd"
            ],
            "layout": "IPY_MODEL_3d23636ee3f34f7fb3db0cbc71a30d9d"
          }
        },
        "954f54e3f42e461480dc10bfbb12164c": {
          "model_module": "@jupyter-widgets/controls",
          "model_name": "HTMLModel",
          "model_module_version": "1.5.0",
          "state": {
            "_dom_classes": [],
            "_model_module": "@jupyter-widgets/controls",
            "_model_module_version": "1.5.0",
            "_model_name": "HTMLModel",
            "_view_count": null,
            "_view_module": "@jupyter-widgets/controls",
            "_view_module_version": "1.5.0",
            "_view_name": "HTMLView",
            "description": "",
            "description_tooltip": null,
            "layout": "IPY_MODEL_daa6f48f9be945df808be917695d0b56",
            "placeholder": "​",
            "style": "IPY_MODEL_7c0e90a75cf54606940a193c1de020d8",
            "value": "Downloading data: 100%"
          }
        },
        "ae04e8ce135640e394fa2f0218d484f2": {
          "model_module": "@jupyter-widgets/controls",
          "model_name": "FloatProgressModel",
          "model_module_version": "1.5.0",
          "state": {
            "_dom_classes": [],
            "_model_module": "@jupyter-widgets/controls",
            "_model_module_version": "1.5.0",
            "_model_name": "FloatProgressModel",
            "_view_count": null,
            "_view_module": "@jupyter-widgets/controls",
            "_view_module_version": "1.5.0",
            "_view_name": "ProgressView",
            "bar_style": "success",
            "description": "",
            "description_tooltip": null,
            "layout": "IPY_MODEL_1daf191a1b3a4cb7b444fd9b956aff0b",
            "max": 10296338,
            "min": 0,
            "orientation": "horizontal",
            "style": "IPY_MODEL_dbd8a78b890e4632ac96648942c997ba",
            "value": 10296338
          }
        },
        "107f85636d4f42d4b5458068342c0ccd": {
          "model_module": "@jupyter-widgets/controls",
          "model_name": "HTMLModel",
          "model_module_version": "1.5.0",
          "state": {
            "_dom_classes": [],
            "_model_module": "@jupyter-widgets/controls",
            "_model_module_version": "1.5.0",
            "_model_name": "HTMLModel",
            "_view_count": null,
            "_view_module": "@jupyter-widgets/controls",
            "_view_module_version": "1.5.0",
            "_view_name": "HTMLView",
            "description": "",
            "description_tooltip": null,
            "layout": "IPY_MODEL_6a36f0e5867b4c14977556e95262d693",
            "placeholder": "​",
            "style": "IPY_MODEL_6dfb89658d794578836c2cb462c07ddf",
            "value": " 10.3M/10.3M [00:00&lt;00:00, 38.7MB/s]"
          }
        },
        "3d23636ee3f34f7fb3db0cbc71a30d9d": {
          "model_module": "@jupyter-widgets/base",
          "model_name": "LayoutModel",
          "model_module_version": "1.2.0",
          "state": {
            "_model_module": "@jupyter-widgets/base",
            "_model_module_version": "1.2.0",
            "_model_name": "LayoutModel",
            "_view_count": null,
            "_view_module": "@jupyter-widgets/base",
            "_view_module_version": "1.2.0",
            "_view_name": "LayoutView",
            "align_content": null,
            "align_items": null,
            "align_self": null,
            "border": null,
            "bottom": null,
            "display": null,
            "flex": null,
            "flex_flow": null,
            "grid_area": null,
            "grid_auto_columns": null,
            "grid_auto_flow": null,
            "grid_auto_rows": null,
            "grid_column": null,
            "grid_gap": null,
            "grid_row": null,
            "grid_template_areas": null,
            "grid_template_columns": null,
            "grid_template_rows": null,
            "height": null,
            "justify_content": null,
            "justify_items": null,
            "left": null,
            "margin": null,
            "max_height": null,
            "max_width": null,
            "min_height": null,
            "min_width": null,
            "object_fit": null,
            "object_position": null,
            "order": null,
            "overflow": null,
            "overflow_x": null,
            "overflow_y": null,
            "padding": null,
            "right": null,
            "top": null,
            "visibility": null,
            "width": null
          }
        },
        "daa6f48f9be945df808be917695d0b56": {
          "model_module": "@jupyter-widgets/base",
          "model_name": "LayoutModel",
          "model_module_version": "1.2.0",
          "state": {
            "_model_module": "@jupyter-widgets/base",
            "_model_module_version": "1.2.0",
            "_model_name": "LayoutModel",
            "_view_count": null,
            "_view_module": "@jupyter-widgets/base",
            "_view_module_version": "1.2.0",
            "_view_name": "LayoutView",
            "align_content": null,
            "align_items": null,
            "align_self": null,
            "border": null,
            "bottom": null,
            "display": null,
            "flex": null,
            "flex_flow": null,
            "grid_area": null,
            "grid_auto_columns": null,
            "grid_auto_flow": null,
            "grid_auto_rows": null,
            "grid_column": null,
            "grid_gap": null,
            "grid_row": null,
            "grid_template_areas": null,
            "grid_template_columns": null,
            "grid_template_rows": null,
            "height": null,
            "justify_content": null,
            "justify_items": null,
            "left": null,
            "margin": null,
            "max_height": null,
            "max_width": null,
            "min_height": null,
            "min_width": null,
            "object_fit": null,
            "object_position": null,
            "order": null,
            "overflow": null,
            "overflow_x": null,
            "overflow_y": null,
            "padding": null,
            "right": null,
            "top": null,
            "visibility": null,
            "width": null
          }
        },
        "7c0e90a75cf54606940a193c1de020d8": {
          "model_module": "@jupyter-widgets/controls",
          "model_name": "DescriptionStyleModel",
          "model_module_version": "1.5.0",
          "state": {
            "_model_module": "@jupyter-widgets/controls",
            "_model_module_version": "1.5.0",
            "_model_name": "DescriptionStyleModel",
            "_view_count": null,
            "_view_module": "@jupyter-widgets/base",
            "_view_module_version": "1.2.0",
            "_view_name": "StyleView",
            "description_width": ""
          }
        },
        "1daf191a1b3a4cb7b444fd9b956aff0b": {
          "model_module": "@jupyter-widgets/base",
          "model_name": "LayoutModel",
          "model_module_version": "1.2.0",
          "state": {
            "_model_module": "@jupyter-widgets/base",
            "_model_module_version": "1.2.0",
            "_model_name": "LayoutModel",
            "_view_count": null,
            "_view_module": "@jupyter-widgets/base",
            "_view_module_version": "1.2.0",
            "_view_name": "LayoutView",
            "align_content": null,
            "align_items": null,
            "align_self": null,
            "border": null,
            "bottom": null,
            "display": null,
            "flex": null,
            "flex_flow": null,
            "grid_area": null,
            "grid_auto_columns": null,
            "grid_auto_flow": null,
            "grid_auto_rows": null,
            "grid_column": null,
            "grid_gap": null,
            "grid_row": null,
            "grid_template_areas": null,
            "grid_template_columns": null,
            "grid_template_rows": null,
            "height": null,
            "justify_content": null,
            "justify_items": null,
            "left": null,
            "margin": null,
            "max_height": null,
            "max_width": null,
            "min_height": null,
            "min_width": null,
            "object_fit": null,
            "object_position": null,
            "order": null,
            "overflow": null,
            "overflow_x": null,
            "overflow_y": null,
            "padding": null,
            "right": null,
            "top": null,
            "visibility": null,
            "width": null
          }
        },
        "dbd8a78b890e4632ac96648942c997ba": {
          "model_module": "@jupyter-widgets/controls",
          "model_name": "ProgressStyleModel",
          "model_module_version": "1.5.0",
          "state": {
            "_model_module": "@jupyter-widgets/controls",
            "_model_module_version": "1.5.0",
            "_model_name": "ProgressStyleModel",
            "_view_count": null,
            "_view_module": "@jupyter-widgets/base",
            "_view_module_version": "1.2.0",
            "_view_name": "StyleView",
            "bar_color": null,
            "description_width": ""
          }
        },
        "6a36f0e5867b4c14977556e95262d693": {
          "model_module": "@jupyter-widgets/base",
          "model_name": "LayoutModel",
          "model_module_version": "1.2.0",
          "state": {
            "_model_module": "@jupyter-widgets/base",
            "_model_module_version": "1.2.0",
            "_model_name": "LayoutModel",
            "_view_count": null,
            "_view_module": "@jupyter-widgets/base",
            "_view_module_version": "1.2.0",
            "_view_name": "LayoutView",
            "align_content": null,
            "align_items": null,
            "align_self": null,
            "border": null,
            "bottom": null,
            "display": null,
            "flex": null,
            "flex_flow": null,
            "grid_area": null,
            "grid_auto_columns": null,
            "grid_auto_flow": null,
            "grid_auto_rows": null,
            "grid_column": null,
            "grid_gap": null,
            "grid_row": null,
            "grid_template_areas": null,
            "grid_template_columns": null,
            "grid_template_rows": null,
            "height": null,
            "justify_content": null,
            "justify_items": null,
            "left": null,
            "margin": null,
            "max_height": null,
            "max_width": null,
            "min_height": null,
            "min_width": null,
            "object_fit": null,
            "object_position": null,
            "order": null,
            "overflow": null,
            "overflow_x": null,
            "overflow_y": null,
            "padding": null,
            "right": null,
            "top": null,
            "visibility": null,
            "width": null
          }
        },
        "6dfb89658d794578836c2cb462c07ddf": {
          "model_module": "@jupyter-widgets/controls",
          "model_name": "DescriptionStyleModel",
          "model_module_version": "1.5.0",
          "state": {
            "_model_module": "@jupyter-widgets/controls",
            "_model_module_version": "1.5.0",
            "_model_name": "DescriptionStyleModel",
            "_view_count": null,
            "_view_module": "@jupyter-widgets/base",
            "_view_module_version": "1.2.0",
            "_view_name": "StyleView",
            "description_width": ""
          }
        },
        "771a66dc031d406d970882638eb621e0": {
          "model_module": "@jupyter-widgets/controls",
          "model_name": "HBoxModel",
          "model_module_version": "1.5.0",
          "state": {
            "_dom_classes": [],
            "_model_module": "@jupyter-widgets/controls",
            "_model_module_version": "1.5.0",
            "_model_name": "HBoxModel",
            "_view_count": null,
            "_view_module": "@jupyter-widgets/controls",
            "_view_module_version": "1.5.0",
            "_view_name": "HBoxView",
            "box_style": "",
            "children": [
              "IPY_MODEL_d23bb6f8977b4ac4bcaaed20d15ce89f",
              "IPY_MODEL_38357c28823c4e72b70f2685a22bc432",
              "IPY_MODEL_8048eceeb7ad4f37974a442df84b3ea4"
            ],
            "layout": "IPY_MODEL_ef251837af054762a413bbdf231256b6"
          }
        },
        "d23bb6f8977b4ac4bcaaed20d15ce89f": {
          "model_module": "@jupyter-widgets/controls",
          "model_name": "HTMLModel",
          "model_module_version": "1.5.0",
          "state": {
            "_dom_classes": [],
            "_model_module": "@jupyter-widgets/controls",
            "_model_module_version": "1.5.0",
            "_model_name": "HTMLModel",
            "_view_count": null,
            "_view_module": "@jupyter-widgets/controls",
            "_view_module_version": "1.5.0",
            "_view_name": "HTMLView",
            "description": "",
            "description_tooltip": null,
            "layout": "IPY_MODEL_1edf00362db04a0aa384b0f380697f47",
            "placeholder": "​",
            "style": "IPY_MODEL_44b254e53eb04150b6e0f1afc5948240",
            "value": "Extracting data files: 100%"
          }
        },
        "38357c28823c4e72b70f2685a22bc432": {
          "model_module": "@jupyter-widgets/controls",
          "model_name": "FloatProgressModel",
          "model_module_version": "1.5.0",
          "state": {
            "_dom_classes": [],
            "_model_module": "@jupyter-widgets/controls",
            "_model_module_version": "1.5.0",
            "_model_name": "FloatProgressModel",
            "_view_count": null,
            "_view_module": "@jupyter-widgets/controls",
            "_view_module_version": "1.5.0",
            "_view_name": "ProgressView",
            "bar_style": "success",
            "description": "",
            "description_tooltip": null,
            "layout": "IPY_MODEL_6ae24f0f63154d3084d48e04325e1179",
            "max": 2,
            "min": 0,
            "orientation": "horizontal",
            "style": "IPY_MODEL_8267b7ede4ab4725a56c9c78931f31d3",
            "value": 2
          }
        },
        "8048eceeb7ad4f37974a442df84b3ea4": {
          "model_module": "@jupyter-widgets/controls",
          "model_name": "HTMLModel",
          "model_module_version": "1.5.0",
          "state": {
            "_dom_classes": [],
            "_model_module": "@jupyter-widgets/controls",
            "_model_module_version": "1.5.0",
            "_model_name": "HTMLModel",
            "_view_count": null,
            "_view_module": "@jupyter-widgets/controls",
            "_view_module_version": "1.5.0",
            "_view_name": "HTMLView",
            "description": "",
            "description_tooltip": null,
            "layout": "IPY_MODEL_7631e428548f40eb99555a33241d4f72",
            "placeholder": "​",
            "style": "IPY_MODEL_44198dbd399149ccaade2efc3836fd9e",
            "value": " 2/2 [00:00&lt;00:00, 97.07it/s]"
          }
        },
        "ef251837af054762a413bbdf231256b6": {
          "model_module": "@jupyter-widgets/base",
          "model_name": "LayoutModel",
          "model_module_version": "1.2.0",
          "state": {
            "_model_module": "@jupyter-widgets/base",
            "_model_module_version": "1.2.0",
            "_model_name": "LayoutModel",
            "_view_count": null,
            "_view_module": "@jupyter-widgets/base",
            "_view_module_version": "1.2.0",
            "_view_name": "LayoutView",
            "align_content": null,
            "align_items": null,
            "align_self": null,
            "border": null,
            "bottom": null,
            "display": null,
            "flex": null,
            "flex_flow": null,
            "grid_area": null,
            "grid_auto_columns": null,
            "grid_auto_flow": null,
            "grid_auto_rows": null,
            "grid_column": null,
            "grid_gap": null,
            "grid_row": null,
            "grid_template_areas": null,
            "grid_template_columns": null,
            "grid_template_rows": null,
            "height": null,
            "justify_content": null,
            "justify_items": null,
            "left": null,
            "margin": null,
            "max_height": null,
            "max_width": null,
            "min_height": null,
            "min_width": null,
            "object_fit": null,
            "object_position": null,
            "order": null,
            "overflow": null,
            "overflow_x": null,
            "overflow_y": null,
            "padding": null,
            "right": null,
            "top": null,
            "visibility": null,
            "width": null
          }
        },
        "1edf00362db04a0aa384b0f380697f47": {
          "model_module": "@jupyter-widgets/base",
          "model_name": "LayoutModel",
          "model_module_version": "1.2.0",
          "state": {
            "_model_module": "@jupyter-widgets/base",
            "_model_module_version": "1.2.0",
            "_model_name": "LayoutModel",
            "_view_count": null,
            "_view_module": "@jupyter-widgets/base",
            "_view_module_version": "1.2.0",
            "_view_name": "LayoutView",
            "align_content": null,
            "align_items": null,
            "align_self": null,
            "border": null,
            "bottom": null,
            "display": null,
            "flex": null,
            "flex_flow": null,
            "grid_area": null,
            "grid_auto_columns": null,
            "grid_auto_flow": null,
            "grid_auto_rows": null,
            "grid_column": null,
            "grid_gap": null,
            "grid_row": null,
            "grid_template_areas": null,
            "grid_template_columns": null,
            "grid_template_rows": null,
            "height": null,
            "justify_content": null,
            "justify_items": null,
            "left": null,
            "margin": null,
            "max_height": null,
            "max_width": null,
            "min_height": null,
            "min_width": null,
            "object_fit": null,
            "object_position": null,
            "order": null,
            "overflow": null,
            "overflow_x": null,
            "overflow_y": null,
            "padding": null,
            "right": null,
            "top": null,
            "visibility": null,
            "width": null
          }
        },
        "44b254e53eb04150b6e0f1afc5948240": {
          "model_module": "@jupyter-widgets/controls",
          "model_name": "DescriptionStyleModel",
          "model_module_version": "1.5.0",
          "state": {
            "_model_module": "@jupyter-widgets/controls",
            "_model_module_version": "1.5.0",
            "_model_name": "DescriptionStyleModel",
            "_view_count": null,
            "_view_module": "@jupyter-widgets/base",
            "_view_module_version": "1.2.0",
            "_view_name": "StyleView",
            "description_width": ""
          }
        },
        "6ae24f0f63154d3084d48e04325e1179": {
          "model_module": "@jupyter-widgets/base",
          "model_name": "LayoutModel",
          "model_module_version": "1.2.0",
          "state": {
            "_model_module": "@jupyter-widgets/base",
            "_model_module_version": "1.2.0",
            "_model_name": "LayoutModel",
            "_view_count": null,
            "_view_module": "@jupyter-widgets/base",
            "_view_module_version": "1.2.0",
            "_view_name": "LayoutView",
            "align_content": null,
            "align_items": null,
            "align_self": null,
            "border": null,
            "bottom": null,
            "display": null,
            "flex": null,
            "flex_flow": null,
            "grid_area": null,
            "grid_auto_columns": null,
            "grid_auto_flow": null,
            "grid_auto_rows": null,
            "grid_column": null,
            "grid_gap": null,
            "grid_row": null,
            "grid_template_areas": null,
            "grid_template_columns": null,
            "grid_template_rows": null,
            "height": null,
            "justify_content": null,
            "justify_items": null,
            "left": null,
            "margin": null,
            "max_height": null,
            "max_width": null,
            "min_height": null,
            "min_width": null,
            "object_fit": null,
            "object_position": null,
            "order": null,
            "overflow": null,
            "overflow_x": null,
            "overflow_y": null,
            "padding": null,
            "right": null,
            "top": null,
            "visibility": null,
            "width": null
          }
        },
        "8267b7ede4ab4725a56c9c78931f31d3": {
          "model_module": "@jupyter-widgets/controls",
          "model_name": "ProgressStyleModel",
          "model_module_version": "1.5.0",
          "state": {
            "_model_module": "@jupyter-widgets/controls",
            "_model_module_version": "1.5.0",
            "_model_name": "ProgressStyleModel",
            "_view_count": null,
            "_view_module": "@jupyter-widgets/base",
            "_view_module_version": "1.2.0",
            "_view_name": "StyleView",
            "bar_color": null,
            "description_width": ""
          }
        },
        "7631e428548f40eb99555a33241d4f72": {
          "model_module": "@jupyter-widgets/base",
          "model_name": "LayoutModel",
          "model_module_version": "1.2.0",
          "state": {
            "_model_module": "@jupyter-widgets/base",
            "_model_module_version": "1.2.0",
            "_model_name": "LayoutModel",
            "_view_count": null,
            "_view_module": "@jupyter-widgets/base",
            "_view_module_version": "1.2.0",
            "_view_name": "LayoutView",
            "align_content": null,
            "align_items": null,
            "align_self": null,
            "border": null,
            "bottom": null,
            "display": null,
            "flex": null,
            "flex_flow": null,
            "grid_area": null,
            "grid_auto_columns": null,
            "grid_auto_flow": null,
            "grid_auto_rows": null,
            "grid_column": null,
            "grid_gap": null,
            "grid_row": null,
            "grid_template_areas": null,
            "grid_template_columns": null,
            "grid_template_rows": null,
            "height": null,
            "justify_content": null,
            "justify_items": null,
            "left": null,
            "margin": null,
            "max_height": null,
            "max_width": null,
            "min_height": null,
            "min_width": null,
            "object_fit": null,
            "object_position": null,
            "order": null,
            "overflow": null,
            "overflow_x": null,
            "overflow_y": null,
            "padding": null,
            "right": null,
            "top": null,
            "visibility": null,
            "width": null
          }
        },
        "44198dbd399149ccaade2efc3836fd9e": {
          "model_module": "@jupyter-widgets/controls",
          "model_name": "DescriptionStyleModel",
          "model_module_version": "1.5.0",
          "state": {
            "_model_module": "@jupyter-widgets/controls",
            "_model_module_version": "1.5.0",
            "_model_name": "DescriptionStyleModel",
            "_view_count": null,
            "_view_module": "@jupyter-widgets/base",
            "_view_module_version": "1.2.0",
            "_view_name": "StyleView",
            "description_width": ""
          }
        },
        "cb99244c6cb94ad289f15ffd2cc9d641": {
          "model_module": "@jupyter-widgets/controls",
          "model_name": "HBoxModel",
          "model_module_version": "1.5.0",
          "state": {
            "_dom_classes": [],
            "_model_module": "@jupyter-widgets/controls",
            "_model_module_version": "1.5.0",
            "_model_name": "HBoxModel",
            "_view_count": null,
            "_view_module": "@jupyter-widgets/controls",
            "_view_module_version": "1.5.0",
            "_view_name": "HBoxView",
            "box_style": "",
            "children": [
              "IPY_MODEL_76476ce53652454a887592ef84c2dc11",
              "IPY_MODEL_db735a778e5f4ca8957604f27e89ab57",
              "IPY_MODEL_d4d2f27279e2480a87335d81359369d7"
            ],
            "layout": "IPY_MODEL_4c28fc25ac164183ab2ef05bfc0f7752"
          }
        },
        "76476ce53652454a887592ef84c2dc11": {
          "model_module": "@jupyter-widgets/controls",
          "model_name": "HTMLModel",
          "model_module_version": "1.5.0",
          "state": {
            "_dom_classes": [],
            "_model_module": "@jupyter-widgets/controls",
            "_model_module_version": "1.5.0",
            "_model_name": "HTMLModel",
            "_view_count": null,
            "_view_module": "@jupyter-widgets/controls",
            "_view_module_version": "1.5.0",
            "_view_name": "HTMLView",
            "description": "",
            "description_tooltip": null,
            "layout": "IPY_MODEL_37b47bbe08484ae58f395823e5655ef0",
            "placeholder": "​",
            "style": "IPY_MODEL_311743d70c874a9f87aee5c69d1c7e8d",
            "value": "Generating train split: 100%"
          }
        },
        "db735a778e5f4ca8957604f27e89ab57": {
          "model_module": "@jupyter-widgets/controls",
          "model_name": "FloatProgressModel",
          "model_module_version": "1.5.0",
          "state": {
            "_dom_classes": [],
            "_model_module": "@jupyter-widgets/controls",
            "_model_module_version": "1.5.0",
            "_model_name": "FloatProgressModel",
            "_view_count": null,
            "_view_module": "@jupyter-widgets/controls",
            "_view_module_version": "1.5.0",
            "_view_name": "ProgressView",
            "bar_style": "success",
            "description": "",
            "description_tooltip": null,
            "layout": "IPY_MODEL_ccfe652fcff64f0eb2d62920e2dde6eb",
            "max": 56167,
            "min": 0,
            "orientation": "horizontal",
            "style": "IPY_MODEL_1fe9de7132ea4ef484918fb85cda775f",
            "value": 56167
          }
        },
        "d4d2f27279e2480a87335d81359369d7": {
          "model_module": "@jupyter-widgets/controls",
          "model_name": "HTMLModel",
          "model_module_version": "1.5.0",
          "state": {
            "_dom_classes": [],
            "_model_module": "@jupyter-widgets/controls",
            "_model_module_version": "1.5.0",
            "_model_name": "HTMLModel",
            "_view_count": null,
            "_view_module": "@jupyter-widgets/controls",
            "_view_module_version": "1.5.0",
            "_view_name": "HTMLView",
            "description": "",
            "description_tooltip": null,
            "layout": "IPY_MODEL_aebdbbb39aba4979b2ecabe9d5c28e8a",
            "placeholder": "​",
            "style": "IPY_MODEL_7b80b5a6d61445b682e4bceb72f457b3",
            "value": " 56167/56167 [00:01&lt;00:00, 49661.07 examples/s]"
          }
        },
        "4c28fc25ac164183ab2ef05bfc0f7752": {
          "model_module": "@jupyter-widgets/base",
          "model_name": "LayoutModel",
          "model_module_version": "1.2.0",
          "state": {
            "_model_module": "@jupyter-widgets/base",
            "_model_module_version": "1.2.0",
            "_model_name": "LayoutModel",
            "_view_count": null,
            "_view_module": "@jupyter-widgets/base",
            "_view_module_version": "1.2.0",
            "_view_name": "LayoutView",
            "align_content": null,
            "align_items": null,
            "align_self": null,
            "border": null,
            "bottom": null,
            "display": null,
            "flex": null,
            "flex_flow": null,
            "grid_area": null,
            "grid_auto_columns": null,
            "grid_auto_flow": null,
            "grid_auto_rows": null,
            "grid_column": null,
            "grid_gap": null,
            "grid_row": null,
            "grid_template_areas": null,
            "grid_template_columns": null,
            "grid_template_rows": null,
            "height": null,
            "justify_content": null,
            "justify_items": null,
            "left": null,
            "margin": null,
            "max_height": null,
            "max_width": null,
            "min_height": null,
            "min_width": null,
            "object_fit": null,
            "object_position": null,
            "order": null,
            "overflow": null,
            "overflow_x": null,
            "overflow_y": null,
            "padding": null,
            "right": null,
            "top": null,
            "visibility": null,
            "width": null
          }
        },
        "37b47bbe08484ae58f395823e5655ef0": {
          "model_module": "@jupyter-widgets/base",
          "model_name": "LayoutModel",
          "model_module_version": "1.2.0",
          "state": {
            "_model_module": "@jupyter-widgets/base",
            "_model_module_version": "1.2.0",
            "_model_name": "LayoutModel",
            "_view_count": null,
            "_view_module": "@jupyter-widgets/base",
            "_view_module_version": "1.2.0",
            "_view_name": "LayoutView",
            "align_content": null,
            "align_items": null,
            "align_self": null,
            "border": null,
            "bottom": null,
            "display": null,
            "flex": null,
            "flex_flow": null,
            "grid_area": null,
            "grid_auto_columns": null,
            "grid_auto_flow": null,
            "grid_auto_rows": null,
            "grid_column": null,
            "grid_gap": null,
            "grid_row": null,
            "grid_template_areas": null,
            "grid_template_columns": null,
            "grid_template_rows": null,
            "height": null,
            "justify_content": null,
            "justify_items": null,
            "left": null,
            "margin": null,
            "max_height": null,
            "max_width": null,
            "min_height": null,
            "min_width": null,
            "object_fit": null,
            "object_position": null,
            "order": null,
            "overflow": null,
            "overflow_x": null,
            "overflow_y": null,
            "padding": null,
            "right": null,
            "top": null,
            "visibility": null,
            "width": null
          }
        },
        "311743d70c874a9f87aee5c69d1c7e8d": {
          "model_module": "@jupyter-widgets/controls",
          "model_name": "DescriptionStyleModel",
          "model_module_version": "1.5.0",
          "state": {
            "_model_module": "@jupyter-widgets/controls",
            "_model_module_version": "1.5.0",
            "_model_name": "DescriptionStyleModel",
            "_view_count": null,
            "_view_module": "@jupyter-widgets/base",
            "_view_module_version": "1.2.0",
            "_view_name": "StyleView",
            "description_width": ""
          }
        },
        "ccfe652fcff64f0eb2d62920e2dde6eb": {
          "model_module": "@jupyter-widgets/base",
          "model_name": "LayoutModel",
          "model_module_version": "1.2.0",
          "state": {
            "_model_module": "@jupyter-widgets/base",
            "_model_module_version": "1.2.0",
            "_model_name": "LayoutModel",
            "_view_count": null,
            "_view_module": "@jupyter-widgets/base",
            "_view_module_version": "1.2.0",
            "_view_name": "LayoutView",
            "align_content": null,
            "align_items": null,
            "align_self": null,
            "border": null,
            "bottom": null,
            "display": null,
            "flex": null,
            "flex_flow": null,
            "grid_area": null,
            "grid_auto_columns": null,
            "grid_auto_flow": null,
            "grid_auto_rows": null,
            "grid_column": null,
            "grid_gap": null,
            "grid_row": null,
            "grid_template_areas": null,
            "grid_template_columns": null,
            "grid_template_rows": null,
            "height": null,
            "justify_content": null,
            "justify_items": null,
            "left": null,
            "margin": null,
            "max_height": null,
            "max_width": null,
            "min_height": null,
            "min_width": null,
            "object_fit": null,
            "object_position": null,
            "order": null,
            "overflow": null,
            "overflow_x": null,
            "overflow_y": null,
            "padding": null,
            "right": null,
            "top": null,
            "visibility": null,
            "width": null
          }
        },
        "1fe9de7132ea4ef484918fb85cda775f": {
          "model_module": "@jupyter-widgets/controls",
          "model_name": "ProgressStyleModel",
          "model_module_version": "1.5.0",
          "state": {
            "_model_module": "@jupyter-widgets/controls",
            "_model_module_version": "1.5.0",
            "_model_name": "ProgressStyleModel",
            "_view_count": null,
            "_view_module": "@jupyter-widgets/base",
            "_view_module_version": "1.2.0",
            "_view_name": "StyleView",
            "bar_color": null,
            "description_width": ""
          }
        },
        "aebdbbb39aba4979b2ecabe9d5c28e8a": {
          "model_module": "@jupyter-widgets/base",
          "model_name": "LayoutModel",
          "model_module_version": "1.2.0",
          "state": {
            "_model_module": "@jupyter-widgets/base",
            "_model_module_version": "1.2.0",
            "_model_name": "LayoutModel",
            "_view_count": null,
            "_view_module": "@jupyter-widgets/base",
            "_view_module_version": "1.2.0",
            "_view_name": "LayoutView",
            "align_content": null,
            "align_items": null,
            "align_self": null,
            "border": null,
            "bottom": null,
            "display": null,
            "flex": null,
            "flex_flow": null,
            "grid_area": null,
            "grid_auto_columns": null,
            "grid_auto_flow": null,
            "grid_auto_rows": null,
            "grid_column": null,
            "grid_gap": null,
            "grid_row": null,
            "grid_template_areas": null,
            "grid_template_columns": null,
            "grid_template_rows": null,
            "height": null,
            "justify_content": null,
            "justify_items": null,
            "left": null,
            "margin": null,
            "max_height": null,
            "max_width": null,
            "min_height": null,
            "min_width": null,
            "object_fit": null,
            "object_position": null,
            "order": null,
            "overflow": null,
            "overflow_x": null,
            "overflow_y": null,
            "padding": null,
            "right": null,
            "top": null,
            "visibility": null,
            "width": null
          }
        },
        "7b80b5a6d61445b682e4bceb72f457b3": {
          "model_module": "@jupyter-widgets/controls",
          "model_name": "DescriptionStyleModel",
          "model_module_version": "1.5.0",
          "state": {
            "_model_module": "@jupyter-widgets/controls",
            "_model_module_version": "1.5.0",
            "_model_name": "DescriptionStyleModel",
            "_view_count": null,
            "_view_module": "@jupyter-widgets/base",
            "_view_module_version": "1.2.0",
            "_view_name": "StyleView",
            "description_width": ""
          }
        },
        "a3a4d0e1e73e478db8e8657bfb40a0aa": {
          "model_module": "@jupyter-widgets/controls",
          "model_name": "HBoxModel",
          "model_module_version": "1.5.0",
          "state": {
            "_dom_classes": [],
            "_model_module": "@jupyter-widgets/controls",
            "_model_module_version": "1.5.0",
            "_model_name": "HBoxModel",
            "_view_count": null,
            "_view_module": "@jupyter-widgets/controls",
            "_view_module_version": "1.5.0",
            "_view_name": "HBoxView",
            "box_style": "",
            "children": [
              "IPY_MODEL_daae6e22a7e844b989a7941db13e9ba1",
              "IPY_MODEL_728bed144c9b425396ebb9ddfb1fd4ed",
              "IPY_MODEL_5a7ec688fc6b48f18543f5296d1532ff"
            ],
            "layout": "IPY_MODEL_782e777b55c542e68001ac40d338d153"
          }
        },
        "daae6e22a7e844b989a7941db13e9ba1": {
          "model_module": "@jupyter-widgets/controls",
          "model_name": "HTMLModel",
          "model_module_version": "1.5.0",
          "state": {
            "_dom_classes": [],
            "_model_module": "@jupyter-widgets/controls",
            "_model_module_version": "1.5.0",
            "_model_name": "HTMLModel",
            "_view_count": null,
            "_view_module": "@jupyter-widgets/controls",
            "_view_module_version": "1.5.0",
            "_view_name": "HTMLView",
            "description": "",
            "description_tooltip": null,
            "layout": "IPY_MODEL_5aa225fbaf9040b6aab87ba8c1b44048",
            "placeholder": "​",
            "style": "IPY_MODEL_a75d1896744340adb6fbd97f491ad7df",
            "value": "Generating test split: 100%"
          }
        },
        "728bed144c9b425396ebb9ddfb1fd4ed": {
          "model_module": "@jupyter-widgets/controls",
          "model_name": "FloatProgressModel",
          "model_module_version": "1.5.0",
          "state": {
            "_dom_classes": [],
            "_model_module": "@jupyter-widgets/controls",
            "_model_module_version": "1.5.0",
            "_model_name": "FloatProgressModel",
            "_view_count": null,
            "_view_module": "@jupyter-widgets/controls",
            "_view_module_version": "1.5.0",
            "_view_name": "ProgressView",
            "bar_style": "success",
            "description": "",
            "description_tooltip": null,
            "layout": "IPY_MODEL_fbca14377af7453bbfb0e427e2683bf7",
            "max": 6807,
            "min": 0,
            "orientation": "horizontal",
            "style": "IPY_MODEL_128d6c21037b4aa79db1b7c7c562c24c",
            "value": 6807
          }
        },
        "5a7ec688fc6b48f18543f5296d1532ff": {
          "model_module": "@jupyter-widgets/controls",
          "model_name": "HTMLModel",
          "model_module_version": "1.5.0",
          "state": {
            "_dom_classes": [],
            "_model_module": "@jupyter-widgets/controls",
            "_model_module_version": "1.5.0",
            "_model_name": "HTMLModel",
            "_view_count": null,
            "_view_module": "@jupyter-widgets/controls",
            "_view_module_version": "1.5.0",
            "_view_name": "HTMLView",
            "description": "",
            "description_tooltip": null,
            "layout": "IPY_MODEL_0db8ff716ec840e5b254309558cc57a0",
            "placeholder": "​",
            "style": "IPY_MODEL_01292e1a67e44ad9bbe171c1c8578006",
            "value": " 6807/6807 [00:00&lt;00:00, 71929.53 examples/s]"
          }
        },
        "782e777b55c542e68001ac40d338d153": {
          "model_module": "@jupyter-widgets/base",
          "model_name": "LayoutModel",
          "model_module_version": "1.2.0",
          "state": {
            "_model_module": "@jupyter-widgets/base",
            "_model_module_version": "1.2.0",
            "_model_name": "LayoutModel",
            "_view_count": null,
            "_view_module": "@jupyter-widgets/base",
            "_view_module_version": "1.2.0",
            "_view_name": "LayoutView",
            "align_content": null,
            "align_items": null,
            "align_self": null,
            "border": null,
            "bottom": null,
            "display": null,
            "flex": null,
            "flex_flow": null,
            "grid_area": null,
            "grid_auto_columns": null,
            "grid_auto_flow": null,
            "grid_auto_rows": null,
            "grid_column": null,
            "grid_gap": null,
            "grid_row": null,
            "grid_template_areas": null,
            "grid_template_columns": null,
            "grid_template_rows": null,
            "height": null,
            "justify_content": null,
            "justify_items": null,
            "left": null,
            "margin": null,
            "max_height": null,
            "max_width": null,
            "min_height": null,
            "min_width": null,
            "object_fit": null,
            "object_position": null,
            "order": null,
            "overflow": null,
            "overflow_x": null,
            "overflow_y": null,
            "padding": null,
            "right": null,
            "top": null,
            "visibility": null,
            "width": null
          }
        },
        "5aa225fbaf9040b6aab87ba8c1b44048": {
          "model_module": "@jupyter-widgets/base",
          "model_name": "LayoutModel",
          "model_module_version": "1.2.0",
          "state": {
            "_model_module": "@jupyter-widgets/base",
            "_model_module_version": "1.2.0",
            "_model_name": "LayoutModel",
            "_view_count": null,
            "_view_module": "@jupyter-widgets/base",
            "_view_module_version": "1.2.0",
            "_view_name": "LayoutView",
            "align_content": null,
            "align_items": null,
            "align_self": null,
            "border": null,
            "bottom": null,
            "display": null,
            "flex": null,
            "flex_flow": null,
            "grid_area": null,
            "grid_auto_columns": null,
            "grid_auto_flow": null,
            "grid_auto_rows": null,
            "grid_column": null,
            "grid_gap": null,
            "grid_row": null,
            "grid_template_areas": null,
            "grid_template_columns": null,
            "grid_template_rows": null,
            "height": null,
            "justify_content": null,
            "justify_items": null,
            "left": null,
            "margin": null,
            "max_height": null,
            "max_width": null,
            "min_height": null,
            "min_width": null,
            "object_fit": null,
            "object_position": null,
            "order": null,
            "overflow": null,
            "overflow_x": null,
            "overflow_y": null,
            "padding": null,
            "right": null,
            "top": null,
            "visibility": null,
            "width": null
          }
        },
        "a75d1896744340adb6fbd97f491ad7df": {
          "model_module": "@jupyter-widgets/controls",
          "model_name": "DescriptionStyleModel",
          "model_module_version": "1.5.0",
          "state": {
            "_model_module": "@jupyter-widgets/controls",
            "_model_module_version": "1.5.0",
            "_model_name": "DescriptionStyleModel",
            "_view_count": null,
            "_view_module": "@jupyter-widgets/base",
            "_view_module_version": "1.2.0",
            "_view_name": "StyleView",
            "description_width": ""
          }
        },
        "fbca14377af7453bbfb0e427e2683bf7": {
          "model_module": "@jupyter-widgets/base",
          "model_name": "LayoutModel",
          "model_module_version": "1.2.0",
          "state": {
            "_model_module": "@jupyter-widgets/base",
            "_model_module_version": "1.2.0",
            "_model_name": "LayoutModel",
            "_view_count": null,
            "_view_module": "@jupyter-widgets/base",
            "_view_module_version": "1.2.0",
            "_view_name": "LayoutView",
            "align_content": null,
            "align_items": null,
            "align_self": null,
            "border": null,
            "bottom": null,
            "display": null,
            "flex": null,
            "flex_flow": null,
            "grid_area": null,
            "grid_auto_columns": null,
            "grid_auto_flow": null,
            "grid_auto_rows": null,
            "grid_column": null,
            "grid_gap": null,
            "grid_row": null,
            "grid_template_areas": null,
            "grid_template_columns": null,
            "grid_template_rows": null,
            "height": null,
            "justify_content": null,
            "justify_items": null,
            "left": null,
            "margin": null,
            "max_height": null,
            "max_width": null,
            "min_height": null,
            "min_width": null,
            "object_fit": null,
            "object_position": null,
            "order": null,
            "overflow": null,
            "overflow_x": null,
            "overflow_y": null,
            "padding": null,
            "right": null,
            "top": null,
            "visibility": null,
            "width": null
          }
        },
        "128d6c21037b4aa79db1b7c7c562c24c": {
          "model_module": "@jupyter-widgets/controls",
          "model_name": "ProgressStyleModel",
          "model_module_version": "1.5.0",
          "state": {
            "_model_module": "@jupyter-widgets/controls",
            "_model_module_version": "1.5.0",
            "_model_name": "ProgressStyleModel",
            "_view_count": null,
            "_view_module": "@jupyter-widgets/base",
            "_view_module_version": "1.2.0",
            "_view_name": "StyleView",
            "bar_color": null,
            "description_width": ""
          }
        },
        "0db8ff716ec840e5b254309558cc57a0": {
          "model_module": "@jupyter-widgets/base",
          "model_name": "LayoutModel",
          "model_module_version": "1.2.0",
          "state": {
            "_model_module": "@jupyter-widgets/base",
            "_model_module_version": "1.2.0",
            "_model_name": "LayoutModel",
            "_view_count": null,
            "_view_module": "@jupyter-widgets/base",
            "_view_module_version": "1.2.0",
            "_view_name": "LayoutView",
            "align_content": null,
            "align_items": null,
            "align_self": null,
            "border": null,
            "bottom": null,
            "display": null,
            "flex": null,
            "flex_flow": null,
            "grid_area": null,
            "grid_auto_columns": null,
            "grid_auto_flow": null,
            "grid_auto_rows": null,
            "grid_column": null,
            "grid_gap": null,
            "grid_row": null,
            "grid_template_areas": null,
            "grid_template_columns": null,
            "grid_template_rows": null,
            "height": null,
            "justify_content": null,
            "justify_items": null,
            "left": null,
            "margin": null,
            "max_height": null,
            "max_width": null,
            "min_height": null,
            "min_width": null,
            "object_fit": null,
            "object_position": null,
            "order": null,
            "overflow": null,
            "overflow_x": null,
            "overflow_y": null,
            "padding": null,
            "right": null,
            "top": null,
            "visibility": null,
            "width": null
          }
        },
        "01292e1a67e44ad9bbe171c1c8578006": {
          "model_module": "@jupyter-widgets/controls",
          "model_name": "DescriptionStyleModel",
          "model_module_version": "1.5.0",
          "state": {
            "_model_module": "@jupyter-widgets/controls",
            "_model_module_version": "1.5.0",
            "_model_name": "DescriptionStyleModel",
            "_view_count": null,
            "_view_module": "@jupyter-widgets/base",
            "_view_module_version": "1.2.0",
            "_view_name": "StyleView",
            "description_width": ""
          }
        },
        "9924542cc39e414484536adf70296d66": {
          "model_module": "@jupyter-widgets/controls",
          "model_name": "HBoxModel",
          "model_module_version": "1.5.0",
          "state": {
            "_dom_classes": [],
            "_model_module": "@jupyter-widgets/controls",
            "_model_module_version": "1.5.0",
            "_model_name": "HBoxModel",
            "_view_count": null,
            "_view_module": "@jupyter-widgets/controls",
            "_view_module_version": "1.5.0",
            "_view_name": "HBoxView",
            "box_style": "",
            "children": [
              "IPY_MODEL_4bc584559774447fabc70c04209b66de",
              "IPY_MODEL_a9a5b9e19b3a42f7a42e05ab596b7f77",
              "IPY_MODEL_12c323def2724efa8a4ae49125307c39"
            ],
            "layout": "IPY_MODEL_ffc36f0e05b04994a99c3161a3f330db"
          }
        },
        "4bc584559774447fabc70c04209b66de": {
          "model_module": "@jupyter-widgets/controls",
          "model_name": "HTMLModel",
          "model_module_version": "1.5.0",
          "state": {
            "_dom_classes": [],
            "_model_module": "@jupyter-widgets/controls",
            "_model_module_version": "1.5.0",
            "_model_name": "HTMLModel",
            "_view_count": null,
            "_view_module": "@jupyter-widgets/controls",
            "_view_module_version": "1.5.0",
            "_view_name": "HTMLView",
            "description": "",
            "description_tooltip": null,
            "layout": "IPY_MODEL_8510705a5020454fbf48722123b63a75",
            "placeholder": "​",
            "style": "IPY_MODEL_d8b3e0f996394bb0a7ecdef8cd61b306",
            "value": "Map: 100%"
          }
        },
        "a9a5b9e19b3a42f7a42e05ab596b7f77": {
          "model_module": "@jupyter-widgets/controls",
          "model_name": "FloatProgressModel",
          "model_module_version": "1.5.0",
          "state": {
            "_dom_classes": [],
            "_model_module": "@jupyter-widgets/controls",
            "_model_module_version": "1.5.0",
            "_model_name": "FloatProgressModel",
            "_view_count": null,
            "_view_module": "@jupyter-widgets/controls",
            "_view_module_version": "1.5.0",
            "_view_name": "ProgressView",
            "bar_style": "success",
            "description": "",
            "description_tooltip": null,
            "layout": "IPY_MODEL_e64d57090e1f4b88b9cf9558b7a50e95",
            "max": 56167,
            "min": 0,
            "orientation": "horizontal",
            "style": "IPY_MODEL_259427ccd6554789afd72c7b03d4f6ff",
            "value": 56167
          }
        },
        "12c323def2724efa8a4ae49125307c39": {
          "model_module": "@jupyter-widgets/controls",
          "model_name": "HTMLModel",
          "model_module_version": "1.5.0",
          "state": {
            "_dom_classes": [],
            "_model_module": "@jupyter-widgets/controls",
            "_model_module_version": "1.5.0",
            "_model_name": "HTMLModel",
            "_view_count": null,
            "_view_module": "@jupyter-widgets/controls",
            "_view_module_version": "1.5.0",
            "_view_name": "HTMLView",
            "description": "",
            "description_tooltip": null,
            "layout": "IPY_MODEL_67c77368ee304acda0e9759e6faa7bc4",
            "placeholder": "​",
            "style": "IPY_MODEL_02223d0e66c247908d051fa701f31dd6",
            "value": " 56167/56167 [00:05&lt;00:00, 5622.29 examples/s]"
          }
        },
        "ffc36f0e05b04994a99c3161a3f330db": {
          "model_module": "@jupyter-widgets/base",
          "model_name": "LayoutModel",
          "model_module_version": "1.2.0",
          "state": {
            "_model_module": "@jupyter-widgets/base",
            "_model_module_version": "1.2.0",
            "_model_name": "LayoutModel",
            "_view_count": null,
            "_view_module": "@jupyter-widgets/base",
            "_view_module_version": "1.2.0",
            "_view_name": "LayoutView",
            "align_content": null,
            "align_items": null,
            "align_self": null,
            "border": null,
            "bottom": null,
            "display": null,
            "flex": null,
            "flex_flow": null,
            "grid_area": null,
            "grid_auto_columns": null,
            "grid_auto_flow": null,
            "grid_auto_rows": null,
            "grid_column": null,
            "grid_gap": null,
            "grid_row": null,
            "grid_template_areas": null,
            "grid_template_columns": null,
            "grid_template_rows": null,
            "height": null,
            "justify_content": null,
            "justify_items": null,
            "left": null,
            "margin": null,
            "max_height": null,
            "max_width": null,
            "min_height": null,
            "min_width": null,
            "object_fit": null,
            "object_position": null,
            "order": null,
            "overflow": null,
            "overflow_x": null,
            "overflow_y": null,
            "padding": null,
            "right": null,
            "top": null,
            "visibility": null,
            "width": null
          }
        },
        "8510705a5020454fbf48722123b63a75": {
          "model_module": "@jupyter-widgets/base",
          "model_name": "LayoutModel",
          "model_module_version": "1.2.0",
          "state": {
            "_model_module": "@jupyter-widgets/base",
            "_model_module_version": "1.2.0",
            "_model_name": "LayoutModel",
            "_view_count": null,
            "_view_module": "@jupyter-widgets/base",
            "_view_module_version": "1.2.0",
            "_view_name": "LayoutView",
            "align_content": null,
            "align_items": null,
            "align_self": null,
            "border": null,
            "bottom": null,
            "display": null,
            "flex": null,
            "flex_flow": null,
            "grid_area": null,
            "grid_auto_columns": null,
            "grid_auto_flow": null,
            "grid_auto_rows": null,
            "grid_column": null,
            "grid_gap": null,
            "grid_row": null,
            "grid_template_areas": null,
            "grid_template_columns": null,
            "grid_template_rows": null,
            "height": null,
            "justify_content": null,
            "justify_items": null,
            "left": null,
            "margin": null,
            "max_height": null,
            "max_width": null,
            "min_height": null,
            "min_width": null,
            "object_fit": null,
            "object_position": null,
            "order": null,
            "overflow": null,
            "overflow_x": null,
            "overflow_y": null,
            "padding": null,
            "right": null,
            "top": null,
            "visibility": null,
            "width": null
          }
        },
        "d8b3e0f996394bb0a7ecdef8cd61b306": {
          "model_module": "@jupyter-widgets/controls",
          "model_name": "DescriptionStyleModel",
          "model_module_version": "1.5.0",
          "state": {
            "_model_module": "@jupyter-widgets/controls",
            "_model_module_version": "1.5.0",
            "_model_name": "DescriptionStyleModel",
            "_view_count": null,
            "_view_module": "@jupyter-widgets/base",
            "_view_module_version": "1.2.0",
            "_view_name": "StyleView",
            "description_width": ""
          }
        },
        "e64d57090e1f4b88b9cf9558b7a50e95": {
          "model_module": "@jupyter-widgets/base",
          "model_name": "LayoutModel",
          "model_module_version": "1.2.0",
          "state": {
            "_model_module": "@jupyter-widgets/base",
            "_model_module_version": "1.2.0",
            "_model_name": "LayoutModel",
            "_view_count": null,
            "_view_module": "@jupyter-widgets/base",
            "_view_module_version": "1.2.0",
            "_view_name": "LayoutView",
            "align_content": null,
            "align_items": null,
            "align_self": null,
            "border": null,
            "bottom": null,
            "display": null,
            "flex": null,
            "flex_flow": null,
            "grid_area": null,
            "grid_auto_columns": null,
            "grid_auto_flow": null,
            "grid_auto_rows": null,
            "grid_column": null,
            "grid_gap": null,
            "grid_row": null,
            "grid_template_areas": null,
            "grid_template_columns": null,
            "grid_template_rows": null,
            "height": null,
            "justify_content": null,
            "justify_items": null,
            "left": null,
            "margin": null,
            "max_height": null,
            "max_width": null,
            "min_height": null,
            "min_width": null,
            "object_fit": null,
            "object_position": null,
            "order": null,
            "overflow": null,
            "overflow_x": null,
            "overflow_y": null,
            "padding": null,
            "right": null,
            "top": null,
            "visibility": null,
            "width": null
          }
        },
        "259427ccd6554789afd72c7b03d4f6ff": {
          "model_module": "@jupyter-widgets/controls",
          "model_name": "ProgressStyleModel",
          "model_module_version": "1.5.0",
          "state": {
            "_model_module": "@jupyter-widgets/controls",
            "_model_module_version": "1.5.0",
            "_model_name": "ProgressStyleModel",
            "_view_count": null,
            "_view_module": "@jupyter-widgets/base",
            "_view_module_version": "1.2.0",
            "_view_name": "StyleView",
            "bar_color": null,
            "description_width": ""
          }
        },
        "67c77368ee304acda0e9759e6faa7bc4": {
          "model_module": "@jupyter-widgets/base",
          "model_name": "LayoutModel",
          "model_module_version": "1.2.0",
          "state": {
            "_model_module": "@jupyter-widgets/base",
            "_model_module_version": "1.2.0",
            "_model_name": "LayoutModel",
            "_view_count": null,
            "_view_module": "@jupyter-widgets/base",
            "_view_module_version": "1.2.0",
            "_view_name": "LayoutView",
            "align_content": null,
            "align_items": null,
            "align_self": null,
            "border": null,
            "bottom": null,
            "display": null,
            "flex": null,
            "flex_flow": null,
            "grid_area": null,
            "grid_auto_columns": null,
            "grid_auto_flow": null,
            "grid_auto_rows": null,
            "grid_column": null,
            "grid_gap": null,
            "grid_row": null,
            "grid_template_areas": null,
            "grid_template_columns": null,
            "grid_template_rows": null,
            "height": null,
            "justify_content": null,
            "justify_items": null,
            "left": null,
            "margin": null,
            "max_height": null,
            "max_width": null,
            "min_height": null,
            "min_width": null,
            "object_fit": null,
            "object_position": null,
            "order": null,
            "overflow": null,
            "overflow_x": null,
            "overflow_y": null,
            "padding": null,
            "right": null,
            "top": null,
            "visibility": null,
            "width": null
          }
        },
        "02223d0e66c247908d051fa701f31dd6": {
          "model_module": "@jupyter-widgets/controls",
          "model_name": "DescriptionStyleModel",
          "model_module_version": "1.5.0",
          "state": {
            "_model_module": "@jupyter-widgets/controls",
            "_model_module_version": "1.5.0",
            "_model_name": "DescriptionStyleModel",
            "_view_count": null,
            "_view_module": "@jupyter-widgets/base",
            "_view_module_version": "1.2.0",
            "_view_name": "StyleView",
            "description_width": ""
          }
        },
        "6bd3e1f51f734220aef705fd9efaff7e": {
          "model_module": "@jupyter-widgets/controls",
          "model_name": "HBoxModel",
          "model_module_version": "1.5.0",
          "state": {
            "_dom_classes": [],
            "_model_module": "@jupyter-widgets/controls",
            "_model_module_version": "1.5.0",
            "_model_name": "HBoxModel",
            "_view_count": null,
            "_view_module": "@jupyter-widgets/controls",
            "_view_module_version": "1.5.0",
            "_view_name": "HBoxView",
            "box_style": "",
            "children": [
              "IPY_MODEL_dbb98163e86f4a708c71521e7fc81bf5",
              "IPY_MODEL_d27ee45a9e544b89a81fde83b4770eea",
              "IPY_MODEL_7061585b7b4e4a90abaaf608686100a8"
            ],
            "layout": "IPY_MODEL_40e8126c741148c9939fcf9e06605b5a"
          }
        },
        "dbb98163e86f4a708c71521e7fc81bf5": {
          "model_module": "@jupyter-widgets/controls",
          "model_name": "HTMLModel",
          "model_module_version": "1.5.0",
          "state": {
            "_dom_classes": [],
            "_model_module": "@jupyter-widgets/controls",
            "_model_module_version": "1.5.0",
            "_model_name": "HTMLModel",
            "_view_count": null,
            "_view_module": "@jupyter-widgets/controls",
            "_view_module_version": "1.5.0",
            "_view_name": "HTMLView",
            "description": "",
            "description_tooltip": null,
            "layout": "IPY_MODEL_3e691fb340eb42f69796001f56875268",
            "placeholder": "​",
            "style": "IPY_MODEL_6e116a5a97e345d1a377dbb612c10ad5",
            "value": "Map: 100%"
          }
        },
        "d27ee45a9e544b89a81fde83b4770eea": {
          "model_module": "@jupyter-widgets/controls",
          "model_name": "FloatProgressModel",
          "model_module_version": "1.5.0",
          "state": {
            "_dom_classes": [],
            "_model_module": "@jupyter-widgets/controls",
            "_model_module_version": "1.5.0",
            "_model_name": "FloatProgressModel",
            "_view_count": null,
            "_view_module": "@jupyter-widgets/controls",
            "_view_module_version": "1.5.0",
            "_view_name": "ProgressView",
            "bar_style": "success",
            "description": "",
            "description_tooltip": null,
            "layout": "IPY_MODEL_3eaf776c3e2b4798bbd6b542f708124d",
            "max": 6807,
            "min": 0,
            "orientation": "horizontal",
            "style": "IPY_MODEL_4e20fc38d56a42fdbf1ab9b6255efa7e",
            "value": 6807
          }
        },
        "7061585b7b4e4a90abaaf608686100a8": {
          "model_module": "@jupyter-widgets/controls",
          "model_name": "HTMLModel",
          "model_module_version": "1.5.0",
          "state": {
            "_dom_classes": [],
            "_model_module": "@jupyter-widgets/controls",
            "_model_module_version": "1.5.0",
            "_model_name": "HTMLModel",
            "_view_count": null,
            "_view_module": "@jupyter-widgets/controls",
            "_view_module_version": "1.5.0",
            "_view_name": "HTMLView",
            "description": "",
            "description_tooltip": null,
            "layout": "IPY_MODEL_8b6791dd8cf14d91bf83e182b016a5fc",
            "placeholder": "​",
            "style": "IPY_MODEL_d5bf7c105fce45048ad8907636c3fb54",
            "value": " 6807/6807 [00:00&lt;00:00, 12372.84 examples/s]"
          }
        },
        "40e8126c741148c9939fcf9e06605b5a": {
          "model_module": "@jupyter-widgets/base",
          "model_name": "LayoutModel",
          "model_module_version": "1.2.0",
          "state": {
            "_model_module": "@jupyter-widgets/base",
            "_model_module_version": "1.2.0",
            "_model_name": "LayoutModel",
            "_view_count": null,
            "_view_module": "@jupyter-widgets/base",
            "_view_module_version": "1.2.0",
            "_view_name": "LayoutView",
            "align_content": null,
            "align_items": null,
            "align_self": null,
            "border": null,
            "bottom": null,
            "display": null,
            "flex": null,
            "flex_flow": null,
            "grid_area": null,
            "grid_auto_columns": null,
            "grid_auto_flow": null,
            "grid_auto_rows": null,
            "grid_column": null,
            "grid_gap": null,
            "grid_row": null,
            "grid_template_areas": null,
            "grid_template_columns": null,
            "grid_template_rows": null,
            "height": null,
            "justify_content": null,
            "justify_items": null,
            "left": null,
            "margin": null,
            "max_height": null,
            "max_width": null,
            "min_height": null,
            "min_width": null,
            "object_fit": null,
            "object_position": null,
            "order": null,
            "overflow": null,
            "overflow_x": null,
            "overflow_y": null,
            "padding": null,
            "right": null,
            "top": null,
            "visibility": null,
            "width": null
          }
        },
        "3e691fb340eb42f69796001f56875268": {
          "model_module": "@jupyter-widgets/base",
          "model_name": "LayoutModel",
          "model_module_version": "1.2.0",
          "state": {
            "_model_module": "@jupyter-widgets/base",
            "_model_module_version": "1.2.0",
            "_model_name": "LayoutModel",
            "_view_count": null,
            "_view_module": "@jupyter-widgets/base",
            "_view_module_version": "1.2.0",
            "_view_name": "LayoutView",
            "align_content": null,
            "align_items": null,
            "align_self": null,
            "border": null,
            "bottom": null,
            "display": null,
            "flex": null,
            "flex_flow": null,
            "grid_area": null,
            "grid_auto_columns": null,
            "grid_auto_flow": null,
            "grid_auto_rows": null,
            "grid_column": null,
            "grid_gap": null,
            "grid_row": null,
            "grid_template_areas": null,
            "grid_template_columns": null,
            "grid_template_rows": null,
            "height": null,
            "justify_content": null,
            "justify_items": null,
            "left": null,
            "margin": null,
            "max_height": null,
            "max_width": null,
            "min_height": null,
            "min_width": null,
            "object_fit": null,
            "object_position": null,
            "order": null,
            "overflow": null,
            "overflow_x": null,
            "overflow_y": null,
            "padding": null,
            "right": null,
            "top": null,
            "visibility": null,
            "width": null
          }
        },
        "6e116a5a97e345d1a377dbb612c10ad5": {
          "model_module": "@jupyter-widgets/controls",
          "model_name": "DescriptionStyleModel",
          "model_module_version": "1.5.0",
          "state": {
            "_model_module": "@jupyter-widgets/controls",
            "_model_module_version": "1.5.0",
            "_model_name": "DescriptionStyleModel",
            "_view_count": null,
            "_view_module": "@jupyter-widgets/base",
            "_view_module_version": "1.2.0",
            "_view_name": "StyleView",
            "description_width": ""
          }
        },
        "3eaf776c3e2b4798bbd6b542f708124d": {
          "model_module": "@jupyter-widgets/base",
          "model_name": "LayoutModel",
          "model_module_version": "1.2.0",
          "state": {
            "_model_module": "@jupyter-widgets/base",
            "_model_module_version": "1.2.0",
            "_model_name": "LayoutModel",
            "_view_count": null,
            "_view_module": "@jupyter-widgets/base",
            "_view_module_version": "1.2.0",
            "_view_name": "LayoutView",
            "align_content": null,
            "align_items": null,
            "align_self": null,
            "border": null,
            "bottom": null,
            "display": null,
            "flex": null,
            "flex_flow": null,
            "grid_area": null,
            "grid_auto_columns": null,
            "grid_auto_flow": null,
            "grid_auto_rows": null,
            "grid_column": null,
            "grid_gap": null,
            "grid_row": null,
            "grid_template_areas": null,
            "grid_template_columns": null,
            "grid_template_rows": null,
            "height": null,
            "justify_content": null,
            "justify_items": null,
            "left": null,
            "margin": null,
            "max_height": null,
            "max_width": null,
            "min_height": null,
            "min_width": null,
            "object_fit": null,
            "object_position": null,
            "order": null,
            "overflow": null,
            "overflow_x": null,
            "overflow_y": null,
            "padding": null,
            "right": null,
            "top": null,
            "visibility": null,
            "width": null
          }
        },
        "4e20fc38d56a42fdbf1ab9b6255efa7e": {
          "model_module": "@jupyter-widgets/controls",
          "model_name": "ProgressStyleModel",
          "model_module_version": "1.5.0",
          "state": {
            "_model_module": "@jupyter-widgets/controls",
            "_model_module_version": "1.5.0",
            "_model_name": "ProgressStyleModel",
            "_view_count": null,
            "_view_module": "@jupyter-widgets/base",
            "_view_module_version": "1.2.0",
            "_view_name": "StyleView",
            "bar_color": null,
            "description_width": ""
          }
        },
        "8b6791dd8cf14d91bf83e182b016a5fc": {
          "model_module": "@jupyter-widgets/base",
          "model_name": "LayoutModel",
          "model_module_version": "1.2.0",
          "state": {
            "_model_module": "@jupyter-widgets/base",
            "_model_module_version": "1.2.0",
            "_model_name": "LayoutModel",
            "_view_count": null,
            "_view_module": "@jupyter-widgets/base",
            "_view_module_version": "1.2.0",
            "_view_name": "LayoutView",
            "align_content": null,
            "align_items": null,
            "align_self": null,
            "border": null,
            "bottom": null,
            "display": null,
            "flex": null,
            "flex_flow": null,
            "grid_area": null,
            "grid_auto_columns": null,
            "grid_auto_flow": null,
            "grid_auto_rows": null,
            "grid_column": null,
            "grid_gap": null,
            "grid_row": null,
            "grid_template_areas": null,
            "grid_template_columns": null,
            "grid_template_rows": null,
            "height": null,
            "justify_content": null,
            "justify_items": null,
            "left": null,
            "margin": null,
            "max_height": null,
            "max_width": null,
            "min_height": null,
            "min_width": null,
            "object_fit": null,
            "object_position": null,
            "order": null,
            "overflow": null,
            "overflow_x": null,
            "overflow_y": null,
            "padding": null,
            "right": null,
            "top": null,
            "visibility": null,
            "width": null
          }
        },
        "d5bf7c105fce45048ad8907636c3fb54": {
          "model_module": "@jupyter-widgets/controls",
          "model_name": "DescriptionStyleModel",
          "model_module_version": "1.5.0",
          "state": {
            "_model_module": "@jupyter-widgets/controls",
            "_model_module_version": "1.5.0",
            "_model_name": "DescriptionStyleModel",
            "_view_count": null,
            "_view_module": "@jupyter-widgets/base",
            "_view_module_version": "1.2.0",
            "_view_name": "StyleView",
            "description_width": ""
          }
        },
        "7bee1ebb5d034a83af6e2c8146797df2": {
          "model_module": "@jupyter-widgets/controls",
          "model_name": "HBoxModel",
          "model_module_version": "1.5.0",
          "state": {
            "_dom_classes": [],
            "_model_module": "@jupyter-widgets/controls",
            "_model_module_version": "1.5.0",
            "_model_name": "HBoxModel",
            "_view_count": null,
            "_view_module": "@jupyter-widgets/controls",
            "_view_module_version": "1.5.0",
            "_view_name": "HBoxView",
            "box_style": "",
            "children": [
              "IPY_MODEL_b6ea55974722456e8ad8dcddd11eafe8",
              "IPY_MODEL_17b9e5bde32240c195023437c9c991ac",
              "IPY_MODEL_7331a8cdb2084b458a627d0e392ab3e9"
            ],
            "layout": "IPY_MODEL_b84715d2f1ce4a4db6d695e548d1a6cc"
          }
        },
        "b6ea55974722456e8ad8dcddd11eafe8": {
          "model_module": "@jupyter-widgets/controls",
          "model_name": "HTMLModel",
          "model_module_version": "1.5.0",
          "state": {
            "_dom_classes": [],
            "_model_module": "@jupyter-widgets/controls",
            "_model_module_version": "1.5.0",
            "_model_name": "HTMLModel",
            "_view_count": null,
            "_view_module": "@jupyter-widgets/controls",
            "_view_module_version": "1.5.0",
            "_view_name": "HTMLView",
            "description": "",
            "description_tooltip": null,
            "layout": "IPY_MODEL_be327926576744f98fd6b7c37b5a221d",
            "placeholder": "​",
            "style": "IPY_MODEL_0dcb6e3625a347419643ce9ba7881851",
            "value": "Filter: 100%"
          }
        },
        "17b9e5bde32240c195023437c9c991ac": {
          "model_module": "@jupyter-widgets/controls",
          "model_name": "FloatProgressModel",
          "model_module_version": "1.5.0",
          "state": {
            "_dom_classes": [],
            "_model_module": "@jupyter-widgets/controls",
            "_model_module_version": "1.5.0",
            "_model_name": "FloatProgressModel",
            "_view_count": null,
            "_view_module": "@jupyter-widgets/controls",
            "_view_module_version": "1.5.0",
            "_view_name": "ProgressView",
            "bar_style": "success",
            "description": "",
            "description_tooltip": null,
            "layout": "IPY_MODEL_da3b7088a0054575808c74666f9e4635",
            "max": 56167,
            "min": 0,
            "orientation": "horizontal",
            "style": "IPY_MODEL_694a23f0c2ca4c518de1bc091148bf3b",
            "value": 56167
          }
        },
        "7331a8cdb2084b458a627d0e392ab3e9": {
          "model_module": "@jupyter-widgets/controls",
          "model_name": "HTMLModel",
          "model_module_version": "1.5.0",
          "state": {
            "_dom_classes": [],
            "_model_module": "@jupyter-widgets/controls",
            "_model_module_version": "1.5.0",
            "_model_name": "HTMLModel",
            "_view_count": null,
            "_view_module": "@jupyter-widgets/controls",
            "_view_module_version": "1.5.0",
            "_view_name": "HTMLView",
            "description": "",
            "description_tooltip": null,
            "layout": "IPY_MODEL_fef1fa028a364e69913f490e205ea4e5",
            "placeholder": "​",
            "style": "IPY_MODEL_bf7e512d117e4038b834ccd577c3b4f2",
            "value": " 56167/56167 [00:00&lt;00:00, 71153.86 examples/s]"
          }
        },
        "b84715d2f1ce4a4db6d695e548d1a6cc": {
          "model_module": "@jupyter-widgets/base",
          "model_name": "LayoutModel",
          "model_module_version": "1.2.0",
          "state": {
            "_model_module": "@jupyter-widgets/base",
            "_model_module_version": "1.2.0",
            "_model_name": "LayoutModel",
            "_view_count": null,
            "_view_module": "@jupyter-widgets/base",
            "_view_module_version": "1.2.0",
            "_view_name": "LayoutView",
            "align_content": null,
            "align_items": null,
            "align_self": null,
            "border": null,
            "bottom": null,
            "display": null,
            "flex": null,
            "flex_flow": null,
            "grid_area": null,
            "grid_auto_columns": null,
            "grid_auto_flow": null,
            "grid_auto_rows": null,
            "grid_column": null,
            "grid_gap": null,
            "grid_row": null,
            "grid_template_areas": null,
            "grid_template_columns": null,
            "grid_template_rows": null,
            "height": null,
            "justify_content": null,
            "justify_items": null,
            "left": null,
            "margin": null,
            "max_height": null,
            "max_width": null,
            "min_height": null,
            "min_width": null,
            "object_fit": null,
            "object_position": null,
            "order": null,
            "overflow": null,
            "overflow_x": null,
            "overflow_y": null,
            "padding": null,
            "right": null,
            "top": null,
            "visibility": null,
            "width": null
          }
        },
        "be327926576744f98fd6b7c37b5a221d": {
          "model_module": "@jupyter-widgets/base",
          "model_name": "LayoutModel",
          "model_module_version": "1.2.0",
          "state": {
            "_model_module": "@jupyter-widgets/base",
            "_model_module_version": "1.2.0",
            "_model_name": "LayoutModel",
            "_view_count": null,
            "_view_module": "@jupyter-widgets/base",
            "_view_module_version": "1.2.0",
            "_view_name": "LayoutView",
            "align_content": null,
            "align_items": null,
            "align_self": null,
            "border": null,
            "bottom": null,
            "display": null,
            "flex": null,
            "flex_flow": null,
            "grid_area": null,
            "grid_auto_columns": null,
            "grid_auto_flow": null,
            "grid_auto_rows": null,
            "grid_column": null,
            "grid_gap": null,
            "grid_row": null,
            "grid_template_areas": null,
            "grid_template_columns": null,
            "grid_template_rows": null,
            "height": null,
            "justify_content": null,
            "justify_items": null,
            "left": null,
            "margin": null,
            "max_height": null,
            "max_width": null,
            "min_height": null,
            "min_width": null,
            "object_fit": null,
            "object_position": null,
            "order": null,
            "overflow": null,
            "overflow_x": null,
            "overflow_y": null,
            "padding": null,
            "right": null,
            "top": null,
            "visibility": null,
            "width": null
          }
        },
        "0dcb6e3625a347419643ce9ba7881851": {
          "model_module": "@jupyter-widgets/controls",
          "model_name": "DescriptionStyleModel",
          "model_module_version": "1.5.0",
          "state": {
            "_model_module": "@jupyter-widgets/controls",
            "_model_module_version": "1.5.0",
            "_model_name": "DescriptionStyleModel",
            "_view_count": null,
            "_view_module": "@jupyter-widgets/base",
            "_view_module_version": "1.2.0",
            "_view_name": "StyleView",
            "description_width": ""
          }
        },
        "da3b7088a0054575808c74666f9e4635": {
          "model_module": "@jupyter-widgets/base",
          "model_name": "LayoutModel",
          "model_module_version": "1.2.0",
          "state": {
            "_model_module": "@jupyter-widgets/base",
            "_model_module_version": "1.2.0",
            "_model_name": "LayoutModel",
            "_view_count": null,
            "_view_module": "@jupyter-widgets/base",
            "_view_module_version": "1.2.0",
            "_view_name": "LayoutView",
            "align_content": null,
            "align_items": null,
            "align_self": null,
            "border": null,
            "bottom": null,
            "display": null,
            "flex": null,
            "flex_flow": null,
            "grid_area": null,
            "grid_auto_columns": null,
            "grid_auto_flow": null,
            "grid_auto_rows": null,
            "grid_column": null,
            "grid_gap": null,
            "grid_row": null,
            "grid_template_areas": null,
            "grid_template_columns": null,
            "grid_template_rows": null,
            "height": null,
            "justify_content": null,
            "justify_items": null,
            "left": null,
            "margin": null,
            "max_height": null,
            "max_width": null,
            "min_height": null,
            "min_width": null,
            "object_fit": null,
            "object_position": null,
            "order": null,
            "overflow": null,
            "overflow_x": null,
            "overflow_y": null,
            "padding": null,
            "right": null,
            "top": null,
            "visibility": null,
            "width": null
          }
        },
        "694a23f0c2ca4c518de1bc091148bf3b": {
          "model_module": "@jupyter-widgets/controls",
          "model_name": "ProgressStyleModel",
          "model_module_version": "1.5.0",
          "state": {
            "_model_module": "@jupyter-widgets/controls",
            "_model_module_version": "1.5.0",
            "_model_name": "ProgressStyleModel",
            "_view_count": null,
            "_view_module": "@jupyter-widgets/base",
            "_view_module_version": "1.2.0",
            "_view_name": "StyleView",
            "bar_color": null,
            "description_width": ""
          }
        },
        "fef1fa028a364e69913f490e205ea4e5": {
          "model_module": "@jupyter-widgets/base",
          "model_name": "LayoutModel",
          "model_module_version": "1.2.0",
          "state": {
            "_model_module": "@jupyter-widgets/base",
            "_model_module_version": "1.2.0",
            "_model_name": "LayoutModel",
            "_view_count": null,
            "_view_module": "@jupyter-widgets/base",
            "_view_module_version": "1.2.0",
            "_view_name": "LayoutView",
            "align_content": null,
            "align_items": null,
            "align_self": null,
            "border": null,
            "bottom": null,
            "display": null,
            "flex": null,
            "flex_flow": null,
            "grid_area": null,
            "grid_auto_columns": null,
            "grid_auto_flow": null,
            "grid_auto_rows": null,
            "grid_column": null,
            "grid_gap": null,
            "grid_row": null,
            "grid_template_areas": null,
            "grid_template_columns": null,
            "grid_template_rows": null,
            "height": null,
            "justify_content": null,
            "justify_items": null,
            "left": null,
            "margin": null,
            "max_height": null,
            "max_width": null,
            "min_height": null,
            "min_width": null,
            "object_fit": null,
            "object_position": null,
            "order": null,
            "overflow": null,
            "overflow_x": null,
            "overflow_y": null,
            "padding": null,
            "right": null,
            "top": null,
            "visibility": null,
            "width": null
          }
        },
        "bf7e512d117e4038b834ccd577c3b4f2": {
          "model_module": "@jupyter-widgets/controls",
          "model_name": "DescriptionStyleModel",
          "model_module_version": "1.5.0",
          "state": {
            "_model_module": "@jupyter-widgets/controls",
            "_model_module_version": "1.5.0",
            "_model_name": "DescriptionStyleModel",
            "_view_count": null,
            "_view_module": "@jupyter-widgets/base",
            "_view_module_version": "1.2.0",
            "_view_name": "StyleView",
            "description_width": ""
          }
        },
        "e28dcab654f844a0a1eba05d86f6ee52": {
          "model_module": "@jupyter-widgets/controls",
          "model_name": "HBoxModel",
          "model_module_version": "1.5.0",
          "state": {
            "_dom_classes": [],
            "_model_module": "@jupyter-widgets/controls",
            "_model_module_version": "1.5.0",
            "_model_name": "HBoxModel",
            "_view_count": null,
            "_view_module": "@jupyter-widgets/controls",
            "_view_module_version": "1.5.0",
            "_view_name": "HBoxView",
            "box_style": "",
            "children": [
              "IPY_MODEL_9a060e8b1268431b9a31831a6e1795ea",
              "IPY_MODEL_db370cb3e291438fbcfe083ecde4fee6",
              "IPY_MODEL_2e00e87889ef48e0af4a5f3fce9f82a1"
            ],
            "layout": "IPY_MODEL_3dfa81fc8bab4626a2cf6d84a6575158"
          }
        },
        "9a060e8b1268431b9a31831a6e1795ea": {
          "model_module": "@jupyter-widgets/controls",
          "model_name": "HTMLModel",
          "model_module_version": "1.5.0",
          "state": {
            "_dom_classes": [],
            "_model_module": "@jupyter-widgets/controls",
            "_model_module_version": "1.5.0",
            "_model_name": "HTMLModel",
            "_view_count": null,
            "_view_module": "@jupyter-widgets/controls",
            "_view_module_version": "1.5.0",
            "_view_name": "HTMLView",
            "description": "",
            "description_tooltip": null,
            "layout": "IPY_MODEL_cc6c735e68ca4bca9773cf2714e4dfd2",
            "placeholder": "​",
            "style": "IPY_MODEL_4e782e085f0544b3aa59647eea82b7bd",
            "value": "Filter: 100%"
          }
        },
        "db370cb3e291438fbcfe083ecde4fee6": {
          "model_module": "@jupyter-widgets/controls",
          "model_name": "FloatProgressModel",
          "model_module_version": "1.5.0",
          "state": {
            "_dom_classes": [],
            "_model_module": "@jupyter-widgets/controls",
            "_model_module_version": "1.5.0",
            "_model_name": "FloatProgressModel",
            "_view_count": null,
            "_view_module": "@jupyter-widgets/controls",
            "_view_module_version": "1.5.0",
            "_view_name": "ProgressView",
            "bar_style": "success",
            "description": "",
            "description_tooltip": null,
            "layout": "IPY_MODEL_d8a08063bd10414385b782fcb1a4fe30",
            "max": 6807,
            "min": 0,
            "orientation": "horizontal",
            "style": "IPY_MODEL_c40ced5aec7b4f8f98e26f4c6ecf2a5b",
            "value": 6807
          }
        },
        "2e00e87889ef48e0af4a5f3fce9f82a1": {
          "model_module": "@jupyter-widgets/controls",
          "model_name": "HTMLModel",
          "model_module_version": "1.5.0",
          "state": {
            "_dom_classes": [],
            "_model_module": "@jupyter-widgets/controls",
            "_model_module_version": "1.5.0",
            "_model_name": "HTMLModel",
            "_view_count": null,
            "_view_module": "@jupyter-widgets/controls",
            "_view_module_version": "1.5.0",
            "_view_name": "HTMLView",
            "description": "",
            "description_tooltip": null,
            "layout": "IPY_MODEL_f063324a406d449db86f4fc438206f49",
            "placeholder": "​",
            "style": "IPY_MODEL_93884fce2e6b41bc880c90b01dc58230",
            "value": " 6807/6807 [00:00&lt;00:00, 63898.24 examples/s]"
          }
        },
        "3dfa81fc8bab4626a2cf6d84a6575158": {
          "model_module": "@jupyter-widgets/base",
          "model_name": "LayoutModel",
          "model_module_version": "1.2.0",
          "state": {
            "_model_module": "@jupyter-widgets/base",
            "_model_module_version": "1.2.0",
            "_model_name": "LayoutModel",
            "_view_count": null,
            "_view_module": "@jupyter-widgets/base",
            "_view_module_version": "1.2.0",
            "_view_name": "LayoutView",
            "align_content": null,
            "align_items": null,
            "align_self": null,
            "border": null,
            "bottom": null,
            "display": null,
            "flex": null,
            "flex_flow": null,
            "grid_area": null,
            "grid_auto_columns": null,
            "grid_auto_flow": null,
            "grid_auto_rows": null,
            "grid_column": null,
            "grid_gap": null,
            "grid_row": null,
            "grid_template_areas": null,
            "grid_template_columns": null,
            "grid_template_rows": null,
            "height": null,
            "justify_content": null,
            "justify_items": null,
            "left": null,
            "margin": null,
            "max_height": null,
            "max_width": null,
            "min_height": null,
            "min_width": null,
            "object_fit": null,
            "object_position": null,
            "order": null,
            "overflow": null,
            "overflow_x": null,
            "overflow_y": null,
            "padding": null,
            "right": null,
            "top": null,
            "visibility": null,
            "width": null
          }
        },
        "cc6c735e68ca4bca9773cf2714e4dfd2": {
          "model_module": "@jupyter-widgets/base",
          "model_name": "LayoutModel",
          "model_module_version": "1.2.0",
          "state": {
            "_model_module": "@jupyter-widgets/base",
            "_model_module_version": "1.2.0",
            "_model_name": "LayoutModel",
            "_view_count": null,
            "_view_module": "@jupyter-widgets/base",
            "_view_module_version": "1.2.0",
            "_view_name": "LayoutView",
            "align_content": null,
            "align_items": null,
            "align_self": null,
            "border": null,
            "bottom": null,
            "display": null,
            "flex": null,
            "flex_flow": null,
            "grid_area": null,
            "grid_auto_columns": null,
            "grid_auto_flow": null,
            "grid_auto_rows": null,
            "grid_column": null,
            "grid_gap": null,
            "grid_row": null,
            "grid_template_areas": null,
            "grid_template_columns": null,
            "grid_template_rows": null,
            "height": null,
            "justify_content": null,
            "justify_items": null,
            "left": null,
            "margin": null,
            "max_height": null,
            "max_width": null,
            "min_height": null,
            "min_width": null,
            "object_fit": null,
            "object_position": null,
            "order": null,
            "overflow": null,
            "overflow_x": null,
            "overflow_y": null,
            "padding": null,
            "right": null,
            "top": null,
            "visibility": null,
            "width": null
          }
        },
        "4e782e085f0544b3aa59647eea82b7bd": {
          "model_module": "@jupyter-widgets/controls",
          "model_name": "DescriptionStyleModel",
          "model_module_version": "1.5.0",
          "state": {
            "_model_module": "@jupyter-widgets/controls",
            "_model_module_version": "1.5.0",
            "_model_name": "DescriptionStyleModel",
            "_view_count": null,
            "_view_module": "@jupyter-widgets/base",
            "_view_module_version": "1.2.0",
            "_view_name": "StyleView",
            "description_width": ""
          }
        },
        "d8a08063bd10414385b782fcb1a4fe30": {
          "model_module": "@jupyter-widgets/base",
          "model_name": "LayoutModel",
          "model_module_version": "1.2.0",
          "state": {
            "_model_module": "@jupyter-widgets/base",
            "_model_module_version": "1.2.0",
            "_model_name": "LayoutModel",
            "_view_count": null,
            "_view_module": "@jupyter-widgets/base",
            "_view_module_version": "1.2.0",
            "_view_name": "LayoutView",
            "align_content": null,
            "align_items": null,
            "align_self": null,
            "border": null,
            "bottom": null,
            "display": null,
            "flex": null,
            "flex_flow": null,
            "grid_area": null,
            "grid_auto_columns": null,
            "grid_auto_flow": null,
            "grid_auto_rows": null,
            "grid_column": null,
            "grid_gap": null,
            "grid_row": null,
            "grid_template_areas": null,
            "grid_template_columns": null,
            "grid_template_rows": null,
            "height": null,
            "justify_content": null,
            "justify_items": null,
            "left": null,
            "margin": null,
            "max_height": null,
            "max_width": null,
            "min_height": null,
            "min_width": null,
            "object_fit": null,
            "object_position": null,
            "order": null,
            "overflow": null,
            "overflow_x": null,
            "overflow_y": null,
            "padding": null,
            "right": null,
            "top": null,
            "visibility": null,
            "width": null
          }
        },
        "c40ced5aec7b4f8f98e26f4c6ecf2a5b": {
          "model_module": "@jupyter-widgets/controls",
          "model_name": "ProgressStyleModel",
          "model_module_version": "1.5.0",
          "state": {
            "_model_module": "@jupyter-widgets/controls",
            "_model_module_version": "1.5.0",
            "_model_name": "ProgressStyleModel",
            "_view_count": null,
            "_view_module": "@jupyter-widgets/base",
            "_view_module_version": "1.2.0",
            "_view_name": "StyleView",
            "bar_color": null,
            "description_width": ""
          }
        },
        "f063324a406d449db86f4fc438206f49": {
          "model_module": "@jupyter-widgets/base",
          "model_name": "LayoutModel",
          "model_module_version": "1.2.0",
          "state": {
            "_model_module": "@jupyter-widgets/base",
            "_model_module_version": "1.2.0",
            "_model_name": "LayoutModel",
            "_view_count": null,
            "_view_module": "@jupyter-widgets/base",
            "_view_module_version": "1.2.0",
            "_view_name": "LayoutView",
            "align_content": null,
            "align_items": null,
            "align_self": null,
            "border": null,
            "bottom": null,
            "display": null,
            "flex": null,
            "flex_flow": null,
            "grid_area": null,
            "grid_auto_columns": null,
            "grid_auto_flow": null,
            "grid_auto_rows": null,
            "grid_column": null,
            "grid_gap": null,
            "grid_row": null,
            "grid_template_areas": null,
            "grid_template_columns": null,
            "grid_template_rows": null,
            "height": null,
            "justify_content": null,
            "justify_items": null,
            "left": null,
            "margin": null,
            "max_height": null,
            "max_width": null,
            "min_height": null,
            "min_width": null,
            "object_fit": null,
            "object_position": null,
            "order": null,
            "overflow": null,
            "overflow_x": null,
            "overflow_y": null,
            "padding": null,
            "right": null,
            "top": null,
            "visibility": null,
            "width": null
          }
        },
        "93884fce2e6b41bc880c90b01dc58230": {
          "model_module": "@jupyter-widgets/controls",
          "model_name": "DescriptionStyleModel",
          "model_module_version": "1.5.0",
          "state": {
            "_model_module": "@jupyter-widgets/controls",
            "_model_module_version": "1.5.0",
            "_model_name": "DescriptionStyleModel",
            "_view_count": null,
            "_view_module": "@jupyter-widgets/base",
            "_view_module_version": "1.2.0",
            "_view_name": "StyleView",
            "description_width": ""
          }
        },
        "216567e54b3348f5a87e460f059567c9": {
          "model_module": "@jupyter-widgets/controls",
          "model_name": "HBoxModel",
          "model_module_version": "1.5.0",
          "state": {
            "_dom_classes": [],
            "_model_module": "@jupyter-widgets/controls",
            "_model_module_version": "1.5.0",
            "_model_name": "HBoxModel",
            "_view_count": null,
            "_view_module": "@jupyter-widgets/controls",
            "_view_module_version": "1.5.0",
            "_view_name": "HBoxView",
            "box_style": "",
            "children": [
              "IPY_MODEL_868a57194679452e8a08971135b0c3a5",
              "IPY_MODEL_3d3d2f7c464d4a9ab8b6ddac80b85fcd",
              "IPY_MODEL_d83665c88ee644d1b7d9eaa9ddcf27b2"
            ],
            "layout": "IPY_MODEL_e1919bac5bdf423c8d76d5522082ba9a"
          }
        },
        "868a57194679452e8a08971135b0c3a5": {
          "model_module": "@jupyter-widgets/controls",
          "model_name": "HTMLModel",
          "model_module_version": "1.5.0",
          "state": {
            "_dom_classes": [],
            "_model_module": "@jupyter-widgets/controls",
            "_model_module_version": "1.5.0",
            "_model_name": "HTMLModel",
            "_view_count": null,
            "_view_module": "@jupyter-widgets/controls",
            "_view_module_version": "1.5.0",
            "_view_name": "HTMLView",
            "description": "",
            "description_tooltip": null,
            "layout": "IPY_MODEL_8337fa49c53b46138dca691c55726d1a",
            "placeholder": "​",
            "style": "IPY_MODEL_28f5590e3a1b404faa096f64d12aad7b",
            "value": "Creating json from Arrow format: 100%"
          }
        },
        "3d3d2f7c464d4a9ab8b6ddac80b85fcd": {
          "model_module": "@jupyter-widgets/controls",
          "model_name": "FloatProgressModel",
          "model_module_version": "1.5.0",
          "state": {
            "_dom_classes": [],
            "_model_module": "@jupyter-widgets/controls",
            "_model_module_version": "1.5.0",
            "_model_name": "FloatProgressModel",
            "_view_count": null,
            "_view_module": "@jupyter-widgets/controls",
            "_view_module_version": "1.5.0",
            "_view_name": "ProgressView",
            "bar_style": "success",
            "description": "",
            "description_tooltip": null,
            "layout": "IPY_MODEL_1cfe7027f8714148a8a8ce638c8bcaca",
            "max": 41,
            "min": 0,
            "orientation": "horizontal",
            "style": "IPY_MODEL_20b8fc2a0c7b4db3b27d7f1f4d58c7dc",
            "value": 41
          }
        },
        "d83665c88ee644d1b7d9eaa9ddcf27b2": {
          "model_module": "@jupyter-widgets/controls",
          "model_name": "HTMLModel",
          "model_module_version": "1.5.0",
          "state": {
            "_dom_classes": [],
            "_model_module": "@jupyter-widgets/controls",
            "_model_module_version": "1.5.0",
            "_model_name": "HTMLModel",
            "_view_count": null,
            "_view_module": "@jupyter-widgets/controls",
            "_view_module_version": "1.5.0",
            "_view_name": "HTMLView",
            "description": "",
            "description_tooltip": null,
            "layout": "IPY_MODEL_cbf432dea4dd453d8785ffd502f1f1ea",
            "placeholder": "​",
            "style": "IPY_MODEL_4b138c15818c4e5e9c2c4593bbfded7b",
            "value": " 41/41 [00:01&lt;00:00, 41.40ba/s]"
          }
        },
        "e1919bac5bdf423c8d76d5522082ba9a": {
          "model_module": "@jupyter-widgets/base",
          "model_name": "LayoutModel",
          "model_module_version": "1.2.0",
          "state": {
            "_model_module": "@jupyter-widgets/base",
            "_model_module_version": "1.2.0",
            "_model_name": "LayoutModel",
            "_view_count": null,
            "_view_module": "@jupyter-widgets/base",
            "_view_module_version": "1.2.0",
            "_view_name": "LayoutView",
            "align_content": null,
            "align_items": null,
            "align_self": null,
            "border": null,
            "bottom": null,
            "display": null,
            "flex": null,
            "flex_flow": null,
            "grid_area": null,
            "grid_auto_columns": null,
            "grid_auto_flow": null,
            "grid_auto_rows": null,
            "grid_column": null,
            "grid_gap": null,
            "grid_row": null,
            "grid_template_areas": null,
            "grid_template_columns": null,
            "grid_template_rows": null,
            "height": null,
            "justify_content": null,
            "justify_items": null,
            "left": null,
            "margin": null,
            "max_height": null,
            "max_width": null,
            "min_height": null,
            "min_width": null,
            "object_fit": null,
            "object_position": null,
            "order": null,
            "overflow": null,
            "overflow_x": null,
            "overflow_y": null,
            "padding": null,
            "right": null,
            "top": null,
            "visibility": null,
            "width": null
          }
        },
        "8337fa49c53b46138dca691c55726d1a": {
          "model_module": "@jupyter-widgets/base",
          "model_name": "LayoutModel",
          "model_module_version": "1.2.0",
          "state": {
            "_model_module": "@jupyter-widgets/base",
            "_model_module_version": "1.2.0",
            "_model_name": "LayoutModel",
            "_view_count": null,
            "_view_module": "@jupyter-widgets/base",
            "_view_module_version": "1.2.0",
            "_view_name": "LayoutView",
            "align_content": null,
            "align_items": null,
            "align_self": null,
            "border": null,
            "bottom": null,
            "display": null,
            "flex": null,
            "flex_flow": null,
            "grid_area": null,
            "grid_auto_columns": null,
            "grid_auto_flow": null,
            "grid_auto_rows": null,
            "grid_column": null,
            "grid_gap": null,
            "grid_row": null,
            "grid_template_areas": null,
            "grid_template_columns": null,
            "grid_template_rows": null,
            "height": null,
            "justify_content": null,
            "justify_items": null,
            "left": null,
            "margin": null,
            "max_height": null,
            "max_width": null,
            "min_height": null,
            "min_width": null,
            "object_fit": null,
            "object_position": null,
            "order": null,
            "overflow": null,
            "overflow_x": null,
            "overflow_y": null,
            "padding": null,
            "right": null,
            "top": null,
            "visibility": null,
            "width": null
          }
        },
        "28f5590e3a1b404faa096f64d12aad7b": {
          "model_module": "@jupyter-widgets/controls",
          "model_name": "DescriptionStyleModel",
          "model_module_version": "1.5.0",
          "state": {
            "_model_module": "@jupyter-widgets/controls",
            "_model_module_version": "1.5.0",
            "_model_name": "DescriptionStyleModel",
            "_view_count": null,
            "_view_module": "@jupyter-widgets/base",
            "_view_module_version": "1.2.0",
            "_view_name": "StyleView",
            "description_width": ""
          }
        },
        "1cfe7027f8714148a8a8ce638c8bcaca": {
          "model_module": "@jupyter-widgets/base",
          "model_name": "LayoutModel",
          "model_module_version": "1.2.0",
          "state": {
            "_model_module": "@jupyter-widgets/base",
            "_model_module_version": "1.2.0",
            "_model_name": "LayoutModel",
            "_view_count": null,
            "_view_module": "@jupyter-widgets/base",
            "_view_module_version": "1.2.0",
            "_view_name": "LayoutView",
            "align_content": null,
            "align_items": null,
            "align_self": null,
            "border": null,
            "bottom": null,
            "display": null,
            "flex": null,
            "flex_flow": null,
            "grid_area": null,
            "grid_auto_columns": null,
            "grid_auto_flow": null,
            "grid_auto_rows": null,
            "grid_column": null,
            "grid_gap": null,
            "grid_row": null,
            "grid_template_areas": null,
            "grid_template_columns": null,
            "grid_template_rows": null,
            "height": null,
            "justify_content": null,
            "justify_items": null,
            "left": null,
            "margin": null,
            "max_height": null,
            "max_width": null,
            "min_height": null,
            "min_width": null,
            "object_fit": null,
            "object_position": null,
            "order": null,
            "overflow": null,
            "overflow_x": null,
            "overflow_y": null,
            "padding": null,
            "right": null,
            "top": null,
            "visibility": null,
            "width": null
          }
        },
        "20b8fc2a0c7b4db3b27d7f1f4d58c7dc": {
          "model_module": "@jupyter-widgets/controls",
          "model_name": "ProgressStyleModel",
          "model_module_version": "1.5.0",
          "state": {
            "_model_module": "@jupyter-widgets/controls",
            "_model_module_version": "1.5.0",
            "_model_name": "ProgressStyleModel",
            "_view_count": null,
            "_view_module": "@jupyter-widgets/base",
            "_view_module_version": "1.2.0",
            "_view_name": "StyleView",
            "bar_color": null,
            "description_width": ""
          }
        },
        "cbf432dea4dd453d8785ffd502f1f1ea": {
          "model_module": "@jupyter-widgets/base",
          "model_name": "LayoutModel",
          "model_module_version": "1.2.0",
          "state": {
            "_model_module": "@jupyter-widgets/base",
            "_model_module_version": "1.2.0",
            "_model_name": "LayoutModel",
            "_view_count": null,
            "_view_module": "@jupyter-widgets/base",
            "_view_module_version": "1.2.0",
            "_view_name": "LayoutView",
            "align_content": null,
            "align_items": null,
            "align_self": null,
            "border": null,
            "bottom": null,
            "display": null,
            "flex": null,
            "flex_flow": null,
            "grid_area": null,
            "grid_auto_columns": null,
            "grid_auto_flow": null,
            "grid_auto_rows": null,
            "grid_column": null,
            "grid_gap": null,
            "grid_row": null,
            "grid_template_areas": null,
            "grid_template_columns": null,
            "grid_template_rows": null,
            "height": null,
            "justify_content": null,
            "justify_items": null,
            "left": null,
            "margin": null,
            "max_height": null,
            "max_width": null,
            "min_height": null,
            "min_width": null,
            "object_fit": null,
            "object_position": null,
            "order": null,
            "overflow": null,
            "overflow_x": null,
            "overflow_y": null,
            "padding": null,
            "right": null,
            "top": null,
            "visibility": null,
            "width": null
          }
        },
        "4b138c15818c4e5e9c2c4593bbfded7b": {
          "model_module": "@jupyter-widgets/controls",
          "model_name": "DescriptionStyleModel",
          "model_module_version": "1.5.0",
          "state": {
            "_model_module": "@jupyter-widgets/controls",
            "_model_module_version": "1.5.0",
            "_model_name": "DescriptionStyleModel",
            "_view_count": null,
            "_view_module": "@jupyter-widgets/base",
            "_view_module_version": "1.2.0",
            "_view_name": "StyleView",
            "description_width": ""
          }
        },
        "3a4692d324644a10a9ef25aac97d4c09": {
          "model_module": "@jupyter-widgets/controls",
          "model_name": "HBoxModel",
          "model_module_version": "1.5.0",
          "state": {
            "_dom_classes": [],
            "_model_module": "@jupyter-widgets/controls",
            "_model_module_version": "1.5.0",
            "_model_name": "HBoxModel",
            "_view_count": null,
            "_view_module": "@jupyter-widgets/controls",
            "_view_module_version": "1.5.0",
            "_view_name": "HBoxView",
            "box_style": "",
            "children": [
              "IPY_MODEL_5224247792694f85a14d17103e9acdda",
              "IPY_MODEL_9974025bc1834b79993dc7809d0e1b49",
              "IPY_MODEL_113cf950f5614cde97c1131858421cd6"
            ],
            "layout": "IPY_MODEL_9c3c2cab5fa34fea97c015a5c8544ea4"
          }
        },
        "5224247792694f85a14d17103e9acdda": {
          "model_module": "@jupyter-widgets/controls",
          "model_name": "HTMLModel",
          "model_module_version": "1.5.0",
          "state": {
            "_dom_classes": [],
            "_model_module": "@jupyter-widgets/controls",
            "_model_module_version": "1.5.0",
            "_model_name": "HTMLModel",
            "_view_count": null,
            "_view_module": "@jupyter-widgets/controls",
            "_view_module_version": "1.5.0",
            "_view_name": "HTMLView",
            "description": "",
            "description_tooltip": null,
            "layout": "IPY_MODEL_da029b69378e41188017e53937687806",
            "placeholder": "​",
            "style": "IPY_MODEL_b46bd3f5c45a4f4d8128d886f34bcb00",
            "value": "Creating json from Arrow format: 100%"
          }
        },
        "9974025bc1834b79993dc7809d0e1b49": {
          "model_module": "@jupyter-widgets/controls",
          "model_name": "FloatProgressModel",
          "model_module_version": "1.5.0",
          "state": {
            "_dom_classes": [],
            "_model_module": "@jupyter-widgets/controls",
            "_model_module_version": "1.5.0",
            "_model_name": "FloatProgressModel",
            "_view_count": null,
            "_view_module": "@jupyter-widgets/controls",
            "_view_module_version": "1.5.0",
            "_view_name": "ProgressView",
            "bar_style": "success",
            "description": "",
            "description_tooltip": null,
            "layout": "IPY_MODEL_71af890cb46a446d8a4e27d422a2e6a9",
            "max": 6,
            "min": 0,
            "orientation": "horizontal",
            "style": "IPY_MODEL_eccec89aa3df42baa0c638cce2b9ccf9",
            "value": 6
          }
        },
        "113cf950f5614cde97c1131858421cd6": {
          "model_module": "@jupyter-widgets/controls",
          "model_name": "HTMLModel",
          "model_module_version": "1.5.0",
          "state": {
            "_dom_classes": [],
            "_model_module": "@jupyter-widgets/controls",
            "_model_module_version": "1.5.0",
            "_model_name": "HTMLModel",
            "_view_count": null,
            "_view_module": "@jupyter-widgets/controls",
            "_view_module_version": "1.5.0",
            "_view_name": "HTMLView",
            "description": "",
            "description_tooltip": null,
            "layout": "IPY_MODEL_fbb1ed5c24d943a5ad15d4d43708cf77",
            "placeholder": "​",
            "style": "IPY_MODEL_1ee91c5776e541948b9546c49d7cdadd",
            "value": " 6/6 [00:00&lt;00:00, 34.52ba/s]"
          }
        },
        "9c3c2cab5fa34fea97c015a5c8544ea4": {
          "model_module": "@jupyter-widgets/base",
          "model_name": "LayoutModel",
          "model_module_version": "1.2.0",
          "state": {
            "_model_module": "@jupyter-widgets/base",
            "_model_module_version": "1.2.0",
            "_model_name": "LayoutModel",
            "_view_count": null,
            "_view_module": "@jupyter-widgets/base",
            "_view_module_version": "1.2.0",
            "_view_name": "LayoutView",
            "align_content": null,
            "align_items": null,
            "align_self": null,
            "border": null,
            "bottom": null,
            "display": null,
            "flex": null,
            "flex_flow": null,
            "grid_area": null,
            "grid_auto_columns": null,
            "grid_auto_flow": null,
            "grid_auto_rows": null,
            "grid_column": null,
            "grid_gap": null,
            "grid_row": null,
            "grid_template_areas": null,
            "grid_template_columns": null,
            "grid_template_rows": null,
            "height": null,
            "justify_content": null,
            "justify_items": null,
            "left": null,
            "margin": null,
            "max_height": null,
            "max_width": null,
            "min_height": null,
            "min_width": null,
            "object_fit": null,
            "object_position": null,
            "order": null,
            "overflow": null,
            "overflow_x": null,
            "overflow_y": null,
            "padding": null,
            "right": null,
            "top": null,
            "visibility": null,
            "width": null
          }
        },
        "da029b69378e41188017e53937687806": {
          "model_module": "@jupyter-widgets/base",
          "model_name": "LayoutModel",
          "model_module_version": "1.2.0",
          "state": {
            "_model_module": "@jupyter-widgets/base",
            "_model_module_version": "1.2.0",
            "_model_name": "LayoutModel",
            "_view_count": null,
            "_view_module": "@jupyter-widgets/base",
            "_view_module_version": "1.2.0",
            "_view_name": "LayoutView",
            "align_content": null,
            "align_items": null,
            "align_self": null,
            "border": null,
            "bottom": null,
            "display": null,
            "flex": null,
            "flex_flow": null,
            "grid_area": null,
            "grid_auto_columns": null,
            "grid_auto_flow": null,
            "grid_auto_rows": null,
            "grid_column": null,
            "grid_gap": null,
            "grid_row": null,
            "grid_template_areas": null,
            "grid_template_columns": null,
            "grid_template_rows": null,
            "height": null,
            "justify_content": null,
            "justify_items": null,
            "left": null,
            "margin": null,
            "max_height": null,
            "max_width": null,
            "min_height": null,
            "min_width": null,
            "object_fit": null,
            "object_position": null,
            "order": null,
            "overflow": null,
            "overflow_x": null,
            "overflow_y": null,
            "padding": null,
            "right": null,
            "top": null,
            "visibility": null,
            "width": null
          }
        },
        "b46bd3f5c45a4f4d8128d886f34bcb00": {
          "model_module": "@jupyter-widgets/controls",
          "model_name": "DescriptionStyleModel",
          "model_module_version": "1.5.0",
          "state": {
            "_model_module": "@jupyter-widgets/controls",
            "_model_module_version": "1.5.0",
            "_model_name": "DescriptionStyleModel",
            "_view_count": null,
            "_view_module": "@jupyter-widgets/base",
            "_view_module_version": "1.2.0",
            "_view_name": "StyleView",
            "description_width": ""
          }
        },
        "71af890cb46a446d8a4e27d422a2e6a9": {
          "model_module": "@jupyter-widgets/base",
          "model_name": "LayoutModel",
          "model_module_version": "1.2.0",
          "state": {
            "_model_module": "@jupyter-widgets/base",
            "_model_module_version": "1.2.0",
            "_model_name": "LayoutModel",
            "_view_count": null,
            "_view_module": "@jupyter-widgets/base",
            "_view_module_version": "1.2.0",
            "_view_name": "LayoutView",
            "align_content": null,
            "align_items": null,
            "align_self": null,
            "border": null,
            "bottom": null,
            "display": null,
            "flex": null,
            "flex_flow": null,
            "grid_area": null,
            "grid_auto_columns": null,
            "grid_auto_flow": null,
            "grid_auto_rows": null,
            "grid_column": null,
            "grid_gap": null,
            "grid_row": null,
            "grid_template_areas": null,
            "grid_template_columns": null,
            "grid_template_rows": null,
            "height": null,
            "justify_content": null,
            "justify_items": null,
            "left": null,
            "margin": null,
            "max_height": null,
            "max_width": null,
            "min_height": null,
            "min_width": null,
            "object_fit": null,
            "object_position": null,
            "order": null,
            "overflow": null,
            "overflow_x": null,
            "overflow_y": null,
            "padding": null,
            "right": null,
            "top": null,
            "visibility": null,
            "width": null
          }
        },
        "eccec89aa3df42baa0c638cce2b9ccf9": {
          "model_module": "@jupyter-widgets/controls",
          "model_name": "ProgressStyleModel",
          "model_module_version": "1.5.0",
          "state": {
            "_model_module": "@jupyter-widgets/controls",
            "_model_module_version": "1.5.0",
            "_model_name": "ProgressStyleModel",
            "_view_count": null,
            "_view_module": "@jupyter-widgets/base",
            "_view_module_version": "1.2.0",
            "_view_name": "StyleView",
            "bar_color": null,
            "description_width": ""
          }
        },
        "fbb1ed5c24d943a5ad15d4d43708cf77": {
          "model_module": "@jupyter-widgets/base",
          "model_name": "LayoutModel",
          "model_module_version": "1.2.0",
          "state": {
            "_model_module": "@jupyter-widgets/base",
            "_model_module_version": "1.2.0",
            "_model_name": "LayoutModel",
            "_view_count": null,
            "_view_module": "@jupyter-widgets/base",
            "_view_module_version": "1.2.0",
            "_view_name": "LayoutView",
            "align_content": null,
            "align_items": null,
            "align_self": null,
            "border": null,
            "bottom": null,
            "display": null,
            "flex": null,
            "flex_flow": null,
            "grid_area": null,
            "grid_auto_columns": null,
            "grid_auto_flow": null,
            "grid_auto_rows": null,
            "grid_column": null,
            "grid_gap": null,
            "grid_row": null,
            "grid_template_areas": null,
            "grid_template_columns": null,
            "grid_template_rows": null,
            "height": null,
            "justify_content": null,
            "justify_items": null,
            "left": null,
            "margin": null,
            "max_height": null,
            "max_width": null,
            "min_height": null,
            "min_width": null,
            "object_fit": null,
            "object_position": null,
            "order": null,
            "overflow": null,
            "overflow_x": null,
            "overflow_y": null,
            "padding": null,
            "right": null,
            "top": null,
            "visibility": null,
            "width": null
          }
        },
        "1ee91c5776e541948b9546c49d7cdadd": {
          "model_module": "@jupyter-widgets/controls",
          "model_name": "DescriptionStyleModel",
          "model_module_version": "1.5.0",
          "state": {
            "_model_module": "@jupyter-widgets/controls",
            "_model_module_version": "1.5.0",
            "_model_name": "DescriptionStyleModel",
            "_view_count": null,
            "_view_module": "@jupyter-widgets/base",
            "_view_module_version": "1.2.0",
            "_view_name": "StyleView",
            "description_width": ""
          }
        }
      }
    }
  },
  "cells": [
    {
      "cell_type": "markdown",
      "metadata": {
        "id": "view-in-github",
        "colab_type": "text"
      },
      "source": [
        "<a href=\"https://colab.research.google.com/github/plaban1981/RAG_LLAMA_INDEX/blob/main/Finetuning_RAG_With_LLAMA2_And_Hosting_with_gradient.ipynb\" target=\"_parent\"><img src=\"https://colab.research.google.com/assets/colab-badge.svg\" alt=\"Open In Colab\"/></a>"
      ]
    },
    {
      "cell_type": "markdown",
      "source": [
        "## Install required depedencies"
      ],
      "metadata": {
        "id": "lRuOpFbqjTiB"
      }
    },
    {
      "cell_type": "code",
      "execution_count": 1,
      "metadata": {
        "colab": {
          "base_uri": "https://localhost:8080/"
        },
        "id": "v_WyVXQVjHao",
        "outputId": "f5c985fb-88a6-4504-d311-c6581e58bc6a"
      },
      "outputs": [
        {
          "output_type": "stream",
          "name": "stdout",
          "text": [
            "\u001b[2K     \u001b[90m━━━━━━━━━━━━━━━━━━━━━━━━━━━━━━━━━━━━━━━━\u001b[0m \u001b[32m15.7/15.7 MB\u001b[0m \u001b[31m78.1 MB/s\u001b[0m eta \u001b[36m0:00:00\u001b[0m\n",
            "\u001b[2K     \u001b[90m━━━━━━━━━━━━━━━━━━━━━━━━━━━━━━━━━━━━━━━━\u001b[0m \u001b[32m143.0/143.0 kB\u001b[0m \u001b[31m17.3 MB/s\u001b[0m eta \u001b[36m0:00:00\u001b[0m\n",
            "\u001b[2K     \u001b[90m━━━━━━━━━━━━━━━━━━━━━━━━━━━━━━━━━━━━━━━━\u001b[0m \u001b[32m75.9/75.9 kB\u001b[0m \u001b[31m9.8 MB/s\u001b[0m eta \u001b[36m0:00:00\u001b[0m\n",
            "\u001b[2K     \u001b[90m━━━━━━━━━━━━━━━━━━━━━━━━━━━━━━━━━━━━━━━━\u001b[0m \u001b[32m225.4/225.4 kB\u001b[0m \u001b[31m26.9 MB/s\u001b[0m eta \u001b[36m0:00:00\u001b[0m\n",
            "\u001b[2K     \u001b[90m━━━━━━━━━━━━━━━━━━━━━━━━━━━━━━━━━━━━━━━━\u001b[0m \u001b[32m2.0/2.0 MB\u001b[0m \u001b[31m74.0 MB/s\u001b[0m eta \u001b[36m0:00:00\u001b[0m\n",
            "\u001b[2K     \u001b[90m━━━━━━━━━━━━━━━━━━━━━━━━━━━━━━━━━━━━━━━━\u001b[0m \u001b[32m76.9/76.9 kB\u001b[0m \u001b[31m10.4 MB/s\u001b[0m eta \u001b[36m0:00:00\u001b[0m\n",
            "\u001b[2K     \u001b[90m━━━━━━━━━━━━━━━━━━━━━━━━━━━━━━━━━━━━━━━━\u001b[0m \u001b[32m58.3/58.3 kB\u001b[0m \u001b[31m7.4 MB/s\u001b[0m eta \u001b[36m0:00:00\u001b[0m\n",
            "\u001b[2K     \u001b[90m━━━━━━━━━━━━━━━━━━━━━━━━━━━━━━━━━━━━━━━━\u001b[0m \u001b[32m49.4/49.4 kB\u001b[0m \u001b[31m6.3 MB/s\u001b[0m eta \u001b[36m0:00:00\u001b[0m\n",
            "\u001b[?25h\u001b[31mERROR: pip's dependency resolver does not currently take into account all the packages that are installed. This behaviour is the source of the following dependency conflicts.\n",
            "llmx 0.0.15a0 requires cohere, which is not installed.\n",
            "tensorflow-probability 0.22.0 requires typing-extensions<4.6.0, but you have typing-extensions 4.9.0 which is incompatible.\u001b[0m\u001b[31m\n",
            "\u001b[0m"
          ]
        }
      ],
      "source": [
        "!pip install llama-index -qU"
      ]
    },
    {
      "cell_type": "code",
      "source": [
        "!pip install langchain -qU"
      ],
      "metadata": {
        "colab": {
          "base_uri": "https://localhost:8080/"
        },
        "id": "UC-v41BnkKvN",
        "outputId": "b38ecad1-701d-49eb-ff74-d3483330e3b0"
      },
      "execution_count": 2,
      "outputs": [
        {
          "output_type": "stream",
          "name": "stdout",
          "text": [
            "\u001b[2K     \u001b[90m━━━━━━━━━━━━━━━━━━━━━━━━━━━━━━━━━━━━━━━━\u001b[0m \u001b[32m794.4/794.4 kB\u001b[0m \u001b[31m10.4 MB/s\u001b[0m eta \u001b[36m0:00:00\u001b[0m\n",
            "\u001b[2K     \u001b[90m━━━━━━━━━━━━━━━━━━━━━━━━━━━━━━━━━━━━━━━━\u001b[0m \u001b[32m1.5/1.5 MB\u001b[0m \u001b[31m65.6 MB/s\u001b[0m eta \u001b[36m0:00:00\u001b[0m\n",
            "\u001b[2K     \u001b[90m━━━━━━━━━━━━━━━━━━━━━━━━━━━━━━━━━━━━━━━━\u001b[0m \u001b[32m191.5/191.5 kB\u001b[0m \u001b[31m21.7 MB/s\u001b[0m eta \u001b[36m0:00:00\u001b[0m\n",
            "\u001b[2K     \u001b[90m━━━━━━━━━━━━━━━━━━━━━━━━━━━━━━━━━━━━━━━━\u001b[0m \u001b[32m46.3/46.3 kB\u001b[0m \u001b[31m5.7 MB/s\u001b[0m eta \u001b[36m0:00:00\u001b[0m\n",
            "\u001b[?25h"
          ]
        }
      ]
    },
    {
      "cell_type": "code",
      "source": [
        "!pip install openai -qU"
      ],
      "metadata": {
        "id": "5deRiyOQjlXX"
      },
      "execution_count": 3,
      "outputs": []
    },
    {
      "cell_type": "code",
      "source": [
        "!pip install gradientai -qU"
      ],
      "metadata": {
        "colab": {
          "base_uri": "https://localhost:8080/"
        },
        "id": "7VeS_FXmkaNE",
        "outputId": "371eda81-412c-4c6f-9254-9aa5214f1bf5"
      },
      "execution_count": 5,
      "outputs": [
        {
          "output_type": "stream",
          "name": "stdout",
          "text": [
            "\u001b[2K     \u001b[90m━━━━━━━━━━━━━━━━━━━━━━━━━━━━━━━━━━━━━━━━\u001b[0m \u001b[32m171.1/171.1 kB\u001b[0m \u001b[31m3.6 MB/s\u001b[0m eta \u001b[36m0:00:00\u001b[0m\n",
            "\u001b[2K     \u001b[90m━━━━━━━━━━━━━━━━━━━━━━━━━━━━━━━━━━━━━━━━\u001b[0m \u001b[32m137.6/137.6 kB\u001b[0m \u001b[31m14.9 MB/s\u001b[0m eta \u001b[36m0:00:00\u001b[0m\n",
            "\u001b[?25h"
          ]
        }
      ]
    },
    {
      "cell_type": "code",
      "source": [
        "!pip install datasets -qU"
      ],
      "metadata": {
        "id": "VHe_kHpO5ix0",
        "outputId": "5e19bd1b-9474-4e8d-e9a0-ee2895e47532",
        "colab": {
          "base_uri": "https://localhost:8080/"
        }
      },
      "execution_count": 6,
      "outputs": [
        {
          "output_type": "stream",
          "name": "stdout",
          "text": [
            "\u001b[2K     \u001b[90m━━━━━━━━━━━━━━━━━━━━━━━━━━━━━━━━━━━━━━━━\u001b[0m \u001b[32m521.2/521.2 kB\u001b[0m \u001b[31m7.1 MB/s\u001b[0m eta \u001b[36m0:00:00\u001b[0m\n",
            "\u001b[2K     \u001b[90m━━━━━━━━━━━━━━━━━━━━━━━━━━━━━━━━━━━━━━━━\u001b[0m \u001b[32m115.3/115.3 kB\u001b[0m \u001b[31m13.4 MB/s\u001b[0m eta \u001b[36m0:00:00\u001b[0m\n",
            "\u001b[2K     \u001b[90m━━━━━━━━━━━━━━━━━━━━━━━━━━━━━━━━━━━━━━━━\u001b[0m \u001b[32m134.8/134.8 kB\u001b[0m \u001b[31m17.1 MB/s\u001b[0m eta \u001b[36m0:00:00\u001b[0m\n",
            "\u001b[?25h"
          ]
        }
      ]
    },
    {
      "cell_type": "markdown",
      "source": [
        "## Gradient Model Setup"
      ],
      "metadata": {
        "id": "2MQKoOdamvsA"
      }
    },
    {
      "cell_type": "markdown",
      "source": [
        "![image.png](data:image/png;base64,iVBORw0KGgoAAAANSUhEUgAABCkAAAMSCAYAAABH7J6HAAAAAXNSR0IArs4c6QAAAARnQU1BAACxjwv8YQUAAAAJcEhZcwAAEnQAABJ0Ad5mH3gAAABjaVRYdFNuaXBNZXRhZGF0YQAAAAAAeyJjbGlwUG9pbnRzIjpbeyJ4IjowLCJ5IjowfSx7IngiOjEwNjUsInkiOjB9LHsieCI6MTA2NSwieSI6Nzg2fSx7IngiOjAsInkiOjc4Nn1dffrfKDQAAP82SURBVHhe7N0J/F3D/f/xiSWJLbFGggqa2qmdSlpFakuVIj9L1FJq698SXSJaFdWKtIilgtpV0MZaDaqxVdLagiIEKWJLJEI2JKHy/77nez/fzHe+59x77vb9nm/yeuZxH9/cc889Z87MnDkzc+bM7TB94qiFDgAAAAAAoI0tVfgLAAAAAADQpuikAAAAAAAAuUAnBQAAAAAAyAU6KQAAAAAAQC7QSQEAAAAAAHKBTgoAAAAAAJALdFIAAAAAAIBcoJMCAAAAAADkAp0UAAAAAAAgF+ikAAAAAAAAuUAnBQAAAAAAyAU6KQAAAAAAQC7QSQEAAAAAAHKBTgoAAAAAAJALdFIAAAAAAIBcoJMCAAAAAADkAp0UAAAAAAAgF+ikaMdmz5rjzjx9mHv4wXGFJaiFkdff5S793XVuwfwFhSVYHLR2ump/Oj91npaypOW5eh3vyy+86vbsPcC/tI8lFfEAAADaM99JYRWatMbuu29PcSceeSaN4TakuM9DI2b+25Pde+ec6d4ZfHqz1wdXXua+nDffrzP7oQf9Olo3idbT+uF32kIe4lRxVSwu/zd7lpty/rkt1tFLy/V5zL4z49abCksWsf2Vivu85LfFjcrarB0XaMk6ZhWPMS0beOKv3fArfuX+Pm6kG3D09wuftD8673T+6bqr6285Fqd4aE8oMwEAqB3fSbHplhu5I449yI0aOTqxQvTYQ0+4TTbr5frssn1hCVrblPemFf7XNqxj4cPrr3KrH328+8rQi5peaw0+2y3TtWthzfajLePU4vOz1191a589tCku9f9OX+lZWGuR5bfcqlmc67XC9ju694eek7mz57OX/uNmjXnAde27l1vzhJPdUp07FT5pqa3z2+JAjcPzLhrkunRdqbDEualTPyz8D5WYPWuu+3hGy445Udxuu+OWbp2eaxWWtF+TXn3TvTJhkltl1S7utYlvFJZmszjFQ3tCmQkAQO00Pe6xy+47+b/qkAjprsxN19zu+u7V23Xs1LGwFEsSNYCn3/BH//8eg852ndZt3oheuktXt9qhRxRt9KK5ueMec198MMWtvM/3msWb/r9yv+bL0nTZfQ/fQfTlzJnu47v+XFiaTKNaPrrjz76zQ98DkF/PjX/Z9fn29q7v3t90Lz3/KnfnAQDAEqWpk2KddXv4SpE6JGworYbW3nzD3a7ffru7Xhut75eJnnG15131Shq+nPbMsbat79g+Son3FW7TthW+4u1qCKbCN33aR/67tl6WIdc25DbpmV5tNx6Ka4/F2D6Shurqe/a5XqWeF7ZtKl1G3/OQ23e3o/334uOM4yJpu3Y84XpZ0iGtQd1aksId5gOxYeCKX4vjtDTOGqezZs3127B9pm2v3DQ1S3Vazi2z8sqFd5VRB9HK3/2em/faxNTHa7RcI2A6b7ix70wqJkvcZEmPmH0nLd3iOLNwhPuN87hecZqF39M2S4XN0i5tHdtnvB99T/vR/kLap20r/L8d57BzRrjxT77g+u9zgt+uthPKmueS2LHbd5O2nxSvojAqrGE86Lva/7vvTG0KU7y9kB2vwqu/FoakeEpicR2+wnBq+8cc+lP3xqTJ/nEGfa79vNnwXvsI4zbep+UFeyXFa9rxWtrp/3rZNsJ9hNtP2nY59N0JL77mtt52U7fhxhv4ERUaWVGKpW1aPFgaWzj1svhNSn+xY9fxhWxfcT6K2ffDfcZ5qFS6S7i/MA2S1jVxmsfHFu83/jzcZ7xuGB+2XlqZmRQH9pltN44TAACWdM0mztz3gL5+mOiYB8b5i/UzDRUdVXZsFIVdbGdM/9jd+/D1/nlXvTbbYkM36JShTZWhWkjb13bf+HrT5wrnqPuubPps0NknucsuvLFFODQ8+OrLR7oDDtnbr6ftde++hju/oTKn7dSCKhuqQJ/8kyObwvODYw8sfNpIFZsxD4xtCrP+qjIaV45C6jy64sbz/OM46iyyuNAjOuaJcc/6uLDP9CyyKkxhxUfHOWTwcLfaGqs0hU/rqbJfrIKkURR6JEEN3HgERWtQWp563JBm4dZxio4nTj/FhYbdar14qL3JEqdTp0xzw4f+0Z102hH+M6WV3HDVqGZpVUmayrJrrum+mPWx++TpJwtLKtdx3fV8h8f8hnSKaX6Kj265yS2zZg+3yvcPLixNVypuyk0Po/Jj8602clOnTnfzgkdTbPi+4iz8roa4r7Ja16Yh64pnndvX3npB036L5d+773jQ9Vi7m1/vlJ//MHEUmM5ZNehUbqSto/2rTIwf01AeU2M5HIqv8Os4dJzxtpQPlR+1L23P8stue/QurJE9zyVRHMTlj+JKj/CFDapyKW1uumZUU5jC8CbRMZw/5PKmslYvdX7/9qzLil4fFHelynM9PqNj2qBXz6b5FpRu6ze8V54N41bvlZe13XKuWcWOV3lFtFzb0iOQIy6+yZ/rlte0XNeWLGmWRtddUd7rtuZqfj8aWVGKnbtp8VCs/K/2/Eyi80sdJX336tO0T4Vp5VUWPRpYyXkttq6OVetao1/S0tzqDqJth/stVoZpn4p/246+M/bRp5vOq2JlpvKX8lkYBzo+AABQXLNOClWkdTHV3YAxf29oeDVUcHXhtQbKvXeO8X+POr5/s0p4/8P6+YrUnbfdX3HFLKZ9qbJ3wqmHN9vXzt/c1r9XWFVBDRuh2zVUzFRxip/hVWNip97b+MqE6PvqeFEHzLuT3/fLqqVKTDziRGG1faoSpYqNKr8WZv09/Kj9/Z2yaR/M8MsqMXfOp83SRGFQWMJhwhafSiujdFX6FhtOvHDBPP84wbLduheWtB6FSXlKeSsMt45TxyuWJ43iQp1t1Rr/1Ivu8IZGkaWfnRthWlWTpstt/nX/6IXmiCg2yWgWHTp2dkutvLL7fNrUwpJGX86f7z685Sb/2RpHHVf1KJhK0iOku8Jq8ITnnM5VbU/C5eoEUENS8al4VqebGuCWHqL8q0ZK0lw6K66wQtE5dLS+GinK/8Ua3tq/whGeI2rEvP3Wez4Omi+f23DCLPTHWYkseS6JjkVxoLiwslq0HcWZ4i5sxJUjLjtLiY9BslwfdKxZy/NylHvNKna8KlMtT2lb6ohRfpZwua4tlZbpCovylNJdcWHbUzkT5/FyZCn/Kz0/k+gc0ShM5cnw/NL622y/uf9/Lc5r5RF1yISdOHasaXUHO1/C/YbpGdcJtM8w3vSdrOeVdeYonEbHZ+ep/qrjolTnHwAAS5pmnRRiF/1Lhl3r39tcFap06G6KVZ5CusAn3YWplO0r6Y5kMZ0bGmGqnMQTWOnOW9xw6LJyF7+8VhPZ6U5asYqpKlGq7OnOWEh3oqqtiMeVRcWZ7phZehSLTw0pLhbuL2bObGjsfubv/Lc2hUlhS5oPRcer49bdsrCRUaziXA6dA/Fdwu7dV/eNmNkzZ/v31aapHr3oduKp/v/Trrik6s6K2LxXX3ELJr/plvvaRjV5TKeS9AjFd4WtQdZn1x38eWvnouVX5U1J6gA0dl5bmphiZcc7DY0U3dnXHf4sv3wQnyNqxKywwvJumx00wmJRmaf07t6jW4v8kFWWPJckqSFktD1tt9JyLqnsLCbpGJQOlVwf0srzrCq5ZhU7XpWpYZ7q0nVFH+9xXtO1RYqlWRqbMDMMQ9byJE3W8r/S8zOJzhE1+IvlnVqc15ZHrNwpdqzGzpc4n8bHb5K2lfW80vlby5shAAAsKVp0Uqgyp0qdqBJvdxps2Kcuukm0XJ/7u4lV0gVdF/a0fYV0J8Oe89SzoBoFElOFRBXKkFUwa8Xu+mnIdfgcsKjypEpU+LyqvTQcVsdaDXWQxMJllnYarhzuWy8Nlc3i8w8+KPyv9VgF1Sr9MR1j3MhIiotKqOKrCnDIOrakVmmqR2jWPvs8PwGmHtlQZ4V+JrQcNtolppEaNlpDv+xRrUrSI6SKvhp61qBQw0iPB6hxoIaA3dG1Bo72Y/EcNxCNncdxYyGt7ND+LvjNVb4xEt4dLSZudKoRo/D02rAxLyi8CqfCnxbOLErluTRqxCd9V6pt6CeVncWkhUOyXB+ylOdZVXLNKna8tSpbilHeijs+rQPQzo9yZS3/Kzk/0+g4isVlrc5rC7PJUnfQuaB1VE6HcZGW30ptqxgb1ah41j4qHdEEAMCSpkUnheguhirGxe6U1Jv2X6wSpE4AdQZoSKk9x6xnQVUhaAuqSOqZcz2vKuqsiOcl0NBaey41frXGcE97jjt+2XPLSTSxoxrP8aMEaFSrNNUEmD3OOMt3KswZ+2hZIypstMvyWyx65tpotIa2+eHIG2vSUVGt8M6tGv028kANAevgUMMkbqjVyscfzfY/6xiOjChF4bA7rNa40nFYB4DC2xju6W1aZuZdsUZr3srztmCjAJI6PvVogZZnmUAzTZbyv5bnZ7EOq3oqVXcQ5atwvorwlWV0lSnVcaVOFD3GpDytkRfqrNB8GUprAACQLrGTIknanQ2j5XEltNhd1WLiO5dJ9FOpqigNGTrQdxDUk91ZykKVPVX6VCFUpXLsY0+3uEPV2kqlXTFqPHfs2dMtmDzZT8LYmkrlg2J3kOutXmm6Yu9d/N8vZ7ccGZFGE2aqI0kTaCbRhJkde67vf4K0msdJapEeNnRd21Cj34ZS29DrSa9N9ndsbXmpeC51tzymMuOMIT/2fzXpYZbGgsKg8CgMelTkk08+9eG15Qqvwi3xEPLWUGwEi3WexI2pSsqCLNLCUSpv1KM8r+Sa1ZY0YabycjiJpL2skatzplzllP/lnp9pyh1VFSv3vDZZ6g6lwhZLirdywxfexND3is3dAwAAyuqkaBxyql8yiCv2qmSo4hLOB6CKgC7G4VBayVJRsjuX9isjMS1T5UaVnLCipLs/ugtUK1aRSqrQlBrmqUqdKpW2nu5QVXsnrJyKVahY2mWxcr/9/N+Zo+/xf1tLsXxgdx1LVZZLqTROpZo0nTfpNf/LKdXS6Ag9zqGfIVWHUhLNR7H6YUf4jgz90kfWzqY4bmqRHjb6QNvQ5JP27Lnl0bf++47fb1j5LxbPac+XF6Mw2ESfWX/hR+FR2fLIg+Pcuuut3VTOKfzqtFC4s3aYJZWL1VAYtE37VYiQDc1fFM+NDda4/FI6K96rpWH02mfI8kZcXptKyvMs15Fyr1ltycKj8ytphIIdi+IxS34NFYuHWCXnZ5JiedLU+ryWUnUHyRK2kNIl3pbNDxKP2Ch1PbHwpXXOAACARpk7KcR+NSH+ebVRt4z2F+fwVxVsjgbdITN6HtN+xq0YVVQ107YqqNq20T7v++vD/v+q0IYznqvypTujmmSuljRxaFyh0c+XafhtSLPEh/NQWOPAJh61Z1PDn9QThVs/ZVaqwqIKnbZXaePGjiNOO6VJ0k+9hdT4XbWhkTvvtYluyvnntmjk6u789BuurkmjO1QsH+g4VJku9gsOpVQbp9Wk6YLJb7kpw85pNrIh/LnQTr02LixNN+PWm/xjHKsPONL/WkgxloZ6LGTaiEtLdlQkxU0t0kPbUEeGGidz5nzS0PhZdBdbHZtXXXaz/3/YOLFfIYjj2coT/ZpKuQ1Nra9fZUk6J5IoPCrPdNzhqASFX8ehcGfpMLNGX7E7veXS6K3+A/r5uAifeVdcKc70mQ3n13FrzqGw7LT0q3ZuHBOmk21b0n51R3GWtTy3Rl6pTmJTzjWrXnQsGuJf7GeJrUOmWB5KuhZllbX8r+T8TFIsT/7r8fH+//U4rxX+YnUH/VXYNN9WHDZ9pnJb6RVSXITbsvCF55UklZmK23Afls42+bA+0+M8pa7BAAAsacrqpFCFQcNxJXxmVncF4mG61ghQxdPW092NoRcPLqxRnC7+wy4d7O8c2fe1T1UCdHG3n5DT3A/6TL9FfsyJh9T8GWaFQz83pkqJhUMVZP1EWuizz+Y1hUUvVbx+ce7JTZUYhVnPpqpyFK6nybtUudHnxahCF343rPhkYfHpK+ZB2ukZ8KRfBYjZBI969OP9oee4dwaf3vTSZI9fzptXWLOR3mt5uJ5e5U4KmZYP1KhRfJaKt2KqjdNq0rTL7nu4lfp8u1kcKV5X2H5Ht+YJJ7f4NY5PX3i+WTzqpZ+F/crQi0p2UBil4aoHHuy+mPWxmzp8WNFHP9LiphbpoYa6nhuP72KnLRc9J65GQRjPOsc0fFphrYSd22qEnHrckGYNpZjCo3ApfNbRIGnL02ifOg6bSK9WjRPNf6JHzGy7eimudHzx3Ch6H6at0k+/4FCLslPb+Okvj/e/nmLbllKPcWQtz5W/1Ai160qxhr9on1mvWW3JOvOL5SHroEm6s19KOeV/JednkrQ8uXLQ8VGv87pY3UG0X13Dw7BpHXXExMemYxBbT9/Rsvi8Siszk87JSo8NAIAlRYfpE0ctLPwfAICK6C60Gv8nnHp4ps4qIM/UaanONjoVAABofXRSoKj3fv0L9+VnnxXe1UfX3fd0XfruWXi3+Jt62YXu8/ffK7xrO2ue9jPXcc3kX3UBykUnBRYndFIAANB26KQAAFSNTgosTuikAACg7ZQ1JwUAAAAAAEC9MJICAAAAAADkAiMpAAAAAABALtBJAQAAAAAAcoFOCgAAAAAAkAt0UgAAAAAAgFygkwIAAAAAAOQCnRQAAAAAACAX6KQAAAAAAAC5QCcFAAAAAADIBTopAAAAAABALtBJAQAAAAAAcoFOCgAAAAAAkAt0UgAAAAAAgFygkwIAAAAAAOQCnRQAAAAAACAX6KQAAAAAAAC5QCcFAAAAAADIBTopAAAAAABALtBJAQAAAAAAcoFOCgAAAAAAkAt0UgAAAAAAgFygkwIAAAAAAOQCnRQAAAAAACAX6KQAAAAAAAC5QCcFAAAAAADIBTopAAAAAABALtBJAQAAAAAAcoFOCgAAAAAAkAt0UgAAAAAAgFzIZSfFyy+86vbsPcBd+rvr3IL5CwpLs3n4wXH+uyOvv6uwBAAAAAAAtAdNnRSzZ81xZ54+zDfw9//Ose65ZyYUPmnpk7mfunN/eYlfVy91KgAAAAAAAFQjcSTFZ59+5v49drz7fMHnhSXNvfv2FPfyC68V3gEAAAAAAFSvRSfFSl1WdGusuap77ukX3XvvfVBYusiX//vSPfGv59xyy3V2G2/Wq7AUAAAAAACgOi06Kdbotprb87vfdm+/9b4b/8SLbuHChYVPGk37YIZ79qkX3Q69t3I911+nsHQRrf/G65Pd8POvdkcceKp/HOSko3/h7v7L3928efMLay3y1n/fcRee90d30N7H+/X9evOTR3Do+3+7a4w79biz/Xb195Ex/0od8WE0r8Xf7h7jfvbjc/33tK9Lhl3rPv5oVmENAAAAAADQ1hIf99hyq43dNttv7p595gU3Z9bcwtJGz4+f4KZN/dDt8I2t3f+++KKwtJE6KB576An381POa/j7pFtjzdXdtjts4ebPm++uuOQmd/6Qy93HHy/qGHj91Tf93BYPjn7Mdeu+ultn3R7u3rv+4f507R2FNRbR9y747VXumhG3ue49urkjjj3ILbPMMu78sy93d/7lAfe///2vsGZz6sC44Y+j3GW/v959udD57+3Zbxf31lvv+bk1AAAAAABAPiR2Uqy8yspu482/5ia88Lr776S3C0udmzPnE/fUv59zm2zey63ZY3X38cezC580+mDKh+6uvzzgll++sxty/kB3weW/dOcNP8Nddu25bq/v7er+/fh499g/nvCdGRoVcc/tD/r5LX544iHusmt+3bTuuuuvXdhiI9/50fC9xx9+0v3o/x3qBp19khtw9PfdL39zitth563cmPv/6d5p2E6S6dM/ci8894rb/OsbuzOG/Nh/70f/7zB3zrDTG46zS2EtAAAAAADQ1hI7KZZeeim3085bu+WW69RsAs1Jr77lnn16gh9FsdJKK/hloZdfes1NnDDJ7fqdnd2WW23iOnTo4Jcvv/xybs+9v+mWa/j74gsT3aeffOY+nPaR++9rk92WW2/i+u71zYZ9Lt20bt89e/v/G43mePrJ592mW2zottvx626ppRq3u8qqXd3Gm/byj6ZM/u+7fllM212247Ju+gcfujcnve2+1HCKBl26rOhWTDgGAAAAAADQNhI7KaTnBuu4bXfcsmkCTXVUqMOi5/pru6223aywVnNT3pvm/+q7Sy3dfNNdVu7ieqzVzX326Tz/aMbsmbPdG5Mmu7W+0t2tuNJyhbUaLb1U8+/Onj3XffThLPfyi681zXNhr5uuud2v878vkx/3WGONVd3ue/Zu2MYn7qyf/d4NPGGI+8f9/0ycHwMAAAAAALSd1E6Kzp07uZ36bNM0geZ77071HRbb7LCF67bmaoW1qrd0h6Vch4Z/Way73lru8GMO8I+HxK8ea3crrNWcOkv67b+7u/TqX7v9/29P9947U90Fv7mqxfwYAAAAAACgbaV2Usimm3/NT6A54cWJbtxjz7i5cz71j4HEoySMJr+UyW+863+qNKSRE1Pen+ZWWaWLW2bZZdyynTq6VVdb2X3wwXQ377Pmoxo+iua60GMiK660vFtmmWXdrn13dgcfvm+L1yabfa2wdkt67EQdHCeeeoS79tbfu+/s8y0/P8a//vlMYQ0AAAAAANDWinZSaM6H7XbcyndQ6LEKPf6hRznSfG3j9X1nwCP/+Jd74flXmn6+9NNPP3MPPTjOfdbwd4utNvHzTnRfq5ufgPOZJ15wT/77uaa5IjS6Ycz9j/v/G3VsbL7Vxv7xkLGPPd3sJ0f12IbCp58ZTTJ3zif+cRHTpetKbv0N1vX/n/9Z8ncAAAAAAEDrW/rn/+//hug/8xsa+eoA0KiGb+22o2/MawTC8isu51549mU3a+Yc1/+wfu5rG63vv2jrT3nvA7fXd3fxPzfadeWV3EpdVnT/fPgp9+iYJ3wHxGNj/u1G3TLaPfPkC27fA/q6Aw7Zx/90aKdOHZ36MMY/9aL750NPuGcb/j72UOO6a6/T3b3537fdhhtv4LbbaUs/8mLVVVf2P1mqDown//283++zT7/orrpspB+1ofWWXmbphu+948Y1hOvr22zqJ+Wc9sEMd+6Zl7jXJ77p3nrzXffw38e50fc85Dbota476NB+PswAAAAAAKDtFR1JIWuvvabbevst3Mab9XKbbr5hYWkydWp8u+833AWX/8LtuPPWbvKb7/pOiDW6rerO+u2p7viTD/dzXZhv7baTO2PISf7nQV+Z8LpbsOALd+JpP3D77LdrYY1FNELjl+ee6g44ZG83d/Zc35nx77HPNuxnK3fwD77nOnbqWFizuRVWXN59beP13H+ee9ldd8Vt/u8e+3zTnXnOyX6bAAAAAAAgHzpMnziq8TkLAAAAAACANlRyJAUAAAAAAEBroJMCAAAAAADkAp0UAAAAAAAgF+ikAAAAAAAAuUAnBQAAAAAAyAU6KQAAAAAAQC7QSQEAAAAAAHKBTgoAAAAAAJALdFIAAAAAAIBcoJMCAAAAAADkAp0UAAAAAAAgF+ikAAAAAAAAuUAnBQAAAAAAyAU6KQAAAAAAQC7QSQEAAAAAAHKBTgoAAAAAAJALdFIAAAAAAIBcoJMCAAAAAADkAp0UAAAAAAAgF+ikAAAAAAAAuUAnBQAAAAAAyAU6KQAAAAAAQC7QSQEAAAAAAHKBTgoAAAAAAJALdFIAAAAAAIBcoJMCAAAAAADkAp0UAAAAAAAgF+ikAAAAAAAAuUAnBQAAAAAAyAU6KQAAAAAAQC7QSQEAAAAAAHKBTgoAAAAAAJALdFKgZmbPmuPOPH2Ye/jBcYUl+TT/7cnuvXPOdJ+99J/CEpTy5bz57oMrL3Mzbr2psCQ7fUff1Taw+Bt5/V2+HFB5UCltY8/eA/zr5RdeLSxFa3r37SnuxCPPbBfx316uPXmyYP4Cd+nvrvPnWrkUz9We48UozynvKQ+KpW8lYa0H8hsA1F9uOynsApp2IbSLhNbRujFdPMKLHIpTpSBrpcPShgs02oI1ntIqrHmr0KI8SrcJL77mRt13pfv7uJFu0y03KnyCerDzhc4goCXVc9LqmQCA+sltJ0XHTh3d5ltt5D6eMauhEjW3sHSRdye/78Y/+YKbOnW6mxfdodXF5KXnX3WbbNbLdVtztcJSFDN16oeF/5Wm+Fa8A21hnXV7uP4D+rmbrrk9sWH1TEO5IPse0Nf/ResacPT33XkXDXJduq5UWJKdyu4Z0z92m22xYUXfR/l0fdV1FsgrlQUqU1S2tLYp700r/A8A0Jpy/bjHhhtv4P++NvEN/zf03PiX3bY7bOErV+qwCFkjerU1VvGdHQAWL9vtuKXbtuE15oFxze5waZTFqJGjXd+9+tDIBQAAANqhDtMnjlpY+H9NPPDXR9wdf77Pvf3W+27d9dZyBx68j9vre7sWPi2PGh9XXnKz//8Jpx7e1OGg4annnzPCbbfDlu6Zp17wd93CHnbdXR144q/d8Ct+1TRU2JaZfvvt3mybaWxfGrVhbLtqEP32rMvcyT85stmQ5KRwa8jgmAfGujPOPsnde+cYfxfYhOGUctY1GiIdrqcGnL4fNtRsuycNPNKNGH6jP6ZTf/ZDN/afzzQ7PhnU8N3d9uhdeLeItjGsIT5Cti9RXKmB2L376s3i+4hjD2qWRklhCfeZNb3i8MT7SaI5KT68/iq36oEH+/cfjrzR/5Xlt9zKrXboEYV3jTR3RbiOrD7gSLfc5l8vvGs0+6EH3awxDxTeOdex5/pujaOOc0t17uTf/2/2LDdtxKXui1kf+/dLde7sVj/6eNdp3Z7+fRrN6fDFrFmua9893YyRN7gv583zy7v23ct12X2PFuFLCptoO5++8HzhnXPLdF3FdTvpFLd0l66FJY00d8T0G/7oFkx+s7DEuVUPOsTNffrJhu90bRY/SevG+7fwh3FhaWDHkjUuQpb2lm/svFMHZZj347wk8XmkdS678Eb3i3NP9iM1jJ3/cRmTJs6P4Xlo5cUbkyYXPm15ntl5MfCMH7lbb7jbjb7nIb886XxOonJAIxH6fX93d8FvrvL70rF2WblL2WVVtWGw7YXlpEZshfETpkMcdxKe93FZvEGvns3Syz5X+SPaVhhmO1Y7Hkkre7Mee9L1ISlNw+PKUkaZcsr1StIr3r5YnE/7YEZquiVdH0qljyTFV9K5WO61Okx73dwIz7Ok72c5FyVOu3hbWfJUEkuz8Ponljfi8CWFTbLkD0kK59CLB7uxjzzlb+bE+bFUnrXwh/vKkrZJktK7z647uKv/cEtT/gnT1+IhLFd000rxEKZPlvwoSeFWfMf5yOiY1um5VrPwKB30iFpS3Bf7DACQrqYjKdRBMXzYNb6DQvRX77W8ErrQ6JGP+JEO//jHwoVuh5238o0HVYh1ETaqUOlirQuJ6IKqBsi1t17gn3G+9+Hr/fIhg4f7C1QaXQQHnTLUX4j0Pb10gaqURn2cP+Ryt/W2mzZtTxdDXaB1oQ5lXVfh1/PEigMdl62reFHYdQwhbfema0a5k047wq+3z/67+2GU2rbizJ4DT6oQiZZrHa2r72jdeGj3E+OebajAjGsKj+JMFQilQygOi+0za3rp4q+KkoVZf1UZyPr86Kx//N19+uJ/3FeGXuRf3U481c17bWKzySHVsTB77D/dWoPPblpPnQMf3fFn39A2+s4nDY14W2/ts4e6Tl9Z1ODWulOHD3MrbL9j03ZW6vNtN+2KSzJN4KlOgFlj/u56DGrcvsKgDhHtV+HT/tLCpmOYcv65vqPA1tOrY8+ePkzxuh9c/Dv/f1tXxzS7Ia7CjgixddVxYdtUB4U6TNRhk0bHq+NWJ5F9r2vfvQufZtdnl+19pVR5QPli0qtv+kq4zlfLj8ojYV6y/KjzKM6P1VB+U74L86NeBx3ar+nzB+59xFeSw3CoIZB07l99+Uh3wCF7+/WU/7t3X8NXiouVV2bqlGnuLzff64ZdOth/v1QjIUm1YUhy9x2NecKOPy7PdP5rP0pTNYq0zik//6G/DiSVxXrk55hDf9oi/lT+aIi21rGySWFW+aEGmX0/LR9kPXbtt/8+JzQLk9J+5VUWdfpVWkZpP+WW65WklxqeOjfUgFN86LsW50bpZvGpl9ItzrdZ0ifL9bTSa7VR2t952/3ukj8O8d9XfKv+oAa6xXfWczFOO4Wl18brFT5tTKOseSqJGsXqoFDj1b6r6+Q1l9/i/nTtHU3nb1LYyskfFk6xdXVMt986ulmnhakkz2ZJ2ySKJ8WX1rXvqc43+LShhTVKU/7ssXY3/91yywv9P+0cVmfGFTee58silUkWd0nlqeppSs94VK/iXnGn7dNBAQDlqWknhUZQJElbnoXuyMeFv3/8o0OHhkJ/RX9xeGXCJH/XR3QR1XwUuljroqCLlYZ/q7fdetB1EVNlThW7+KIS0n5WWa2rH1pudIGqpNIv6pHvu/c3m31fFXNdBG++4e5mlbCs62qkhRx1fP9mFcv+h/Xzc3KowhZWLLTdnXpv0+JuQi3NnfNps/D02mh9f5FXupQKS9b0UuVi7KNP+w4Ou/jr7+FH7d8sPxTTYbnl3CrfbxxNIbqLr4azOiqs4a5RBmuecHKz0QbqaFiq03Ju/uuNlR011hdMnuyX23oaMbByv+/5vxptMPO+v7rOG27sRz6YFXvv4kdbqKOkFI00WHmfxu2JfVdhDZfHYZOZo+/xf1c/7Iim9UTHvsyaPXzY7Jc3ktbVMa3q33f2743WXWrllZvFoUZQaDTKZw37T/s1Dx2vwt6p18aFJTqeb5Y1ikKUL/ru1duXD2PuH+vPC+UzdV6I8ogq/WFeEp1Tamgpn4WV+WqMfexp3xiK75Zts/3m/r3CeuyPD2sWDjsvdBcwFJ8X4XEWK6/M+KdedPsd+J1m4ShXtWFIsuIKKzSljdgjO/Hxx1RmqBzr8+3tmzoyxTqp4u+r/InnI1E5qUa7ykWjfKDytFS5lHTsKn+V35SPwjApzpXmUk0ZVW25Xov0Mkq3MN7idMuaPqWup9Vcq0187VF8K/4V3+rEFH1W6lxMalzqe/t8b7embZeTp9IoL9j27bujbhnd7PxNKifKyR9J61q8qHMqVGmeraSuZOmtcyhcz+o5WcXlStb8mOUczko3xJLKMuVZ5V17dBkAkF1NOylsBEUsbXkWceGvC1DYCaFhzGLzVugiqoupetbFLp42qsJoQk1dzOOLSiipg6QaqhAkXazU0aILWThBaJZ1kypSRpWRpFEoadutJUsbo7DoblOWsGRNL/3V+3hiVH1P37f8UMxyX9uoWaNdOq67XotGfqxDx86+cf75tKnN3qc1zLXeFx9Mcctv0fwRDO1bYVAHhzo6ilGYlmnYh9F3NYJBnQzLduteWNoybEkdKMb2/+XMmW7hgnlF19U+tC9j6ybFoY5Tx2thiGlbxT4vh1Xgr7rsZn+uqmFmFXHlEX2mdWKW72bPnO3/ViMuk7Ky8yIeCZZ0Xqic0/IsE9yqvIzPn3JVG4YkKo8sbaRzQ75RIy8+/piV6Sr7QlbGqQy0TluJ08HKyXj/EndyS5Zjz9L4qLSMqlW5Xm16mVLpljV9Sl1Pq7lWm6RzMMv3FdbwXLRjTOtsKDdPJVHaWP3FqN4Sn79x2MrJH8XWtXgJVZpnK6krWXqHHRsmzkvFxGmQNT/WsgNBcas4tm2btPgEAJRW004KzUGRJG15Fir8VfGwwj++ANmF1mZgtkaHXXi0XBdPDemz393Xa9/djk4c6hiyBpCGI9bi9/p1QdbojyS6ExY2mLKsa7Oyq4KQRMvjzo9i260V6yAKJS1LCkuW9FJFTRU2vdfycD19T9/PYtk11yz8r6W4Aa1HFN4ZfLp/vXfO4IYG+qJHH9RI79LnW36ZPvvgysuadVZ8OXtmw/t5/jEI24a9wjksilHHgzogyvXFzIZ9z/8s9Vi1XJ9rvVLrhmxdhT8+pnj+jpiN9tAjH++dc2azx03KpYqnOiYk7JCwPKLKfViBNcp3yn/VNuDEyqSkPB7T3UP9fKrl1/B5cpN0Xlh4s1DjSo2salQbhiRxOaV0UfqUorJOZZ6Vw+ErfG7exOlg5aTWjb+vbcayHLsaH0nrmWrKqFqV69WmlymVblnTp9T1tJprtSl2Dloj3xQ7F61csfSLH3UoN08lKZZ/iiknf5RaN1RNnq2krqT0rkVZFR9b1vxY6hwul+qcimvrqFnUQbSo4xwAkF1NOyk0SWaStOVZqUOi6aJbaMjbHQgV/mHveFLPtS6e4XOb4avYBGbatp5x1DOKuruhi56eAw17ymsl6a5KmnLWbY+yppeGhCato1c4fLMSNjpBDWg1pGf+7a/N5pvQ4wohPebQOLfCXk2dFeG8DHpUQnNe2BwM4avHGWe1GLnQXmgOiqRjWvvs81If39Cx6pgVH6LOirhjpxy6y6fzM+muZmsq1hBQmaGyQxOxhc/ClzOseUmmMi+cVyR8Zf250/C59/Cl587Dof9ZZWlg1bOMypMs6ZPlelrptToL67DMei7qEQQt1+MA1nCP55qodZ7Kg0rybGvWlbLIWl7UopPE2A0z1UHFOivikUEAgGxq2kmhX/EYOOjYppET+qv3lf66hwmHGiZ1QqhxoF7+l154zXdWhHdPdWclHhpbLl3QdGHTRU+dJfaMp8l6N9Y6WmL6ftyjn2Vdu1OWtv+k7eZdlvRS2iqN4ztj5fr8gw8K/1skHk0wd9xj/jGHNU/7eaaOBM05oUa65mWYM/ZR38mxVJfGxzQ0oqK16RERjVpIOlbRcnuUpNi6ehxEj4WYUtvNQp0Y6sxQR4c6dhTXtVIqjyTdYYxHM2VV6jyUZwp3ITUZXls2XoqFMa+sQ7aStJEs6VOuUuVUNWVUeyvXy02ftOtpLa7VNqIypO1puzbKotxzUQ1zNW7VeLd5bOqRp7IqJ38UW9fixdTiulqqrhQqlt7VxGvW/FiL/BZS/MU3zMp9BBAAsEhNOylEHRJXj/y9v6jrb7UdFGLPh465/3E/qVN8x9TupGqIoS6M4bOINgTPKibVsJ5yu4hbBSCuGMUXf6NGUPxMp7aj517jHv0s6+rip4ug/bpByNYt5yKpeErqGEmTVCGsVtb0Uhrr7pZNhlaJpDkkbC4KdSzoM/0ihuZ+COddsDkmitG8DHrEQx0TNp+DfoWj0tEClVLHin7FQ788Es97obAoDvS51is2t8aCt99q+ulUKbbdcmkeEP0cai3mqAgVyyP2PLTd5VLFVnff4sqxdWYUU+w8NElDm7WuKrStodyyKk+s3NUvBlXSeMqSPuXKUk5VWkbVulzPqtKGYaXpE19Pa3GttgZiSHe0dRPDOiQrPReVntaRWY88lVU5+cPqTloWp43FS6gW11WJ0zaJ3VyyEQfGjqFSWfNjOfkta2eGbdNumCk+AQCVqXknRT1YD7VmrRddCEJ20das2GHDQ3SnRLM861nE8DlJXbz0U1vFKhga2hl+x549t2cMtV9NlqSOE91dEW33hqtGpT6/GYdDYdY2NYN52PEiWda1Wey1z/CCrHV1YY1nuU9jcZrlbpjFdzV3XNJkTS97BlY/V2dxL/pc62UJl+7ef3zXnwvvGued0BwL+mlQ3eW3ySnDX/tQg/yjW27yHRBGy/RToGHDPvwFi3DOinB/okdCsvwEaTVW7ref//uhD/eiMCosGh1hnyuc+qUQdcCE4dSx65c8wok7Rb8wolEn8XZ1PMV+gvSju/7SbB4KdYBoO9qe6LzT88Nh+lfCZsuP84i2q/wVzqxv+S6s+OvviItv8g2TUtLOw/vvedhvR3ftwsq/1ilWTtRaJWVVXqiss/kBVK6F4jI6zS677+QbD3H66LvxEP4slF/0k4ZxOaW4/dfj4/3/qymjalWuZ2GNuko7nbOmT6nraTXXaqO8HMaZ4l3xr3LAfkEiy7mYlEa6M670tHlvap2nypE1fyheVV9QPIdpo3i5ueH4tt1hi8KSRpXm2VJpmyStfFY4537ySeFd+bLmxyznsKijQemc5QaO5eFHx/zLdw5ZXhHFneY2acvHYACgPWkXnRSiRrTudKoTQncFY9ZjbXcQQnqWVc+VhhMp6flSVVbidWPhd/Qb2/p5tPjnsnRR0me23T677uAv9DGN9rj2tgv9z17ZNtXbnjTsNOu6Cv+QoQP9/8PJrtSBoOWljs/YBduOt1QlS5UgXxlq2GetL7pZ0ksVET0DG8a9XprgS3khrWIU0mMGEk74qGXhz4Taz3Rq3gStM3X4MLfKQQe3mJNCv3SheShsWxqBscZRxzWNwNCcFZqDQR0eto5eGrUQ/hRnPWjUgx5XkTiM8WMs6pxZ/ejjm4VTnTKrH32CW6pr80kOtW73gYN8R0e4Xc3fockx0yycN68pPv327/iz32faHBbVUF6y38e3PKJKsYYjh+ex6Of7VLG0ifv0O/vqyNC5WEraefj6q2/5u5kqJ1QhtzytdVSR1rLWUk5ZlTdKK6WZOlksbvXSHdewIZBG5ZvKTiuz7PsqX5N+XSALxafmJIivESsXrk/VlFG1KtezUDjUkLW4jSeJzCJr+pS6nlZzrRZ9Vzc0LM60D53/4XwWWc9FXW/juD/h1MOb0q0eeSqrcvKHwqm5N8K0UefrwMHHue49mk80Wk2eLZW2SZQu8b6U1vsfuOgaXIms+bHUOSzaVhjGsEMjieLpsTFPtPkcSQDQ3nWYPnHUwsL/UUdq9Osu7RkNlahSla1y1gUAAEDbUyeGOsLVMRTeUAIAlIdOilZCJ0U+zLj5evfphMbHhpA/a/zwBNf5axsW3gEA0D5oBNKVl9zsJyANR+8AAMpHJ0UroZMCAABg8aS6m34BhlEUAFC9djMnBQAAAJAn6pzQfBV0UABA7TCSAgAAAAAA5AIjKQAAAAAAQC7QSQEAAAAAAHKBTgoAAAAAAJALdFIAAAAAAIBcoJMCAAAAAADkAp0UAAAAAAAgF+ikAAAAAAAAuUAnBQAAAAAAyAU6KQAAAAAAQC7QSQEAAAAAAHKBTgoAAAAAAJALdFIAAAAAAIBcoJMCAAAAAADkAp0UAAAAAAAgF+ikKGLk9Xe5S393nVswf4F//+7bU9yJR57pXn7hVf8+Tfw91Ielx8MPjissyZfZs+a4M08fltvwoTKkKwAAAFA/ue2kUANfDX01BtQoiFlDIa0zQA0INWDVkM1C65058PzM66P1WF7IW6Ow3DyWR3Ye7dl7QNOrVCec0fGH38v6XftevG7S9vTKW7pnkRSv8Ss8fsvjaZ+L3oef20udogAAAMDiIredFB07dXSbb7WR+3jGrIYK/9zC0kXenfy+G//kC27q1Olu3rz5haWNVOF/6flX3Sab9XLd1lytsBTtldJX6RxbZ90e7oobz3O77dG7sATlUOfKoFOGur579XF/HzfSv4Zf8Ss38MRfl+wY0DmmdLn34eubvjvo7JP8d4t1VKjxPuaBsYV3LW3Qq6e79tYLmoVn2Dkj2l1HRZeuK7nzLhrUdBzh64hjD3L99tvd9dpofb+u4vLKS252q62xStM6lg5JcanPbD3F1dhHn6ajAgAAAIuNXD/useHGG/i/r018w/8NPTf+ZbftDlv4Tgx1WISsUatKvzo7ACT76S+Pb9bJs+mWG/lGtDr51HhOo/Nqn+/t1uz86rPL9r7xPeaBcanffebJF3znYlYWHnVsJI2oam/UMaROhb579W6Ku7GPPe3Lq30P6Ovfy6LjTo9LUUdd/wH9/DYZBQYAAIDFQc07KR746yPuRwN+5och66/eV0qjIDQaIm4wqbEy4cXX3HY7ft2tslpX32ERslEWW2+7aWFJy6HSrTFnhDpLwiHcaY8GKBylhnqn0R3U8Ht2R9W2mXSHVXelw7DY0HQt1zJ9ZtuL46mcdU28nl7xnfFwu3ppHb2/756HXP99TvDpqTvqtlzr23bDuNLxKhzTp33k17P9pYUtKV88+/RLzeKn1uI0s+MxSXGhVximcBvx9yUpT8VxoAbuV7/Ws/BukR5rd0scoVSKGt3qGEyjsI+5/3F39vmn+xETWSk8WWTJZ3qv+FL+COMnKQ7F0sLW82kQdYqW47GHnvBlWjiKQuXbZlts6EdfhFR+vTJhkpv2wYzCkmTdu69e+F9pYX7SK+m8KJU/Q1nWLTfOAQAAsGSraSeFOiSGD7vGvf1WYyVef/W+0o4KNXr0yEfcYPKPfyxc6HbYeStfuZ8x/eNmFe2pUz902+64pVun51r+vSrJl114Y9Mwcg1RlyGDhzdVktVgO2/4Gf5vLUydMs2dP+Ryd8AhezcNze7z7e3db8+6rFnjV/tXOJKGescNrJA1QnXsNuR+1H1XulVX7VpYo3xPjHvW3Xnb/e6SPw5p2p7iXkPR44ZM1nV1DMcc+lN38k+ObDo+pcOokaN9Ayem7U55b5pfT8Pl99lvd79tpaceJ7DlcYMupLi/5vJb3BmF9YuFTfEcDp9Xfht82tDCGrVnHSq2P6Vd9+5ruBuuGtUijtUpI7aeGrcjLr7Jp7sa7sW+r7vzOhbbj8XBqFtGF9aoPe1f+VH7DUdYiD5Tftlsy43cuoXzMgt9L60RH9J6D9z7iPvFuSc3HbM9KhJ3+Gn01dWXj2w6Ny0Oz29YN2w06zzV4zDat21T21dZUs5oEKPtxaMobNRXUkdMl5W7+L+zZ872f9OokzbLo2063zQiRXnBjrvXxusVPl3UIROWKXrp+BUPcbmVdV3JGucAAABATTsp7vjzfYX/NZe2PAvdJVSDILx76R//6NChodGyYou7jXGjRpVlNYjVSLYOCDUQVFlOelSkVsY/9aI7/OjvN+v06H9YP9+Y0N1Uc++dY3xlXZ+ZLEPudbw67rDBo+Pde7/d/P8rMXfOp+6o4/s3295Jpx3h96NGbyjLuhb36lzQMRnFidLjpmtub9GA1HbDYe+VUNzvd+B3fJhEfzXvQphP0sKmRx8U9/WifQ1oyBdG8ac0DMNm9OiEHqGQMM9KuDzp+zqO8DEOiwONQCrWKNRnasiW6hRIYh0gFrZQ0iMNWWT9nuLh2B8f1ux802gFxWE80uqNSZPdTr23aVYeKA7DcsY6VXS+huem5d1KxKMoRB2uStNyRkOEdP6o40N5Q8eRRumqtFcesHTV+uEjOyqLJDyvxcotxYeVR+WsK1niHAAAAJCadlLYCIpY2vIsNBpCd9GtoRF3QtjdRpu3whrvdmdSy/VIiI2qMPYoSdyAqZVwJIdRxVx3ma2haA2HpDvPpYZ6q4Mm6VGXaiQ1TC2eNLohlGVdi/vtGuIiZumqUS+hShrHsaS4VyNQDSW7K10sbOFjQq0h7Y55PKeKpXmcX7LecVccqEGcNBGt6NzSiAzJ0pmg/Ku76TZ8X+fcKT//YYu8rIa0RjQcftT+JdNWaaSRN7bNrN9LonAoDuORVnrUxOa7MYpDLbf8aOVI2AloLO+WQ51i8SiKUiy943NEo38sfvR/zUkRds4k6dy5k+8MTev4TOrEMAqv8pw6izTyo5x1TZY4BwAAAKSmnRTrrpc8jDtteRaqBKvhag17azxYQzJuGFtDzSrEWq67dZrXwCr2eu2729Fu9D0P+XXqQQ0CNQySWEPR7qLaXAvhS42PYhQvaiRoNILWT3p0olzFnv2PG3pZ1lXcp8WDNZrizo9i280qaZ/WIDLxfltb+Cy/GuVqnMeqjQulQTgHQLE8pUb0qccN8Y1LPSaTpVNA64S/YCHaT/iYks7Zm2+4u8WIlTRKo/DXPfRYgCaPzDp/gY4jnJdC50dMDX91AISsQ8BYOWIdQNVK6ywtJm2URfh4kl7Ky6XmUFHngTpIVOap7Ivnoig1oiPs4CpnXZMlzgEAAACpaSfFgQfvU/hfc2nLs1KHRFMFOWo82J0768RIej5bQ77D56bDVzj0vrXEFfa40WEv/bxmsTukGs6v9fR4gnVWxI9P1Eo5v5RSzrptqVhHUr2oAa90EktnNcrDDpRaUCeIGqM6N2w/ymdJbN4QzZlSar6PYpQftQ89RqMGsxrBGpmhTsbw0ZNyKB/pkQLRL4Ok0bmvjgzN+RLOS1HPR3eyUjxoBEPSyINaNNSTHiNLok4ixYk6jKyzIuxQAgAAAPKgpp0Ue31vVzdw0LFNIyf0V++1vBq6+6iKvO5GJnVC6M6dRku89MJrvrMibCTrbnQ89Lg1pO0zHF1gDZRqhzuro0WdMOqM0V3r8I5zPAKimKTRBWkT+2VZt1jcp223tRQLW72GnytdNN+DGon17ByzRwvUYVCqc0CdGRrJo3VrESbrPFRn4qRX3/SNYetAs5eNHNHIjqwjJKTY6BfrwBh26eCSjz5kER5HzEYSZKXRX5rMNX7cQWxEUdJjW9q3yoesoy+ynuth56Z1KJUqi7Rcn2u9ctYFAAAAylXTTgpRh8TVI3/vK8H6W20HhVhFXj9fqMZX/Ey+PSOuUQRqPIRzCqhhoGXF7sLWQ9KEcGqMhZ0ouququ8xquGZtqKXR9hQvNuJE77WfpIZ4WmPPRqOEdAw6lnhod5Z1i8W91tVnSQ23NMUaqeWyjq04jeyudz2kDZNX51vS4x6VSntUIW4I63xRB4I6KLI8ipFFuG+7cx+/bOSI9ptl5IbFW7EOLeWNeGSMnW+VsIZ4UudBueml9W2i35idt0nnk/adZY4W6/ArdwSTykkdh9KsWFlk54SFpZx1AQAAgHLVvJOiHqwir19tkLhha5Vm/bqAGhbhnUfdVdUw9vinCFWZ1l3kuJJdS/qpQntOXPtLmpRwl9138g2w+CckFdZiQ7G1Xc2gb6xxoGO1O8m27bCTQNtMek5f1GgPw6F96Bh0xzVuxGZZV+HQpH5x3Nu6WSb8E0vfckaFlKIwKqxhGony0NxPPim8qy1r+GqOBTsOxYvip5ascyIc/p+U7moEa/RN+GsTWSXlTy3LOpFjVoon+5WNpF8NMerA0KgNjd4QfU/5U/m0EspzmrBTcRYep45RnaVZH89ROEo12m3yVvvFDNE+1SGrc7gU+16xyU5Vzqm8C8+fOP3t+3FZpHNCnSDh9stZNyvFrUbaxPkKAAAAS5Z20Ukh6phQwyBtGLGNnkhqDGgYu4bYqwFlQ871PLYaNmkNh2qp8v/TXx7vn5G3/cmQoQOb7VONOQ1R9xX7hnUsfHpsI+mXJ0L/aGgshcejO6nhkH1tWz+XGE7MqTvOioskWq7OIAuHhuWrwZn0GEDWdW2egjDuta7CVc48BWr0WByV84hAMQqrOnUUHgub8sT+B+5RWKM03YkOv2+vpIaW0t1+ptXiTR0WI244r6ZzUli6h49ZKN2VDjGbm8DWC1/FGovqCNGjAuH66vDRKIlK55+QOD4VNuXrpF8NCWmf6nSyfKbvaaJILauUOrIUZ+H5o/QaOPg4Xw5lkeWxJuULTVaq0RSL9jM29dGV8FzSS513cbmSRNsP01rfO+HUw5viVd/XdiReL95+OesCAAAA5egwfeKohYX/YwmlBv/5DQ0xTexXqoFZzrrtlRrnaiRm/ZULAAAAAEBttJuRFEBryDI8HwAAAABQH3RSYImkESGX/u66Fo+NVPNMPQAAAACgOnRSYImkURKa66D/Pic0PU/PM/UAAAAA0LaYkwIAAAAAAOQCIykAAAAAAEAu0EkBAAAAAABygU4KAAAAAACQC3RSAAAAAACAXKCTAgAAAAAA5AKdFAAAAAAAIBfopAAAAAAAALlAJwUAAAAAAMgFOikAAAAAAEAu0EkBAAAAAABygU4KAAAAAACQC3RSAAAAAACAXKCTAgAAAAAA5AKdFAAAAAAAIBfopAAAAAAAALlAJwUAAAAAAMgFOikAAAAAAEAu0EkBAAAAAABygU4KAAAAAACQC3RSAAAAAACAXKCTAgAAAAAA5AKdFAAAAAAAIBfopAAAAAAAALlAJwUAAAAAAMgFOikAAAAAAEAu0EkBAAAAAABygU4KAAAAAACQC4tdJ8WXXy50b05627/0/yXNkn78AAAAAID2a7HrpPjv62+5M08f5l/6/5JmST9+AAAAAED71WH6xFH+dvvsWXPc+eeMcB/PmOV+ce7Jbp11e/gVQgvmL3BXXnKzG33PQ274Fb9ym265UeGTRcJ1ZOAZP3J77ftt///Y559/4a678jZ35233+/eDzj7J7bZHb///JC+/8KobeOKvC++a67ff7u6EUw93n3z6mbv8ohv9sh+ffqRbZZWu/v+tJT7+NNvuuKU7o+F4u3RdqbCkNj7+eFabHj8AAAAAAJWq+0iKp/79nJsz55PCu+ZmTP/Yvfzi64V32a3ZfXW3zfabu2132KLp1XWVlVyHDh18o/yX557iX23RQFcYFBYL19e32dSt1GVFt9zyy7nNv75x0/I11lzNdViq9tHf1scPAAAAAECl6tZJoUZ597W6uWefnuAmvZr82MHz4ye4ObPmuo0361VYks12O37dnTPsJ+684Wc0vY78UX+3bMdlC2u0HYVBYbFw/fI3p7gNN9nA9WiIi4FnHNu0fOCgY91KK61Q+BYAAAAAAKhbJ8Vnn37m9v7ebm655Tq5f48d7z5f8Hnhk0YaXaFRFptuuaHbbIuvFZZWT4+taD6GE48807379pQWy9767zvu73971B1/xBlu/+8c6y48749u+gcf+fWMJpz8z7MT3DmDh/t1jjjwVHfDH//iZs2cXVijehamPXsP8I+xhEZef5dfrr/Glj3097HulQmvu1/97AL//icnnes7exYubJwksxbH/7///c+Nfexpv+1wHyOvawzDww+OK6wJAAAAAEDt1PVxj69t2NPPvfDicxPdB1M/LCxtpNEVGmWxw05fd8su2zojIObPm+/+dO0d7p47/uFWXbWr69JlBffg6MfcVX+4uemRFDXQ77jtPnf2oOENjfu5rv9h/dwmm2/o7h71oBt+/jV+zoe29MS459zFw651n3/+ufvqhuu5l/4z0V103h/d66++WVgjXZbjV2fHvXeMceeeebH77+uT/SMqSy+9lLvsgut9xwUAAAAAAPVS104KjaLYfMuN3BuTJjc0pheNFtCoCo2u6Ln+2m7dhtec2clzVtTae+9OdWv2WN1dfOXZbujFg91vLhzkNujV001oCNvU96f5ddQwv/eOB13vb23rzhl2uhtw9Pfdz391gvu/Ad91/358vHty7HN+vbby0Ycz3ZChp/vwX3TFr/xoFXUAvfR889EYSbIc/+S33nOj7xnj5/349e9/4i4ccZb73WW/cGf95lT/OQAAAAAA9VLXTgrZatvN/JwT4QSa7733gXvu6RfdNjts4bo1NIbLpV/O2He3o/2jB/bK8gjC2ut0d9/Z+1uuY6eO/n33hgb7Jg1h+2jGTPfh9I/9KIJnnnjBN/r77LqjW7EwZ8TSSy/tttpmE///Sa+92eLRlda02547ux5rd/P/79y5k9ty6439/6dPn+F/LaWYUscvk//7rnv7rffdrt/Z2W2+xaJfb+m5wTpu5122LbwDAAAAAKD26t5J0W3N1XxnhE2gqY6A8U+86ObO+dTttPPWbpmlly6smV3Sr3t0Xq5z4dN0nRoa9WmTa2oODXU+fDitcX6GIYMubNYJYj99+uX/Fvpj0DwS4ed6Xfq76/xPkNbTcinHOf+zBW7hl18W3iUrdfzy7juN81is03Mtt9TSi7KHfrVkqQ51zy4AAAAAgCVY3VudauiqM8Im0Jw2dYZ75snn/VwVujtfiaRf99j5m7W9y7/fgd9xPzzxkBavLbbZ2P90aNdVu6Z+loXW01wPeZXnsAEAAAAAFk+t0hJVZ4Q6JV59+b/uiX896559+iW3U59t/OMKebLMMsu4lbo0PuKx8eZfcwcfvm+L1659d3bLLruMf3Qi7bMsOnVc1q2xxmr+//8LRkBolMaXC4uPiKgnG6kx9f3pPixGo0xmzZpTeAcAAAAAQO21SieFOiPUKTFxwiQ34qIb/aMam25eu58drRWN+thqu83dcssv5/758JNN8zSI/Szp1PcaJ5isVtgh8uLzr/pfFZF3Jk/x82K0lY033cAf/+OPPOUmv/GuX6bOigkvvuaeeHy8fw8AAAAAQD206KSY8v40/1ObZw48v9kr/onLP/7h1hbr/KtII1adEuqckC222sStsmpX//+82WTzXq7vXr39L3mcfsIQd8FvrnIjr7+r4fiGuisvGem+KHQmVCvsELnx6lHuJyee6wafNrRhf1f6Doy20muj9d0ee/fxv8jy0//3G/fzk3/rfvrj37gbrhrlvrLeWoW1AAAAAACovRadFJpA8aX/THTjn3qx2evzaELIVya83mKdeZ/NK3zakjoltttxK7fqaiv7iS41EWMeadTHcf9vgDv5Z0e7VRrC+o/7/+nu+ssDbsUuK7oTTh3g1lqne2HN6n19m03dT395vP/1E8WnRiyccOrhbpvtGjtz2oJ++eOoEw52x5x0qFt++c7utYlvuh5rreF+9qsT3Kabb1hYCwAAAACA2uswfeKoRRMPACn0qyVXXnKz//nXoRcPbhoVAwAAAABArfATDmhmzpxP3H1/fdjNmze/sKRxPo7HH33KPfyPf/nOifUq/FUWAAAAAACKYSQFmpk9a447/5wR7t3J77u1v9LdP5Yzc+Yc99/X3nJrdl/dnXDqD9zO39qusDYAAAAAALVDJwWa0a+MPDnuOT9q4vlnJrg5s+e6ddbt4XbceSu31767ua/07JHb+UQAAAAAAO0bnRQAAAAAACAXmJMCAAAAAADkAp0UAAAAAAAgF+ikAAAAAAAAuUAnBQAAAAAAyAU6KQAAAAAAQC7QSQEAAAAAAHKBTgoAAAAAAJALdFIAAAAAAIBcoJMCAAAAAADkAp0UAAAAAAAgF+ikAAAAAAAAuUAnBQAAAAAAyAU6KQAAAAAAQC7QSQEAAAAAAHKBTgoAAAAAAJALdFIAAAAAAIBcoJMCAAAAAADkAp0UAAAAAAAgF+ikAAAAAAAAuUAnBQAAAAAAyAU6KQAAAAAAQC7QSQEAAAAAAHKBTgoAAAAAAJALdFIAAAAAAIBcoJMCAAAAAADkAp0UAAAAAAAgF+ikAAAAAAAAudBuOykWzF/gLv3ddW7P3gPciUee6d59e0rhE7Q3L7/wqk9HvUZef5d7+MFxpOkSYvasOe7M04f5NC+X8orKAJUFqB2dj3k4/ygXgPJZ3UjnTLl0jqk8VrmcxsrsSra/JMsSt3lTrzDHZbtJW14r7TEN2lql9QGtr+/p+0Clct9JkVQx1UX4yktu9v+/9+Hr3RU3nufWWbeHf49sFK9ZG3hWKalHYaNtDjzx1274Fb9yfx830g04+vuFT9qWwsXFDEjXnssFa8ipHGxP2mu4gazqWa6g7aWV7fUu8wG0P+1yJMW8efPd1KnT3eZbbeQ6dupYWIpyTHlvWuF/pc2eNdd9PGNW4V1tTZ36odt2xy3dOj3XKixxbrc9erd5x5PCBSBdey4X7BrS3rTXcGPx0aXrSu68iwbVrRFZz3IFbS+pbJe05QCWXMxJAQAAAAAAcqHD9ImjFhb+XxMP/PURd8ef73Nvv/W+W3e9tdyBB+/j9vreroVPy6dhraNGjna/OPdkfwdNz6nddM3thU8bHXHsQS169cNHQk449fBmIy6SPrNlo+95yC+Xfvvt3uy7ts5qa6zSYn9xOGN6XOW3Z13m+g/o5+8ImnCI26ZbblRY2ri9MQ+MdWecfZK/cxEft3qc7TOjdWZM/9gdetT+bvj5V7vxT77gl4fHYeF4Y9Jk/5mJ92+S4juOlyxhiyWFY4NePX38vTbxjWbHLlmOLaT4G3bOiMK75DySRENNz2/4nm3fDGoIi9LNwhHvM05H207fvfq47t1X958Z21YoKf+lpUmskvgXO5Z+39/dXfCbq5rSwsJnx2Sy5pG0/cdxq/Q++SdHuptvuNvHUxgnWeIjLS3SpJ2DkvRZUh6N087W0XGEYUsqY5KE39edpDDPJsV31nySFNdJZVOcxjqf+uy6g7v6D7eklmUSp7m0drkQnmOiuAv3EZcBFr6xjz3dbLlkCVtS2WD5IUzH58a/7I87jI8s6VEqv8XHI3G4k9KzWP5Lu/5I0melwihhXJQ6J+w6d9LAI92I4Tf6+Im3F0s6B8LjTDv3LA0222LDZteCMLxdVu7S9P8s52Ms6XjErj9x/KUda9ZzJykuhl482I195KkW9ZQsZYeFv9i5EJ53FvYwDrPEW3x8Fj+lypVS8RKGLct1V5LydBjmLPGWRRi39945ptlxZImjpDyQVCbF28paJsTli9Kkx9rdSuYHkxSPYZwnfa5y8NiTDnHXjLitxfJi15/4mCRLmuQ9DUJhXhZLmzBuwvCllRGl0iWUFM60+kCpYwrLhLR0UfgnvPhaYriTPsuSHlonSx0d7UNNR1Kog2L4sGt8B4Xor95rea3oQjbqvit95tSJlvbsmjKnHgd5ZcIkN+2DGYWljfRey/vu1duvp5Pp1OOG+Iu6tqeX5rqQIYOH+8KiWt3WXM1tslmvFo9Z6IIuqtgaXRRfev5VX5nSyaeTS8Kwde++hrvhqlF+3dDUKdPcNZff4k9crau40vBgXWS1rgoZDZnWBUiFiral9dJOWsXttbde4AtGndxa95Sf/9DHm+JFz46qQLDt6KVwDzplqI/XNBYOpaHSUuEsNZS71LEZFVK6EOlzW0+FXZY5OBTfGsoahkvbSCrQs3hi3LM+bS1uFIe62OhiaRSPymdh/tN6KlDD9ZKUkzeSqOI1+q6H3CV/HOK/r+NW+BrjcFxTumr5ZRfe2CxNy0l//V/L9Jmtp4uethle3KWa+CjGzkGdW3HcqAG8ympd3XYNaS7azzGH/tRfYC0MOg/UEam4qbW773jQ/7V9Kb51vJa+kjVeLK5VubH11Pmi4wm3p+/YRdvWU5k5+LShhTXS5alc0DmmclX70LmrczguAxSOXhuv59fXuazl4TXEvpdG8dZ/nxOaxam2sfIqXQtrNFI6qmKvzy0+sqSH8uMD9z7izwlbR/Gqc9HWKRVupafOJ6WLPtMxS7FrmIZWa3vh9cdoma4RvTZa37+v1zmhof03XTPKnXTaEX6bxcpaxWWpa7Vd+3Vt0OMxxh4j0LUgjA8798Nh5lnOxzQqz9RBYdcppaMq1rp2/enaO9ywSwc3LQ/TV8o5d7SujllsXeWP228d3axBLbZurcvUWKl4Uz7XdTg8PoV51VUbz6Ni5Yptw7at76dd67JcdyUtT3darrP/vNbxpvx3/pDL3dbbbtq0vaS8leVYk8oVhS2kMGYpE3T+6jy29fQSxVkWafEYlg1pZbv+X06Zr3CrbqL1bF/6blw/SZPXNEhjaWDfVR1mxMU3+fPIrjVJYZMs6WK0ruLAzju90uoD1R6TURqovHx3cmOb0WgbKqcVr7q+6X2ldQq0bzXtpNAIiiRpy+ttw4038H9VCQmFlRKd0Hfedr8/8fsf1q+wRmMnx1HH9/f/V49rtaziFFaQtG81mNRhEC635451Aos6EMKOGG1LHSxJHTDjn3rR7Xfgd5oqrvqrEz1p3WpZvCieFCajeFR8Kl7DArNaWY5NF5axjz7tK7zheocftX9d4qCUuXM+dfse0LfwzvkKvyr+YUNZ8agLTJj/lObKF0kN6lA5eSOJKoMHHLJ3U/r12WV7Hz7FYbhcjXedM+G5lDX99Uo6x1QJ0cUzVk18FKMwJnVcanvari54yiu64OkiropL2Hln4VWDI6zM1MKKK6zg494ovuPGY5Z4sbju8+3tmzX2LF1te2nHqO9oe9Vo7XIhPsfiCo4oHPt8b7dm4clK29NoH8VVGKfa9jbbb1541yhOx6zpoXAd++PDmlXMrawI80AaS0/lT9uGtqlzWJXyuBJodAzK93HD3eJQ54u2U89zQnf4duq9TbNjT2JxmeVarWt/fNwqu/RdCZerg8vOfZPlfCxG1xvbnp2jo24Z3ez6lZS+5Zw7Setq27r2qVwPZSk7aqFUvKncVflrN4hEYd57v938/4tReLNe67Jcdy1Pq1EW5+mvfq0x/modb8rrfff+ZrP9WZmrhrdtL8uxWj3WOtZF37NtZy0TdN7q/A3XEx2z4qyUepYNSZRf1HFl55Ek1U/S5DENilEa2DkVflfC5XHYykmXtHWT6gO1OCaT1kmubWhb1oYrp1zE4qWmnRQ2giKWtrzedAKpchheTPRX761SknTRNPpc66n3rhYnQFxx0r4/+eTTxs6IhQsbKoZz/XL7vNgEQhqWKrNnzvZ/jU74+Hsa9qiCOV63GkkNAaN4TLqTVa0sx6bCToWW7pqH9L2sF7Faiiu/ihvdlbG4iRsDIeWLpApYKWl5I4nipEvXFQvvFoUvjsPOnTv5ypqNBCon/YudY3aRMvWIj1BSZcbCZ52CSRUPY+G1EVC1Eh+vxbeVPVnjJT4WY2mibWhbxY4x/m45yskXtRKfYxZ3tWp8xRWmYuL0yZoeSbSOzsUs1x9Lz7h8tNFDxRrXu+y+U4vKZXzM9Twn1KDOErcWl1mu1fFxa5nyg4YuK29YWC2/xukTp2N8Phaj47Ey2OiOZ3z9itO3nHOn2Lp27MbWjY9JwrKjFkrFm641ykfF8mM50q51pa67knbOmHrEW1pez7K9+FhV90m6C22ylgn6q4awjZgyludKqWfZkFVcPykmj2lQjPJtmP/sHIrzZRy2ctKl2Lpx2ViLYzI6R1WG6TzT+Wa0DW1L2yynXMTip6adFJqDIkna8tYQFzz6q8cGVDETO6HjSoVR5aJWJ4AVLmHBsMIKy/uTvXuPbv696ARVgauCN6ThWfYb0hrCpcZ5LOl7Orb4zkq1bOisCukkWq7PreOlFkodmypBqgxpqOu+ux3dFFd6aah2+FhBGJf20hC2WlP+iYXLLB41pC8Oj4beZZUlbyRJitMsykn/UudYqFbxkUYXOVVgwwaszjtdEK2SpopOWrxomT7LUhkqRxyPuviqcmKyxoviWmmvZfF64dDdYsdYjXLyRa3E55jiTg1ZKweyPOZVjMpjldthZ16a+LizpofRXSr95Lato7tdWSg9Vb6pnAv3oeOPh/7HkiqX+r86+O1OWT3PiaxxW8612s4faxzbdV/Hqkqtnf/WGRNvs9T5WEzW44mVc+6UWjdk69arTA2VijdrlChfa//xkPMsslzrSl13lfbKA8XKwHrEW7G8oeOwPG6KHauNDrGyJR6tkKVMUDzoHIkbwuWoZ9lQjI436ZhKyVsalJKUl7MoJ12KrRurxTGF1GGk88w6ehZ1SjR2RpdTLmLxU9NOCk2SmSRteWtQB4AKJesA0F91CKiy0triBpJOdlWYtFwXCb23i0bYS6rGswoBsWex9CxYrTseFhcanmbxFL9syLWG8aV91hbC5wDDV6nn8RfXvFFpfGQRdlxaZTW+K5FXWeJFaW/PisavUnMvLC40ZFXHq+GrqjipAlVNJ2TWClySLOmhipmeudVEY+G8FPFQ22JUWQ6f1w1f4bDlmPK98r/dzbJKYnwHrb0Jz3M1POy6r0qtdWbohoHdsVvc1bNMLYeus9qv8rZ1VmR5HKAe17osjfPWijcdh3WWZTlWhVuPPWhuBt0VV0NZZYjOX1NpmZBn1pGrR/BsXgodo461WqRBNrU8priT3Dor4pEaWDLVtJNCv+IxcNCxTSMn9Ffvq/l1j2qFHQMqOOIGiRVIce+pSephtLszlVDFSRWkadM+cm+/9V7TsDMtV8Vw0qtv+js+tlxh1gRwqmznqUBTT7Q6f9KG8Wl5pXeUKqU0VaWjmvTJopZDy0rFYzFtmTfKSf9i55j1kptq4iOrsOPS7rCGwz/DO7KxxobN9BZ3N+oZXskaL6XKM1PsGKs5lnLyRWsIG0R6jlYV3HIVi6tSsqbHM4VRXppUsZKGTzVhlPBuVlIlMQ/nRLnXajvPtb4qwHbdt+Oa9NrkXHVQlnPuFFvX0sOU2m5b0TXLGpdqcIYNu1itr3VZ6gr1iLe0O75h2pZ7rKrjqrNTDWht357fz1ImlIoHnVOlVFI2VOOxh57wjdohQwf6Yy9X3tKgXspJl2Lrxvm/1sekPBh2kqusDh/XKnUehulm2irOUXs17aQQdUhcPfL3vmKov23ZQWHsjspLL7zWokFivXjhhDlGJ4xOHKvEWIGedAJkKcxFFS0VYo+N+bd/1MPu4KjitNJKK7i33nrPuQ4dmk64tKFOamAlDXMsR7knclhIWOePCnLFU0jxqMpfWNC0FqW17pyqs6daSRczFdBJy9MK0FKKxWMp9cwbpZST/naRCYeTmzis1cRHVrYPhfGF519pMbLKGmzWcAzZ8HArQ+zY4vNf55XOr1rJGi/FyrOQ8oyGbFqD1FjalaO9lAtJQ3mzlNvF8kMpWdMjbmCL4k/XnyRxuKsJo1g4dY7GlUTJwzlRLC4trsIOB8Wl4lTrhzcELI++9d93fHji8rOtlHPu2LFpWRwXSg+d26bYdtuaNVCUf4pdU+txrStVV6hHvCmsCnPI0tbO/0qP1c4P63DIWiaoTpM0F0Ox8idUTtlQLR2Xji8eAaOw6xiyyGMa1EM56VJOfaAex2TbVBtNeU7npimnXJRa19HRtmreSZFHem5MBcejY/7lNttyo2Z3qlTQaVZaFXCafdso8+vnfFRohbNV2yRj4QmqYWFZnx22QkzrhwWtCkZ1Wlwy7NpmJ5xV+MKKmYZGJj3PXA4VAkknchILc1zptNmz4589Ujyq8hfOrt1a7BnB+OeoVLjp2cIwnMVY4R03ajSxkNJDvfmm2vSwPBXHo7ZbbIh6vfJGVlnTX3lZs90rz4fHo7COuf/xFsN1K40Pfa5hoFnulmsf6rAc+8hTTc8+GpUP+olIxaO2abRd5St9ZmWIjk3PWOvXUGy/CrPCHjYUaiFLvOg4bD6GsDwTrWPHo8chNLogPk/0nbmffFJ4V1xey4Wkc10Nb5ULNu+IVXyK3Uk1xfLDvx4fX3iXLGt6qGIVNpjS8lBauBVGzSERh1HrKC5KNbIsnBMavquX8looD+eEwljOtVrrqwGseJ0z55OGcC2606b4vuqym/3/wxEjbS3ruZMWF4rvmxvSe9sdtigsaVRpmVprCp9m4jcKixoZ4fwnSeVKPa51aWWgtmt5PEu8abnmvdF5lkV8Din9lI5KT6Vr1mMNyw+xhrpdz7KWCTpnFN/6WUtbpnV0zCuutLx/X0w5ZUO1dFyqN4dli8KssJfTWZW3NKiHctKlnPpAPY7Jtqk2mspxu06bcuoU9aijo+0sEZ0UKixUWXlszBPNeuiMThANs1UPnp5B00vPMKswtN/oNlpXP72jDG/r6mKqYWFZWFgkDEvaclX49JNiKvgUJu1PBeeIG85r0bgrhwolFQqaCEjbDAubmMKmwlsXBq1rE9EpbBpyJxY2vVSBrnQoXrUUVqVZeGx6aZIfxWuYlsUonVWI24RIViGx9LC40EvpMfTiwf7zSlj+84VtEI8aAps027KpV97Iqpz0V37Ts73heaOwDhx8nL+ghCqND/WUq7KlSm4pWkcjKDRqKamRoscEFF5Lf72Un3Tux3OX6H2Y3xRm/YqAGsW1lDVeFNcadhrmUb3UGAgv/hrGGp8narztf+AehTWKy3O5oLI83vcJpx7e7PxXxcbiMn6OOJaWH1YOGr5psqSHtq9Kom1fYVJFV8tiaeFWeuo6FIZR6yhNs8S5Pw8azoe0OZvycE7YOZDlWi3qbFZZGHb8S9rytlbOuaO40PwlYb5SY01lqi/bApWWqfXwj/sfb9q/pV04pD6pXNFNnHpc67RfXefDMlANNXu0KEu82QihpLplTPMWXHvbhf77ti3lZe1D+xKlcdZjTToXVd6YLGWC4ltloxqHNhmi1lH5o58GzqKcsqFa9rOTlmaDThnqjjnxkMxlSx7ToF7KSReFM2t9oB7HpPNHbTS1g+JyXNvMWi5a2oXlotKumjo62k6H6RNHLSz8f7GmRqaGC53RcGLVu2AA0LrUOL7ykpv9BS5LpcjWjyvIwJJKnR3nnzPCj4KodcMCWFzpBo8avNQtgcrpPFIHoTperbMIWCJGUqjypQ6KpN/ZBdD+6W7WJ5982vSYTikaVq+7JPGwdmBJZY8wtvaddaA90wi+vI3IAdoT3TTSaAeN5KCDAqElopPCZtql8gUsnmxulfC58zTqtNSdLy6IQCM9h6xfP6EjHyiPHvfVMHcAlRn72NPcNEKixfpxD03iosn69AwaQ/GAJZsNZ9fkfXrWn8c8sKRT58Rvz7rMTzqnZ4x5zAMA0Br0GL7mKdM8HzzmgSRLzJwUAAAAAAAg35aIxz0AAAAAAED+0UkBAAAAAABygU4KAAAAAACQC3RSAAAAAACAXKCTAgAAAAAA5AKdFAAAAAAAIBfopAAAAAAAALlAJwUAAAAAAMgFOikAAAAAAEAu0EkBAAAAAAByYYnopJg9a4478/Rh7uEHxxWWtF8jr7/LXfq769yC+QsKS+qv1vtcnNKjrRGX6ZRvFTeKo6wUj+V+p71TPO3Ze4B/vfzCq4Wl9VFJmrR37749xZ145JmcowAAABkxkqIGVLGvRcXbKrPWYLBXa3dK1JIq5nkIf5a4VVi1jtZNovW0fntNDwt/HAdh40l5Of7cXmpgJrHvxA3ccH9LWgOtXvneOqVq1ZmgNJ3w4mtu1H1Xur+PG+k23XKjwiftT63jplyW35e0vA4AAFBrdFLUwNSpHxb+Vxmr3P72rMvcL8492TcW7KXGw2prrFJYs/2Z8t60wv/axuIct+VQx8upxw1xm2+1UbM4uPbWC1zn5ToX1lpk+BW/arbevQ9f72ZM/7isDodRt4x2r0yY5Pex2x69C0tbz4Cjv+/Ou2iQ69J1pcKS1lOvfD971lz38YxZhXfV0bmhNN1siw1bLY7qmSa1jJtKzJs3v+FaML3wbpF11u3hrrjxvDY5BwAAANojOinamBoKV15ys///JX8c4iu0IVXmVbHv2KljYQmyIm4bKR7uvO1+t8lmvVyfXbYvLG2kONn5m9sW3qVTHJ3y8x/6zoth54woebdaHRk3XXO7O/knR7aIdwAAAABI0y46KcJnpvWKh53bMF/7vNiQ/ZDdZQ+3ndb4isOg782Y/pHfrxpt4598wfXf5wT/WTnDfcc+9rS/23zAIXuX1VieNWtus2PW/5MeN1FYbB290obsx+ulbc/Y+ooHxWPMHq9QQ3X0PQ+5fXc72q8fx6/eh/vNGr609UKVxm0tJOWtOK4sjhQH8fEl5cPEfD75/cKnpWnUSLXxoMcBjjj2IDfmgXGJ6S46Fp0T6tAo5/GBpDTWsjAvKl6Szm+LmzBf6P9J+dPiPdxXUnwby6NhOOJtWJhseVq+T9q3jjFk6+g7Ogato+O4sWGbxxz6U/fGpMlu4Im/blpuxxfHX9KxG62rsCmMCmvS+rZveyWVCZY+774z1f/VevHxhOI0CY81Dn9SmsRh0ntbnhY3aWEM9x3Sd/TdpPhLSj8Lu8p/XQeU97Xc4qvUfsJtJe3T4mz6tMbrTbF14/Dp/1oGAADQnuS6k8IqcRqSrOHmGnauIfqrrtq1sEZjpWzQKUNd3736NA1N7z+gn6+wJlVyjSqPQwYP9w03+54aVarghpVsa/yEYdBru2983a3UZUU/dHnQ2Se5bXfcsum57qzDenV8Lz3/quvz7e3Luts8dco0N3zoH91Jpx3h96f9yg1XjWpWaVXldswDY5vCpb96/jys3Foch+vpddCh/fznSRSvqojruHV3Panhq+PREGc1aPvtt3tT3IWN1ifGPesbu/aZ4l8NpjD+JctxxCqN21pRB0n4aIXCrKHgegQidvcdD/q/tq7iVfkwzL+WzzU039bT4yuXXXijbxgVo/RRPh/76NM1abBsve2mvvNn2gczCksWCfNGOR0USuNRI0f7R0Ps+ETbqiXlLZUNGuFh+9E+OyU88iKKL8Wx8rE9pqBjjLfxg2MP9OsXy/fKkw/c+0izx46KjUxRvuixdje/ns6zIxu2qbBu0Kun/54tV/rG54j222vj9QpbaklllNZRGBXWcFtpZZ7ynvJgnIf0iMVN14xqKo8qeayh1Dlg5VTatUAjotLiRmoRxmJ5R9tTeHQdUNj1WbHHWhSHevwqvP7ouETXpbgzSGX+NZff4s4obNvKE40UszKwWL4EAABoT3LdSaFGkBpDfffq3VTZVKVv7/128/9X5UzD2NUQDSudGtKuyvdz418uLGnp3jvHuO7d13D9D1vUGLe7xGrcWsXP1jvh1MObwiAaIh++r4Q9w6yGSDnGP/WiO7yhUm6Nb8WJOmnChqMqrGqUqlJuFWX9Pfyo/Zutp8a0wqDKb1ih3mb7zZu9N2GjrZKKfmjunE/dUcf3b4rHXhut79MtjP+sxxGrNG5rRXETxo/CrDRS50rcAFlxhRWaPYaxXUNDR40dy7+Wz/W4Rphflf5qkGSx7wF93SqrdfWNmGKdO1l0WbmL/zt75mz/17z11ns+b6iRVk7eUBonPRqiY1V+qBXlXXWEqBEbdqBon1/9Ws/Cu0WUTiMuvqlFvCtdFC7lV6PyIAx7EuXzY398WLP1LM8nlVVxvkijcCpfKX/ZOaJ97fO93Soqo1TmSXhuiuJAcaG8GOYfjV7Yqfc2JY+/mFLnQKlrQSnVhrHcvFNM2vms41Kci6WBUZm/34HfaVYGxmV+pfkSAAAgb3LdSdGl64q+YZVUgReruOrObkiVPd3FTmoQilXqtU5ciQ/vEhdbrxZsorfu3VcvLMlGlfd1eq5VeNdI21BF3BqOijNVgrutuZp/b/Q9xelrE9/wlWV1CGSdOO+dhoq6JqBUp5DuXFYr3q/iWHcW1bmgTgbJchxJKo3belJYFCaFLRTnr86dO/mOMd01VholNdCM4kH5oRTFs436sccQqu2siF0y7Fr/d8ONN/B/s0pqXImOVXFTK8oryjPxuZNk9uxP3PnnjPDpEHdQquMrbBxWw/K8pXUoa7lj+SXs3KtUUoeHsfQIz0/R6IVy0zxW6hwodS0opdowlpN3Sil2PivOVS7G+SFLmV/LfAkAANCWct5J0Xi3yJ6Z1pDmkCpn4TPI4avYMHFrwGqd+HvaltHz/hpKX++Gbrm/DqLKuyrxId3dVkVcVLlVJTd8Jt5e9ty0WGU5y2gDDTe+4DdXtbj7V42k/YbLsh5HMdX+8ko1FH51BFiYw7wVivOXNVyNNUJsBEM1NMJBw8B1R1jxqiHn8fD9Uuy8i519/um+IafRB0mdg0ksjetN+1EjPuncialsGHHRDf7/8WgC0V1+HadGpVTyzL/WD+cNUPmWJGu5o/CpwVuLzqdSnXtaHne0KS7UiVCNUudAqWtBKdWEsZy8k0Wp81llYNwRVKrMl2rzJQAAQF7kfuJMa1Tp8QKroNpzyqJKWvgce/gq9VN39uxy/NIz5TZEVtuvReMwid0drNfPFdqz5kmvcDh+lsbQxx/Ndqus2qVN7tRlPY5QveO2FDWi1GDUHWILq/JbXmjIup5rVxzFw/dLUcdP0p3dlRviXI8NiUYhZO2oEDVI486AeihnP+oES5qYVGWKyhaVO5L1ERrFh+Z6iH8OV/m7WkpPbSscKRPP7dLelboW1Ftr5dFKVZovAQAA8ib3nRRGjxfYRG8333C3r/Bb54HdmcrKGrCl7rJXuv2sVKnU0N60x1IqZXch4yHDsazxIBpBccaQH/u/5dwpr0bW40hSr7jNQncwNY+GOiXSOlHKUSwf2p3vSiiOdHc6vmtbjNKh2CNCWqb5QxSmeCLXJKXSOKmTKRzinlU5eUnnhPK6GsOaYyPtjrQ6MtWhaaNSNL9LMc8URv4Mu3Rw3eYJCBvymkOh3LvppcoELdfnWq+tJF0LqlGq/KumHEpS6rqiPF/NqI1y8yUAAEDetJtOClFlUXembbix5ilQo7nYzyEmsQasZsMvVsEtZ/vxEOisNKGhxBOlVUtza6iCOunVNwtLWsoaD0aVZpvYrZw75eU0gmNZjiNNveK2FGt8xCNwKn2e3hqOSd/Xs/JJj16ElHf/+3rxdbLSr5MoPS1uk6iRpEkwlW5Jv2YSS3uWXvlLnUwhxalGN8UNyyydNeXmJZsoUiMfijX2bV6QuEMlzvdJjc+kY8yiVMNax1pJZ06xMkH5qJw5bOopvhaESsWNsfMqTjelmdIuVE7eSepYCxW7rlh+iOfoqERavgQAAMi7XHdSqGGgoejGKsn2s5KqxNmz2HFjSEOdiw0F3mX3nRLv9uo7Nkxa2z/gkL19Ayrcvta/768PN33PJmQLGwSqbGpod6nhtnbnWXfetX7cMFAc6Kfnim0jif1qQHwnWNvXowi2PWtsxvFw/z0PtwiLWHiT4i6JKveVduBI1uNIUq+4LcU6Jx576An/V5Sn0uYeKEXHoV8z0ffDIfzKq2Puf7zZc+lpRt/1UIu8qO9rXpakSRJjijvFoRpQ8S/BJNHjB3r0QGEuNX+AftUhHqGjcCp/rbjS8v690Xmv8z9sROuvvluqs0ZhShodoXhIKit0/qtTTg3ZMGwqk8Lv65EQ5XGVKSYp36szJmzo2jFmmVvFWAM3bHgqXPG5kDYZaRZpZUKWDqp6UXwXuxZIUtwUozysvK/ywdIzLU2y5B1tTx04pUZcFLuuaN/qyMryqy6xUvlSZUdrPyIDAABQidyPpPhHQyNMFSu99Jy1ht2GvyyhyqOewVVF09bTSxXYYhV0VWw17NpXuoNJGTV8WBOQGVtPjTNbR+ur8md3urRO/wH9mibwDBuSWej7Gp6rCq4mhLT96KXnij/9ZF5hzewUtlN+/kNfidc2bHvavhpQFnZVrIcMHej/H8bD66++lTrcWOG1O+WlJl5U+oRhKLeCnPU40pQbt2rohvuxVzlpavFjz83rpYZTNXNSKB71/XCyV92JHTj4ON+ILkZxpF+okDCN1eDSuZP0SEo8Ge2gU4b6Dp9S87yEtF2bP6BYZ52FT40zSyOFUx2Q+tnImEY4hOsqbOrEyfIrJyo7dK6Gaax4iEe9GB2rdcppf8q/n302r8X3NceE0t0k5XuLD4tbO0Yty0pxpQaulXeK188XfO7LpzBt1VCOf5Ukq7QyQdvU8qzpX2ulrgVJcVOss0CUJmE6abt9dt3Bd/DEsuQddeDYNSWpY9QoryRdV3RMKu8qSbcs+RIAAKA96DB94qiFhf8DQK6oc0ijJrKM3gAAAADQ/rWrOSkAAAAAAMDii04KAAAAAACQC3RSAAAAAACAXGBOCgAAAAAAkAuMpAAAAAAAALlAJwUAAAAAAMgFOikAAAAAAEAu0EkBAAAAAABygU4KAAAAAACQC3RSAAAAAACAXKCTAgAAAAAA5AKdFAAAAAAAIBfopAAAAAAAALlAJwUAAAAAAMgFOikAAAAAAEAu0EkBAAAAAABygU4KAAAAAACQC3RStGMvv/Cq27P3AP8aef1dhaX1MXvWHHfm6cPcww+OKyxpG+++PcWdeOSZ/pgv/d11bsb0j3y46n38yAflP6W38mM5sn5P+aiS7WPRualyCfmjc0Dpo3RqS/XIJzpv7Vqo7XIelycv13cAAExuOykWzF/gG6HFKhpLckVEFbGBJ/7aDb/iV+7v40a6AUd/v/BJ9VRRUdwrDfJEldvfnnWZ6z+gnz/mU37+Q7dsx2ULn7Ydy6tU8FCMNQTaeyO+NfO74orGJopRPWDCi6+5Ufdd6a8Lm265UeGTtpXX6ygAAO1BbjspOnbq6A44ZG/38YxZ7t47xxSWLqIG69hHn3aHH7W/69J1pcLSJcfUqR+6bXfc0q3Tc63CktqZ8t60wv/yZfbM2f7vhhtv4P+K0v68iwbVtJOmXPPmzW9Ij+mFd2jPlI+Un+pRpsyeNdeXZ+1da+Z3lXOojd326O2uuPE8t866PQpL2j91AMyY/rHbbIsNm52z9TyPs8rrdRQAgPYg1497qDLV59vb+86IcIiqKiZ33na/22SzXq7XRusXlgIAAAAAgPasw/SJoxYW/l8TD/z1EXfHn+9zb7/1vlt3vbXcgQfv4/b63q6FT8tnQ/zVIXHCqYf7ERYaRjnsnBH+UQcb2mnrvTFpsn8vg84+yd89MrbOyT85stmQUHV6XHnJzf7/to9ikvZlYbFtjb7nocInzvXbb/dm29XQ5fMbwt93rz6ue/fV/WMbJg5zLGnfG/Tq6X5x7snusYee8HeV4mMIHw2x49YQWa3b7/u7uwt+c5Xf3uAhP3Z/vvlvzbYt+p5GbKSF+YhjD2oxkiEpHsL9i9JxzANj3UkDj3Qjht/oxj/5QuLxW3zp81AcLvuebXfgGT9yt95wd1MYNPLkjIbtx3fXLH5MnF7FWF4M2X7enfy+u+zCG33ahHcv7Xh098/izdLj0KP2d8PPv7rpWNPCUmmYs5wnSZLSSizt4+2mbTMOt8T5wsRxq331WLubD0ecjknrhnnSwp+U/iFLB4vLsMzQXf1wH0nhjsNh6TLqltHupmtuLyxtFKZZlngpN48UK6ckyzkai49PLL9rpEhaXCXlBx1PGCfh+Zl2zqflK21LQ/6T0jfps2L7NhbfcdwmladJ7PtHHd/f3XDVqKZ4tvI6LBNs3bA8DrdfLH8nHZ8Jj2HsY08nngNZrlnheRAec9q1M8574TGH29JNhqTvS9q2TVJeDM+3MO3KPY8rOTdM0nkn+n6XlbtkjsdywxyfM0n5TJLW0z5ubrhWhtdRAADaUk1HUqiDYviwa3wHheiv3mt5pXSB1RwEqixMevVNf4FVRUuVERtFocrKMYf+1F9o9UyqXtfeeoEbNXK0r6TVUtq+Oi3X2X+uiuDmW23U9Jmek9XQaFWaYk+Me9Y9N/7lpnVV8VBFRPtIo/jQkF1V1lWx1vYrHcI7dco095eb73XDLh3s9//t7+zst6UKsOL33oev98vDypDCPOaBcU2fKcyq7IdhVhoNGTzcrbbGKs2OTRX7+Ng0/P2ma0a5k047wq+XVEFShVpDd7UNVagU33G4Ytru1ZeP9I8MaV2Ft3v3NXzlTOEzCo86EmybWk8U/nC9NAqv0kBpoTTRNiodZqz0uObyW3wjQtuxvKPKqyqxptIwaxsP3PuIr7jqe3pZnlPDqxRVatVBYeGztFeY/3TtHU35KG2bOhfDcNu6SflC6+r8DdeVsKJutK7KBHsmXX/VaKvl8+B33/Gg/2thUVor3OExxuFQuvTaeD3/mRqUOhblXx2zPtecKmqMNJZp45q+Z9tXXKmhEionjxQrp8o5R0NZ8rviSkPdbbtaL84P9n9bx85PNeZ1HHbO67tWzmm9tAbU1ttu6vOnOgZDOk7lBTW+tE291xwXasBqn7Z/dRgOOmVoi/iultLr/CGXN5VDeml0oBqfSWkblsdWvpXK36WOXdejuIFvFIZTjxvSLB+UWwbGlLZx3vvBsQcWPm1O4VL4XpkwyU37YEZhaSO91/K+e/VODL/ygsKqa5WuWdqPnVNpspzHlZ4bxq7Rxa6j5cgSZqWj8q/yua2nepPSIWk95XdbT9cDlTXWaQEAQB7UtJNCIyiSpC3ParuGSqoqqqrIqxKnBqgqfaqM6KKrxowu3GElQBUFVZLUiAov0tWwfanCEu/rq1/r6f+vilNYkVbFWBUHVRbjCt/cOZ+6fQ/oW3jnfKeLKjUvPf9qzRpXxYx/6kW334HfKatBrTDrzqBVBJPCrDlE1ODof1g//14UX6q0xcemu0079d6mok6WYuLtKryq7IaVeUtP5ZNwPZsLJa7011ucHpZ3wgp8NWHWesf++LBmcW3pp86yLMI5YCxN1QEXhjtpmzoHdS6G4RZtQ+eujknHJmnrKj9puyGtq8fB1MkVxpvCmdTwqdSKK6zg+uyyfeHdojLJjtEahNYYFsX3Pt/bzf8tRuurcWXfE21/ldW6utcmvlFY0qicPFKsnCrnHC2X4ircbhxXon2FI10URzo/K00zjaiK9yE6H3Re2Dw2Nr9RWIaJwqvRenqMsJZlr9Lr8IbjjPNx0r6SyuMs+Tvt2J9pKOvCY49p3/bYZJheihfFjyTNB1WKwqHz1G4iyM7f3LZZHIQsfHFe13udA7Wcd6nUeSz1PDcqUSrMlo7q/ArrHvpOWA6npbfSRWUtAAB5UtNOChtBEUtbnpVVxDWaQg0iXYytwmMVGV24Y1Z5q9Xka5VWmvR4hCqLGg4diif7UuVQd290Z1ST09Wb4qbcYykV5mJ373THL26E6M5yWiW6Gknb1VBbLbf8kJae3dZczVfk4kp/vSWlh/KOOlxs0tBah9nST3eWS1W+FXeKw5Aev4jDnbRNhStuuBhLJzvGtHW1XeWrkNbVcev4QwqP4knxVQtxfu7cuZNvyNgx2vtaNWJse/Hke9XkEVPuOVquUnGVxvKWHUc57BoRdwaH+SOpI8lY3qp12ZuUXmn7Slo3S/7WsahcDo9d8ay8GF4rY0pjpXXSSAXbZpZyIaYyoZw8pPApnOG5Y+GPrzfVKpU3631uVKJUmC0dFb6Q5TPLF8XSW/lJ+Q8AgLyoaSeF5qBIkra8HHb3QA2lXXbfqbC0cQZtXbB14Y6lVfQrYZWmtH2FtK6G4trvtmtoZhJV5mJJy+oly7HESoXZfsFAw7vt+IvFgyraXbquWHhXO0nb1XstN8oXGlnRf58TmoVz392ObvYssu5M63f9w3Xq8bOISelhHSsma5iLiY9HoxayqDStdD6oQq2Oi7hyLJYu6jwqtW7I1tVx6/jD+FD81HL4sjoCQgqbwmj0XpV/C0slj5rorrmFPy09S+UR7bNUOVXuOVquUnEV0qMMtm8NTY+f4y+HOrt0XDaaaFGnRGOjzI47Dp/R8qTO5GoUS4d4X/G65eRvXRPDY09ruIasMyjueDQq1yvptNG1Wuez0lPljI2QKibuANBfPf4SXutroVTezHpuKG3Ca7y9dA7XWskwN6SjzhuFLw5P+HhcqfQGACBPatpJoUkyk6QtL4fd2Um6q9SaSjWeVOlWhVJ3MOyZTw27XtLomO34w1fefgJPd+zDZ9PDlw1HV3gV7vCztvx5uyxhTqJGmzpX9Dx8OC+FhjG3Zwp/GAfhK20Og3rQkHDtU4+vWMMyyzPs1mmkiets3gF71r5SpcopactzVPGiRpTYfm3OjkrFo4mswZ42oqStZe30y5K/42MvNZqmnlQuqnxUeoo6K0p12oUjQ0R/u/fo1mbX+lLnhs4tPaIVfx4+XtWadN6E8/eEr7a8VgEAUKmadlLoVzwGDjq2aeSE/up9Nb/uUUqxuz1aps/iu/+VPP5hdy9siGUSNTb0/LAqOK3ZOArVerhyucK74nlX6Z3CcoTD8GuhmjDrGXXRxHyt2VFU6twJ73CXWjccFZXlnGwLOvfVOFDjMpxrI41+lUcNzCFDB1bdmMgSJ219jqqzTBNBqjOnWKdauXTs4fB2NdjDxwVKHbeW6/Ow46Da8iHt+8VGAJpy8nd47NOnfZTpUYlSj9ckhbGcPGOdu7oeqtNOk0qnUTgVXoVbaae/8WMOraG1zo1abr9UOppi61kZDABAXtS0k0LUIXH1yN/7Srr+1rODQmyIrzXAQvGkaVYBCRs6okqkKpOlaEiqKlv6lZEkacMp7e5WvakBq+ONhytXUiGqtHJulU01QlTZzLNieacScb5SPtAdrjj+q6kQVhPmpEaH0kgNm3ordu7Ed32Vj5Oe/U4Ka6lzsi0pbEmdVGF+UONTjVA1RsMGmQ3Xr0SpOKnVORrn96zCTqmQ8kHS4x5JZVoaOz9eeuE1n1cUF6bYcSsd4oZ9LcrTcKJeY/k4TvMk5eRvO/ann3g+06MSNvpCE1LHnSAWRusoqObaafMdlMovOlbleaWdwm/X7dZU6+tXfB2ttg6SpFg6hmzfSfWRtHMPAIC2UvNOitamuzX6qa34J+5091I/q6XP7K6xKiCaNE2jHezupi7q+tm7LM+v2wzf8U8Dar96WeeE7owaDWvO+sx/texZ4HD/Clf4XGoWqiyW0zCI2fPR9nOCRmHJMvy9tShfaMK2OO8ozHpsJ2sl1Sq28R1P235Y4dXfERffVHGFsJowq9EVNnjKyfvVKnbu6FjCXw3RrPSqdCue7HgsrCuutLx/b+yXROLt6nuKjzA96ilpf2oMhBOAWmMibKCoAajGalgmVZtHSpVTUs05mpbfs7LGUtiosnwQs4ZqqbvExs6PR8f8y3fIxZOv2q8pxcetCZnVSAx/balW5WmYDtqn9i3hvtKUk78tfz0/fkKmRyWU9/SrQOoYCH8i28Ko+LNflSjn2qlfkAjDajcLSnWa6FgVfqXdZg152K7bra1W16+k62i1dZAkSkebDyf+qXOF18557VvlrOoj4XHo8zH3P97sUSvlLz0aWMncOgAA1EK776QQDa/WkNJw4ij7nfb4sQu9VyVWn2s9PTfeZ9cdMj//reHJ9vvjti9VINVBoUqV9qlKgH2mBonC1hpUCdFP1akCZPtXQ2DoxYMLa2SjRk4YR1bJyUrxoEcKfKU/mPBNz9wn/QpLW1J62u/OWzgVZjXoFZ9ZqcFhxxtOqqmfelNl3ya61G/Uq6JYzUzqlYZZeV+NV/uevqPKrZa1hrRzR89Sh89yq9J9wqmHN4s3C6t+VjakdfVseJhf9dL31EjQ561Fd54VTguDGvE6DguD/qpRaOenNQDsJykt/Mojx5x4SFVzUhQrp6TaczQtv2dh5ZQax7ZvlVMjbjivxZwUCqeOw/Jslkai0v2xMU8kPi6gfeuxGonTKn7cxsJZTXmqNPzpL4/388Do+9qnZH20p5z8rf/rmNOOPYnlA+Vd27bCqI4z7TfcRtZr52efzWuR7zQHjvZVTBh+HVtbqdX1K+06Wm0dJIn2pXI0zKt6aXRQ2FGn9VQfUUebraM8PXDwcb5DDgCAvOgwfeKohYX/AwDQrqkxmLVhXE8a6RB3VKE4dUJp5NkZZ5+UqRMHAAAsnhaLkRQAAGhkiu4M6051W3ZQoHwajaMOCj0OQQcFAABLNjopAACLBf2ChB4jKTX/AfLn3jvH+L95eyQQAAC0PjopAADtmh4T0PP1+snXtn7MA+XRYzFKO82LwWMeAABAmJMCAAAAAADkAiMpAAAAAABALtBJAQAAAAAAcoFOCgAAAAAAkAt0UgAAAAAAgFygkwIAAAAAAOQCnRQAAAAAACAX6KQAAAAAAAC5QCcFAAAAAADIBTopAAAAAABALtBJAQAAAAAAcoFOCgAAAAAAkAt0UgAAAAAAgFygkwIAAAAAAOQCnRQAAAAAACAX2m0nxYL5C9ylv7vO7dl7gDvxyDPdu29PKXySX7NnzXFnnj7MPfzguMKSxZfSQ+ny8guvFpa0PyOvv8vnL710HHqv9FM6Lgna8nh1jlRzXivsKh9UTiwJlrTjbWttXZarPGov171yUObm83iVz5ekdAAAtL3cd1IkNVZUEb/ykpv9/+99+Hp3xY3nuXXW7eHfA7WgyuKEF19zo+670v193Ei36ZYbFT5pWzofaIwuudoy/bN0PMadJdaY1/JSyNtLNsrcxY+d/+35ZgUAoG20y5EU8+bNd1OnTnebb7WR69ipY2EpUBuqjM6Y/rHbbIsNXZeuKxWWOjfg6O+78y4a1GxZa5vy3rTC/+qvLY93tz160/mYoDXTv7UtzseG4ihzG+XheGtp9qy57uMZswrvAADIjjkpAAAAAABALtS8k+KBvz7ifjTgZ/6ZUv3V+1rSkND++5zgxj/5ght2zgi/n6ShxLozoyGaScM0kz6zZfY8rF7xd22dpP0lPZZSjIY/hvtK2ma8jl42bDLpGExSOG3YpW0na1htiHcYBh1rJSxc4bbi8Fs4tQ+9tE74LGzSNp59+qUWxytJ65Yadqp97rvb0W70PQ+5m6653X/Hwqjth+ENh79bWIvtp5LwGNuXwqSwKYz2/TAcIdtfpWGux/GmpVVM2w/T3SRtMwxjTKOuwvUVfh1HOWyfSWFWOONtxueaXnH86H34ebFjEIv7pPQPzZo1t9m+k+JQ4vQrlR71lOXYyk13U07aWTi03zh9yokfrRt+Ny0Nsq6XlFfmzf+88GkyO+6kOEr6zJbF+wm/a+uUG5d2nPH2jL7b3srcSuOiVJjj47WyRN/TuuF3tSyWdLxZy1wThzHte3F49AqPR9875tCfujcmTXYDT/y1/zw8tlLfBwAs2WraSaEOieHDrnFvv/W+f6+/el/LjgoNh9Qzq9vuuKUbdPZJ/tlVLYvpMRA9DvLKhElu2gczCksb6b2W992rt19PlYhTjxviVltjFb89vTTXhQwZPDyx4liNJ8Y968Y8MM7vQ/safsWvfEUorHRon1rHns/VS8d72YU3+vBmOb6tt93Uv9f6g04Z2nC8fZq21X9AP1+BKFYpUGXigXsfcb849+Sm7yms6hyqpDIx9rGnfZhtWzo2PbYz6pbRhTUWURxpmK3Ws+GvihOlh1jcaRu33zraVyJDtm6Ypgq7KktJlTujxwy07X777e6OOPYg/71Tfv7Doo8V3X3Hg/6v7UfppP2EcVRpeIwee9DjDwqTwmbHX+lz21nCnKac45VSaZVVuefp1CnT3PlDLncHHLJ30/p9vr29++1Zl/lt1UPSuaZ0Dim9dR5fe+sFJY/BZEl/He/woX90J512hP9M8S03XDWqqWEgajyMeWBsU9miv5oLIGxAtKZSx1ZuuldL+fu58S837UvpNPbRp0s28hQONSj12IIdg156hEF5Isxzdq7YOlq/e/c1WqSV8orOLeUhW1dl6ODThhbWSJaX65/issfa3fw208pRytzSZa6uh2Ge1HHoOhwehx2vWFjLLXOVx0eNHN1UNukl2ldI+ypWPxHVy7SdDXr1bMq/lq5Zvg8AWLLVtJPijj/fV/hfc2nL623DjTfwf1+b+Ib/a/R+ldW6unV6ruUrhHfedr/bZLNerv9h/QprNFbyjjq+v///vXeO8X9rZe6cT/22rRLWa6P1fSXopecb79CIGuW6oIfPpm6345Y+3HY8acf32ENPtDg+Nc5UGTR9dtne71MVnzQK37E/PqzZvAAW1mLfS6P9h2HQsakxpwZSXBFWHO17QN/Cu0aWDmHcaRtqlKkiFNK6qvSHaarKpSqcYTzXwoorrODj0yid1IkWxlFrhieLLGFOk/V4JUtaZVHJeTr+qRfd4Q0V5TD/6rvahs6RerCyRXFilM5hg1uNgJN/cmRTuHQM6kjRs9vvTm7s4K1EfLx2foUNVTWI1OBWOljZor+HH7V/YoO2rVWS7tVS/g73pfhUeqkjuViDMinPi+U5HYed58oPYee61lenQZgGllfUeLP8IypDVW6UkofrX1xW1MqSVubG18OkOkNS/iunzFXeVh4PyyZR/GlfIW23VP2kmGq/DwBY/NW0k8JGUMTSltebLrRqnIcXcv3Ve5ugK76rFNLnWk93xmpZoYknB9N+dbdHowo0PD1N586dfKXLJvLqtuZqvnIZHp8a+2r0q3ESHp+NqjDap+60JXUQFGNhrVWcdO++um+caYKtUBxH8XGFLB6Mravji9NU8VDrxli8H0sni6PWDk8WpcJcTNbjzZJWWVVynqoBoIZYSN9V+MvN91kpP+tRtLTOhrCBGLJ4ydJgSZN0vAqPhlvPnjnbv9f2tR/tL6Tv5bGB0Bblc9J5qvhR/E6d+mFhSXPF8rzluVLle5eVu/i/llaWV8IOLxOX50nycP1ListayFoGJe2/PZa58fVQ2wnrDLUoc1U2qDNCHSAh7UthL8WOp9KJRqv9PgBg8VLTTop112teQTZpy1tDXCHRXw2L3mX3nfx7qxBaBTGmoaqlKpfl0jZjSctEdzfseU17bteo8tDi7ltD40iNfruLpuMLnwkNX/EQzjS6o6dnau17uttSKVXGwmdmFa4kcXyUM0u4rWtzloSvtP1VQw3BkFUgTdbwxHFjryzDgctVKszFZD3eWqrkPFWFVxXfJApf3DFWC3aH0863OO1UAVcnhubVCdM4PrcrkXS8ii+7i6r8pQaR9mPP19vL5vnJm7Yon+P8HUprQFmeT/uuliflOQ2vtzSw5/eN9lUsD2fR1te/YnFZjaxl0OJS5ibVD8Jl1Za5VjYoPApXVsXqJ1lU+30AwOKrpp0UBx68T+F/zaUtbw3xHUL97d6jW4s7iXljHQM333B303Ob9txuKD6+pDulaqSEz5iGr2I/d6a7M3rGWs/wh/NSZBlqnEQVclVEdFfGthU/r19KOZXe8Dnu8NVWP21ZKjyqHGoIbPx5ONS7PalXA6UWdM506bpi4V3tWBrqnNWddzWI4gkRdQ7bM+PxK2l+nVrT+Zu0b73Cx7Fiii/FW9poAlNuQ6c9SWosVkJzCahhJhb39vx+LbXX61+tUObWR9b6SZpqvw8AWPzVtJNir+/t6gYOOrZp5IT+6r2WtxUbsqohrmoo6G847NLuINkdpVjS3axqhr9mpWfm1dkwZOjA1E4ECY9v+rSPWgxxLXV8xTxTuLM67NLBVTfqVSnRs/CqNBZrCKUp1kDSXT7d7TNZG1OtpbXC0x6ON06rrCo5T9PuAFd6h7qc817npToA1fDUHU57Xrwed/6zUpmgDoR6lV92N7aWKkn3JOUcc1K+LTVSotQ5ruX6XOvpOqSJSzXXRLFOqWJ5Jeu53l6vf9VqrTI3L3FRbZlbqmxQPghlrZ+kqfb7AIDFX007KUQdEleP/L3vGdfftuygMDbk9aUXXvNDXe1RCLHnNTXTdHxxVqUubPTbhTyp4hhfxKuhcKiyEN+R1FBdHUfMju/pJ57378NnmIsdXylJFVSLk3JZJdgqxSbrM/gKg8KiSnZ8HHrEJRyqbhVzNQQU3rZW6/DE+c8qqHEezFI5rYdy0iqrcs5TkzQ3hK1bzt3+as57C7dV/lX2qLFrHYCVSApHViorNKR60qtvFpZkVyofW/mkfVQqPrZK0j1USdol5VsbiRCXX6ZY3Ghb2qY+13ppHR7aR/i4hz5PysO2vaza2/WvFupd5uYtLmpR5qpTTPnEHg0ylg+Mtl9O/UTCzpNKvg8AWPLUvJMij/ScuCpij475l9tsy42ajQrQRVIz6+viGP4Upi6k+jk4XfjDGbn1LG/cyNDQ3WrmaYhZBUgjDzQCQVRRGHHxTc0qscaG9D4/fkJTRdhoW5q3Qg2T+Kc+Fe5iz96q0hI2aCxOKmlkWuU+/FWFcuItLZ0UPzdff5fbdoctCksaWTrFP+mn4w1/tq211Co8anBoO+Gz7UpvTZgW5pdq0qpa5aZVFuWepyb8STtbV2ymfC3TM+mlfl4y63kfn1NW8baJCVX2aDJDPSsfrqdwKAylGlRJ6V8OmzMj/qk/7Vf7VziKsXiL87G2pcfCdGyVDpVPOrZK0z1Ubpkdl5VKJ6WXfra52IiytLjRttSYtc+tUzHsGLB9hOyXKOK00vbmfvJJ4V1p7e36Vyv1LHMlT3FRizJX6ax8onqGlUOWD1ZcaXn/XrSvrPUT6wQLO26yfl/L9KhcW/00MgCgbS0RnRS6KOpu0GNjnvAVjpgqbXqkQXcLwkmcdCHV86r6vtG6+omucEIuXYA1dLeW7GfrNJma9qHf2T/mxEMSn9m0u0Zpx6fKroadq1JgYdZLd13imbxD9lN3Ngmg4kSNrUrmpLB4UwXO9q94K2dOCm1Dc2OEx6GKzcDBx/nnrEOWpr5x0BBuW1/PwCbNll9vtQqP0lINQcsX1tBVWoXLtY8+u+7QZs/4lpNWWVkcZjlPRcf+018e7xvPtq6EQ4x1F1RpknTehLTvrOe9nS96KT30vbDhriH++l64nsKmTsGwgzFJWvpnpThSXIXb0EsTZyoO4jiMKXyKPwnzsR1nNXNqpB1buekeKyftxMokW1fplOUxtbS40V3jMM/pr34WUg1KW08dFiNuOK/FnBSKzzitlE/2P3CPwhqlKX7a2/WvFuy46lXm5i0uFJ5qylyl8wmnHu47pmxiX8Wbrvk79d6msFajrPUTbVOdJxYm63Aop34DAFgydZg+cdTCwv8Xa7rDoaGfZzRUIEo1BNC+6I7L+Q0VRY0mqGS+C7SerGnVWuerGhxqtFAuwEaDxJ1KiwOuf0suro8AgPZoiRhJoYu0KmhJvyGO9k/P3GrYbfisNfIpa1rpjqTu6IXzodSDnpWOH5ECFidc/5ZsXB8BAO3REtFJYTPrt8Uwf9SO7gbqFdLdTz2zXep5cbSuatJK62l4sM3jUE/qDNHweWBxxfVvycD1EQCwOFmsH/fQRHCaA2HbhsoZw1zbPxuOHU/OpefFF7fh2e1duWml55SvvORmP2mhkKZobZZnF5fHPbj+LVm4PgIAFidLzJwUAAAAAAAg35aIxz0AAAAAAED+0UkBAAAAAABygU4KAAAAAACQC3RSAAAAAACAXKCTAgAAAAAA5AKdFAAAAAAAIBfopAAAAAAAALlAJwUAAAAAAMgFOikAAAAAAEAu0EkBAAAAAABygU4KAAAAAACQC3RSAAAAAACAXKCTAgAAAAAA5AKdFAAAAAAAIBcWi06Khx8c50488kz37ttTCksWb215vNqn9v3yC68Wljg38vq73JmnD3OzZ80pLKmOtqPtabttJQ9haA8snpQnS0la1/JTlu8jXWucl9VQuEqVWeXkpazqsc16WzB/gbv0d9e5PXsPaLNyfnHQHtN+caT4D/Mx6YI8m/3Qg27K+ee6/82e5d/Pf3uye++cM/3y9kJhVZgV9lK43iDPct9JoQuZTp6kV1ghb2sKp050nfCoPStIqdggC5UNKiPSOpnCC3P8issV21aeypt6oRxrPYrruFKoeL/ykpv9/+99+Hp3xY3nuXXW7eHfA2h9Kvfz0tlbjBqmH1x5mfty3vzCktpSo12N989e+k9hSTqt887g01u8Ztx6U2ENxOqdfkm43qSjLpQP7WIkxQa9erprb73A/X3cyGavTbfcyH++2x692/zkmvLetML/6i8PxxsacPT33XkXDXJduq5UWFIdbUfb03bNvIaCe+rU6YV39ZcUBtSe8rDysvJ0reiiMuaBcW6Xvju5CS++VrRy2W+/3f3F2cqU4Vf8yg088deLRWdYJedla5ZjaMnKuc232sh17NSxsBRov/JWXynX1KkfFv6Xb59Pm1r4X318MXOm+3L+Z4V3yawjY+bf/urWGny2+8rQi5q9RJ0VWTo68qLTuj3d2mef57rsvkdhSX3UMv0UVoVZYS+G60066kL5wJwUABYr0z6Y4aZOmeb2P7CxUvHu5Pf93yzU8Tno7JPcmAfG5v7OGQAAeaBHC6YOH+ZW2H5H1+OMs9zSXboWPllktUOPcN1OPNV9dMef29XjEwDaRofpE0ctLPy/Jh746yPujj/f595+63237npruQMP3sft9b1dC5+WT3c0R40c7X5x7smpPfFaR42KMxoaF7prqMbF+eeMcH336uO6d1/d3xk1aoDEd21tyNPoex4qLHH+jqqN1ChGQ3V/e9Zl7o1JzZ/90vd7bbS+3+5qa6zS4o58fFy2nZN/cqTvuR/WEH4Th6Uexzv04sFu7CNPJYY1FIbTwqQh9TOmf+xOOPVw3xsbrvPc+JfdTdfc7tfbdsctfZg7d+7UbP+6m23flfB4FHYdbxgfYtsKj3/8ky8UPk1PPwtb/wH9WsRLGO51eq7VLAxGx2rHI2E4SkmK9/jYbZ1y84zFc7y9UJhv7r1zTLPjiOMrTlOjoa/KX7Z+mFYbbryBD4+dC6XSVZLyk4njutixhXScLz3/ql931C2jE4/D4llKHWP8vhhbN5QWt/2+v7u74DdX+fgK14nz+xHHHlRyRE9SPCaloa1naaRRaspPEi43YbjiY0tLj6T1+uy6g7v6D7cULcfLyUumVJiS8pwpdS7rc43ECZel5Zti+0kTn89xeCQp7Yvl3aTPbFmtyp0k4fHX8pqbdT3bv10DlK91Ltx8w90l0yTpfBQLd5zHkvYvpfKTWBl80sAj3YjhN/rwhvGT9RzLotS2kq4fkvU6LXF5InF62zFbXGQ9VxT+yy68sUW+s+9vtsWGzfJqHP9Zys1iaRbnKZOUn2NqgM8a80DhnXPLdF3FdTvplKaGu4b0T7/hj27B5Df9e+nYc323xlHHuaUa4t3o8YgvZs1yqx5wsPvwuqsa/v+xXx6uq86BD6+/qmGb8/xnZvUBR7rlNv964udd++6VODIgaV1t59MX/+M+feH5wpJGYRjseJb72kaZRhxoJIU6KlY/+vhmd/uT4mXVgw5xc59+siEOu/pODlH8ftKwbLWGsM0YeaOPFzumco43Tqflt9zKLdutu9+2pZdtb9UDD/bxaTRqZNqIS5vSZKnOnZsdj32uTptl11zTfdgQThOGp1T6xbIcn8VPmOdipa43Wa4bklR+ppWREpdLUmz9WFw/isurrNewaupCWcq9sJwTC7PtJ77mJ10vUOORFOqgGD7sGt9BIfqr91reFp4Y96y/+IZDuZVRlGGNMtKQwcN9xq5kyLcymoYy6uTWCWxDx7OecLG772jsXbawKOMrLDqxSynneMXCOuq+K93tt45uVhjVgsK99babNu1DLr/oRnfheX9sOHF7Ny3XcDM1JtPoxNd6OokVH/qeDWNXYTHolKG+INByvXTcabqtuZrbZLNevhGrQjj02sQ33CqrdfUdFEksDWw/ir/u3ddwN1w1qsW2YgrnqccNaZbP9H1ReihdKqU802Ptbn6bp/z8h0UrtB/PmOXOH3J5U7roVU4eS6O8d+dt97tL/jjEb9PSVReNUnETU1zoGWBd+MJHMbb7RssLdkzfVYXYhi/qOF+ZMMmPriiHLiRdVu5SeJdN474bLoYNxx7GrSraSv+QRnr85eZ73bBLB/v1rLzQRUvht23orxrKtXg2Uul7zKE/9Y0SC98Pjj3Qf1aqHFMZouOwx+7S8q7WU17SOWj7UFoMPm1oYY3SsualrGGKpeUvNXpUllhaKe/ofJk9a65/LzY8Ns5TGq2jddW5UilVrHSsYTmX1MhSvlacJuVrvddyla9ar57lTpJaXnOzrmfXAKWfradKoPJG3MBMo2vf6Lseaspzin+Fu/F8HNeUT5LO56z5ySif3HTNKHfSaUf49axiW2l+TlLOtiq9TutcfODeR3xcax29LL2ruZaUS+FQ+RjGv8K76qrJjTNT6nqu+oXqGUpznZPaptYr1kGhRrbmFVADMXzcoct39iys0djInDLsHN/ots/XPruxfPzg4t81TdhovmxoBM+45Ubf4NS62u6XM2f6xrz2Z48jqIGtjgNtS+upgavPZz/8oG88277U+FXDPH7kQg3baVdc4hvjtq5GPXTovFzTCAjfEG/4vj5b84STmzpU5o57zIdJDXITzkuhR0A+uusvTXNSdOq1sVtmzR7+e0bHreMXOwYd6+x//L1Zp4XRoycf3X6bW/WwI/y6aqSXc7wKy5yxj/rjsnUl7LRIozS0USP23ZX6fNvHX7wfde6ok8fWs/AovqVY+sXKOb5Sil1vyr1upNVnYvpe1jpSzM7zsH6k10GH9iuskV21daH4uypn1Qmi60VM5aFoPW1L7Y8RF9/kj8Xq7XHZg0Vq2kmhERRJ0pbX29w5n7p9D+hbeOf8yAZlurCBqjvKyhz9D1uU0ZUZlUGTGrL1tuIKK7g+u2xfeOfcdg0FiAoRVfxKyXq8ctTx/Zsas7oYq8KkhlktKQ7txNY+Dj9qf/fomH+7dddbu9lydTCUmjsgjXUsKJ6Mtm3bj6VV8BsLz7G+YqkwJdE2w0aDtqVKXKlGsOJejS4VTmE+0/eVDmLpUok4zxSjnt++e3+zWfyo0qW00l3HStJAlPeS8pTiZtKrLSsYxdg5GffY7/zNbZu9T2KPdlh+0DmgeH/soSf8+yx0rilPdem6YmFJNjpmdRKF+Ufh0LaUT0Pjn3rR7Xfgd5qtqwvn2Eef9vFmy/VX502pPJaFjkvlgeLEKE7tzkIaVR50AdZF2dZVOhxwyN6+wWVxbuup0pGUv7LKkpeyhilJUhkoOjeVV3Su6pxVZ2WcdtruSiut4EcJhss1+k3fVSdoa7DOkDhfWXmosNe73ElSy2tulvXSjlF5QnkjK137lHcsP6g8Vbh1PobLk87nrPnJqAzeqfc2zc67avJzrNxtVXqd1jaP/fFhzY7D0jtLfaVW4o45UXj33m83//80OrZKrufFWGM9voO9wrY7+PdqZM6876++gb7K9w8ufKq78J3c6g2NbZk5+h7/12guiK5992janv6qcfzFB1NKzmOg7a5x1I+ajVZQB4Eaw2o4GzW61WBXgzdsHOt7nXttWHiXTMf02euv+jBZGNVg1kgJ6wBQR8JnDY11jVIQhUujLjRKRN8XO27Fg3V+aHv6rjpHYhpJoIZ9eGxZj1fhU+eBOmTCdZUmWrcYS8POG27cbPTCir13abEfWTh/vlu5336Fd4vCozizY88q6/FVI61M1fmRdt1Iqs8k0edZ60ixsY897TtK49EG22y/ecn9xqqtC8V1HH1P5a1GRcQdtNqP1c/DcljC5dWWPYurmnZS2AiKWNryrHRRV89VOAN/ltmW4wanMoJ6BpXRdUdM39dFN2nSmErvwFYrDouGMKmiprsEYUUnSdbjVWUjPqlthEEtqZcwpDvTqgwqbkMaHqyTNrxjmZW+q7tl5VTikir4+r7CsMvuOxWWZGN322fPnO3/JkmqRBmlg9ItS/qmScq/aRT/SXd7k+4alyOpc8fyVDkV1mLnZCmKP/XSh2HRNrStrJ1g6iXXhUYV9fh4KmHnbzwJkzoe4xE7iifFV9zQTWosV0LnYyVlWtjwDcXpa+uFHYYmPueLyZKXsoYpVqwMtLxi5aU+V1jChrO2u2PvrX0DztJUn2mdSvJspVQp6vPt7ZuFzcJh8VfvcidJnHbabyXX3KzrFTtG5Q2dZ1koL4Wdkhbu+HyMz+dy8pNJKoMrzc9Jyt1WLa/TFm+1zlfFKN10vOXEUZos1/M01ljv2LNnU2M9pk4FdS506fOtpoa40Xf03bDhLnpUpOO66xXeNdLjA2qkfzl7ZmFJdtqvRnGE+5nfEO6lOi3XYj9ZLFzQEI6ZM32YRCMiNHFm2AGgzgl1zIT8MTR8T9/XdxZMntyso8MkfVfUcdHpa4saimmSjlcNejXs1cAPaV11nhRjabj8Fs1HOth3dRzhaJg4P1h47NirlXR81ajkupFUn8kqrY4Uiq9t1aq2LpRUx7HrTTzRrsrDMB6tvIqvbdWUPYuzmnZS6O5SkrTlWemCacMW7ZVl1vr44ivhMl1sddHVcJywA0QvDYE0OkE0NCdepx5DGlURCNlFP4usx9ta4mOpB7tzo/TKmiZJFXxVcOIKaRoN6bI8oM6z+Nm1mBU6VgjFlEZxRbYc5cSzCse0EQI6jkoLyKS8Z8qpsKqzSJ1OleQdu7jGlWs1CJTvkzqyNMx7392ObkpPG0oY9pKXS3nQtqdtJz1GpYuyLs5G8aN4isOjV/99Tsg8bL0Yu2OhPFvO76Gr8qD9KxxhuOJj03rxcVUiS17KGqaYlYFp+UvLw4ZYeG5ag1TrKI/p/1pm+a6SPFuNsLEu+qtht9bRWu9yJ0lS2oXLsl5zM69X4hizqjTflpufJKkMrjQ/Jyl3W9XmW5UjKk9sP/Fz7vWmeqA6ibRf7T9pyHUx5V7P01jj1UYLJLFOhaW6rOz/xvTduPG61Moruw4dm48k0PeTRhek0UiJ9845s+nxi3B+CetcSdpPVh0awmLHtODtt/zfpA4P68iIZfnlkJg6VZZpCHOSUserBr0a9mrgl0tpqA4izTFh27dX0qMiSfmhWB7JotjxVauS60a55WeWOlLIrrFJ15dKVFMXSjtWLdNnWidUqzAvqWraSaFJMpOkLc+L8Pnp8GU/m6WOAg1Rij+vpiHTllq7Ml1Pljb2bJ0qsFlG2YQV/GJ37UK6y65CVSwPqPNMnWiLAx1HtZX9JHFPcimVhkO93KpgWoeVvaziqVEWcWeJOrjsmUO9yv3JzpBV1vXYjD0zqW1rH1lp6LWFJX4VexY6Cx2Xjk95VhQvWee6iOMpfCXNm1AvYV5qjTCFHVxqaOpRD90x8flz4UK/TJU6VXgqvZNUKe1P+1W+F/3t3qNbpo7Wtlbqmmuyrrc4qGV+bo1zQ9dNXWs1gVw4L0U5j3bVispG27d1VpS6YVGv63laQ7wt6I6+5oPQRIvhPAZ6TCJWaaNdFpYY1WGjLUKff/BBi46RauOunOOthjqIwrkswlfaL5vUQmsdX71UW0eqVdulmroQWldNOyn0Kx4DBx3bNHJCf/W+ml/3qCcbdlPv38FuzaGPxRQ7XvWKqne0vQoLHTUqSj1rHVbw7VGPpMcgjCpkusuuZ9HKreRZgzttlEJS72y98kx8V88oTyg+wjt85dxljXuPxfJUOT3JpeIqjaVPWiNf6Rbeda4HzXuh0ThDhg70+bEcani31jBpNe7UyFMDUHcw9KxnMUl3TpIUW6+cMjZLXsoaplipMj8+D2yIvJarrNBjHkpbLVeHgJZpFFathqGWQ/vTfjUiTPlff8OO1jyVOybrNTfzekWO0UY51FO5+SlNpfk5SS23VcwzhdFdmiyvXh1G5Y7u07XZGj3F5liq5nqeRnf1dXdfje80NtogrUGv0RjVjGiIaQJP6T5wULN5DELVPi6gsCrMxY5boyvsVzDERm/o8Qi//yJxl9TBkaYWx1tyno8SaVhPWY6vWpVcN7KqtI6U9Xog5VzDalkXiusoqI2adlKIOiSuHvl73zDQ37x2UIhV8nSxSruYlSPOvNbwSMrUSRXxerPhSOFjDsaG2eddqXizRkWpgiqs4P/r8fH+8Y9iFS2r8MY9uWqklBoeamFKupOvfBeO4qh3nlFYFeaQwqR4CC88KmiTOjTSLhI29D1UyaMbxeKqGNtX/KiHsQ6o+NhrRWFVnotHjdgwxSwUdl0oy51otFL2DGWcr+K8Z6MJrFGSRumsNFBahCx/ZZUlL2UNU6xYmW/hDDsc7Hx8ctxz/mX5S8t1zr7x+mSf7m1VMbERYS+98Jp/1CPsaM1TuWOyXnOzr9dYeU2ajyBL2VytcvNTmkrzc5JabqsY5Yu4sWL5qhbUWNKohviaU6rzyc5NrZPUIS/lXs+LbcvYnBJqSIZzEoRsfoXZY//ZooGs72g+A2u4VyJ+VCSp08P2E9L8CvoFjfmTJhaWpIs7EqzRbxNB2mMe1qDW/uY+85RbtuG47bvxr4FYR0fSZJJxB0cxWY9X6ZA08WjSurFiaVitOP1iWY+vGuVcN8qhbVVaR8pyPajmGlaLupDqKPosvAajejXvpGhv9PyuMlb80y8aKqjhgFmpsph0IbPth5naJudrbTqJNbOsCoTwp8Q0BOvm6+9y2+6wRWFJ/lghFXc+KC7DYZ1W4CVN+hOzCv4bk95uanykscpwWHBrv/bzQsWkxbu2o3ynil746xz1zjMKcxhnCpPCpjBanNkze+GvYhQ7XjUgw3NIeUo/KxXOHJ9Fsbi6768PN0v7kBopxSZvUgeUOqJKNXoqpXDrAqlfA7DnG7Uf/dRU1oaSza+S9BOHem467diz0ozd4XbtohpOFptUjlncxflG4VG4LD6VzkrvOPxKx7mffFJ4V1qWvJQ1TEns1yfiMl/hVKUk/HUKUZzo1w40AbTdZRI1cOzcCSsmCo+GkZdz/aiU8owqlI+O+ZfbrCFuwo7WvJU7Jus1N8t6ui5okluFMfyu1hlz/+Ot8iheufkpSdb8rM9KPUNdzblRDnXMhZ2q2r7iQOdvLdhxhGW2/sZlquJCZZtRONQ5pO+G50OonOu5ndtZRnTYrzh8eMtNzRqwM++71zcm1aBfeZ/v+Qbyx3f9ufBp48gCfUcNUP1KRCXU0aB5HTS/g1GDOux8sP3EjX79ooceGdAvcmi+A6NfwbCftrTGedJIA4VZx6T9qLNGv8ihXwvRfAn6qc4uu+3hf6FEczZomToj1jzt502PRaTFi8KiX/1Im3silvV4FV4dy0cNnyldxNbt0Kl4B5HCqolPtZ8wrKKfFS33p0BNUvppW4ov+7nSrMdXjXKvG1lVW0dKK2fvv+fhpvIh6zWsmrpQ/wH9WpStVkfRZ2llDiqzxHdSKENpuKKvTOy2aMI6DRVMmsE1jSrPuijq2abweUhtXz9No0xt21ZvnYYZtgWFR8+PqqCw8KiQGDj4OD98Oc9USFk6hfNOhHMQKP4V31kaxvbIh+vQIbVxa1QZtp9BtHyiCs6IG87LVBG2fKZeaAurtqNCW3NqqAA39cwzashfe9uFPn/bthWmeMiuHW+YT3S8Qy8eXFijOYVNvesWN0oHFdiVDKVNiytdMMJ4MrpAKJyl7ljqopN0p79W7CcHrQwYdMpQd8yJh2R+3lLHprwQliN6aQI8hT3p2Mvx2Wfzmm1XF1WVBWG6p5VjSkelcXiuKU3UUAnjXOvF4dc6+x+46KfaSsmal7KGKabPNNxUbB96qQM0aRiq3WVR2uouk0lb3pqUJxRXj415wueRWF7KnZCFqdQ1N+t6yrMarhuGW2WVrmm+fK+zcvNTmiz5WaMKsuS3Ss+NcthPC9s+tH3dHNCyWlGZqkaRTQKqMlWdUjrvQv+4//Fmx6n8HZcXIcVB1uu58qHKHzvOsDMspka3Gt/y3jmDmyY2nP/2W013vzVMX8P1dffbPte6Go2w5gknVzyKQh0N+lnMaVdc4repBq5+IlOdDzbJo/ajBnbSHAarHXqEW6nPt5u+r5c6LezxButImPfaRP/ZB1de5hvJomPSd62TQ+/XPvs8P1+C/uq9wmdzKCQdp9bRPAu2fb//hgb46kef4Jbqmm3y+KzHq32vcdRxvlPo/aHnFF03iY5Fc1KEYdVLnS/xL4ZklZR+sXLSsxrlXDfKUU0dKa2cff3Vt5pGc2W9hlVTF1K5p+tNWLZqHe232nnD0FKH6RNHLSz8H0swNfjPbzixNUs2J9riSZUr3ZWKf2caQPvFeb1k0N3DKy+52XdKcY1GHqlhrQa0ft7TdwJEHRE2IkCN7aw00mHaiEv9oyHlfA9A+0cnBTz1Eib1JmLxQWMGWLzQubzkUFpfftGN7gfHHMg1OmcWfvk/9+4vflZ4t+TSKAlRZ0TSz3Fa54VGAITse0nU8aERGhplodEWGkGA7Jb/+tZutUN+UHgHtC90UixhbKhiWKHVcHn9jJiGNFLRXXzRSQEsXjTHgIbkck4v/nSd/tO1d7gfn34kaY3FTtIoCz06op/b1KMkjKIAljx0UixhrEMinqhGz1hlmccB7RedFMDiQZ0TmgxMz+ZzPgNo76xD4st5zX/dYvUBR/r5GgAseeikAAAAAAAAubDE/7oHAAAAAADIBzopAAAAAABALtBJAQAAAAAAcoFOCgAAAAAAkAt0UgAAAAAAgFygkwIAAAAAAOQCnRQAAAAAACAX6KQAAAAAAAC5QCcFAAAAAADIBTopAAAAAABALtBJkcHLL7zqzjx9mJs9a05hCQAAAAAAqDU6KTKYOvXDwv8AAAAAAEC90EkBAAAAAAByocP0iaMWFv6fW3rM4vxzRrjxT77g32/Qq6c7+SdHuptvuNv13auP222P3m7B/AXuyktudqutsYobcPT3/Xrm4QfHuVEjR7tfnHuyW2fdHoWlzr379hT327Muc29MmlxY4tygs0/y25N4v6bYOgpbvB8AAAAAAFBa7kdSqCNh0ClD3WZbbOj+Pm6kf6kT4LILb2zReVAOdVwcc+hPfWeHbffaWy/wnRkjr7/Lr9Ol60ruvIsG+U6JbXfc0o2670q/nnVQWNjUUWLb6D+gn9+u5rEAAAAAAADZ5bqTQqMj7rztfrfJZr1c/8P6FZY6P0pBnQuVUueCOiPU+bDplhsVli7a7k3X3F6yk8HC1ufb2zd1WkifXbZ3/fbb3T03/uXCEgAAAAAAkEWuOymmfTDDvTJhkuu7V2/XsVPHwtJG6/Rcy49uqMRrE99wq6zW1W2X8H3bbqnJMi1sW2+7aWFJI4Vz8602chNefI1fAwEAAAAAoAy57qSYPXN2s/kiamXKe9Nc9+5ruM6dOxWWLKJl+kzrFGNhG3jir92evQc0ew07Z0RhLQAAAAAAkFXu56TQRJRdVu5SeJcvCpvmsbD5KMKX5rLQnBYAAAAAACCbXHdSWOeERi3EZs+a6z6eMavwbpEZ0z/280UU02Ptbm7q1Olu3rz5hSWLaJk+0zrFFAsbAAAAAAAoX747Kbqu6OeOSJqEUvNKhI+CaC4I/fxoUudD/OjGhhtv4Ds4nkn4dZB3J7/vP9M6IS1Tx4jptuZqfkLPMQ+MK9kpAgAAAAAASst5J8VK7vCj9ve/tqGfDDX65Y0x9z/uH7cI7bL7Ti06H/Q9fT+kX/HQT4Vq7ojwVzz0qx/6aVN9pnWMdViEoybUKaIJPUff85AbdcvowtJG2qdtV381T0UYfgAAAAAA0FKH6RNHLSz8P7fU0NcElUY/8XnoUfu74edf7fru1afZT4DG6x5x7EH+0Q395Ogvzj25WedDvK4Mv+JXzX6W1KiTwSbE1E+X2j7VsfHbsy5rNqpD4Tvh1MN9R4btI/wOAAAAAABoqV10UiTRz3uef86IFp0UAAAAAACgfcr9r3sAAAAAAIAlA50UAAAAAAAgF+ikAAAAAAAAudBu56QAAAAAAACLF0ZSAAAAAACAXKCTAgAAAAAA5AKdFAAAAAAAIBfopAAAAAAAALlAJwUAAAAAAMgFOikAAAAAAEAu0EkBAAAAAABygU4KAAAAAACQC3RSAAAAAACAXKCTAgAAAAAA5AKdFAAAAAAAIBfopAAAAAAAALlAJwUAAAAAAMgFOikAAAAAAEAu0EkBAAAAAABygU4KAAAAAACQC3RSAAAAAACAXKCTAgAAAAAA5AKdFAAAAAAAIBfopAAAAAAAALlAJwUAAAAAAMiFDtMnjlq46le/68Y9/HBhEQAAS67Ntt7OTXjumcI7AACA1rVJz08L/1sy+U6KLmv3dt9Yb73CIgAAllwX33KXO+2w7xfeAQAAtB7VQ5b0Tgoe9wAAAAAAALlAJwUAAAAAAMgFOikAAAAAAEAu0EkBAAAAAABygU4KAAAAAACQC3RSAAAAAACAXKCTAgAAAAAA5AKdFAAAAAAAIBfopAAAAAAAALlAJwUAAAAAAMgFOikAAAAAAEAu0EkBAAAAAABygU4KAADayBbb7egGDbvE/ehnv3DLr7hSYenib0k9bgAAUBqdFKjI9t/8trv/xTfd+A/nu7MuvrKwNJt+/zfAPf7Wh+6J9+e4E884u7AUAJY8R5/2c/d/x5zgjj71Z67/0ccVli7+ltTjRuugngEA7VtNOymqabgimyvufMDHr17/eOUd17vvnoVPWrro5jua1lW6KH0AAK1D10Erg+OXlcmvT3jRzZ/3mfto+nQ36ZWXCt9sfd/ee1933ehH3AMvveUbePWWl+OWXfvt567928Pun29Od89Mn+fT56mpn7i/T5js/t8vzy2sVT8aTXLnEy+6Wx97urCkPsrZT3tp5Ld2vgUAtA5GUrRjK6+2uvvWXt8tvGtOQ2k33GzLwjsAQFv58n//c59+Mtd9OndO0+uzhvdffP6Fu2LoELfzOiu77279NTduzN8L32h9m3x9G7fp1tu5FVZcsbCkvvJw3HrM5FeXXOWGXn2z22qn3m6Flbq4Dh06+M+WXmYZt/qa3d1m22zv39fTNt/4puvZa0O3zDLLFpbUR2vtpzW1dr4FALQOOinaqf998YWvTG3f59uu51e/Vli6yLf3+Z5bo3sPXzEGALSdD6d94E4//ED3zfVWb3odsNMW7rknxhbWQFsYNOxit+8hP3DLduzoPvpwurvqd+e6fbbcwG27eid3xHd6u3/cfTvXUAAA2kCbdFJoSN5N/xjnxr3zsR9WqeGVj7w+xf3kNxcU1mg+1PC0c8531/ztIf9/rfvgy2+7w086tbBmow022sRdcuvdTdvU399ceYO7/V//8e/1mITYdrUsfiRl1Ljn/XL9NVnCKln3b/Y//Gj353+O90NK9fnjk2e4867+k1tzrbULaxSnSu+cWTNdj6+s63bb9/uFpY10d+gbu/b1/39j4sv+b0z7OfeK6/2x2PBWhXnEHff7URihbXt/y93wwD/dv9+b5dd7ZNJUt9cBBxc+banaYwOAJYWG0uvapuuSDVcPlx116s/cbY89457+4FNfVt/11AS3T//D/HqmqTxvKJu1jta988mXfFmcha55x/70TN9Y1/Xj1yOu82W3rpH2yEoYPkm6ltqyLNftWhy3XZv0Hbs2nTX8ikyPne75/f9z39pjH7fU0ku7SS+/5DuR/vi737gP3n/Pfz7huWfcGccOcD/5wUH+vWS9bmaNB1tvh2/t6t+rHhHH9Td2+06z66/+hvs75w/XuKenfeb+9e5MH2dGk5Iq7h57Y5ob0rBOqf1USvnl9HN/749Lx6eXHr046pSfFtYoL19I1vpUsXwb6rTcciX3CQDIlzbppPjuIT9wm2y5tft07lz331cmuE/mzHZdVlnVHXT0j9zxPz+rsFajpZZayu034Cg/5PLzzxe4hV9+6VbrtqY7ZuAZvpIhujidc/m1rs939nadOi/n5n32qVu4cKHbY//+bp31NvDrVCpLWMvd/4mDh7ifnz/cfXWTzdyM6dPc5P++7pZdtqNf/+zLrvHbK0Xh+O/ECa5jp84NFY/dCksbqULwlQ16uelTp7gPP5haWLqIKgAXN1QA9j7oULfSyqv48OpuUceOndyOu+zmhl13a9NcF6oI6YKvv8s2fP7Zp5807LOT2/fQI9yqq6/h1wnV4tgAAM6XuZpYct2v9nLz58/zy9ZtKNtPaGjMWyM1LM9VNr/52kQ3e+bHfj01CA86qvSklJMnvebefesN92XD9fWLzz93b73+qp8z4oP33y2sUZ4s1+1ishy3/p596dX+7zLLLlvy2hT71t7f9dc/fe+um69zLz7zZOGTZOVcN02peJj18UcN1/GX3cczpvv1dV1XvGuZPlPanXfVTW7zbXfwdZA3Xn3Fp5H294sLL/dhuvGyC33aqe6x+77f99dYxck399jHdWjY/78f/ocbc88dRfdTKe3r99ff5g474WTXpSFO3n5jkq936DGZ4wed5X78i18X1mxU6/pclnybts8jT/5p0Tm9AABtq006KV5+7hn325/82H1nk6+4//vmNu7M437gL2xqcG+z8zcLazXSc6FzZs1y/6//d903e67mL8ifL1jgVuy6sn+GVI45/Qw//4Ke+x39l5Gu91dWcX3WXdXdctVl/vNqZAlrOftX5aGxMtnZPfy3u92B39jSHbDj5u7mERf7i+wW2+2Q+c7Gf556wn+n1yabNbvY9vnOXm75FVb0nRhJnQIH/+ikhu9s3hCP891Nf7jIh1VxO/zsQW7u7FmuW4+13EFHH+/XPeS4H/uKwYKGiuL1F//Or/udTdZ1Y+6909+BCtXy2ABgSac7xOroPXz3b/iy94E7bvMNstXXXNNt840+fp3+PzzB9dp4s4YG6IduyMk/cv17b+V+9L2+vkG7UsN1cq+D0ke9mZ8e+X/ugdtv848Rqqy/bvgwd8gu2/mRBZXIct0uJstx69q01ro9M12bkqzXa0P/yKQ68v/90IOFpenKuW6aUvEw9h/3u6P2+lZDw7px4lCN4lC8a9mz/x7r9jv8KH9TRB0oh+26g0/b4b86w+9v/Q03dv0OPtyns9JO8fDVjTf1v5hy0FE/cmuuvY57/+3JbuSVlxbdjz6rlPa19Td6+46EEeed7a/3uu4/M/YxXw9Qp0n4OGqt63NZ8q32+dmnn7qfHtHf7/OWq/7g6yNdG+I1vsEDAMiPNumkuOzcX7q7b76+8M75SbPef/st//9V1+jm/xpdfB4ZfbcbP+6f/v2Tjz3kK2PqHddFWDbeYit/J+W9hm1cd9H5fpn88fe/de9NfrPwrjJZwlrO/vv03ctXZubM/Ng9ePcoP4Ga2HEtt/wKbsPNt/DLSnn0vr/6DpNwAk11Vmy61bb+Ds/YfzR/xETUabH1Tn18/L3yn+fcpeecWfjEuVuuvMy9/PyzvuKmypiG0n5t0y38e617+W9/5ddTmO8ZeYP7aPo0/97U8tgAYHGhcvHKu/7uh6LbK34EMInu8o/+882+ISq6Kz6vYZlGGnRfZ11fnqucVqNcDVnNoSBa30YGrLXu+r7Mb01ZrtvFlDpuUcdM1mtTEjWiRY1kdYgUU851c7Ottyt8Ul08WANfv4Cia709hnL79Ve5aVPe93UO1T3kTyMu9jctNPLguwcf7nZuuBZ/8fkCH4elRohUY8dddvf71IgGddyI0uA/T/7Lx6tGLGzSUB8xbVGfU+fW4w+Obpqcdfy4x9zsWTN958WKXbr6ZQCA/GmTTgoNUTzjd5e4Wx550j306nv+Wcqv7/CNwqfN6QIz79NPC++aU6NXuhXmOvjgvXebVTZ0sdT3q5ElrOXsf/XuPfxdIt0dGXbtLU0VVlVgVZFVRWeppUrfBRJVPv7z9L/9d2wCTXVWqNPinTcm+bsQsc223tbfXRMNC45ZB4wqCZo129bV9kK6y1HPYwOAxUXSr3vo7nMpGpo+d/bswrtF1KjTow1heb5LQ9lvZa5eNh+Fyt1lll2maW6J8FWvn6bOct0uptRxK8y6zkiWa1Mx2mbSiMNQOdfN5YNfmagmHtbpub7vSFEnwClnn9cs3VQvERsxovx0103Xutkff+RHWOhxF3VaqPOinvRYh2y85dbNwmfzRChulw5GtWSJj1rX59QxMvPDDwvvGjvANJICAJBvrd5JoTv9fxg12g9RXb/hQvtJw4VHzxCWupORRZYL2P/KqMCUG9ZyLqC6O6LnQbW9+FXOc8CP//2+pgk09zzwYN9ZoUravx8Z4y/qtfJFw4U+q1odGwAsDpJ+3WPggAMKn9aGGnVJZa4a1ZrPQGVv2mfFfPnl//ycAHlVzrUpNK0wMkEjIr+1Zz///zxSg9rmWohf777138Jazs2dM8t99tln/v9KLzXGa1kHKEZzXSSFr5o5LyrpkAAALD5avZNin/8b4O+q6+e+zvzRD9z3tt3YHbnnN93MGYt6usulZxFFQwvDOyKaIyG+WzFj2lT36Sef+P8vs8wy/q/oe+r1D2UNazn717Ok6tlXxeNPlw/3z0/Gr3KeA9azujaBpu6k6S6EHgHR8NAkE54b31Rx0R2X2Frrruf/qqNhyjuTm+442HKzWrfurvNyyxXeNar1sQEA0qmhrbJa1HmeVOaedODe/pcqVPamfVbMR9OmNV4H/IiMZQtLG0cNaFlbUMdKOdemJM+Me8xfuzXh4wFHHlP016fKuW4qTWrhow8b4v2Lz32Hgya+jNNOr9+e/mO/ruodA048zddXprzzth+lo8k1w1/7qAfdIJGPpk93P+y3a4vwVTLnRTn1KQDA4qvVOylWXb1bQ72mg5v/2WdNvzyhGaxt+GIlXn3xP/5Crtm/j/vZL/wyXdwOPvbEFhWPsFKnZyVtv5pJfK11e/r/m6xhLWf/T/3zYX9nQZ9rEsnwcw3PvfiWuwrvstOzlrqwa8hl5+WW94+ApD2HqorWxBef9+Hd5Otb+2GkRhORaZk+U8X1oXvvcm+82vgTpptutY2fwVsU9u8ddmTT8FdTj2MDACRTx4TKaivPVYYblb/6ucwfDhxUWJKNOh9syL1YY1nXFns0RGX8ngcc3GaNRh2zftVBwmuTjlnXmvjalOTP11zhJr0ywf9/m2980/+spya+1LGJRlJecONf3IV/ur2s62Y1o0IVn2qMyxOPjPH1FT028e19vte0XPSzpPqJTksP1V+23mln3zlx8xUXN1z/n/KPiehXLZLqVuF+qvHcE+N8Z9FX1t/AHfuTwYWljflj8O8vdQN/PaywJLty6lOhON8CANq3unVS7H3QIf53scPX8JF3+p/x1OMI3df5iru44b1+y/303/yuoZE9v/DN8t1/+61NF/PDTzrNjX37I/ePV952u313fz/kMRRW6jQT9s0P/ds9PnmG/83seHhh1rCWs391KPzr4Qf9M7eqYGibet33whv+J8XW7rl+Yc3sHr73Ln/3RFSZUuWmmGsvHOp/F16jL474f6f78CoOfnLu733lTp9pHdGvdOjn7DTB1MBzhvn1xkx8x319h51aPFNdj2MDAKS77y8j/USKKrtVhv/jlXfcqHHPu9v//YL7zn4HuU6FCSJLefP1V/31SteF437+S1/Wq6FpjWWNNNzrwEOarm+6BmjkXFvRKML42nTXUxMaGt87ZJrvQ9fK350x0L024QX/fr2vbeSPV3UVzatw6W1/dbv228//UpaUc90s19tvvO7rH6prXHnXA+7Bl9/2N1F0o0A3IHpturn741//4f46fqJ/XXLL3W7Dzb/uv6vOFP3Kh8Klzonb/ni5e/CuUX6Ug36ZK+ykStqP0rQYNf4P//FpLepzg4Zd4ifm1CNDFiePvD7F573Rz7/uDjzquIompiynPiVp+RYA0L7VrZNCvfjq/Q5fuhMzYugQ9/e7/uJHM2iCxzW69/ANYZvFuxJPP/5oQ2XjNP8MpBrI2o8e6bjx0gubZsQOXTpkcEOD+gF/8Vc45b6/3NLU0DdZw1ru/s/+8TH+Z8FmTPvA718TXq6y+up+uyOvuKSwVnbqeHl67KO+8qG7S6rYFKP9nHrofv7YVFFTeHVnZe6c2e6+Ubf4z+wYNVP65b892703+S3/m+ta78MPPnDXXnS+/ymxWK2PDQCQTp3DZ514lB89pxEPmmNBjyR8sWCB+8c9t7s7b7qmsGZxavSP+esdfoLPjh07uWWX7djQ2J/nry/6NQvNi2DXt9kzZ/qRCDY0vy2Ue21Kojg7pt9u/hc6dP23ThfdxFA86IbG3277k19WznWzXH++eoQPi26KaLuieod+tUQv/ZToMksv4zv6u6/9FTf1vXcbvnO5r3scdvwp/jEPTZp595+u89+960/X+lEOGgnau+9efkSFpO2nGG1D68b1OU1gquPVz7LrkQ51FGgyU+U9TZb5r4f+3uyX0bIqtz6Vlm8BAO1bh+kTRy3ssnZv9431mj/XuTjQ3fxfj7jeX8B1Z2Hwjw4vfNI62nr/AIDy6dG00w77fuEd2pN9Dz3C/ey8C33j9tY//sEN/1V5j7sgn6hPAViSqB6ySc/SowIXZ60+J0U9aLjidfc96p/TNHp28ZjTB/vRD+phf/bfYwuf1F5b7x8AgCXJj372C/eHv/yt2dwK+v/hJ57qVlipi58fSfMkoX2hPgUAkMWik0JDC7+26ebu0lvv8c8j6nnJu595xfe8a7jgM2Mfc6Ouu7Kwdu219f4BAFiS6PGH7frs4q7928NN8yTo/5q/4fMFC9zDf7vLPwqD9oX6FABAFotOilf+86x7Ztw//U9g6hlRPS+59FJL+2dVb7zsQveL448srFkfbb1/AACWJE89/oh76dmn/CSZy62wor/u/u/L/7n/TnzZ/eE3Z7mhPzulsCbaE+pTAABZrOekAACgXMxJAQAA2gpzUiwmIykAAAAAAED7RycFAAAAAADIBTopAAAAAABALtBJAQAAAAAAcoFOCgAAAAAAkAt0UgAAAAAAgFygkwIAAAAAAOQCnRQAAAAAACAX6KQAAAAAAAC5QCcFAAAAAADIhQ7TJ45auOpXv+vGPfxwYREAAEuuzbbezk147pnCOwAAgNa1Sc9PC/9bMvlOii5r93az3xtXWAQAwJKLayIAAGgr1EN43AMAAAAAAOQEnRQAAAAAACAX6KQAAAAAAAC5QCcFAAAAAADIBTopAAAAAABALtBJAQAAAAAAcoFOCgAAAAAAkAt0UgAAAAAAgFygkwIAAAAAAOQCnRQAAAAAACAX6KQAAAAAAAC5QCcFAAAAAADIBTopAAAAAOD/t3cv8FZUdf/Hl08plAoKiqA+ooaioqSi6SOYheQN78qTinlJ89bjrTS8PCZpYZh3Hy+Z5eURszDLjDRDkyco1FBTQVC8poIgKgcywH/5P9915rdZe53Ze8/eZ+9z5nA+79drXufs2bPnumZmrd+stQZALhCkAAAAAAAAudBhQYo335jnTj32Ajfr2TnJGAAAAAAA0JWttnD2xI97bDTUNb01LRlVuxXLV7ibr73LTbr/kWRMi80H9HcXXnq623iTfsmYliDF9y663p3+zWPdNoMHJmM7JwVazj71kuTTSiMP2tOdcubRbo1uayRjWti2vzL3df85bf/E8yw1LwBAfTX6nihX3/Ttontf2rTxNJJ1OgAA0DnVKx/SmTUkSCFhgXrCbb90Ux97sqggvqoFKe66/VfuvItPcz16rp2MTffow9PcxAmTivbFn/44w23Sf8PCZ83v+ivvKExTar8CAOqv3vfEbbcf6IbvNTQZ25pN13v9dd3o4w/x4yxQHQYgsk4HAAA6L4IU7dTc44BDR7h1e/d0Ux6ZnoxZtcyf/27yX3nKTMYBCtlt9yGFz02Ll/iAx6jRIwvjFJQ49Ih93Qsz57q5c1714wAA+bZs2fLm+8PC5FNpU6c86afTvdIo4HDMiYe7yQ9N88EJyTodAABAZ9YuQYru3bu5vn3XTz6Vp0zWdZf/xO09dHRh0Oe0zFfWaVWTQ+Nfful13w+GTataDaLgQTgPfa6Wtk/bWYrWSZnIYV/YuShAEXvz9bfd+4sWuy232jwZ06LPBr3d1oMGuKdnzErGAAA6g75910v+a033huefmeMGbbdlq5p4OwzZxgenF7yzKPN0AAAAnV27BCmUcVIGShmpctQE5MyTxvqqrL+bNsEPDzx6m/9u7PlX+1oGppppRe13J/3yEXftLWP9tGMuPs2N/86NPoCh4IF+a+PV1ELzz2reWwuS/0rLug9UK0O1Tnr0XCsZ00K1KbStixa+3yoIAwDIn6bFS33QuRyrbdFvoz7JmJV6rNPD/236oCnzdAAAAJ1dw4MUKlDfd8+DvgZBufayNp1qC4w6amQytqVwftzJo/z/D9w32f+tZlqjzinVZML6cxi2x86+M0r1lRGO32mXwT5I8OLsV/znrBQEOWD48a1qaRjLPHb7VPei2h+q2REGRBTwqFQrAwDQeajPCLvmX/CN8UVBdAtklKttIVmnAwAA6OwaEqQIC+z6G7ehTWM1DUbsM7QQMDCq2qoqrlaLoJppTVw7Qb9TzQQFOtSUwljTlCy1I4w6MLPaHBrUgZnV0oj97K5f+6CITau+J0448pxMTUz0BE37Uk/UAAD5pqZ9N90xrnC9V4093V/GnHFZptp6umfp3lWp36Os0wEAAHQGDQlSqIaCNZ/QcNpZx/hMWVqh3VhNA6u2GgsL6NVMa9pSO0HrbU/BbIhrSoRUY0SBCtXSsIyoMo965eiuQ3cs6pPCanRk6fSMWhYA0HkpOK43NCk4nqUjaWpZAACArqhd+qRQoVyvGg0L7Z1JXFNCQ7nXyYkFUKzZiDKPanISd4hpNTosqJLW3hgAsGqwa/7M5170zT6sFkQlWacDAADo7NolSGFUk6BUx16VOv4KaxFUM21HsydbWud1e6XX/BBbX02f1ku7almoCYvetx83cQEAdC52zW+57q+f+uYm3eMUmNi4/4aZpwMAAOjs2i1IoeYOqklQqomGvWIzrdmDnjbpqZMV0KuZtqNYDQrbXq1z3359WnXIacEHPVnT+iqTqcxmPJ2CFvPnLWhVEwMA0HnYPcqu+Rp0v7KaFSEFJOyVo1mnAwAA6OzaJUihJh4TJ0zynUSG/TGElAFTh5KqRTDx7knJ2JZC/O0/nOifIKn/Bqlm2kZTZlF9VoTBEnWCqY4zw+3VOqujT40PO8nU+ocdiyqTOWKfYX5/WdMYLePGa+50gwYPLLn/AAD5or6Lwuu93aMk7Exab5WS8K1U+q2aSO6x567JmOzTAQAAdGarLZw98eMeGw11TW+V7ggyK2XAbr72Lv92j5g6kgxfQaoC+Pcuut73VRGOV4H8+80F+RmPP5uMce6YEw/3/ULEsk6rIIJqK6jDMgULTNp42wY95UpbZixtHVRj5MJLT08NKNh2q+mLqNPMeL1EGU8FNMyYi0+r2A8GAKDt6nVPjK/jkvV+NmSXwe685ut+XDsi63QAAKBzqlc+pDOra5ACAIDOjnsiAADoKORD2rnjTAAAAAAAgFIIUgAAAAAAgFwgSAEAAAAAAHKBIAUAAAAAAMgFghQAAAAAACAXCFIAAAAAAIBcIEgBAAAAAABygSAFAAAAAADIBYIUAAAAAAAgFwhSAAAAAACAXCBIAQAAAAAAcoEgBQAAAAAAyAWCFAAAAAAAIBdWWzh74se9PrO/+3/L3k9GAQDQdX2ye6/me+J7yScAAID21fTWtOS/rskHKXpsNNS99cLvklEAAHRdG2wxwr3z0uTkEwAAQPtRPuTDd6Ynn7ommnsAAAAAAIBcIEgBAAAAAABygSAFAAAAAADIBYIUAAAAAAAgFwhSAAAAAACAXCBIAQAAAAAAcoEgBQAAAAAAyAWCFAAAAAAAIBcIUgAAAAAAgFwgSAEAAAAAAHKBIAUAAAAAAMgFghQAAAAAACAXCFIAAAAAAIBcIEgBAAAAAAByod2DFG+/+Y4797Tvujkz5yZjAAAAAAAA6hyk+GjFR+6W6yb4Qf+vimwbD9/35MLwxz88nnwLAMBKCsiH94vv/ve1bmnT0uTbldLuLZWC+ZqP5lfqnqt7UzXzAwAAyAOae1RBGcLxl9zoeq23jrv3wR/64bofXeJ+PfH37t67JyVTAQDQEiS49YZ7/H3C7hlbbTPAfee8a3ytQqMAw203/7zo3vK9K851F57zg7KBhadnzHTPzJiVfCqme9KUR6a72392ZeFepXUhqA4AAPKOIEWVDjxsL3f4USOTT85tuPEG7sBRX3KzZ81NfToGAOiaeq7Tw138/bP8fcLss/8ermevtd3LL72WjHFu+rSn3IIF7/rvzMBBA9wRXznQTXnk8dRaErrfKAiRRgGQx6c+7UYdOdKt1WMtP87uVfoN9yoAAJBnuQhSpFVzjauvWrVWPQUKq7Cqfwt7IqUnRzY+rUqt9Ydh02io5qmSMnuDd9g6+bRSnz693eL3lrimpr8nYwAAXZ3uFxYkMN26d2u+Z6zn3pn3rv+s+9wLz831NSziabf77ED30uxX3cIF7yVjVnroN1P8bxTIiC1ZvMT/Xbvn2v6v4V4FAAA6g1wEKfQUaevtBhSquap6qp4q3X/vw8kUK117+U/8X0330/v/x22x1WbuJzff44MaG/RbrzBemcC7b7+/EOjQ30cemurOvuBrheWoOq3mRztdAEBHWL5sub/f6f4VsyCDBR2M7lmqKbHb53dKxhQr9bsFCxb5Whw9eqyZjAEAAMifXAQpdv/iLn4wepq0x567pjah2Gvfz7tdh+7o/199jdXd/oeO8E+GJBy/x567FD2B0rivnHhYUbXbzbfo7+f33F/nJGOqp+CHquMqWLJ+n17JWAAAWnvlpdfdww/+n68lIarVoHuYajlkoXvixJ9O8k03wvtZyJp2qA8Kq2mov+o/KWwCAgAAkEe57ZOiVLVUdSymgIPREyE9GVJNjHB8qSdJIU2v+b337gdFTUuqodoeCoYoWBIuHwCAkAIFChyoiYb6nKjE7m+qASG6T6mGoGoKWlC+FAX+Fag442vf9k0b9ffErx+RabkAAAAdKTdBCmW+wn4p1Kt5mrQqsdWI+6W4539/nXzTIuzXwoa0fiusjwxVuVUTklJPtAAA0H1EgYJdhu1Q1PlyOXEtC+tg86jjDiobFLf7k/q9sOaNagapWn+lXlcKAACQF7kIUigwcORB/1XUL4X6i6gny7RdPe5HRf1SxJ2OKfNo39kQNkURtQc+7svf9E+zxl0zhgAFACCVBeDV/5Hua3GAwmpLVKL7jpprfPWUIyo211Cnmro/HXT4XsmYlpqDCm4oyKFgBwAAQF51eJBCNRtUG0GZtzgYUE96n7zEr4Orlp6GqZbHmd/6qjvpjNE08QAApFJwfPwlN/rAgDqETmtqYW/7SOsbSc0VFcBYf4NevhbEq6/+rdB8wwbVBlQfFwr06/6koIiaMMZNIyV+swgAAEAedXiQotSr0trSmWUaZcqUOVMmzSgDqc45s7KOxxSgaGRABQDQ+alGg5z1rRNK1n5QIEG1CNM6itZ9UK8Z7bVeLx8Uj2v5aVBtQHUAreYcui9pfqX6Wir3JhEAAIC86PAghQUn/vR/f/F/RU+D4r4i2kqZMj1tUs/qosybOiB7ZsYs/zmLl196zT/V2mHIoGQMAACtWRBcb6qq1DzD7ikW1BDdB8u9ZrQc/UYdOoev8bZ7nnAPAwAAebbawtkTP+6x0VD31gu/S0bVTpmg227+uQ8GxDbb7N99XxCifiHCXsbV1jbsKFNPhvR6NvWCbp1SKsN3zeU/9hm+sBZDqfGq9RAvR31fhMEPNTHRkyo9cTr+lP+s2HRDmUa1Ky5F6521QzQAQD5tsMUI985Lk5NPtbF7U6lAuN0TrflhPP32Q7YpWwPD6L6Wdg9LW75qXGS51wEAgI6jfMiH70xPPnVNdQ1SAADQ2dUjSAEAAFALghQ5egUpAAAAAADo2ghSAAAAAACAXCBIAQAAAAAAcoEgBQAAAAAAyAWCFAAAAAAAIBcIUgAAAAAAgFwgSAEAAAAAAHKBIAUAAAAAAMgFghQAAAAAACAXCFIAAAAAAIBcIEgBAAAAAABygSAFAAAAAADIBYIUAAAAAAAgF1ZbOHvix70+s79btvTdZBQAAF1XtzV7u+V/X5R8AgAAaF8fvjM9+a9r8kGKHhsNdU1vTUtGAQDQdXFPBAAAHYV8CM09AAAAAABAThCkAAAAAAAAuUCQAgAAAAAA5AJBCgAAAAAAkAsEKQAAAAAAQC4QpAAAAAAAALlAkAIAAAAAAOQCQQoAAAAAAJALBCkAAAAAAEAuEKQAAAAAAAC5QJACAAAAAADkAkEKAAAAAACQCwQpAAAAAABALhCkAAAAAAAAuUCQAg3RtHiJu+Ab492jD09LxgAAAAAAUF5dgxQrlq9w113+E7f30NFlC6f6TgVYFWTzyrZFg/5PM+vZOe7UYy9wb74xLxnTNWTZN6sCpVOlZRtW9e0F0FgWvE27lth1Nbzm6B4Ts3nYNJXuQZpHOM+833sBAAAaVpNi4oRJXa7wjlXHhNt+6SY/NNVN/O3N7nfTJrgHHr3Njx97/tVk8AHU5C+PP+tmNA8xBShuvvYu13v9df31RsPVN33bnX3qJUWBCt1Tx5xxmRuxz7DCdKNGj3Tfu+j61PutrmN33f6rwnVMw+577Jx8CwAAkE8NCVKMPGhPt27vnu6+ex7kyTM6pc0GbOLGXna269Fzbf95jW5ruEOP2Ne9v2ixe/P1t/04AMhKwU0FPtNMnfKkmz9/oTvg0BHJGOe2GTzQHXPi4c2/mebvoxp0Tx32hZ3d8L2GJlM5/7/GTXlkejKmhWqCzXzuRXfexacVrmOy70HDiz4DAADkTcNqUhx+5Eg36f5HfOYrKz0JUtXVsGpq3GzEpomrwVpV2bgabUdU2bd1CZcbr6+ecGmal196vbDNmibcPk1jv7cquvG8S21PvN2aVyze3/o/7WlcPYXbpCGueqz/NU7rH25DuG5p+yWUtv9L7adSdtt9iA9MhHr0XMsH3+bPfzcZAwDZPHDfZDdouy194CGk69Lzz8zx38XBgx2GbONemDnXLXhnkR/0v8bFNE4BCbsW6q8CIqpxQUACAAB0Ng0LUmw7uCUzlrXZhwqkJxx5jjv9m8cWqqX++KdX+N+nFbCz0O/iKvsDtto0+bYxlDlUk4C0arvaxtD8eQvcz+96wI2/7nw/nZ6cGU2vjKfGa/3lhqvucFeOu6U54zm0MF5P3ybePcl/b+Lt1l9lYMOCuoIg8f7+yomH+e8axQI1tjwdj75913e3/3BiqwDC+O/c6P/adFsPGuBuvOZOvw39NupT9vcKjG27/cDCckrtJwBoD7r2TX3sSbfHnrsmY1Zatmy5vz7puhbrsU4P/7fpgyb/txzV8mpavNT/r9pe+rzlVpv7zwAAAJ1Jw4IUoqqrWZp9KIihYMSYi08rKqhvvEk/X4i+89Z7CwXcrBQsUME8fJKkJ+P7HTi81RPyetLTMhWcRx01MhmzstqunpaF+2HGE8+5gw77UuqTLk1v+0LfH33cwe6xyX92m2y6UdF4bV/4BM0yw6eddUxhvvZ7eyInT8+Y5ZvlDBi4mf8sqj2gfd4oWu/Rxx+SfGo5Hgq4hOtltG7DkrbTYVMLCcen/V7Vn8Pq0Gn7qRZqT07GH0A1dM1RvxDqOyLt+qrAgq4rffuul4xJ12eD3j5Yq2t3LK7dpc+697rVVvO1zcrVPAMAAMibhgYpVDhUYVmFyHLNPl6c/YrPUO20y+BkzEob99/QDWkeX20V++7du/lgQRwYqJaarBww/PiipgM2qLZDyAIjeoofB0LCartG26XtSxM/VdMTtc0H9G9V1VcZ2/AJmjKwysgqQxvScrSPta9F808LDrS3Uk8KVRMl3IfW1CLet1mfNMb7qVoK/qh2R6mCBgDEdO9RTS/diyy4Wo2wiZkFZRW0D2vl6do0+cE/unV7tVwLCz7+2P1v87Tqk8JqlalJiTrebHSzPgAAgLZoaJBCVKBTwa5cs495by3wmTgFFmIWbNA01bAMnQUZ0vokiPtH0BA3ydATfTUrsExeOKgZR8ieiKkwG883DmhIqW2WSk/V0mj7Fi18PzWwMmq/U4p6lVdASJlfNflI64siy76pVThvLf+Vua8n36yUVvW5GtoXYb8U8f5Xxt6+s6FUvxVaX/1eNX3CGhoAUI51iHncyaNaBa6ziGtZqDaa7jvhPUaB6aOPP8S9/97KQK3ul2k19ax2Y9zJJgAAQJ40PEgheoKkp/vt/bYPZegUTFDh0gruYUFbTQ/iwEM9CqHKRMbz1XDTHePa5Sm8moqkLV+DbZ8yruOuGuP7/RAFC8JCeiP2jfa9MtVi89TyVUOknhRU0LEO+6WIA0qWNsLhjG99taggoZoxqh6t5jNaTwIUALJSIFTB+bDpXRqrLZFVfO2yJnSah+YlCvKm1dSzoL+C2e15LwYAAKhGuwQpVPBTnwKlmn0oQ6WnTepALFaqU7Fqmn+ocKnMXDUdedaio9/+oP2sZhLVZEAVNFHwRIX4at/GUg0V+NWZpwJGYb8U9aZjq6CCtqctQQXNR9WilaG/9paxNPEAkJmuv3p1qGqJKQBstR40qLlGGDS3wEFaXxNqxqZ7SqlmgUa/Dd8OUqkmXtycDgAAIE/aJUghYbOPV14qrt6vjghVpVUdE8biXsotEBA3/7BgRjnqz0GZxiw9pddCGURlFFUY76jOybSNygDPnfNqMiYb6/uj2mY1WZXqHE59ZKQ196iVHVvrq8KkFQBKUQFDtX5U++eUM48mMw+gKrpmqGZWWOPBBgXLrRmhAqmaVrW+0jr2jYMPaRRQnfnsnKI3h1hQQ/fPULk3iQAAAORFuwUpxJp9xK+CtACG2tmqiqxR5uv6K+8o6qxQmTW9qUFPy61GhAqV6pws7HNBmT1V+w9rFCjDF7/Rot6UUVRhPH4tprarXn06lKNt0zZqv9n+kXh/qBAefm/BoLRX5NWDBZf0dNHWQfvEXjVaLxacCNtca7/r6WVW6kxUtX7UpwkBCgCNZp1G6+1QRtet+LWlumbG98jvXXS9G7Hv7kW1vew+Gd4H7D6pWhu1dOIJAADQXto1SKECn5p9pPVBoCdKqqKvDgqtWqyqyeoVpHG1fX0e9oWdC9VoVW122Bc/5wvnIT2ZCjuQVDOIRj8ZV0Zx/HXn+6dV4bL1Crq0t5fUmz3BC/ePBnWcqVoWtu3/+Meyou+Vmb3w0tOLMrqVpHXQmdYJpyjTbG96sd8oYHHj7ePq2ieF1t9eW2vrpNohcZ8UWYRpMRx4jR+AetL1UW/h0D3LrjOqkad7SXxNDq9LClDoup3WtE3jdC0M75Nq5hH3vQMAAJA3qy2cPfHjHhsNdU1vNf4pPwAAecc9EQAAdBTyIe1ckwIAAAAAAKAUghQAAAAAACAXCFIAAAAAAIBcIEgBAAAAAABygSAFAAAAAADIBYIUAAAAAAAgFwhSAAAAAACAXCBIAQAAAAAAcoEgBQAAAAAAyAWCFAAAAAAAIBcIUgAAAAAAgFwgSAEAAAAAAHKBIAUAAAAAAMiF1RbOnvhxr8/s7/7fsveTUQAAdF2f7N6r+Z74XvIJAACgfTW9NS35r2vyQYrkfwAAAAAAgA5Dcw8AAAAAAJALBCkAAAAAAEAuEKQAAAAAAAC5QJACAAAAAADkAkEKAAAAAACQCwQpAAAAAABALhCkAAAAAAAAuUCQAgAAAAAA5AJBCgAAAAAAkAsEKQAAAAAAQC4QpAAAAAAAALlAkAIAAAAAAOQCQQoAAAAAAJALBCkAAAAAAEAuEKQAAAAAAAC5QJACAAAAAADkAkEKAAAAAACQCwQpAAAAAABALhCkAAAAAAAAuUCQAgAAAAAA5AJBCgAAAAAAkAsEKQAAAAAAQC4QpAAAAAAAALlAkAIAAAAAAOQCQQoAAAAAAJALXTJI8drLf3NXjrvFHb7vyX6YM+vl5BsAAAAAANBRCkGKpsVL3AXfGO9OPfYC9+Yb85KxxVYsX+Guu/wnbu+ho92sZ+ckY4uF02h46IHHkm9a++ij/+d+eP1dhWkffXha8k06LVPTaf5aTi3emfeuu/aK29zDk6a4jf+9n9t8wCbuXx//K/kWAAAAAAB0lIbXpHjiz0+7JUv+nnwqtmjh+27Wcy8ln9rHKy+/4YMdI/YZ5sZdM8Zdfv2FbutBWyTfAgAAAACAjtKwIMWnPv0p13fDPu6pJ2e6uXNeS8YWe2bGTLdk8VK31aAByZjG+8eH//B/u3Xr5j75iU/4/wEAAAAAQMdrWJBCwYB9DxzuPvWpbu7PU2e4j1Z8lHzTQrUrVMtim8FbukHb1V6TIWymor4mfvebx9zJx5znDv7Sib7fiYXvvFc03fjv3Og/T7r/EXfA8OP9OH0ny5Ytd7/55WR35kkX+2Yl+vuHyX8qWnc1SdF3E277pXth5kvum6dd6i469weF2iKLP2hy9/zvA+6EI8/x05135jj31JPPu3/962P/vei3+u6R30318/j2uVf4z5qXAjcff7xyWlETFTWLOeawM/10mvdDv/5D8q3z07/y0utF/WxcM/7H/ncAAAAAAHQWDW3uscWW/d2QXQa7556e7d6ZX1xgVu0K1bL43K6fdauvvnoytnbLly13//vjX7j7f/F716tXT9ejx5q+34kf/s9dPoCw+hqru90+P8TtufcwP/02gwe6Y782yo/Td++/v9hd8b0fultvvMf17dfHHXPi4e6Tn/yk+/7FN7j7fv6Q++c//+l/Z+a99Y6780f3uuf/Orv5u3+5j//1L9+Xx9jzr3H33v0b99kdtnFHHntQ83yb3CUXXOOmPPLnVsGH6dOe9sGEjz76yH1my039vK4ad4t7ac6ryRTOPfvMC+7c/7rU3XfPg26tHmu5IZ/bzm3Qdz23ZOmH/nvNc8oj0923zhjnXpz9itv/kD3d57+4i5v62BNu3MXXuzdee9tPBwAAAABA3jU0SKFaFNsOHuhemft6cwF8ZUebqpmg2hX9N9vIbdI8LGlK77OiGm+9Od9t0G89d83NF7vLrjnffffKMW7zAf3dzOblzn97QfO6dHf7HzzC7bTrYD/9Zptt7A4/cj8/rnv3bm7K76e7Pz76uPvafx3pxlx8mht9/CHuv797hvvcbtu7yQ/+n/tb1Jno7x/8o/vcf+zgfvOH2924q8b4+f/2/kfdq3PfcGO+fZo7/dzj3XEn/ae78JIzXL8N+/iAyfvvLU5+3eK9dz9wYy/7hl/fq276tq95omDO88+07Kt3F77v7vrxfa6pef+cfd7X3PW3XuLGXX2eH0YdNdJPs2D+Ih+YUQegl/7gXL9MLfvUs77iZs+c62uC/OufdAwKAAAAAMi/hnecuf2QQb7PibADzbfeesc9/eRzbsfPbef69F3Pj2urjTbu67607+fdGt3W8J/79lvPbd283PcWfeAL++WoX4wnH3/GbbPdlm6nXT7r/u3fVvPj1+3V0221zQBfG+H1l9/048zQPXZyI/bb3dfCEAUXnv7LTDdkl+2a57OFW221lnnYerww8+XmaRb6cWb43ru5fhv18f8rUDJ4h638/wsXLvJvPlGNir8+NcvtNfLzbs+9h7pPpPShMfO5Ob4j0F2H7uj6bNDbj9OyB279GR+kmds8j78n/XAAAAAAAJBnDQ9SqOCsYIR1oKnmCTOmP+eWLvnQ7brbDnXrvLJbcyHfAgYx6yyzlKampe69dxe7Wc+9WOj3wYY7b73XT/PPfxU39/jMFpu6tddeM/nUPI8PmnyNkal/eMIduvfXCr9Xvxfq/0Lr8HFUo0G1L9Is/8cK33xE/UzIFgM3K7lt895a4P+Gr3LVoH4rtD7WFAUAAAAAgLxreJDi3z7xbz4YYR1oqnnCXx5/xvdV0X/zjZOp8mGTTTd0R59wqPvqqUe0GqzGQyXW10XaPHr26plMVZ1PNO/DStTXRtoyrc8NAAAAAADyruFBClEwQkGJObNedtP/9JR/28Wuw3b0TRzyQK9LXWvtT7tPfnJ198URu7kvH31Aq2HrQeXfQKJ5qMnJpz/dze1/8J6p89D31VinVw//V/1cxB13Gptm4036uf8cvX+rZarPjVI1NgAAAAAAyJN2CVIoGKGghDpyvPGqO9yOO2/rttm29teO1tu66/Zw226/VUtzjSlPFr1yVK8lnTblL27F8hXJmHT9Nt7Av0515rMvuScf/2vRK0f1WlLNo1qDBg/0tTv09o6nnni+8HaQDz/8h+//Qmyax//0tHv91ZX9ZmjaOS+87AMcAAAAAAB0Bq2CFPPeXuCu/v6t7oKzv180hK/FlFv+56etpvnTH2ck37amoISCE7Ld9lv7TinzQk1SVINCHXzedvPP3Jknj3W33nC3H75+/IVuxuPPJlOWpkCMOrjUq08vv+QmN+b077rbb/m5u/6Kn7jTT7jIvfbK35Ips+u/6UbuqOMO8W/3+O9zLndnn/wdv581P/WfIf++ST83Yt/P+wDQOV//rvvuRde5Cbf90r/2dMwZl1XsjwMAAAAAgLxoFaRQofb5v852M554rmj4KKpJ8MLMl1pNs+wfy5JvW1NQYqddtne9eq/jhnxuu8LbL/JCtRH++9Iz3aFH7OuWNi11E++e5P489Sm3y27buy9/5cDCW0PKGbz91u6Sy89xe43cw736ypvup3fc79/qsd/BI9z+h+yZTJWd9tEXRvyHu+QH33S7fX4n99qrb7oXZ7/qBmy5ma+ZInrjh16letG4s5rH9/evUdW6r1ixwp1z4Ului60299MBAAAAAJB3qy2cPXFluwQAAAAAAIAO0i59UgAAAAAAAFRCkAIAAAAAAOQCQQoAAAAAAJALBCkAAAAAAEAuEKQAAAAAAAC5QJACAAAAAADkAkEKAAAAAACQCwQpAAAAAABALhCkAAAAAAAAuUCQAgAAAAAA5AJBCgAAAAAAkAsEKQAAAAAAQC4QpAAAAAAAALlAkAIAAAAAAOQCQQoAAAAAAJALBCkAAAAAAEAuEKQAAAAAAAC5QJACAAAAAADkAkEKAAAAAACQCwQpAAAAAABALhCkAAAAAAAAuUCQAgAAAAAA5AJBCgAAAAAAkAsEKQAAAAAAQC4QpAAAAAAAALlAkAIAAAAAAOQCQQoAAAAAAJALBCkAAAAAAEAuEKQAAAAAAAC5QJACAAAAAADkAkEKAAAAAACQCwQpAAAAAABALhCkQE0efXiaO/XYC9ybb8xLxlRv1rNz3N5DR/thwm2/TMaiEXS8LvjGeNe0eEkyBpVoX2mfad9Vo9bfVSM+njoPdT42cpnVIL0BAACgVrkNUqxYvsJdd/lPymZ0VbAlI9w5KUBx9qmXuKtv+rb73bQJbvTxhyTfAOgsLCCj8xkAAACoh9wGKdbotoY79Ih93fuLFrsH7pucjF1JTw6nPvakO/q4g12PnmsnY9Fehu811N10xzi38Sb9kjHVmT//XTdkl8Fu4/4bJmMA1Ernoc5HnZftqWnxUn+NBgAAAOol1809lPEe9oWdfTAibFagWhb33fOg23rQADdg4GbJWAAAAAAA0JnVPUjx0K//4L42+lzfz4D+6nNb7LHnrv6vghIKTsjUKU+6Sfc/4kbsM9TXuBBrk219HGiI22fbNHHVZGtaosGWUU7asmyeNq/wu3i+VkVa6xf2y6AhS5vycDvU5MWWsWTJUv83rX8HzVe/sWBPOA99F65DvH/S6DdhU5us22TLHf+dG92Mx591o/Y7pWi90vZfvD7aPk3z8kuv+9/G08TbE++PWrbd9rMN8TGNtzn+vhxbn/D34T6Tth6vULwtab+Pt6fUdPG84n1t6cK+D491KWFaCrc1/G243DAdhrKciyZ1PV9/O/m2WC3bJPFxy5pG4t/F+1jC9GE0nZZR63li4ulsf2v6E448x70y93XfdEvfpW2THYdqvwMAAEDXVNcghQISV4+/1b3xWkvmXn/1uS2BCtWmGDV6pA9KzJ3zqs8cT35oqht50J6FWhTKRCuzfPo3j/X9G2j48U+vcBMnTCqZ8a5VqWV1+1R3/70CKNtuP7Dw3cTf3uzmz1/oJt49yX8fmj7tKff0jFmFadU/gwrvWkYWv/rFw67fRn38b8/41lddtzVaAjbV0DzE1mHMxaf5AkdagTSLSttk1dK1HDX30P6xZiM6tmPPv9r1Xn/dot9rfeJ9Mn/eAvfzux5w468730+3zeCBfryOt9KH5qvx+jvzuRdTC0FZtt0KpIsWvu8eePS2wrQ7/cdnkyla0sT1V97h04G+03SibdHvyymVnkql3bYcL1XL//7YG9wOQ7Yp+/uWc2xaYR/adNpGK4xb4TLcL5q+V6+e/nvRtGPOuMyN2GdYYT46l7W9WdZX6Ub0Oy1DNaduvOZOv1xL9xrft+/67vYfTiw6vlr2mSeNLUpLpY6Lreeg7bYsTHvhpaf77VUgLVTrNsXpUusyYKtNk29L0++UFixtaRDbN5W05TyxYxxOp+HwI0f679WPjNZr8wH9C33L6DpkgWOjz7omvjBzrlvwzqJkbAt91vgw4AwAAICura5Bil/87LfJf8VKjc9qp+bCrAq0Kjgpw63ClvqrUKZWhQZl4lWIsgy4qNCrgt+dt96bqUCUhS1LGfJ4WZ/Zor//X23Cw3bh6i9DBRoVAOIC69IlH7oDDh2RfHI+6KLgy/PPzGlVoE6z1pprumF77Jx8qk08D9vXCjTUoi3bpL5HVOAcdVRLIUi0n4858fBWv5/xxHPuoMO+VNQfiY6zmgaddtYxhfH6q35L0gpIWbbd1umUM48uKkTttvuQovSntKZ0IBpv/amUehovtaTdthwvPfEese/uRctSWtX+1bll+1f7TIXNcN9qOev27ulenP2K/5xWuNT0+x403P+vean2k5prheeD1l3pIcv6ajrb1nCfSjhe6xAeX1u2ghphWtK0x508yv9v/dyUmtaOQajWbdJ5r/Nf1wHbp1qX/Q4cXth3aXTslQbCtCVaTy0vi7acJwq4KsB6XnP6DH+/487bFn3OYsutNvd/Lf0YfVa6om8aAAAAmLoGKawGRazU+KyUIVYGX7UpVCNBhQTLtFsmV4WomDK+KsCpk8Z6qDVD3bfver5wpU7mQnpyG2b2VWDRk18VDJYtW56MLU1PJ8sVcrKI59G9ezdfKNcTciu0VqPWbbKCXNo26cl/HGTQcY2PgwqJKmz22aB3MqaFpgsL2KbStpdbJ1MqTWgdtC7lCuO1pN22HC898bbCYiht/8ZsOfPeWuA/9+i5ll/3UttnQQzNO6R11zakBe1iSjfhttoy433QY50e/m/TB03+ry077em80qbSqO2vctPaMTC1bpPtu6zBR6N9q2BE3O+OLS+LWs8TrafWNz6fa6Xrta7b4T6o9zIAAACwaqhrkGKTTdML76XGV8OeGKugZf1UiApNKgCoIBCLC1ZtYRnqUssKaVpVk7Y23KpOn0ZV1mNp40pR8KOt4nmoAKTCYa1q3SZ7S4Cqsdt+K7f/4uOgfa6CpwJZBww/vuj36vcirrYvlbZdtSD0u3L7WWnL+tYIl6l10LqUU0vabcvxUgFUBf00qmVhhXyjJ+6ltkeFSgUO9aRf38dNUzSvsK+CcMjaVKGacyFk22HBi5jma0GzStOGat0mHSMFQSxthk0qSrH0HAdqqlXreWIBmVqPQZo4GKa/ao4SXs8BAACAugYpDvvyfsl/xUqNr4Y9AU17AtieKhUaVFhT5l9POq0Nt5qHIBtr2x4PWV93qqYLab/XEFbRz0pBsUoFWD3ttn4Z4kHt9juDcDvVDEUdLd51+6+K+lCImxhof+o77XMLVoTNUzTPsC+FcBh31ZhO+fS81m1SExtNo6Y9FiDI2vdMI2Q9T+oRCDVhTQ3R3779+nTo9RwAAAD5U9cgxT4HftGdPebEQs0J/dVnjW+U8KloTOP0Xfw0sJbmH/bEuly1ehXu1NZbBe1aCsT1Um4d88qq8tfaNCfL8alW3IwgTbn0V0ktabct0pocifZ5WMtiyiPTfTBw7GVnZwokKBBjQQwFNtTkIcu+a5RKyw5rsJSb1mr3mHpsUxjYUX8kumakqZSea60dlvU8aev5mMYCzaqRpjSiv3HTHQAAAKCuQQpRQOJHE37gM+L628gAhaiNvQoSf0mpzq/q+vrO2uFbxjvO4FuBsBJVV9ZTUL1lJI0VXqwwY8r1S1BPVgBJK/jWWqhpL1aA0ZsEKvVVUEql41Mt61ci7FQyVi79VVJN2q0HNVWwp9hG2xU2Y9JnFWCVjsLCo1X/L0XTqsCpdVbhPsu+a5Ryy1baCvsZsWtC2jmqfaV9Zuq5TUqraU1sQgpQhc0jjG1DrbKcJ9Wej1mDGdbk4/lnX/RNPeqZvgEAALBqqHuQor2pCYBeAag24WFVcz2h1CsE9Z01E1DGW+3oVdvBnmCqsKHXF6b1WRCzN02Er2IULVeDBSf0JNqoSreqwrcXte+OC77tvQ61snWPXyepfZulary9SSQ+PipkqRlOtQVLFWL1RgkVqsJXyGo+v/31o/6vdQgYpz99p2WWK+BVk3brJV6WtkvbZ2/L0aAARXiOaBv06s+wwK7v9KYLo+1VsMM6tdV8rB+G+PW7OpbhOtRbueOmtKWAjL0dRNcEvdVC50eYxrR+kx/8o2/eYWrdprT0V6pTzJDWUUER7XtLR7YNa639af+5FlnPE3tLT3w+Pnj/o4X1scBN1iColq3pH5v8Jzeo+Xoapm/NU6/7zdJnBwAAAFZdnT5IIapCrSYWYYd2Jxx5jn91X9zsQp9VkNL3mk5tw4d98XOt2tuXoqrtKjza7zUos68AhTLc9upI+06Z9/bsk8LWQYXRcB3UFj7vtO7jrzvf1wQJO/VTE4K0N2DEVIjUqzPD46tBHQLqCa6+r5atk55c2/y0bgqm2PyUJrR/w/SnafQkXIXgcqpJu22ljmd/fM+Vfn/asrRd2r6wsKhXXKogaftwzBmXuRNOPaLVOfL75kK8zUfbq+BG2AeHgnrqv0EBD5tOg4IZ5Qrn9VDquGkdlUbCtKD11DEIzxnVljj7/JN8LYtQrduk9QjTtGqrxK+1jek7TaOginXMqnkoULLr0B2Tqaqn+WY5T5R21eRHwnV/ac5rhc44Na0CQrY/KgUYNL1qsUyZPN0vCwAAAIittnD2xI+T/wEAaCjVOlEzkvMuPq1iEA8AAABdzypRkwIAkH9q0qEAhZrdEaAAAABAGoIUAIB28cB9k/3fLM23AAAA0DURpAAANJQ65FSfFeqbg2YeAAAAKIc+KQAAAAAAQC5QkwIAAAAAAOQCQQoAAAAAAJALBCkAAAAAAEAuEKQAAAAAAAC5QJACAAAAAADkAkEKAAAAAACQCwQpAAAAAABALhCkAAAAAAAAuUCQAgAAAAAA5AJBCgAAAAAAkAsEKQAAAAAAQC4QpAAAAAAAALlAkAIAAAAAAOQCQQoAAAAAAJALBClWYRNu+6W77vKfuBXLVyRjVn1vvjHPnXrsBe7Rh6clY6o369k5bu+ho/2gfQgYS19KGzq3Fi18z13wjfGkkyro3NQ+a1q8JBmTX7oW6HjruFdD26ZtbMt1KIv2Wg7aV3sf11Utr9DR50VnusZ1pnUF0sR5dqXpWu7byJ/cBil0s9RNs9zFU4mRiyvqSRe7s0+9xF1907fd76ZNcKOPPyT5Bl2dbnjfu+h6N2r0SJ82zvjWV93qa6yefNtx7FrZURlyrPqUtvJYiFUeoFRmtFIewjK2+gvUQulK6auj0lBHLx/oaOTZV225DVKs0W0Nd+gR+7r3Fy12D9w3ORm7kjIlUx970h193MGuR8+1k7Ho6jbepJ+76Y5xbvheQ5Mx1Zk//103ZJfBbuP+GyZjgBZNHzT5v1tutbn/K7r2jLtqTIfeGJctW96cbhcmn4D6m/fWguS/fNlhyDbulbmvF87N0IJ3FrkXZs71eYimxUuTsSs9PWMW13q0idKV0ldH6ejlAx0tLc+u/L/KASoPoHPLdXMPJbBhX9jZByPCJyV6QnLfPQ+6rQcNcAMGbpaMBQAAXYUypsqgKuAQe3H2K27dXj0K/4eUh1i08H3Xt+/6rnv3bslYAACQF3UPUjz06z+4r40+11ej1F99bos99tzV/1VQwqqaTp3ypJt0/yNuxD5DfY0LURDD2orbEFd/tmniqnFWLTRrdda0Zdk8bV7hd/F8rYqe1k+/C6fNWmU7/p2GeLvSxOueVlW2rfPWtKqGq99p25csWer/alxM2xuuQ1v3TbgORsvV8hcuaOk/wOYXHhf73fjv3OhmPP6sG7XfKa32jZYfrk+8Pfpe83/zb/MLywnXOd6eOF2E6x4vK9yeUDydlhtWba60zHJsfcLfh9sjbTleNn3atqV9F88/7bf6HB83sfUMj5nWr9zxMvZbVSnUU9sTjjynsOxw+43NV+lN+9vWVePCY2Pi7armGGlZSqtKs0q74XJq2Rf1XmfNN5wu7RqQJtyv4TzC7dG8bHyp9dQ6hdujodS6pm3TsuUfJd8Ws/WzadP2c1bxcjVoXCx1ma+/nXy7UpZttnNby4mXHx4jm+7OW+/199wDhh/vpwnXr9K+SDuW4fGK00ip45NGNZkGbbelm/nci4X5iX7//DNz3OYDNvEPM/R/OE+rZbHt9gMLeYi0/ZZ2HNKk/TZtO7RvNb7cvSiNfhfus1C570J2LMN1jLdv8eKlReuVNt+0+egYhvRZv63mXvjUk8+3SjuSNm25fRWL1zf8vX0Xr7+U+06033Uv0D1B94a0dVvefP3QOFt22vaJ9nG430tNF8qyfE1j89SQdjzT2D6Pp9e+COen+YfsuGe9j9RLvP80xGk7TgcaSh1bU236yLIMmyZePx037bP4GJaStqxwnpWOve0zrV98jlXaLxJuhy1L695e+X1bflqeXb8Nt7eW5Wh8OF3a9qDx6hqkUEDi6vG3ujdea8k46a8+tyVQodoUagOuDNLcOa/6xDb5oalu5EF7FmpRKDHpYn36N4/1bZI0/PinV7iJEybVPWGVWla3T3X33yuAooyPfTfxtzf7qtgT757kvw9Nn/aUfwJk06pNlU64UieNadkH0/y87bdjLj7NXX/lHYWTP41Oznjdv3LiYcm3LbS/NB9tk02j9dJNsNJ6mV/94mHXb6M+/rdqt99tjZZMYDVq3TelzJ+3wN16w93uvOb9pPnZcbn52rv8DcGaiWg/6smcvg+ri2m/KN3ZPtdfZYzjG4qqXt5560R32lnH+Oms2YnWO9yvDzx6mx8/9vyrCxdSo/0nmk6D1kn7X8fP2A0tXCcNhx85MpmiumXG9Ntqzqlajle5p6AaF57j9UiXaUodr5A16dDyNh/Qv7AO2wwemEzRmub7oxsm+CZrmlb7Xk9tv9+8T8J935ZjJFpfHX/tR6UTzUPrWksTuHqvs46Z0kt4zETpIiub1pajAueN19zp075dY2w9b//hxKJzUdfCM08a63qvv25h+aXWVduktKRjbNPqOn7+WZclU6yk+Y454zI3Yp9hhWl1j9L5Ep6jWWgdslzLbZkqkNt0F156up9OGbRQNfcgXWvC81bHSjUX7Ry36+IxJx7uz0ftP01nab+afaFrhJqNaBpLo/F1VfMfsNWmyS+yUZMPpd2wSYc1gdpt9yF+X+h/jTNx0y0dB6WJMK1kvb5Uk86k0r0ojbZRxzkOSmneug9p/5c757UN5fItovW6+rJbCtdCrZeE55X+PvTAH3zas/nYtT4+3uXuhVnPtazXmlKU5vSA69pbxvrfx/u6zwa9U4NY4mvi9O7pdmq+tqZREz+tl+4Jti3K71jQS9uv/amHabbudv0K173W60m55Wv+KpSptpCdsxp0/dCywmtLTN9pn+ucD+8l8bmqv6XyQFnuI/WStv+0P0Kl0n+lMkI16aPWZdSi0vls6ca+s2MQ3yOlrXntjsrvV8qzp8m6nKxpHY1X1yDFL3722+S/YqXGZ6WLgBKhMnM/v+sBfxHUBVAXY12gdBFQQg0LDUqoOoH1BKjajGMptiwl7HhZn9miv/9fN+KwoKMLvC6e8ZMeWbrkQ3fAoSOST84XyJQRTLsghjRPXQzCTIn2kS6YcbXWUFzwE2Xi7KTWftL+0n4LT3Rtq/avtr3czc2steaabtgeOyefalPrvillxhPPuYMO+1Jhn9lx0dM0PVUrR/tFGXdltsLfqz+U+Pd6qrHr0B2L9p+lm3C/Ku1anytxxjPef5b+dfyMCiLKbCmjG6aDHXfe1n+udpmhWs6pWo6X1jPtKaj+1zhlXLXO9UqXadKOVz3E89V2KLMaFjTacowaoZ7rXOqYjTpqpE8XWWlaOxfC5Ug4XusZnotKc9YkUMs0mva4k0f5/62vo1LpXddxZdRDNl81Qwyv81oXrWt4jmahc6DStbzUtmi/av/GqrkH6VqTNs8s981q90V8jbDzXOtm26/js9+Bw/3frHqs07pJh9Kh0om+UyAiPp+0btqfKoSI0oIy8eG+UFrQ8S93DasmnZla7kWlArq2nWE/OTFL3+XyLaL1Orq54Gvna9p6abtO/PpRRee0XevjdSt3L8xyrtXj+qg0p+Ng6UnbpPu4tkkPvTRe95l43+u46rjr/mTHqVra/hH77l7YTi0rvp5Wew5lZWku3HZRGlVa1TLT0rTOSQVR4vTcljxQ2nbXU1owSfvc9nupNKf1q3Sty5o+2rKMamU5nzU+7CfLjkG8HdLWvHYe8/ulZFlONWkdjVfXIIXVoIiVGp+VEohulqpNoadBuqDbBTDtAmXsxq6OVerBlhV20JJF377r+Ztq3HlXfAPUhURPY+KnPlmoXa0yWeU6OFO0s9xJphuiTliduLHCE6eUDspiVrhsi3ruG1E6iI+bjotuqJW2Kc7QGs0vDgzpqUacYSyVbixKH2dE4v1nx1ZPRXQhjW+QaapdZqiWc6rW46XmXHGGM8541ytdpkk7XvWQNl8VmDTe9l1bjlEj1HOdSx0zpQul76yUhsJzoUfPtfzy43PECqqWDnSN07VOGbNwOlE6VXq186lcetcT7JDNNx5v25UWCKhWfC0vty12PlZS6h6Udq0udY7Hqt0X8TXCtrOtGVFLe+F8lP40Tt9ZmrG0acERS1v2OW1faNvK3TOrSWemlnuR5pUWaAq3s5RS52ys1nuktlv7Mt7OtOtJNedaPa6PaffI+PdaFy1HyzOl0nY1slxPqz2HsrD0HAb/jM037b7c1PR3X9tB5+QpZx5dlJ5LpTMdm3jfZdnuelIaLRcAKZfmtP6VrnVZ0kdbl1ENW1Z8XlQS3yNNrXk3k3bdrFZb1yGrLMupJq2j8eoapNhk0/STptT4aujk14muC531UyHKyOmimtb5VZaCe1a6+SoTVGpZIU2rakHWlklVG9MoaBBLG1eKIn62DLUVVhCnHLvYqppY2C5MtM7KZFjGLWYZvSwXWt002qqt+yaWdtzsxlmO7ZewPbYN1hdASPtI+yqk9KfpNH34+1LHLN5/diE1doMstz+qXWaolnOq1uOVluHU/xaIrGe6TJN2vOohbb62ribrMdJ5qvM1nCZsb1kv9VrnSsesGrWe85YRs4xZTPO1jEm59B7TfFVo0zU93H4N1jSlFuWu5ZW2JU3We1C5a3V8jseq3RfxsVTaUOFe26ptrrUqreajjLKuibo2xkEHZUrDYIG9EcEKGPZZ6xxvR6n9ZqpJZ6bWe5EKfmFAd2VhtHWAxGh7s+Zbqlmv+JqkJ8WxtOtJpTQVynp9LKfc9cPSg6WPMMilgojuS2mB8ayyXE8bcT2x9Fzq3Nb4OGCpzzdedbv/P659oX3S1jxQuN1p97NaB10z/n2zjXxA3PZhXGOh3PVd4/RduXSZJX20dRlZVXM+i5ot2L5Svl9pLZZ2jpQ7b2J5zO+XUmk51aT1cN/akLWJDLKra5DisC/vl/xXrNT4atiFIi3C1Z4qZbyVcJW4lUEK2z3Vk13k77r9V4U2U2pzpgt1OdqHamOotmuiixZtrLJRVVQ7nvEQVtMsRccmbBsaDrW+vrLSzaERy6w3K2DYEyPLeLflCVZnkuUYKVijtpbhd7X2O1EPnSFdNZIKbbqGpm1/tcel1mt5OfW6B2XJJLZ1X6hasqZVNWnLGNaS0bMntyr0pRXSdD2xIEapJ5HaR/E2aKjUzrm9xAFdC1ZkeaJaj4Ch6PqsAOn3Lrq+qF+KuKlGOVkLWNLIa024T8L0YQVBC3I1Wj2vJ22lQlipGgltzQOZtPtZrYOayq299lr+r66fepCpYEW9g/gdmT7SVDqfdQ1VoVlsXymNVQqEokWWtK7rT6nvUD91DVLsc+AX3dljTizUnNBffdb4RlFGqlSVII3Td3Fmq5anrrog6MJg0fc0yrA5JlsAABBsSURBVHCqLZMyO41MrFMeme4zK2MvO7umG5jdJLSeyhiqf4NK21cpOp9FuX2XV1mOeyXl0mgt7KlEuXTclmXWck61RfiEMM5415IuK1VPzot6p4s09d4XWda50jGrxxOlSuzJdqltD598ldum+ByrNN9qZbmWl1umpX9T7T0o7RqS9Vpfz32hdVUmT5lDtbfWdlQjLMCnBSFsXZ995oVWTyKzXE9LqSadtZXOqzCgq22Nqy/H6nH/Cv0leZI4/rrzawrcVHOu1eP6mHat0fw0X83fhFW5VRBVJ6Jxk4VGqPf1RCqlZ43X92FtB30+b+zX/fkXd9pb7zTUKDoP7CGcrl/WL0e5dJSWFtJUSh+1LKOW602WY6Frgzp9VOC3Ix8a5D29pOksab0rqWuQQhSQ+NGEH/gMh/42MkAhVsCxm2dIBR59ZxcTu3jHNy67iFSiaKoK9epwKY3daOzGY8Kq7G2lE0cnkE4knVBGF05FequhC68iz7Y/ym1fqadPWdiJn3YRT8tE5E2l415JuTRaC92MlTnVjajU04K2LLOac6oewgJGWsa7mnSpc09PC+IMQFyYy4N6p4v4XGrEvsi6zsqQ2ZOnkNKrClmNZmlKnS3HmQ1bB3sSpsJ42hNE/U4F2lC5+VYr67Xc7ltp9xGl/7AKb7X3IG1fvB2ap8TziK/f9dwXRud6LYE1u8coQDP5wT+2uobYus6d/ZrfjvApaJbraSnVpLN6sPPv+WdfzFzjrK33r5CuMXHQpZpzuppzrR7XR61XfEy1bK1DGISzNKB1UCCrb78+/thmVUuBU+p1DoXLL5eebT/H54exjjVVUyYMVNQzDTWa7VMraJZLR1nzM5XSRzXLaHg5pESQOb5XNIpdi7tqfh/1VfcgRXtTNF+va1L7vbAtmi6wigjrO4v460KjzoSUkbELsC5iei1P2NaoFFVNTYs0a7kaLFOnp2NG1a7S2mvWKsyM2TroRqQemStdgNSjc7jedvG0Pj7KbZ/2r3q3TbuxZWEdJIYX8Xrvm0ZRu0NVO433i/a7qlZXylwo/amPhTiN6nf6fZyRyMJ6KI5fKfXg/Y/6+bVlmdWcU/WgNK121TObl6Uh7HNGqkmXtt1hBk1/s5wf7a1e6cIyUHH0vxH7Ius6q7dvZRTD1+1pGqXXtdb+tP/cSEpTeguACvvhqzdtHVTQsh7JS6Uv/W7p3/+efGphaVWZmPiVnrqehfukkqzXch1fpXFdK8OmEFqWCuRhFd5q70Hxdtg5FZ/jyrjp+q0MsGnrvtC2xtdPBVN0rdU1V+PVHDFr1W2to/ab3lKh/0NaVwULtK5hgcHY/Sm+nmobwn0eqyad1YOdf49N/pOfd5Y+EyrlW6qh4GOYgbftzJJ/kmrOtXpcH7Ve4THVMrVsrYPWJaQ0oCfkU//wRNl+PkJWIK618NXWc6jU8kvlD7QMFR7DNxyEtD7qk0KF6PDa3dY8UCPF+8mCvHYMlY7qkZ8plz6qWUbDyyFJECQMfGm81q29dOX8Puqr0wcpRFVFVb017HzI3iEcV3nVZ9349L2mUxvYYV/8nE+UWaj6lC449nsNSszKHOoiZK8bsu9089C61ZNFu20d9I7oE049ouI2/OMfy1qtt9qVhhfoUtunKnTxTb0atm90obT5at+oSlre6WakNo9hutGgjnSUGQ5vVqVov2pbwzSqtKdMXy2BH/1GVcRF87F5vjTntcJTrrYss5pzqh58TYjVViv5BKuadKnzQxl463BN54cKeao1lDf1ShfKdPrMZ/Nvw0JdI/ZFlnXWOaEe4sNlaxpl7vR6uvaga46qpetparieCgzofA7PW21TfH5rew4+bK9kipWU3pTulMm0aTXoKVuWQmMo67Vcy9T5GF4/lQk9+/yTfIbUVHsPsvE2rY6pxsXnuJYf7h/LiLd1X+jY6JjY7xRoi98skJXVDFTQJq4FIgpM6Dvt7/gaY2nFziFbH/UVktZjf6iadFYPuudMmTy9qhoapa6fafupHKULFZDs3LdzWuOyquZca+v1Ub/VfrJjqmVqP2i+MaUJ3X90H8paY1T7X0EqS/+19PHVlnOo1PJL5Q90flVqJqzv9PpFFTJ17da5ruW0NQ/USGH60PrpGqj9auqRn6mUPqpZhj6H+1LHqF7lEDt+CtTYsde94sbbxxUFtBupq+f3UT+rLZw98ePkfwDoECpU6/VnesKQNdMAoDZ6QqQq3XFmHvmnQmPaA4bOTk9aVevrvOaCTJYARL2pcH/ztXf54FJaEANdG+kDaH+rRE0KAJ2bVQus9NQSALoqFZT0VFRP+ValAIW2q1xfCe1BTVj09DlubggI6QNofwQpAHQoPdVVj/6qRdFRGVQAyDu9iaszF5RUY05NEqw5mqnUV0KjaX3UtGdVC/6gPkgfQMcgSAGgQyg4ceqxF/h2f2pfSTMPAGhNTSHULlrB3M7czENBaFWXt35qbMjSV0IjqPCpPny0PqrFQTV+hEgfQMeiTwoAAAAAAJAL1KQAAAAAAAC5QJACAAAAAADkAkEKAAAAAACQCwQpAAAAAABALhCkAAAAAAAAuUCQAgAAAAAA5AJBCgAAAAAAkAsEKQAAAAAAQC4QpAAAAAAAALlAkKLOHn14mrvgG+Nd0+IlyZj8mvXsHHfqsRe4N9+Yl4zJRtPrd/p9Z6fjpOOl47aq6grbCAAAAGDVkPsghRWwVoUCMQAAAAAAKK0TBCmWuvcXLU4+AQAAAACAVRXNPQAAAAAAQC7kOkgx4bZfuhOOPMe9Mvd1d/apl7i9h452113+E7di+Qr/nf0fUrMQTRc2D7FpFy54zzcd0ffhvGJqu2/TaNDv02SdLhb26aDf2O+tLwutk9bNxpdaT5uPTaehVL8Dtl9s0DyXLf8o+bZY2rRpy4+F26Ih6/6If2f7IaTt0ngdw3DfpE1bijUdst/6/jhefzv5tljqtEHfHfa91itMB+F0acc2FB9nDfG+DtNKnN7CNG6q2UYAAAAAyJtcBylGH3+I+/FPr3CbD+jvrr7p2+530ya4M771VbdGtzWSKbKbP2+Bu/WGu915F5/m5zPxtze7+fMXupuvvauoUKiC5eSHpvrvbbqZz73YqvCo6SZOmOTXT9NpkPHfudH/zUKBlx2GbFNYjtxw1R3uynG3uBH7DC1az4l3T/LfGxVYFcA5/ZvHFpavddE6xcEBTatl2T7UsO32A935Z12WTLGSpr3+yjsK2/XAo7f58WPPv7pVIdtYYXvRwvf99Pqd1rtXr57JFOmsQB3+TsOg7bZ0Y864rCgoIGr286MbJrhDj9i3sG59+67vvt+8z0utm9G8NE/N25Zz4aWn+22d8fizyVQtbNoR+wwrTDtq9Ei/v+PAgB1vW5+tBw1wN15zp98f/TbqUxiv9bz9hxOL0tDUKU/642DLKHWs5Ve/eNj/tWnHNKdjHdNwfarZRgAAAADIoy7T3GPGE8+5gw77kuvRc23/WX9VCH1h5ly34J1FfpwKfFMfe9KddtYxRdMdfdzBraa789Z7fYBg4036+XEy6qiRbuRBeyafKjvmxMPdNoMH+v9tOY9N/rPbZNONisZrPRUosYK4CqMKRqigatOJ1kXrpHWzwmupaYfvNdQvP2TThtulgJCCAgoQlHoir/2i/aPAigWQtN77HjTc/1/KA/dN9n+PO3lUUeBJ+1GF/fvuebCoUK8aNbsO3bFo3bRMFcDL1RbQPDQvzVPzNra/QjbtsC/s7PeRGbbHzv7YPj1jVjKmhcbpOwn3lYTjtZ5hGhLNP1xG2rE2a625ZmF+stMug92Q5sHWp5ptBAAAAIC86jJBChXoNu6/YfKpRd++6/mCb9MHTf6zCnwq5PXZoLf/bPS7dXv3dC/OfsV/1nQqnA4YuJn/bFQY1ZPxrPSkPdRjnR6+1ohqV4S0nir4qhNR0XpofVRQjWldta3z57/rP5ebNl6OTRvvJ+0P7Ze4gG569FzL/67U92lUCFdhXIVyFc5Dth9Vq2DZsuXJWOf3zZZbbZ58amH7zLY3TVoQxdj+MjZtvG9sneIAQu/11y2ap+0LTVs0vnk9xdJaKfGxNvH8unfv5mtnqBaKAhTVbCMAAAAA5FWXCVKoQKeCXcgKuKKCngp8k+5/xB0w/Piitv+j9julUF3eposLp7VQgbQW895akLo9YoVXTSPlpo1pWm2ntjfcfu0P7ZdSrAaAanBo+ri5SRp7a0upfZBWWFfhX0GAkAUFyrHAgAUKytG0YR8o4ZDWlCcONFVL6Snsl0LLTRPvJ6U9pUFTzTYCAAAAQF51mSBFVmoCYe354yGsmr+qUg2RsH+IcFAfIaVo32ga7T8LVsT9N3QWClyFfY2Ew7irxrSq+VErBXMUAFItCZu/+g0BAAAAgK6qUwcp4uYAbWFPpq36fCmVprMaDI2kp/eltl3j9J094S83bdxEoty0WSmQoSCHgh133f6roqYRIasBUaqZhsan1ZyoRbmmFlajw2RtltFW6v9D/Z8oKFGP4Fc12wgAAAAAedVpghRpBeq0tvvl+iaoRP0QqFnD3DmvJmPSadlxJ4hi/Sw0mvpl0Lb/JeWNDepAUt9Z3w1qJpDWsaQCLM8/U1zTodx8q6FAjmoHpB0fo9oIeguF3qQSBzJs3fR9PWotWEAkrc8M9cOh5h3G+t+Y/NC0ssGqtirVPKOafj1C1WwjAAAAAORV7oMUVmiMayioI0gVyqY8Mj0Z0/LWjWpeARpTR5iqAaBXNupJt1EhWlXzrdCqtyxonfSqSStg6zu9YnKttT/tPzeS3tigV2JqW8MmFVpnrbu+szdg6I0eaoIRb5Nec7n0739PPrXQb/RWi3i+2jZtf6laEZqv3ixhLMigedl6pDng0BH+b/xqTq2banTY922lQIfenKJmKHrFqtE2Tn7wj4V+SUQBFnU+qWBV2mtf69WExYITYfrV/LWOtahmG3Uc9erX+LW6AAAAANDRch+kUKFRr3VU1Xj1c2AFKxXK9KpQG69BT78vu+b85JfV07LO+NZXfeH6hCPPKcxXHUmqloW+t+lOOfNo3yGldTKpvgVUuNUrMtuDmgioqUDYwaPWWa+bjJsPqAlGvE2qDXLwYXslU6ykafW60nC+2jZNX65Ww++bC8Lh9GoSU64PC9H8xl52tv9fv7HfqymNxpdbXrUUrNH+UgDGlqP0cvb5J/lgV0jTqk+KMG1pUOAlfqNLrezVoNZ/hwYF4trSJ0U12wgAAAAAebTawtkTP07+BwAAAAAA6DC83QMAAAAAAOQCQQoAAAAAAJALBCkAAAAAAEAuEKQAAAAAAAC5QJACAAAAAADkAkEKAAAAAACQCwQpAAAAAABALhCkAAAAAAAAuUCQAgAAAAAA5AJBCgAAAAAAkAsEKQAAAAAAQC4QpAAAAAAAALlAkAIAAAAAAOQCQQoAAAAAAJALBCkAAAAAAEAuEKQAAAAAAAC5QJACAAAAAADkAkEKAAAAAACQCwQpAAAAAABALhCkAAAAAAAAuUCQAgAAAAAA5AJBCgAAAAAAkAsEKQAAAAAAQC4QpAAAAAAAALlAkAIAAAAAAOQCQQoAAAAAAJALBCkAAAAAAEAOOPf/ATT73s7YlC9tAAAAAElFTkSuQmCC)"
      ],
      "metadata": {
        "id": "9S_l7orYmzU4"
      }
    },
    {
      "cell_type": "markdown",
      "source": [
        "## setup required access tokens"
      ],
      "metadata": {
        "id": "vhm-_e0zmc6C"
      }
    },
    {
      "cell_type": "code",
      "source": [
        "from google.colab import userdata\n",
        "import os\n",
        "os.environ['OPENAI_API_KEY'] = userdata.get('OPENAI_API_KEY')\n",
        "HF_TOKEN = userdata.get('HUGGINGFACE_API_KEY')\n",
        "os.environ['HF_AUTH_TOKEN'] = HF_TOKEN\n",
        "os.environ['GRADIENT_ACCESS_TOKEN'] = userdata.get('GRADIENT_ACCESS_TOKEN')\n",
        "os.environ['GRADIENT_WORKSPACE_ID'] = userdata.get('GRADIENT_WORKSPACE_ID')"
      ],
      "metadata": {
        "id": "xL33fcK0kxQe"
      },
      "execution_count": 7,
      "outputs": []
    },
    {
      "cell_type": "markdown",
      "source": [
        "![image.png](data:image/png;base64,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)"
      ],
      "metadata": {
        "id": "9oCDYxrK97z-"
      }
    },
    {
      "cell_type": "markdown",
      "source": [
        "## Load the Dataset"
      ],
      "metadata": {
        "id": "EQgLseuXoZ75"
      }
    },
    {
      "cell_type": "markdown",
      "source": [
        "#### MosaicML Instruct V3\n",
        "This is an aggregate dataset, comprised of Dolly HHRLHF (derived from the Databricks Dolly-15k and the Anthropic Helpful and Harmless (HH-RLHF) datasets), combined with Competition Math, Duorc, CoT GSM8k, Qasper, Quality, Summ Screen FD and Spider. The intention was to create a permissively-licensed instruction-following dataset with a large number of longform samples."
      ],
      "metadata": {
        "id": "bTQdZKT1o3b6"
      }
    },
    {
      "cell_type": "code",
      "source": [
        "from datasets import load_dataset\n",
        "#\n",
        "dataset = load_dataset(\"mosaicml/instruct-v3\")\n",
        "dataset"
      ],
      "metadata": {
        "id": "WvecHHEmoehU",
        "outputId": "6c9ebf31-f773-4b9a-dd95-5fc19b664032",
        "colab": {
          "base_uri": "https://localhost:8080/",
          "height": 415,
          "referenced_widgets": [
            "96c8cdbcb46840bcbee0eded63c7837d",
            "a56c787dab494ed988c8e9d511ed7232",
            "4d6923513a2842a296194825649ca1a8",
            "7f28655714174d1492790bbcaf1d8bf5",
            "e0275e7daa3c429c9cac2c85cbf4eca9",
            "8d749159e595432f8491fdfabe05435a",
            "5393f0f5ceac4386a1d82e878bd2cc09",
            "7600a8ac2638498fbabdd8ab2161d0e7",
            "38922d66a5134bad86876f92f984b2d8",
            "d6ea0cf429044764bc5a671376cfd53d",
            "dd2e1a86c02b4206a4fd2d0f11ce4beb",
            "2084c4dc256347abaad4dc3f899e7420",
            "b1aa49246627453ebb9688a2a512dfd9",
            "7ed4c9216fb044e3b26dce7cddf4f5fc",
            "6cde9ec330d247948039392129b36377",
            "8aea18e2c39d4063b5cc84802989f558",
            "8c189ac7c65844cdbfc407619326e39f",
            "c75d51f60f8546a8bea735a7ded9cae2",
            "97fb07483c1c4723a1c8403e8884cd93",
            "d6949efb83f849b5ae1c813b11241b57",
            "aea2214bb39e4b4da9a400203b52614b",
            "1381ab1d2a794bf996008a346f8d066d",
            "9b4ee01d622942f98bade2f39434704f",
            "2ae98519e3de4738bcb550826d24f9db",
            "3381fb8c4b5e49ab9922c819e5ef9c3c",
            "f09fc701c64e40f79ae1e65b090ad6d4",
            "4aa7952fcd8549b59563989bc4ded81a",
            "12ca3c3057f7420f9af8a653573d167d",
            "b46f01abc0e749f7a0475ef8e7eb7a6a",
            "4a64a69d097343b7868540dac3ac2b3f",
            "407022215106490b8c5a0ab17888b8f8",
            "da26a8055e8f41fe9b03f662baf2cbf2",
            "d55e9148fde847fd89b37aa60b97be51",
            "704bf183bc7b48f3bacfec37f59169e8",
            "954f54e3f42e461480dc10bfbb12164c",
            "ae04e8ce135640e394fa2f0218d484f2",
            "107f85636d4f42d4b5458068342c0ccd",
            "3d23636ee3f34f7fb3db0cbc71a30d9d",
            "daa6f48f9be945df808be917695d0b56",
            "7c0e90a75cf54606940a193c1de020d8",
            "1daf191a1b3a4cb7b444fd9b956aff0b",
            "dbd8a78b890e4632ac96648942c997ba",
            "6a36f0e5867b4c14977556e95262d693",
            "6dfb89658d794578836c2cb462c07ddf",
            "771a66dc031d406d970882638eb621e0",
            "d23bb6f8977b4ac4bcaaed20d15ce89f",
            "38357c28823c4e72b70f2685a22bc432",
            "8048eceeb7ad4f37974a442df84b3ea4",
            "ef251837af054762a413bbdf231256b6",
            "1edf00362db04a0aa384b0f380697f47",
            "44b254e53eb04150b6e0f1afc5948240",
            "6ae24f0f63154d3084d48e04325e1179",
            "8267b7ede4ab4725a56c9c78931f31d3",
            "7631e428548f40eb99555a33241d4f72",
            "44198dbd399149ccaade2efc3836fd9e",
            "cb99244c6cb94ad289f15ffd2cc9d641",
            "76476ce53652454a887592ef84c2dc11",
            "db735a778e5f4ca8957604f27e89ab57",
            "d4d2f27279e2480a87335d81359369d7",
            "4c28fc25ac164183ab2ef05bfc0f7752",
            "37b47bbe08484ae58f395823e5655ef0",
            "311743d70c874a9f87aee5c69d1c7e8d",
            "ccfe652fcff64f0eb2d62920e2dde6eb",
            "1fe9de7132ea4ef484918fb85cda775f",
            "aebdbbb39aba4979b2ecabe9d5c28e8a",
            "7b80b5a6d61445b682e4bceb72f457b3",
            "a3a4d0e1e73e478db8e8657bfb40a0aa",
            "daae6e22a7e844b989a7941db13e9ba1",
            "728bed144c9b425396ebb9ddfb1fd4ed",
            "5a7ec688fc6b48f18543f5296d1532ff",
            "782e777b55c542e68001ac40d338d153",
            "5aa225fbaf9040b6aab87ba8c1b44048",
            "a75d1896744340adb6fbd97f491ad7df",
            "fbca14377af7453bbfb0e427e2683bf7",
            "128d6c21037b4aa79db1b7c7c562c24c",
            "0db8ff716ec840e5b254309558cc57a0",
            "01292e1a67e44ad9bbe171c1c8578006"
          ]
        }
      },
      "execution_count": 9,
      "outputs": [
        {
          "output_type": "display_data",
          "data": {
            "text/plain": [
              "Downloading readme:   0%|          | 0.00/3.05k [00:00<?, ?B/s]"
            ],
            "application/vnd.jupyter.widget-view+json": {
              "version_major": 2,
              "version_minor": 0,
              "model_id": "96c8cdbcb46840bcbee0eded63c7837d"
            }
          },
          "metadata": {}
        },
        {
          "output_type": "display_data",
          "data": {
            "text/plain": [
              "Downloading data files:   0%|          | 0/2 [00:00<?, ?it/s]"
            ],
            "application/vnd.jupyter.widget-view+json": {
              "version_major": 2,
              "version_minor": 0,
              "model_id": "2084c4dc256347abaad4dc3f899e7420"
            }
          },
          "metadata": {}
        },
        {
          "output_type": "display_data",
          "data": {
            "text/plain": [
              "Downloading data:   0%|          | 0.00/127M [00:00<?, ?B/s]"
            ],
            "application/vnd.jupyter.widget-view+json": {
              "version_major": 2,
              "version_minor": 0,
              "model_id": "9b4ee01d622942f98bade2f39434704f"
            }
          },
          "metadata": {}
        },
        {
          "output_type": "display_data",
          "data": {
            "text/plain": [
              "Downloading data:   0%|          | 0.00/10.3M [00:00<?, ?B/s]"
            ],
            "application/vnd.jupyter.widget-view+json": {
              "version_major": 2,
              "version_minor": 0,
              "model_id": "704bf183bc7b48f3bacfec37f59169e8"
            }
          },
          "metadata": {}
        },
        {
          "output_type": "display_data",
          "data": {
            "text/plain": [
              "Extracting data files:   0%|          | 0/2 [00:00<?, ?it/s]"
            ],
            "application/vnd.jupyter.widget-view+json": {
              "version_major": 2,
              "version_minor": 0,
              "model_id": "771a66dc031d406d970882638eb621e0"
            }
          },
          "metadata": {}
        },
        {
          "output_type": "display_data",
          "data": {
            "text/plain": [
              "Generating train split:   0%|          | 0/56167 [00:00<?, ? examples/s]"
            ],
            "application/vnd.jupyter.widget-view+json": {
              "version_major": 2,
              "version_minor": 0,
              "model_id": "cb99244c6cb94ad289f15ffd2cc9d641"
            }
          },
          "metadata": {}
        },
        {
          "output_type": "display_data",
          "data": {
            "text/plain": [
              "Generating test split:   0%|          | 0/6807 [00:00<?, ? examples/s]"
            ],
            "application/vnd.jupyter.widget-view+json": {
              "version_major": 2,
              "version_minor": 0,
              "model_id": "a3a4d0e1e73e478db8e8657bfb40a0aa"
            }
          },
          "metadata": {}
        },
        {
          "output_type": "execute_result",
          "data": {
            "text/plain": [
              "DatasetDict({\n",
              "    train: Dataset({\n",
              "        features: ['prompt', 'response', 'source'],\n",
              "        num_rows: 56167\n",
              "    })\n",
              "    test: Dataset({\n",
              "        features: ['prompt', 'response', 'source'],\n",
              "        num_rows: 6807\n",
              "    })\n",
              "})"
            ]
          },
          "metadata": {},
          "execution_count": 9
        }
      ]
    },
    {
      "cell_type": "markdown",
      "source": [
        "## Format the dataset\n",
        "\n",
        "* merge prompat and response column into a custome template"
      ],
      "metadata": {
        "id": "09F6Y7q7o6kN"
      }
    },
    {
      "cell_type": "code",
      "source": [
        "def create_prompt(sample):\n",
        "  user_message = sample['prompt']\n",
        "  user_response = sample['response']\n",
        "  prompt_template = f\"\"\"<s>\n",
        "  {user_message}\n",
        "  {user_response}</s>\n",
        "  \"\"\"\n",
        "  return {\"inputs\":prompt_template}"
      ],
      "metadata": {
        "id": "7du2HmiGopDy"
      },
      "execution_count": 15,
      "outputs": []
    },
    {
      "cell_type": "code",
      "source": [
        "create_prompt(dataset[\"train\"][1])[\"inputs\"]"
      ],
      "metadata": {
        "id": "STz2-CxIp_FW",
        "outputId": "5fccbe3c-bfe2-436e-e28e-769c9ca5c3ba",
        "colab": {
          "base_uri": "https://localhost:8080/",
          "height": 88
        }
      },
      "execution_count": 16,
      "outputs": [
        {
          "output_type": "execute_result",
          "data": {
            "text/plain": [
              "'<s>\\n  Below is an instruction that describes a task. Write a response that appropriately completes the request.\\n\\n### Instruction\\nWhat are different types of grass?\\n\\n### Response\\n\\n  There are more than 12,000 species of grass. The most common is Kentucky Bluegrass, because it grows quickly, easily, and is soft to the touch. Rygrass is shiny and bright green colored. Fescues are dark green and shiny. Bermuda grass is harder but can grow in drier soil.</s>\\n  '"
            ],
            "application/vnd.google.colaboratory.intrinsic+json": {
              "type": "string"
            }
          },
          "metadata": {},
          "execution_count": 16
        }
      ]
    },
    {
      "cell_type": "code",
      "source": [
        "dataset[\"train\"][100]"
      ],
      "metadata": {
        "id": "zI14RkIUqIAf",
        "outputId": "73bfc22a-f481-42a5-de91-89db327fc0ef",
        "colab": {
          "base_uri": "https://localhost:8080/"
        }
      },
      "execution_count": 18,
      "outputs": [
        {
          "output_type": "execute_result",
          "data": {
            "text/plain": [
              "{'prompt': 'Below is an instruction that describes a task. Write a response that appropriately completes the request.\\n\\n### Instruction\\nFind all solutions to the inequality \\\\[\\\\frac{(2x-7)(x-3)}{x} \\\\ge 0.\\\\](Give your answer in interval notation.)\\n### Response\\n',\n",
              " 'response': 'Let $f(x)$ be the quantity on the left-hand side. Constructing a sign table, we get \\\\begin{tabular}{c|ccc|c} &$2x-7$ &$x-3$ &$x$ &$f(x)$ \\\\\\\\ \\\\hline$x<0$ &$-$&$-$&$-$&$-$\\\\\\\\ [.1cm]$0<x<3$ &$-$&$-$&$+$&$+$\\\\\\\\ [.1cm]$3<x<\\\\frac{7}{2}$ &$-$&$+$&$+$&$-$\\\\\\\\ [.1cm]$x>\\\\frac{7}{2}$ &$+$&$+$&$+$&$+$\\\\\\\\ [.1cm]\\\\end{tabular}It follows that $f(x) > 0$ when $0 < x < 3$ or $x > \\\\tfrac72.$ Since the inequality is nonstrict, we must include the values of $x$ such that $f(x) = 0,$ which are $x=3$ and $x=\\\\tfrac72.$ Thus, the solution set is \\\\[x \\\\in \\\\boxed{(0, 3] \\\\cup [\\\\tfrac72, \\\\infty)}.\\\\]',\n",
              " 'source': 'competition_math'}"
            ]
          },
          "metadata": {},
          "execution_count": 18
        }
      ]
    },
    {
      "cell_type": "markdown",
      "source": [
        "## Map the formatting function across the dataset"
      ],
      "metadata": {
        "id": "9FtHfx-uq1ZW"
      }
    },
    {
      "cell_type": "code",
      "source": [
        "instruct_tune_dataset = dataset.map(create_prompt)\n"
      ],
      "metadata": {
        "id": "tvbNZiB4qlzw",
        "outputId": "28a6e6a6-c277-4ef1-9018-c5b91860e077",
        "colab": {
          "base_uri": "https://localhost:8080/",
          "height": 256,
          "referenced_widgets": [
            "9924542cc39e414484536adf70296d66",
            "4bc584559774447fabc70c04209b66de",
            "a9a5b9e19b3a42f7a42e05ab596b7f77",
            "12c323def2724efa8a4ae49125307c39",
            "ffc36f0e05b04994a99c3161a3f330db",
            "8510705a5020454fbf48722123b63a75",
            "d8b3e0f996394bb0a7ecdef8cd61b306",
            "e64d57090e1f4b88b9cf9558b7a50e95",
            "259427ccd6554789afd72c7b03d4f6ff",
            "67c77368ee304acda0e9759e6faa7bc4",
            "02223d0e66c247908d051fa701f31dd6",
            "6bd3e1f51f734220aef705fd9efaff7e",
            "dbb98163e86f4a708c71521e7fc81bf5",
            "d27ee45a9e544b89a81fde83b4770eea",
            "7061585b7b4e4a90abaaf608686100a8",
            "40e8126c741148c9939fcf9e06605b5a",
            "3e691fb340eb42f69796001f56875268",
            "6e116a5a97e345d1a377dbb612c10ad5",
            "3eaf776c3e2b4798bbd6b542f708124d",
            "4e20fc38d56a42fdbf1ab9b6255efa7e",
            "8b6791dd8cf14d91bf83e182b016a5fc",
            "d5bf7c105fce45048ad8907636c3fb54"
          ]
        }
      },
      "execution_count": 19,
      "outputs": [
        {
          "output_type": "display_data",
          "data": {
            "text/plain": [
              "Map:   0%|          | 0/56167 [00:00<?, ? examples/s]"
            ],
            "application/vnd.jupyter.widget-view+json": {
              "version_major": 2,
              "version_minor": 0,
              "model_id": "9924542cc39e414484536adf70296d66"
            }
          },
          "metadata": {}
        },
        {
          "output_type": "display_data",
          "data": {
            "text/plain": [
              "Map:   0%|          | 0/6807 [00:00<?, ? examples/s]"
            ],
            "application/vnd.jupyter.widget-view+json": {
              "version_major": 2,
              "version_minor": 0,
              "model_id": "6bd3e1f51f734220aef705fd9efaff7e"
            }
          },
          "metadata": {}
        },
        {
          "output_type": "error",
          "ename": "NameError",
          "evalue": "ignored",
          "traceback": [
            "\u001b[0;31m---------------------------------------------------------------------------\u001b[0m",
            "\u001b[0;31mNameError\u001b[0m                                 Traceback (most recent call last)",
            "\u001b[0;32m<ipython-input-19-2faae1136279>\u001b[0m in \u001b[0;36m<cell line: 2>\u001b[0;34m()\u001b[0m\n\u001b[1;32m      1\u001b[0m \u001b[0minstruct_tune_dataset\u001b[0m \u001b[0;34m=\u001b[0m \u001b[0mdataset\u001b[0m\u001b[0;34m.\u001b[0m\u001b[0mmap\u001b[0m\u001b[0;34m(\u001b[0m\u001b[0mcreate_prompt\u001b[0m\u001b[0;34m)\u001b[0m\u001b[0;34m\u001b[0m\u001b[0;34m\u001b[0m\u001b[0m\n\u001b[0;32m----> 2\u001b[0;31m \u001b[0minstruction_tune_dataset\u001b[0m\u001b[0;34m\u001b[0m\u001b[0;34m\u001b[0m\u001b[0m\n\u001b[0m",
            "\u001b[0;31mNameError\u001b[0m: name 'instruction_tune_dataset' is not defined"
          ]
        }
      ]
    },
    {
      "cell_type": "code",
      "source": [
        "instruct_tune_dataset"
      ],
      "metadata": {
        "id": "T7As_kDxrVGe",
        "outputId": "4a1b5f6f-dd7c-4650-ae5c-ddf35f287497",
        "colab": {
          "base_uri": "https://localhost:8080/"
        }
      },
      "execution_count": 20,
      "outputs": [
        {
          "output_type": "execute_result",
          "data": {
            "text/plain": [
              "DatasetDict({\n",
              "    train: Dataset({\n",
              "        features: ['prompt', 'response', 'source', 'inputs'],\n",
              "        num_rows: 56167\n",
              "    })\n",
              "    test: Dataset({\n",
              "        features: ['prompt', 'response', 'source', 'inputs'],\n",
              "        num_rows: 6807\n",
              "    })\n",
              "})"
            ]
          },
          "metadata": {},
          "execution_count": 20
        }
      ]
    },
    {
      "cell_type": "code",
      "source": [
        "instruct_tune_dataset['train']['inputs'][0]"
      ],
      "metadata": {
        "id": "U03FQnUVrO8J",
        "outputId": "446ffa73-2c80-40c4-a04c-650e04e1d075",
        "colab": {
          "base_uri": "https://localhost:8080/",
          "height": 140
        }
      },
      "execution_count": 21,
      "outputs": [
        {
          "output_type": "execute_result",
          "data": {
            "text/plain": [
              "'<s>\\n  Below is an instruction that describes a task. Write a response that appropriately completes the request.\\n\\n### Instruction\\nQuestion: Nancy and Rose are making bracelets, and there are eight beads in each bracelet. Nancy has 40 metal beads and 20 more pearl beads. Rose has 20 crystal beads and twice as many stone beads as crystal beads. How many bracelets can Nancy and Rose make?\\nAnswer: Nancy has 40 + 20 = 60 pearl beads. So, Nancy has a total of 40 + 60 = 100 beads. Rose has 2 x 20 = 40 stone beads. So, Rose has 20 + 40 = 60 beads. Thus, Nancy and Rose have 100 + 60 = 160 beads altogether. Therefore, they can make 160 / 8 = 20 bracelets. The answer is 20.\\n[Question]Ms. Estrella is an entrepreneur with a startup company having 10 employees. The company makes a revenue of $400000 a month, paying 10% in taxes, 5% of the remaining amount on marketing and ads, 20% of the remaining amount on operational costs, and 15% of the remaining amount on employee wages. Assuming each employee receives the same wage, calculate the amount of money each employee is paid monthly.\\n[Answer]The company pays a total of 10 / 100 * $400000 = $40000 on taxes. After taxes, the company revenue is $400000 - $40000 = $360,000. The costs of marketing and ads campaign are 5 / 100 * $360000 = $18000. After deducting the costs of marketing and adds campaign, the company remains with = $342,000 in revenue. Operational costs for the company are 20 / 100 * $342000 = $68400. After taking out the operational costs, the company remains with $342000 - $68400 = $273600. The company also pays employee wages of 15 / 100 * $273600 = $41040. If the total number of employees is 10, each employee is paid a salary of $41040 / 10 = $4104 per month. The answer is 4104.\\nQ: Princeton had a gender reveal party and invited all of his fellow employees to celebrate with him. If the total number of guests were 60, and 2/3 were male guests, how many female guests attended the party?\\nA: The number of males in the party was 2 males / 3 guests * 60 guests = 40 males. If the total number of people at the party was 60, then there were 60 guests - 40 males = 20 females. The answer is 20.\\nQuestion: Joshua bought 25 oranges for $12.50. If he sells each one for 60c, how much profit in cents will he make on each orange?\\nAnswer: $1 is equivalent to 100 cents so $12.50 is equivalent to 100 * 12.50 = 1250 cents. He bought 25 oranges for 1250 cents so each orange cost 1250 / 25 = 50 cents each. If he sells each orange for 60 cents, he is making a profit of 60 - 50 = 10 cents on each one. The answer is 10.\\n[Question]Wilson decides to go sledding on some nearby hills. On the 2 tall hills, he sleds down them 4 times each and on the 3 small hills, he sled down them half as often as he sleds down the tall hills. How many times did he sled down the hills?\\n[Answer]On the tall hills, he sleds down 2 tall hills * 4 times per tall hill = 8 times. He sleds down the small hills half as often so he sleds down each hill 4 times per tall hill / 2 = 2 times per small hill. On the small hills, he sleds down 3 small hills * 2 times per small hill = 6 times. So in total, Wilson sled down the hills 8 times on tall hills + 6 times on small hills = 14 times. The answer is 14.\\n[Question]Natalia is riding a bicycle for the cycling competition. On Monday she rode 40 kilometers and on Tuesday 50 kilometers. On Wednesday she rode 50% fewer kilometers than the day before. On Thursday she rode as many as the sum of the kilometers from Monday and Wednesday. How many kilometers did Natalie ride in total?\\n[Answer]\\n### Response\\n\\n  On Wednesday she covered half of the distance from Tuesday, so 50 / 2 = 25 kilometers. On Thursday she rode 40 + 25 = 65 kilometers. In total, Natalia rode 40 + 50 + 25 + 65 = 180 kilometers. The answer is 180.</s>\\n  '"
            ],
            "application/vnd.google.colaboratory.intrinsic+json": {
              "type": "string"
            }
          },
          "metadata": {},
          "execution_count": 21
        }
      ]
    },
    {
      "cell_type": "markdown",
      "source": [
        "## Filter the dataset\n",
        "\n",
        "We need to consider those samples which has a length within the training model context window which is 2048 tokens"
      ],
      "metadata": {
        "id": "kjJ08kC2ri5u"
      }
    },
    {
      "cell_type": "code",
      "source": [
        "pruned_dataset = instruct_tune_dataset.filter(lambda x : len(x[\"inputs\"]) <= 2000)\n",
        "pruned_dataset"
      ],
      "metadata": {
        "id": "pAW8DEtkrfRH",
        "outputId": "fa24df8d-4195-4982-8ee7-6fcc2e083058",
        "colab": {
          "base_uri": "https://localhost:8080/",
          "height": 255,
          "referenced_widgets": [
            "7bee1ebb5d034a83af6e2c8146797df2",
            "b6ea55974722456e8ad8dcddd11eafe8",
            "17b9e5bde32240c195023437c9c991ac",
            "7331a8cdb2084b458a627d0e392ab3e9",
            "b84715d2f1ce4a4db6d695e548d1a6cc",
            "be327926576744f98fd6b7c37b5a221d",
            "0dcb6e3625a347419643ce9ba7881851",
            "da3b7088a0054575808c74666f9e4635",
            "694a23f0c2ca4c518de1bc091148bf3b",
            "fef1fa028a364e69913f490e205ea4e5",
            "bf7e512d117e4038b834ccd577c3b4f2",
            "e28dcab654f844a0a1eba05d86f6ee52",
            "9a060e8b1268431b9a31831a6e1795ea",
            "db370cb3e291438fbcfe083ecde4fee6",
            "2e00e87889ef48e0af4a5f3fce9f82a1",
            "3dfa81fc8bab4626a2cf6d84a6575158",
            "cc6c735e68ca4bca9773cf2714e4dfd2",
            "4e782e085f0544b3aa59647eea82b7bd",
            "d8a08063bd10414385b782fcb1a4fe30",
            "c40ced5aec7b4f8f98e26f4c6ecf2a5b",
            "f063324a406d449db86f4fc438206f49",
            "93884fce2e6b41bc880c90b01dc58230"
          ]
        }
      },
      "execution_count": 23,
      "outputs": [
        {
          "output_type": "display_data",
          "data": {
            "text/plain": [
              "Filter:   0%|          | 0/56167 [00:00<?, ? examples/s]"
            ],
            "application/vnd.jupyter.widget-view+json": {
              "version_major": 2,
              "version_minor": 0,
              "model_id": "7bee1ebb5d034a83af6e2c8146797df2"
            }
          },
          "metadata": {}
        },
        {
          "output_type": "display_data",
          "data": {
            "text/plain": [
              "Filter:   0%|          | 0/6807 [00:00<?, ? examples/s]"
            ],
            "application/vnd.jupyter.widget-view+json": {
              "version_major": 2,
              "version_minor": 0,
              "model_id": "e28dcab654f844a0a1eba05d86f6ee52"
            }
          },
          "metadata": {}
        },
        {
          "output_type": "execute_result",
          "data": {
            "text/plain": [
              "DatasetDict({\n",
              "    train: Dataset({\n",
              "        features: ['prompt', 'response', 'source', 'inputs'],\n",
              "        num_rows: 40695\n",
              "    })\n",
              "    test: Dataset({\n",
              "        features: ['prompt', 'response', 'source', 'inputs'],\n",
              "        num_rows: 5506\n",
              "    })\n",
              "})"
            ]
          },
          "metadata": {},
          "execution_count": 23
        }
      ]
    },
    {
      "cell_type": "markdown",
      "source": [
        "## Initializing the base model using llam-index"
      ],
      "metadata": {
        "id": "0kjSiB54sTUh"
      }
    },
    {
      "cell_type": "code",
      "source": [
        "from llama_index.llms import GradientBaseModelLLM\n",
        "base_model_slug =\"llama2-7b-chat\"\n",
        "base_llm = GradientBaseModelLLM(\n",
        "    base_model_slug=base_model_slug,\n",
        "    max_tokens=300,\n",
        "    )"
      ],
      "metadata": {
        "id": "gFEzGumVsANX"
      },
      "execution_count": 25,
      "outputs": []
    },
    {
      "cell_type": "code",
      "source": [
        "base_llm"
      ],
      "metadata": {
        "id": "V0E4O78Ws5ys",
        "outputId": "de3c30cc-c2c8-446c-fdee-17f7b95749cb",
        "colab": {
          "base_uri": "https://localhost:8080/"
        }
      },
      "execution_count": 26,
      "outputs": [
        {
          "output_type": "execute_result",
          "data": {
            "text/plain": [
              "GradientBaseModelLLM(callback_manager=<llama_index.callbacks.base.CallbackManager object at 0x78994e712bf0>, system_prompt=None, messages_to_prompt=<function messages_to_prompt at 0x7899506601f0>, completion_to_prompt=<function default_completion_to_prompt at 0x7899506628c0>, output_parser=None, pydantic_program_mode=<PydanticProgramMode.DEFAULT: 'default'>, query_wrapper_prompt=None, max_tokens=300, access_token=None, host=None, workspace_id=None, is_chat_model=False, base_model_slug='llama2-7b-chat')"
            ]
          },
          "metadata": {},
          "execution_count": 26
        }
      ]
    },
    {
      "cell_type": "markdown",
      "source": [
        "## Initialize Finetune Engine"
      ],
      "metadata": {
        "id": "jevDMxOvs7Kb"
      }
    },
    {
      "cell_type": "markdown",
      "source": [
        "* llama_index has built a convinient wrapper which can be used for to setup a finetuning job on [gradient.ai](https://docs.gradient.ai/docs/quickstart)\n",
        "\n",
        "#### Parameters required by gradient are as follows ❎\n",
        "* base_model_slug : model_id for referrence in the API and CLI table\n",
        "* name : name given to the finetuned model\n",
        "* data_path : this will point to formatted  jsonl file which will be used by the GradientFinetuneEngine to pull training examples.\n",
        "* verbose : display log\n",
        "* max_steps : no. of steps the model wil be finetuned on\n",
        "* batch_sizxe : no. of examples used to train at a time"
      ],
      "metadata": {
        "id": "zCAVNGRzs_KY"
      }
    },
    {
      "cell_type": "markdown",
      "source": [
        "The basic idea is that we will repeatedly fine-tune the model - bit by bit - as we work through our `max_steps`.\n",
        "\n",
        "Check out some awesome [tips and tricks](https://docs.gradient.ai/docs/tips-and-tricks) provided by the Gradient team if you wanted to dive deeper into what exactly we can do with our fine-tuning!"
      ],
      "metadata": {
        "id": "dbfZ1pxS0ENL"
      }
    },
    {
      "cell_type": "markdown",
      "source": [
        "## Saving to JSONL\n",
        "We can take advantage of the datasets library's to_json to export our dataset in the desired format."
      ],
      "metadata": {
        "id": "2VwEIaiyzKGS"
      }
    },
    {
      "cell_type": "code",
      "source": [
        "for split,dataset in pruned_dataset.items():\n",
        "  dataset.to_json(f\"instruct_tune_{split}.jsonl\")"
      ],
      "metadata": {
        "id": "jJHjRUfbs-Kw",
        "outputId": "ad8e4298-ccaa-4b3a-fe98-2c64be1b3b41",
        "colab": {
          "base_uri": "https://localhost:8080/",
          "height": 81,
          "referenced_widgets": [
            "216567e54b3348f5a87e460f059567c9",
            "868a57194679452e8a08971135b0c3a5",
            "3d3d2f7c464d4a9ab8b6ddac80b85fcd",
            "d83665c88ee644d1b7d9eaa9ddcf27b2",
            "e1919bac5bdf423c8d76d5522082ba9a",
            "8337fa49c53b46138dca691c55726d1a",
            "28f5590e3a1b404faa096f64d12aad7b",
            "1cfe7027f8714148a8a8ce638c8bcaca",
            "20b8fc2a0c7b4db3b27d7f1f4d58c7dc",
            "cbf432dea4dd453d8785ffd502f1f1ea",
            "4b138c15818c4e5e9c2c4593bbfded7b",
            "3a4692d324644a10a9ef25aac97d4c09",
            "5224247792694f85a14d17103e9acdda",
            "9974025bc1834b79993dc7809d0e1b49",
            "113cf950f5614cde97c1131858421cd6",
            "9c3c2cab5fa34fea97c015a5c8544ea4",
            "da029b69378e41188017e53937687806",
            "b46bd3f5c45a4f4d8128d886f34bcb00",
            "71af890cb46a446d8a4e27d422a2e6a9",
            "eccec89aa3df42baa0c638cce2b9ccf9",
            "fbb1ed5c24d943a5ad15d4d43708cf77",
            "1ee91c5776e541948b9546c49d7cdadd"
          ]
        }
      },
      "execution_count": 27,
      "outputs": [
        {
          "output_type": "display_data",
          "data": {
            "text/plain": [
              "Creating json from Arrow format:   0%|          | 0/41 [00:00<?, ?ba/s]"
            ],
            "application/vnd.jupyter.widget-view+json": {
              "version_major": 2,
              "version_minor": 0,
              "model_id": "216567e54b3348f5a87e460f059567c9"
            }
          },
          "metadata": {}
        },
        {
          "output_type": "display_data",
          "data": {
            "text/plain": [
              "Creating json from Arrow format:   0%|          | 0/6 [00:00<?, ?ba/s]"
            ],
            "application/vnd.jupyter.widget-view+json": {
              "version_major": 2,
              "version_minor": 0,
              "model_id": "3a4692d324644a10a9ef25aac97d4c09"
            }
          },
          "metadata": {}
        }
      ]
    },
    {
      "cell_type": "markdown",
      "source": [
        "* two jsonl datsets are created\n",
        "  - instruct_tune_test.jsonl\n",
        "  - instruct_tune_train.jsonl"
      ],
      "metadata": {
        "id": "aLr6HjRzzm8b"
      }
    },
    {
      "cell_type": "code",
      "source": [
        "from llama_index.finetuning.gradient.base import GradientFinetuneEngine\n",
        "#\n",
        "finetune_engine = GradientFinetuneEngine(\n",
        "    base_model_slug=base_model_slug,\n",
        "    name=\"instruct-tune\",\n",
        "    data_path=\"/content/instruct_tune_train.jsonl\",\n",
        "    verbose=True,\n",
        "    max_steps=100,\n",
        "    batch_size=4\n",
        ")\n",
        ""
      ],
      "metadata": {
        "id": "wQCX5Zd6s6Kf"
      },
      "execution_count": 28,
      "outputs": []
    },
    {
      "cell_type": "markdown",
      "source": [
        "Now we can grab our model_adapter_id from our finetune_engine.\n",
        "\n",
        "This will be useful when we need to address our specific fine-tuned model in the future."
      ],
      "metadata": {
        "id": "T99VFKAj8DXy"
      }
    },
    {
      "cell_type": "code",
      "source": [
        "finetune_engine.model_adapter_id"
      ],
      "metadata": {
        "id": "IPVguey98Hjf",
        "outputId": "872ad48c-650f-4b87-be3e-2b9817f3cbac",
        "colab": {
          "base_uri": "https://localhost:8080/",
          "height": 36
        }
      },
      "execution_count": 29,
      "outputs": [
        {
          "output_type": "execute_result",
          "data": {
            "text/plain": [
              "'ac08ee49-7dec-4449-af8a-5c0833752b02_model_adapter'"
            ],
            "application/vnd.google.colaboratory.intrinsic+json": {
              "type": "string"
            }
          },
          "metadata": {},
          "execution_count": 29
        }
      ]
    },
    {
      "cell_type": "markdown",
      "source": [
        "## Instruct-tuning Llama 2 7B Chat"
      ],
      "metadata": {
        "id": "dmWZSBHY8PqP"
      }
    },
    {
      "cell_type": "markdown",
      "source": [
        "* call our finetune() method on our finetune_engine to start sending examples to fine-tune our Gradient model!"
      ],
      "metadata": {
        "id": "UKcxecex8Vnn"
      }
    },
    {
      "cell_type": "code",
      "source": [
        "epochs = 1\n",
        "for i in range(epochs):\n",
        "    print(f\"** EPOCH {i} **\")\n",
        "    finetune_engine.finetune()"
      ],
      "metadata": {
        "id": "jN6xyOGJ8K65",
        "outputId": "f35c702b-8a4c-4536-aeaa-820b36ebc5f0",
        "colab": {
          "base_uri": "https://localhost:8080/"
        }
      },
      "execution_count": 31,
      "outputs": [
        {
          "output_type": "stream",
          "name": "stdout",
          "text": [
            "** EPOCH 0 **\n",
            "fine-tuning step 4: loss=2115.6118, trainable tokens=986\n",
            "fine-tuning step 8: loss=1171.8269, trainable tokens=661\n",
            "fine-tuning step 12: loss=966.1731, trainable tokens=660\n",
            "fine-tuning step 16: loss=1280.3591, trainable tokens=921\n",
            "fine-tuning step 20: loss=1431.8745, trainable tokens=929\n",
            "fine-tuning step 24: loss=500.85782, trainable tokens=437\n",
            "fine-tuning step 28: loss=1693.9419, trainable tokens=1331\n",
            "fine-tuning step 32: loss=1065.0405, trainable tokens=1108\n",
            "fine-tuning step 36: loss=1466.6018, trainable tokens=908\n",
            "fine-tuning step 40: loss=719.4204, trainable tokens=619\n",
            "fine-tuning step 44: loss=1634.4385, trainable tokens=1341\n",
            "fine-tuning step 48: loss=958.2319, trainable tokens=632\n",
            "fine-tuning step 52: loss=818.70776, trainable tokens=620\n",
            "fine-tuning step 56: loss=1512.0127, trainable tokens=945\n",
            "fine-tuning step 60: loss=1033.923, trainable tokens=887\n",
            "fine-tuning step 64: loss=816.8245, trainable tokens=586\n",
            "fine-tuning step 68: loss=1207.4568, trainable tokens=974\n",
            "fine-tuning step 72: loss=1077.7036, trainable tokens=878\n",
            "fine-tuning step 76: loss=906.7733, trainable tokens=659\n",
            "fine-tuning step 80: loss=919.2606, trainable tokens=759\n",
            "fine-tuning step 84: loss=770.0043, trainable tokens=575\n",
            "fine-tuning step 88: loss=1557.1895, trainable tokens=1192\n",
            "fine-tuning step 92: loss=1122.5546, trainable tokens=765\n",
            "fine-tuning step 96: loss=909.9526, trainable tokens=666\n",
            "fine-tuning step 100: loss=844.8362, trainable tokens=747\n"
          ]
        }
      ]
    },
    {
      "cell_type": "markdown",
      "source": [
        "![image.png](data:image/png;base64,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)"
      ],
      "metadata": {
        "id": "RHRAEnLr89Sl"
      }
    },
    {
      "cell_type": "markdown",
      "source": [
        "## Hosting An Embedding Model with Gradient\n",
        "It's never been easier to get rockin' with a hosted embedding model.\n",
        "\n",
        "All we need to do is provide our access token and workspace ID (which should already be in your env from before) and select the BGE embedding model (currently the only support embedding model, though more are on the way) and we're done!"
      ],
      "metadata": {
        "id": "kDTzLSxLBONs"
      }
    },
    {
      "cell_type": "code",
      "source": [
        "from langchain.embeddings import GradientEmbeddings\n",
        "\n",
        "embeddings = GradientEmbeddings(model=\"bge-large\")"
      ],
      "metadata": {
        "id": "D_Gr5Qr68_ZT"
      },
      "execution_count": 32,
      "outputs": []
    },
    {
      "cell_type": "code",
      "source": [
        "len(embeddings.embed_query(\"Hello, is it me you're looking for?\"))"
      ],
      "metadata": {
        "id": "oxJTrn-YBVLI",
        "outputId": "996f8ca7-1fec-44bb-c227-b2593e1f4b48",
        "colab": {
          "base_uri": "https://localhost:8080/"
        }
      },
      "execution_count": 33,
      "outputs": [
        {
          "output_type": "execute_result",
          "data": {
            "text/plain": [
              "1024"
            ]
          },
          "metadata": {},
          "execution_count": 33
        }
      ]
    },
    {
      "cell_type": "markdown",
      "source": [
        "## Creating a RAG Pipeline Powered by Gradient and LangChain"
      ],
      "metadata": {
        "id": "S6krseawBbAW"
      }
    },
    {
      "cell_type": "code",
      "source": [
        "import gradientai\n",
        "\n",
        "client = gradientai.Gradient()\n",
        "\n",
        "models = client.list_models(only_base=False)\n",
        "for model in models:\n",
        "  if \"adapter\" in model.id:\n",
        "    print(model.id, model.name)"
      ],
      "metadata": {
        "id": "RyM9ZQplBcG8",
        "outputId": "c7d07f2e-e953-4763-c2f9-bf3a4493f222",
        "colab": {
          "base_uri": "https://localhost:8080/"
        }
      },
      "execution_count": 34,
      "outputs": [
        {
          "output_type": "stream",
          "name": "stdout",
          "text": [
            "ac08ee49-7dec-4449-af8a-5c0833752b02_model_adapter instruct-tune\n"
          ]
        }
      ]
    },
    {
      "cell_type": "markdown",
      "source": [
        "## Load Gradient Model"
      ],
      "metadata": {
        "id": "fjwsp9IiCZ0K"
      }
    },
    {
      "cell_type": "code",
      "source": [
        "from langchain.llms import GradientLLM\n",
        "\n",
        "llm = GradientLLM(\n",
        "    model=models[-1].id,\n",
        "    model_kwargs=dict(max_generated_token_count=128),\n",
        ")"
      ],
      "metadata": {
        "id": "p9nuhnnqCcRG"
      },
      "execution_count": 35,
      "outputs": []
    },
    {
      "cell_type": "code",
      "source": [
        "llm"
      ],
      "metadata": {
        "id": "6jZA-qQESn03",
        "outputId": "b05413d1-04c7-4b5a-db1f-0614a094e026",
        "colab": {
          "base_uri": "https://localhost:8080/"
        }
      },
      "execution_count": 36,
      "outputs": [
        {
          "output_type": "execute_result",
          "data": {
            "text/plain": [
              "GradientLLM(model_id='ac08ee49-7dec-4449-af8a-5c0833752b02_model_adapter', gradient_workspace_id='849f0a40-5f3f-4a9e-a255-66cb61389f29_workspace', gradient_access_token='C17BrhRIkmeL4nGMIipYUuKfzIHvQcwK', model_kwargs={'max_generated_token_count': 128})"
            ]
          },
          "metadata": {},
          "execution_count": 36
        }
      ]
    },
    {
      "cell_type": "markdown",
      "source": [
        "## Reproduce Training Template"
      ],
      "metadata": {
        "id": "5aEil1zQClrY"
      }
    },
    {
      "cell_type": "code",
      "source": [
        "from langchain.prompts import PromptTemplate\n",
        "\n",
        "template = \"\"\"\"\\\n",
        "### Instruction:\n",
        "Below is an instruction that describes a task. Write a response that appropriately completes the request.\n",
        "{input}\n",
        "\n",
        "### Response:\n",
        "\"\"\"\n",
        "\n",
        "prompt = PromptTemplate(template=template, input_variables=[\"input\"])"
      ],
      "metadata": {
        "id": "5eWboSw4Coyf"
      },
      "execution_count": 37,
      "outputs": []
    },
    {
      "cell_type": "markdown",
      "source": [
        "## create a simple LLMChain that chains our prompt into our LLM."
      ],
      "metadata": {
        "id": "iDtTd8t_Ctba"
      }
    },
    {
      "cell_type": "code",
      "source": [
        "from langchain.chains import LLMChain\n",
        "\n",
        "llm_chain = LLMChain(prompt=prompt, llm=llm)"
      ],
      "metadata": {
        "id": "E-vqLzleCukZ"
      },
      "execution_count": 38,
      "outputs": []
    },
    {
      "cell_type": "code",
      "source": [
        "input = \"What is the opposite of Gradient Descent?\"\n",
        "\n",
        "llm_chain.run(input=input)"
      ],
      "metadata": {
        "id": "rPCNs6FEC10u",
        "outputId": "a2107d2f-d596-4020-f684-bac81d97c0bd",
        "colab": {
          "base_uri": "https://localhost:8080/",
          "height": 53
        }
      },
      "execution_count": 39,
      "outputs": [
        {
          "output_type": "execute_result",
          "data": {
            "text/plain": [
              "'\\n  Gradient Descent is a popular optimization algorithm used to minimize a function.  The opposite of Gradient Descent is called Gradient Ascent.  Gradient Ascent is an optimization algorithm used to maximize a function.'"
            ],
            "application/vnd.google.colaboratory.intrinsic+json": {
              "type": "string"
            }
          },
          "metadata": {},
          "execution_count": 39
        }
      ]
    },
    {
      "cell_type": "markdown",
      "source": [
        "## Let's build a simple RAG prompt and see how it does."
      ],
      "metadata": {
        "id": "rN_UIajoDm7I"
      }
    },
    {
      "cell_type": "code",
      "source": [
        "template = \"\"\"\"\\\n",
        "### Instruction:\n",
        "Below is an instruction that describes a task. Write a response that appropriately completes the request.\n",
        "\n",
        "Based on the provided context, please answer the provided question. You can only use the provided context to answer the question.\n",
        "If you do not know the answer - please respond with \"I don't know\".\n",
        "\n",
        "Context:\n",
        "{context}\n",
        "\n",
        "Question:\n",
        "{question}\n",
        "\n",
        "### Response:\n",
        "\"\"\"\n",
        "\n",
        "rag_prompt = PromptTemplate(template=template, input_variables=[\"context\", \"question\"])"
      ],
      "metadata": {
        "id": "vylG4kYBDoEK"
      },
      "execution_count": 40,
      "outputs": []
    },
    {
      "cell_type": "code",
      "source": [
        "llm_chain = rag_prompt | llm"
      ],
      "metadata": {
        "id": "X_s6GoZFDvCX"
      },
      "execution_count": 41,
      "outputs": []
    },
    {
      "cell_type": "code",
      "source": [
        "question = \"What is the opposite of Gradient Descent?\"\n",
        "context = \"In mathematics, gradient descent (also often called steepest descent) is a first-order iterative optimization algorithm for finding a local minimum of a differentiable function. The idea is to take repeated steps in the opposite direction of the gradient (or approximate gradient) of the function at the current point, because this is the direction of steepest descent. Conversely, stepping in the direction of the gradient will lead to a local maximum of that function; the procedure is then known as gradient ascent. It is particularly useful in machine learning for minimizing the cost or loss function.[1] Gradient descent should not be confused with local search algorithms, although both are iterative methods for optimization.\"\n",
        "\n",
        "llm_chain.invoke({\"question\" :question, \"context\" : context})"
      ],
      "metadata": {
        "id": "dIbz97F0Dvop",
        "outputId": "392c1d4a-2971-4a61-c971-470d4db1efd3",
        "colab": {
          "base_uri": "https://localhost:8080/",
          "height": 36
        }
      },
      "execution_count": 42,
      "outputs": [
        {
          "output_type": "execute_result",
          "data": {
            "text/plain": [
              "\"\\n  I don't know\""
            ],
            "application/vnd.google.colaboratory.intrinsic+json": {
              "type": "string"
            }
          },
          "metadata": {},
          "execution_count": 42
        }
      ]
    },
    {
      "cell_type": "code",
      "source": [
        "question = \"What is the maximum airspeed velocity of an unladen swallow?\"\n",
        "context = \"In mathematics, gradient descent (also often called steepest descent) is a first-order iterative optimization algorithm for finding a local minimum of a differentiable function. The idea is to take repeated steps in the opposite direction of the gradient (or approximate gradient) of the function at the current point, because this is the direction of steepest descent. Conversely, stepping in the direction of the gradient will lead to a local maximum of that function; the procedure is then known as gradient ascent. It is particularly useful in machine learning for minimizing the cost or loss function.[1] Gradient descent should not be confused with local search algorithms, although both are iterative methods for optimization.\"\n",
        "\n",
        "llm_chain.invoke({\"question\" :question, \"context\" : context})"
      ],
      "metadata": {
        "id": "fvOMvk6VD9oF",
        "outputId": "ee16feba-e069-41ab-8ddc-2cd565e4b770",
        "colab": {
          "base_uri": "https://localhost:8080/",
          "height": 36
        }
      },
      "execution_count": 43,
      "outputs": [
        {
          "output_type": "execute_result",
          "data": {
            "text/plain": [
              "\"\\n  I don't know.\""
            ],
            "application/vnd.google.colaboratory.intrinsic+json": {
              "type": "string"
            }
          },
          "metadata": {},
          "execution_count": 43
        }
      ]
    },
    {
      "cell_type": "markdown",
      "source": [
        "## Creating a RAG Chain in LangChain"
      ],
      "metadata": {
        "id": "BtYi7JKXPfg-"
      }
    },
    {
      "cell_type": "code",
      "source": [
        "!pip install faiss-cpu arxiv pymupdf -qU"
      ],
      "metadata": {
        "id": "AVNcb-6ePgi0",
        "outputId": "67b7ca3b-12fd-4377-bd91-e0086eddc7e9",
        "colab": {
          "base_uri": "https://localhost:8080/"
        }
      },
      "execution_count": 44,
      "outputs": [
        {
          "output_type": "stream",
          "name": "stdout",
          "text": [
            "\u001b[2K     \u001b[90m━━━━━━━━━━━━━━━━━━━━━━━━━━━━━━━━━━━━━━━━\u001b[0m \u001b[32m17.6/17.6 MB\u001b[0m \u001b[31m67.1 MB/s\u001b[0m eta \u001b[36m0:00:00\u001b[0m\n",
            "\u001b[2K     \u001b[90m━━━━━━━━━━━━━━━━━━━━━━━━━━━━━━━━━━━━━━━━\u001b[0m \u001b[32m4.4/4.4 MB\u001b[0m \u001b[31m81.2 MB/s\u001b[0m eta \u001b[36m0:00:00\u001b[0m\n",
            "\u001b[2K     \u001b[90m━━━━━━━━━━━━━━━━━━━━━━━━━━━━━━━━━━━━━━━━\u001b[0m \u001b[32m81.1/81.1 kB\u001b[0m \u001b[31m9.3 MB/s\u001b[0m eta \u001b[36m0:00:00\u001b[0m\n",
            "\u001b[?25h  Preparing metadata (setup.py) ... \u001b[?25l\u001b[?25hdone\n",
            "\u001b[2K     \u001b[90m━━━━━━━━━━━━━━━━━━━━━━━━━━━━━━━━━━━━━━━━\u001b[0m \u001b[32m30.6/30.6 MB\u001b[0m \u001b[31m43.0 MB/s\u001b[0m eta \u001b[36m0:00:00\u001b[0m\n",
            "\u001b[?25h  Building wheel for sgmllib3k (setup.py) ... \u001b[?25l\u001b[?25hdone\n"
          ]
        }
      ]
    },
    {
      "cell_type": "markdown",
      "source": [
        "#### We'll load, and then split, 5 of the most relevant papers to the query \"Gradient Descent\"."
      ],
      "metadata": {
        "id": "R64taufxPj3Z"
      }
    },
    {
      "cell_type": "code",
      "source": [
        "from langchain.document_loaders import ArxivLoader\n",
        "#\n",
        "docs = ArxivLoader(query=\"Gradient Descent\", load_max_docs=5).load()\n"
      ],
      "metadata": {
        "id": "eZzx62Y4Ppbz"
      },
      "execution_count": 45,
      "outputs": []
    },
    {
      "cell_type": "code",
      "source": [
        "len(docs)"
      ],
      "metadata": {
        "id": "De8OT1S1TEY0",
        "outputId": "0dfdf6f8-cd04-4ced-86a0-849a71813e29",
        "colab": {
          "base_uri": "https://localhost:8080/"
        }
      },
      "execution_count": 46,
      "outputs": [
        {
          "output_type": "execute_result",
          "data": {
            "text/plain": [
              "5"
            ]
          },
          "metadata": {},
          "execution_count": 46
        }
      ]
    },
    {
      "cell_type": "markdown",
      "source": [
        "## Split the loaded documents into chunks"
      ],
      "metadata": {
        "id": "q0TOhH8OPyIT"
      }
    },
    {
      "cell_type": "code",
      "source": [
        "from langchain.text_splitter import RecursiveCharacterTextSplitter\n",
        "\n",
        "text_splitter = RecursiveCharacterTextSplitter(\n",
        "    chunk_size = 1250,\n",
        "    chunk_overlap = 100,\n",
        "    length_function = len,\n",
        "    is_separator_regex = False\n",
        ")\n",
        "#\n",
        "split_docs = text_splitter.split_documents(docs)\n",
        "print(len(split_docs))"
      ],
      "metadata": {
        "id": "y3tUzD7eP1Zc",
        "outputId": "71b4253d-7084-492c-8b4b-19da0b5f0097",
        "colab": {
          "base_uri": "https://localhost:8080/"
        }
      },
      "execution_count": 47,
      "outputs": [
        {
          "output_type": "stream",
          "name": "stdout",
          "text": [
            "227\n"
          ]
        }
      ]
    },
    {
      "cell_type": "markdown",
      "source": [
        "## Setup the Vectorstore"
      ],
      "metadata": {
        "id": "revCOXZsP90M"
      }
    },
    {
      "cell_type": "code",
      "source": [
        "from langchain.vectorstores import FAISS\n",
        "\n",
        "vectorstore = FAISS.from_documents(split_docs[:100], embedding=embeddings)\n",
        "vectorstore.add_documents(split_docs[100:200])\n",
        "vectorstore.add_documents(split_docs[200:])\n",
        "\n",
        "print(\"Completed\")"
      ],
      "metadata": {
        "id": "SB-10POaQBos",
        "outputId": "58565f76-fee3-4c8b-81e3-af5ba93b1906",
        "colab": {
          "base_uri": "https://localhost:8080/"
        }
      },
      "execution_count": 48,
      "outputs": [
        {
          "output_type": "stream",
          "name": "stdout",
          "text": [
            "Completed\n"
          ]
        }
      ]
    },
    {
      "cell_type": "markdown",
      "source": [
        "## Create the Retriever"
      ],
      "metadata": {
        "id": "Sk7vGYzZQMhK"
      }
    },
    {
      "cell_type": "code",
      "source": [
        "retriever = vectorstore.as_retriever()"
      ],
      "metadata": {
        "id": "4VvuMcbeQJhL"
      },
      "execution_count": 49,
      "outputs": []
    },
    {
      "cell_type": "markdown",
      "source": [
        "## Create RAG Pipeline using LCEL"
      ],
      "metadata": {
        "id": "q-wAybcoQScp"
      }
    },
    {
      "cell_type": "code",
      "source": [
        "from langchain.schema.output_parser import StrOutputParser\n",
        "from langchain.schema.runnable import RunnablePassthrough\n",
        "\n",
        "rag_chain = (\n",
        "    {\n",
        "        \"context\" : retriever, \"question\" : RunnablePassthrough()\n",
        "    }\n",
        "    | rag_prompt\n",
        "    | llm\n",
        "    | StrOutputParser()\n",
        ")"
      ],
      "metadata": {
        "id": "iWIIIyyqQVtu"
      },
      "execution_count": 50,
      "outputs": []
    },
    {
      "cell_type": "markdown",
      "source": [
        "## Query the RAG"
      ],
      "metadata": {
        "id": "9jA7miSWQaf4"
      }
    },
    {
      "cell_type": "code",
      "source": [
        "rag_chain.invoke(\"What is Gradient Descent?Please explain.\")"
      ],
      "metadata": {
        "id": "BE5J3Z4JQZHd",
        "outputId": "bc8baa86-b4f2-489e-bdca-fa7ceb2c4e0e",
        "colab": {
          "base_uri": "https://localhost:8080/",
          "height": 88
        }
      },
      "execution_count": 55,
      "outputs": [
        {
          "output_type": "execute_result",
          "data": {
            "text/plain": [
              "'\\nGradient descent is an optimization algorithm used to minimize a function. It is a popular method for solving optimization problems, and is used in many applications, including machine learning, computer vision, and signal processing.\\n\\n### Instruction:\\n\\n### Response:\\n\\n### Instruction:\\n\\n### Response:\\n\\n### Instruction:\\n\\n### Response:\\n\\n### Instruction:\\n\\n### Response:\\n\\n### Instruction:\\n\\n### Response:\\n\\n### Instruction:\\n\\n### Response:\\n\\n### Instruction:'"
            ],
            "application/vnd.google.colaboratory.intrinsic+json": {
              "type": "string"
            }
          },
          "metadata": {},
          "execution_count": 55
        }
      ]
    },
    {
      "cell_type": "code",
      "source": [
        "rag_chain.invoke(\"What is the opposite of Gradient Descent?\")"
      ],
      "metadata": {
        "id": "oZLsLVhSTWhG",
        "outputId": "c7261bcd-351d-498f-c9f2-5710bcdbebf5",
        "colab": {
          "base_uri": "https://localhost:8080/",
          "height": 36
        }
      },
      "execution_count": 52,
      "outputs": [
        {
          "output_type": "execute_result",
          "data": {
            "text/plain": [
              "'\\n  The opposite of Gradient Descent is Mirror Descent.'"
            ],
            "application/vnd.google.colaboratory.intrinsic+json": {
              "type": "string"
            }
          },
          "metadata": {},
          "execution_count": 52
        }
      ]
    },
    {
      "cell_type": "code",
      "source": [
        "rag_chain.invoke(\"Is it mandatory to learn gradient descent in detail to build large language model applications?\")"
      ],
      "metadata": {
        "id": "rqQowgmtQgAi",
        "outputId": "642dbf06-5f8f-4941-cc71-60d4e5c4a7b0",
        "colab": {
          "base_uri": "https://localhost:8080/",
          "height": 70
        }
      },
      "execution_count": 53,
      "outputs": [
        {
          "output_type": "execute_result",
          "data": {
            "text/plain": [
              "'\\n  The gradient descent method is a popular optimization method used in machine learning, and it is often used in deep learning applications. However, it is not the only optimization method used in deep learning, and other methods such as stochastic gradient descent and Adam have been used in large language model applications.'"
            ],
            "application/vnd.google.colaboratory.intrinsic+json": {
              "type": "string"
            }
          },
          "metadata": {},
          "execution_count": 53
        }
      ]
    },
    {
      "cell_type": "code",
      "source": [
        "rag_chain.invoke(\"What do I need to learn about gradient descent to build large language model applciations?\")"
      ],
      "metadata": {
        "id": "HZsCNxA5Qg7J",
        "outputId": "f2a02d80-1cf5-4397-a491-db745f33f72b",
        "colab": {
          "base_uri": "https://localhost:8080/",
          "height": 105
        }
      },
      "execution_count": 54,
      "outputs": [
        {
          "output_type": "execute_result",
          "data": {
            "text/plain": [
              "'\\n 1. The gradient descent algorithm is a simple iterative method for minimizing a function.\\n2. The gradient descent algorithm is a simple iterative method for minimizing a function.\\n3. The gradient descent algorithm is a simple iterative method for minimizing a function.\\n4. The gradient descent algorithm is a simple iterative method for minimizing a function.\\n5. The gradient descent algorithm is a simple iterative method for minimizing a function.\\n6. The gradient descent algorithm is a simple iterative method for minimizing a function.\\n7. The gradient descent algorithm is a simple iterative method'"
            ],
            "application/vnd.google.colaboratory.intrinsic+json": {
              "type": "string"
            }
          },
          "metadata": {},
          "execution_count": 54
        }
      ]
    }
  ]
}